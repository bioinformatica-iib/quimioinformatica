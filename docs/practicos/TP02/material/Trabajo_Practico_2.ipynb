{
  "cells": [
    {
      "cell_type": "markdown",
      "id": "f0385a64",
      "metadata": {
        "id": "f0385a64"
      },
      "source": [
        "<center> <h1>Trabajo Práctico 2</h1> </center>\n",
        "\n",
        "<center> <h2>Obtención y análisis de listas de compuestos</h2> </center>"
      ]
    },
    {
      "cell_type": "markdown",
      "id": "5cda237f",
      "metadata": {
        "id": "5cda237f"
      },
      "source": [
        "---\n",
        "# Preparación del notebook"
      ]
    },
    {
      "cell_type": "markdown",
      "id": "cacdefbe",
      "metadata": {
        "id": "cacdefbe"
      },
      "source": [
        "En la celda que se encuentra a continuación vamos a importar e instalar todas las librerías que se van a usar.\n",
        "\n",
        "Primero vamos a instalar todo el software RDKit y otras librerias que vamos a usar con el comando `!pip`. Luego le vamos a pedir que \"tenga a mano\" sólo las librerías que vamos a usar con el comando `import`.\n",
        "\n",
        "❗ Para ejecutar los comandos tenemos que \"correr la celda\". Para hacerlo,  podés apretar el boton \"Run\" o usar el comando \"Ctrl + Enter\"\n",
        "\n",
        "👇"
      ]
    },
    {
      "cell_type": "code",
      "source": [
        "# Instalar las librerias\n",
        "!pip install pandas rdkit tqdm chembl_downloader pubchempy chembl_webresource_client xlsxwriter"
      ],
      "metadata": {
        "colab": {
          "base_uri": "https://localhost:8080/"
        },
        "id": "ruXWd6V7tlhH",
        "outputId": "e8cee457-c524-4812-bd51-89a2eb1bc2a0"
      },
      "id": "ruXWd6V7tlhH",
      "execution_count": null,
      "outputs": [
        {
          "output_type": "stream",
          "name": "stdout",
          "text": [
            "Requirement already satisfied: pandas in /usr/local/lib/python3.11/dist-packages (2.2.2)\n",
            "Collecting rdkit\n",
            "  Downloading rdkit-2024.9.6-cp311-cp311-manylinux_2_28_x86_64.whl.metadata (4.0 kB)\n",
            "Requirement already satisfied: tqdm in /usr/local/lib/python3.11/dist-packages (4.67.1)\n",
            "Collecting chembl_downloader\n",
            "  Downloading chembl_downloader-0.5.1-py3-none-any.whl.metadata (23 kB)\n",
            "Collecting pubchempy\n",
            "  Downloading PubChemPy-1.0.4.tar.gz (29 kB)\n",
            "  Preparing metadata (setup.py) ... \u001b[?25l\u001b[?25hdone\n",
            "Collecting chembl_webresource_client\n",
            "  Downloading chembl_webresource_client-0.10.9-py3-none-any.whl.metadata (1.4 kB)\n",
            "Collecting xlsxwriter\n",
            "  Downloading XlsxWriter-3.2.2-py3-none-any.whl.metadata (2.8 kB)\n",
            "Requirement already satisfied: numpy>=1.23.2 in /usr/local/lib/python3.11/dist-packages (from pandas) (2.0.2)\n",
            "Requirement already satisfied: python-dateutil>=2.8.2 in /usr/local/lib/python3.11/dist-packages (from pandas) (2.8.2)\n",
            "Requirement already satisfied: pytz>=2020.1 in /usr/local/lib/python3.11/dist-packages (from pandas) (2025.2)\n",
            "Requirement already satisfied: tzdata>=2022.7 in /usr/local/lib/python3.11/dist-packages (from pandas) (2025.2)\n",
            "Requirement already satisfied: Pillow in /usr/local/lib/python3.11/dist-packages (from rdkit) (11.1.0)\n",
            "Requirement already satisfied: click in /usr/local/lib/python3.11/dist-packages (from chembl_downloader) (8.1.8)\n",
            "Collecting more-click (from chembl_downloader)\n",
            "  Downloading more_click-0.1.2-py3-none-any.whl.metadata (4.3 kB)\n",
            "Collecting pystow (from chembl_downloader)\n",
            "  Downloading pystow-0.7.0-py3-none-any.whl.metadata (17 kB)\n",
            "Requirement already satisfied: typing-extensions in /usr/local/lib/python3.11/dist-packages (from chembl_downloader) (4.13.1)\n",
            "Requirement already satisfied: urllib3 in /usr/local/lib/python3.11/dist-packages (from chembl_webresource_client) (2.3.0)\n",
            "Requirement already satisfied: requests>=2.18.4 in /usr/local/lib/python3.11/dist-packages (from chembl_webresource_client) (2.32.3)\n",
            "Collecting requests-cache~=1.2 (from chembl_webresource_client)\n",
            "  Downloading requests_cache-1.2.1-py3-none-any.whl.metadata (9.9 kB)\n",
            "Requirement already satisfied: easydict in /usr/local/lib/python3.11/dist-packages (from chembl_webresource_client) (1.13)\n",
            "Requirement already satisfied: six>=1.5 in /usr/local/lib/python3.11/dist-packages (from python-dateutil>=2.8.2->pandas) (1.17.0)\n",
            "Requirement already satisfied: charset-normalizer<4,>=2 in /usr/local/lib/python3.11/dist-packages (from requests>=2.18.4->chembl_webresource_client) (3.4.1)\n",
            "Requirement already satisfied: idna<4,>=2.5 in /usr/local/lib/python3.11/dist-packages (from requests>=2.18.4->chembl_webresource_client) (3.10)\n",
            "Requirement already satisfied: certifi>=2017.4.17 in /usr/local/lib/python3.11/dist-packages (from requests>=2.18.4->chembl_webresource_client) (2025.1.31)\n",
            "Requirement already satisfied: attrs>=21.2 in /usr/local/lib/python3.11/dist-packages (from requests-cache~=1.2->chembl_webresource_client) (25.3.0)\n",
            "Collecting cattrs>=22.2 (from requests-cache~=1.2->chembl_webresource_client)\n",
            "  Downloading cattrs-24.1.3-py3-none-any.whl.metadata (8.4 kB)\n",
            "Requirement already satisfied: platformdirs>=2.5 in /usr/local/lib/python3.11/dist-packages (from requests-cache~=1.2->chembl_webresource_client) (4.3.7)\n",
            "Collecting url-normalize>=1.4 (from requests-cache~=1.2->chembl_webresource_client)\n",
            "  Downloading url_normalize-2.2.0-py3-none-any.whl.metadata (4.9 kB)\n",
            "Downloading rdkit-2024.9.6-cp311-cp311-manylinux_2_28_x86_64.whl (34.3 MB)\n",
            "\u001b[2K   \u001b[90m━━━━━━━━━━━━━━━━━━━━━━━━━━━━━━━━━━━━━━━━\u001b[0m \u001b[32m34.3/34.3 MB\u001b[0m \u001b[31m16.5 MB/s\u001b[0m eta \u001b[36m0:00:00\u001b[0m\n",
            "\u001b[?25hDownloading chembl_downloader-0.5.1-py3-none-any.whl (21 kB)\n",
            "Downloading chembl_webresource_client-0.10.9-py3-none-any.whl (55 kB)\n",
            "\u001b[2K   \u001b[90m━━━━━━━━━━━━━━━━━━━━━━━━━━━━━━━━━━━━━━━━\u001b[0m \u001b[32m55.2/55.2 kB\u001b[0m \u001b[31m3.7 MB/s\u001b[0m eta \u001b[36m0:00:00\u001b[0m\n",
            "\u001b[?25hDownloading XlsxWriter-3.2.2-py3-none-any.whl (165 kB)\n",
            "\u001b[2K   \u001b[90m━━━━━━━━━━━━━━━━━━━━━━━━━━━━━━━━━━━━━━━━\u001b[0m \u001b[32m165.1/165.1 kB\u001b[0m \u001b[31m8.6 MB/s\u001b[0m eta \u001b[36m0:00:00\u001b[0m\n",
            "\u001b[?25hDownloading requests_cache-1.2.1-py3-none-any.whl (61 kB)\n",
            "\u001b[2K   \u001b[90m━━━━━━━━━━━━━━━━━━━━━━━━━━━━━━━━━━━━━━━━\u001b[0m \u001b[32m61.4/61.4 kB\u001b[0m \u001b[31m2.9 MB/s\u001b[0m eta \u001b[36m0:00:00\u001b[0m\n",
            "\u001b[?25hDownloading more_click-0.1.2-py3-none-any.whl (6.7 kB)\n",
            "Downloading pystow-0.7.0-py3-none-any.whl (38 kB)\n",
            "Downloading cattrs-24.1.3-py3-none-any.whl (66 kB)\n",
            "\u001b[2K   \u001b[90m━━━━━━━━━━━━━━━━━━━━━━━━━━━━━━━━━━━━━━━━\u001b[0m \u001b[32m66.5/66.5 kB\u001b[0m \u001b[31m5.0 MB/s\u001b[0m eta \u001b[36m0:00:00\u001b[0m\n",
            "\u001b[?25hDownloading url_normalize-2.2.0-py3-none-any.whl (14 kB)\n",
            "Building wheels for collected packages: pubchempy\n",
            "  Building wheel for pubchempy (setup.py) ... \u001b[?25l\u001b[?25hdone\n",
            "  Created wheel for pubchempy: filename=PubChemPy-1.0.4-py3-none-any.whl size=13818 sha256=94240c2a667571e8bca107301d6cc83811d5d99f6ca2deadb1f7af5b20bad037\n",
            "  Stored in directory: /root/.cache/pip/wheels/8b/e3/6c/3385b2db08b0985a87f5b117f98d0cb61a3ae3ca3bcbbd8307\n",
            "Successfully built pubchempy\n",
            "Installing collected packages: pubchempy, xlsxwriter, url-normalize, rdkit, more-click, cattrs, requests-cache, pystow, chembl_webresource_client, chembl_downloader\n",
            "Successfully installed cattrs-24.1.3 chembl_downloader-0.5.1 chembl_webresource_client-0.10.9 more-click-0.1.2 pubchempy-1.0.4 pystow-0.7.0 rdkit-2024.9.6 requests-cache-1.2.1 url-normalize-2.2.0 xlsxwriter-3.2.2\n"
          ]
        }
      ]
    },
    {
      "cell_type": "markdown",
      "id": "b222191d",
      "metadata": {
        "id": "b222191d"
      },
      "source": [
        "A lo largo de este práctico vamos a estar trabajando con los comandos básicos de RDKit y de Pandas para trabajar con una lista de moléculas.\n",
        "Las listas de moléculas las vamos a obtener de diferentes bases de datos."
      ]
    },
    {
      "cell_type": "markdown",
      "id": "4eb9ae9e",
      "metadata": {
        "id": "4eb9ae9e"
      },
      "source": [
        "# Parte 1: Obtención de datos"
      ]
    },
    {
      "cell_type": "markdown",
      "source": [
        "## PubChem"
      ],
      "metadata": {
        "id": "jF4aIxykUlts"
      },
      "id": "jF4aIxykUlts"
    },
    {
      "cell_type": "markdown",
      "source": [
        "Primero vamos a trabajar con los datos disponibles en [PubChem](https://pubchem.ncbi.nlm.nih.gov/), que es una base de datos químicos abierta del National Institutes of Health (NIH).\n",
        "\n",
        "Para hacerlo vamos a usar la libreria PubChemPy. Esta libreria nos permite interactuar con PubChem usando Python. Permite búsquedas químicas por nombre, subestructura y similitud, representación y recuperación de propiedades químicas, entre otros."
      ],
      "metadata": {
        "id": "r22tPOwc8mfC"
      },
      "id": "r22tPOwc8mfC"
    },
    {
      "cell_type": "markdown",
      "source": [
        "Para usar esta libreria tenemos que llamarla usando `pcp` y luego agregar el nombre del comando que queremos llevar a cabo.\n",
        "\n",
        "Por ejemplo, a continuación usaremos el comando `get_compounds` para obtener un compuesto usando su nombre:\n",
        "\n",
        "👇"
      ],
      "metadata": {
        "id": "0eGUas_-uysC"
      },
      "id": "0eGUas_-uysC"
    },
    {
      "cell_type": "code",
      "source": [
        "# Importar libreria de PubChem\n",
        "import pubchempy as pcp\n",
        "\n",
        "# Busca un compuesto por su nombre\n",
        "molecula = pcp.get_compounds('aspirin', 'name')"
      ],
      "metadata": {
        "id": "gfGHy7N3uxuz"
      },
      "id": "gfGHy7N3uxuz",
      "execution_count": null,
      "outputs": []
    },
    {
      "cell_type": "code",
      "source": [
        "molecula[0]"
      ],
      "metadata": {
        "colab": {
          "base_uri": "https://localhost:8080/"
        },
        "id": "SIGyoQ7CUaXp",
        "outputId": "41238d21-1e1f-4f2e-f7f0-4644a0fbeb78"
      },
      "id": "SIGyoQ7CUaXp",
      "execution_count": null,
      "outputs": [
        {
          "output_type": "execute_result",
          "data": {
            "text/plain": [
              "Compound(2244)"
            ]
          },
          "metadata": {},
          "execution_count": 3
        }
      ]
    },
    {
      "cell_type": "markdown",
      "source": [
        "También podemos usar `get_compounds` para obtener un compuesto usando su Compound ID (cid):\n",
        "\n",
        "👇"
      ],
      "metadata": {
        "id": "oEa31CaBv_lR"
      },
      "id": "oEa31CaBv_lR"
    },
    {
      "cell_type": "code",
      "source": [
        "# Busca un compuesto por su Compound ID (cid)\n",
        "molecula_cid = pcp.get_compounds(5090, 'cid')\n",
        "print(molecula_cid)\n",
        "\n",
        "# Busca un compuesto por su smiles\n",
        "molecula_smiles = pcp.get_compounds('C1=CC2=C(C3=C(C=CC=N3)C=C2)N=C1', 'smiles')\n",
        "print(molecula_smiles)\n",
        "\n",
        "# Busca un compuesto por su Inchi\n",
        "molecula_inchi = pcp.get_compounds('InChI=1S/C9H8O4/c1-6(10)13-8-5-3-2-4-7(8)9(11)12/h2-5H,1H3,(H,11,12)', 'inchi')\n",
        "print(molecula_inchi)"
      ],
      "metadata": {
        "id": "vAJdDyCTvTTz",
        "colab": {
          "base_uri": "https://localhost:8080/"
        },
        "outputId": "fbfbda31-bf5b-4926-d38e-9656f31a2085"
      },
      "id": "vAJdDyCTvTTz",
      "execution_count": null,
      "outputs": [
        {
          "output_type": "stream",
          "name": "stdout",
          "text": [
            "[Compound(5090)]\n",
            "[Compound(1318)]\n",
            "[Compound(2244)]\n"
          ]
        }
      ]
    },
    {
      "cell_type": "markdown",
      "source": [
        "Esto va a generar la variable `molecula`\n",
        "\n",
        "Veamos que sucede cuando lo imprimimos y que tipo de variable es:"
      ],
      "metadata": {
        "id": "vY2jC7GRwqgI"
      },
      "id": "vY2jC7GRwqgI"
    },
    {
      "cell_type": "code",
      "source": [
        "#Imprimir la variable molecula\n",
        "print(molecula)\n",
        "\n",
        "#Imprimir el tipo de variable\n",
        "type(molecula)"
      ],
      "metadata": {
        "id": "6aDu1v1FwprV",
        "colab": {
          "base_uri": "https://localhost:8080/"
        },
        "outputId": "26c173da-4280-48e4-828d-952ca76bb02a"
      },
      "id": "6aDu1v1FwprV",
      "execution_count": null,
      "outputs": [
        {
          "output_type": "stream",
          "name": "stdout",
          "text": [
            "[Compound(2244)]\n"
          ]
        },
        {
          "output_type": "execute_result",
          "data": {
            "text/plain": [
              "list"
            ]
          },
          "metadata": {},
          "execution_count": 5
        }
      ]
    },
    {
      "cell_type": "markdown",
      "source": [
        "Es una lista con un solo elemento!\n",
        "\n",
        "Las listas son conjuntos ordenados de elementos (números, cadenas, listas, etc). Las listas se delimitan por corchetes `[ ]` y los elementos se separan por comas.\n",
        "\n",
        "Para acceder a una lista necesitamos usar `[ ]` e indicarle a que elemento de la lista nos vamos a referir.\n",
        "\n",
        "💭Los elementos de una lista comienzan desde el cero en adelante"
      ],
      "metadata": {
        "id": "sdt7F4CSw1nw"
      },
      "id": "sdt7F4CSw1nw"
    },
    {
      "cell_type": "code",
      "source": [
        "#Imprimir el primer elemento de la lista\n",
        "print(molecula[0])"
      ],
      "metadata": {
        "colab": {
          "base_uri": "https://localhost:8080/"
        },
        "id": "u4xayZARwkik",
        "outputId": "9ccb5cee-77b8-4982-e050-64b9ba8ef20e"
      },
      "id": "u4xayZARwkik",
      "execution_count": null,
      "outputs": [
        {
          "output_type": "stream",
          "name": "stdout",
          "text": [
            "Compound(2244)\n"
          ]
        }
      ]
    },
    {
      "cell_type": "markdown",
      "source": [
        "Ahora que pudimos acceder a la molécula en la lista podemos obtener información de ella usando esta lista de comandos:\n",
        "*   molecular_formula\n",
        "*   molecular_weight\n",
        "*   iupac_name\n",
        "*   synonyms\n",
        "*   isomeric_smiles\n",
        "*   inchi\n",
        "*   inchikey\n",
        "\n",
        "Podés ver la lista completa en este link: https://pubchempy.readthedocs.io/en/latest/guide/properties.html"
      ],
      "metadata": {
        "id": "9TM3x1_lw-oN"
      },
      "id": "9TM3x1_lw-oN"
    },
    {
      "cell_type": "markdown",
      "source": [
        "Para obtener la fórmula molecular usamos `molecular_formula`:\n",
        "\n",
        "👇"
      ],
      "metadata": {
        "id": "VYz3O7UVyL6k"
      },
      "id": "VYz3O7UVyL6k"
    },
    {
      "cell_type": "code",
      "source": [
        "# Imprimir la fórmula molecular de la primer molécula de la lista\n",
        "print(molecula[0].molecular_formula)\n",
        "\n",
        "# Imprimir el peso molecular de la primer molécula de la lista\n",
        "print(molecula[0].molecular_weight)\n",
        "\n",
        "# Imprimir el smiles de la primer molécula de la lista\n",
        "print(molecula[0].isomeric_smiles)\n",
        "\n",
        "# Imprimir el nombre según IUPAC de la primer molécula de la lista\n",
        "print(molecula[0].iupac_name)\n",
        "\n",
        "# Imprimir los sinónimos de la primer molécula de la lista\n",
        "print(molecula[0].synonyms)"
      ],
      "metadata": {
        "colab": {
          "base_uri": "https://localhost:8080/"
        },
        "id": "j9Bt8npnxwv9",
        "outputId": "3306d512-e484-4b90-b261-a922ad71973f"
      },
      "id": "j9Bt8npnxwv9",
      "execution_count": null,
      "outputs": [
        {
          "output_type": "stream",
          "name": "stdout",
          "text": [
            "C9H8O4\n",
            "180.16\n",
            "CC(=O)OC1=CC=CC=C1C(=O)O\n",
            "2-acetyloxybenzoic acid\n",
            "['aspirin', 'ACETYLSALICYLIC ACID', '50-78-2', '2-Acetoxybenzoic acid', '2-(Acetyloxy)benzoic acid', 'Acetosal', 'O-Acetylsalicylic acid', 'o-Acetoxybenzoic acid', 'Acenterine', 'Acetophen', 'Acylpyrin', 'Easprin', 'Ecotrin', 'Salicylic acid acetate', 'Acetosalin', 'Aspirdrops', 'Polopiryna', 'Salcetogen', 'Aceticyl', 'Acetonyl', 'Acetylin', 'Acetylsalicylate', 'Acidum acetylsalicylicum', 'Benaspir', 'Colfarit', 'Empirin', 'Endydol', 'Measurin', 'Rhodine', 'Saletin', 'o-Carboxyphenyl acetate', 'Enterosarein', 'Enterosarine', 'Acetisal', 'Acetylsal', 'Aspirine', 'Bialpirinia', 'Entericin', 'Enterophen', 'Micristin', 'Pharmacin', 'Premaspin', 'Salacetin', 'Solpyron', 'Temperal', 'Acesal', 'Acisal', 'Asagran', 'Asteric', 'Duramax', 'Ecolen', 'Extren', 'Globoid', 'Helicon', 'Idragin', 'Rhonal', 'Aspro', 'Novid', 'Rheumintabletten', 'Yasta', 'Solprin acid', 'Benzoic acid, 2-(acetyloxy)-', '2-acetyloxybenzoic acid', 'Acimetten', 'Bialpirina', 'Claradin', 'Clariprin', 'Delgesic', 'Entrophen', 'Globentyl', 'Neuronika', 'Acetilum acidulatum', 'Cemirit', 'Decaten', 'Levius', 'Pirseal', 'Solfrin', 'Acetilsalicilico', 'Adiro', 'Aspec', 'Acetosalic acid', 'Dolean pH 8', 'Triple-sal', 'Spira-Dine', 'ZORprin', 'Contrheuma retard', 'Bi-prin', 'XAXA', 'Acido acetilsalicilico', 'Acide acetylsalicylique', 'Persistin', 'Bayer', '2-Carboxyphenyl acetate', 'A.S.A. empirin', 'ASA', '8-hour Bayer', 'Endosprin', 'Kapsazal', 'Asatard', 'Durlaza', 'Bayer Plus', 'Acetylsalicylsaure', 'Rheumin tabletten', 'Solprin', 'acetyl salicylic acid', 'Tasprin', 'Nu-seals aspirin', 'Salicylic acid, acetate', 'Acido O-acetil-benzoico', 'Kyselina acetylsalicylova', '2-Acetoxybenzenecarboxylic acid', 'Acetylsalicylsaeure', 'Azetylsalizylsaeure', 'SP 189', 'St. Joseph Aspirin for Adults', 'A.S.A.', 'St. Joseph', 'Kyselina 2-acetoxybenzoova', 'AC 5230', 'Acetylsalicyclic acid', 'Acetylsalicylicum acidum', 'Aspropharm', 'Cardioaspirin', 'Acetard', 'CHEBI:15365', 'acetyl salicylate', 'benzoic acid, 2-acetoxy-', 'S-211', 'ECM', 'NSC-27223', 'acide 2-(acetyloxy)benzoique', 'Bayer Extra Strength Aspirin for Migraine Pain', 'Aspirin (Standard)', 'NSC-406186', 'R16CO5Y76E', 'DTXSID5020108', '2-(acetyloxy)benzoate', 'MFCD00002430', 'o-(Acetyloxy)benzoic acid', 'BAY1019036', 'DTXCID50108', 'Acetylsalicylic acid (who-ip)', 'AXOTAL COMPONENT ASPIRIN', 'AZDONE COMPONENT ASPIRIN', 'CODOXY COMPONENT ASPIRIN', 'AGGRENOX COMPONENT ASPIRIN', 'Aspirin form II', 'DUOCOVER COMPONENT ASPIRIN', 'EXCEDRIN COMPONENT ASPIRIN', 'FIORINAL COMPONENT ASPIRIN', 'NORGESIC COMPONENT ASPIRIN', 'PERCODAN COMPONENT ASPIRIN', 'Q-GESIC COMPONENT ASPIRIN', 'ROXIPRIN COMPONENT ASPIRIN', 'VICOPRIN COMPONENT ASPIRIN', 'YOSPRALA COMPONENT ASPIRIN', 'DUOPLAVIN COMPONENT ASPIRIN', 'EQUAGESIC COMPONENT ASPIRIN', 'INVAGESIC COMPONENT ASPIRIN', 'LANORINAL COMPONENT ASPIRIN', 'MICRAININ COMPONENT ASPIRIN', 'ROBAXISAL COMPONENT ASPIRIN', 'component of Midol', 'NSC27223', 'ORPHENGESIC COMPONENT ASPIRIN', 'SYNALGOS-DC COMPONENT ASPIRIN', 'component of Synirin', 'NSC406186', 'component of Zactirin', 'MEPRO-ASPIRIN COMPONENT ASPIRIN', 'PERCODAN-DEMI COMPONENT ASPIRIN', 'PRAVIGARD PAC COMPONENT ASPIRIN', 'SOMA COMPOUND COMPONENT ASPIRIN', 'component of Coricidin', 'component of Persistin', 'component of Robaxisal', 'o-Acetoxybenzoate', 'DARVON COMPOUND COMPONENT ASPIRIN', 'INVAGESIC FORTE COMPONENT ASPIRIN', 'TALWIN COMPOUND COMPONENT ASPIRIN', 'NCGC00015067-04', 'Acetysal', 'ACIDUM ACETYLSALICYLICUM (WHO-IP)', 'Istopirin', 'Magnecyl', 'Medisyl', 'Polopirin', 'ORPHENGESIC FORTE COMPONENT ASPIRIN', 'Ronal', 'ASPIRIN (MART.)', 'ASPIRIN [MART.]', 'Bayer Buffered', 'Aspro Clear', 'component of Ascodeen-30', 'ASPIRIN (USP-RS)', 'ASPIRIN [USP-RS]', 'WLN: QVR BOV1', 'aspirin (acetylsalicylic acid)', 'Aspirina 03', 'Acetylsalycilic acid', 'ASPIRIN (USP MONOGRAPH)', 'ASPIRIN [USP MONOGRAPH]', 'component of Darvon with A.S.A', 'Bayer Aspirin 8 Hour', 'Asaphen', 'Aspalon', 'Asprin', \"Bayer Children's Aspirin\", 'Nu-seals', 'component of St. Joseph Cold Tablets', 'Aspir-Mox', 'Durlaza ER', 'Acetylsalicylsaure [German]', 'CAS-50-78-2', 'Acetoxybenzoic acid', 'Acetysalicylic acid', 'AIN', 'SMR000059138', 'Ascoden-30', 'CCRIS 3243', 'HSDB 652', 'Acide acetylsalicylique [French]', 'Acido acetilsalicilico [Italian]', 'Kyselina acetylsalicylova [Czech]', 'Acido O-acetil-benzoico [Italian]', 'SR-01000075668', 'Kyselina 2-acetoxybenzoova [Czech]', 'EINECS 200-064-1', 'NSC 27223', 'Aspirin [USP:BAN:JAN]', 'Bayer Enteric 325 mg Regular Strength', 'BRN 0779271', 'vetality', 'Bay E4465', 'UNII-R16CO5Y76E', 'Bayer Enteric 81 mg Adult Low Strength', 'Cardioaspirina', 'Acetyonyl', 'Angettes', 'Asacard', 'Ascolong', 'Aspirina', 'AspirinChewable', 'Bayer Enteric 500 mg Arthritis Strength', 'Cardiprin', 'Claragine', 'Colsprin', 'Encaprin', 'Fasprin', 'Medpurine', 'Miniasal', 'Salospir', 'Acesan', 'careone aspirin', 'Toldex', 'Aramark Aspirin', 'Aspirin Powder', 'Aspirin Regimen', 'AspirinEC', 'Canine Aspirin', 'Coated Aspirin', 'Enteric Aspirin', 'Equate Aspirin', 'Leader Aspirin', 'Rapidol Aspirin', 'Rexall Aspirin', 'Sunmark Aspirin', 'Topcare Aspirin', 'AI3-02956', 'Aspirin Bolus', 'Aspirin Nsaid', 'Bayer Aspirin', 'Rugby Aspirin', 'Aspi-cor', 'Buffered Aspirin', 'Chewable Aspirin', 'Equaline Aspirin', 'Geritrex Aspirin', 'McKesson Aspirin', 'AspirinNSAID', 'Azetylsalizylsaure', 'Aspirin EC', 'aspirinpain relief', 'Childrens Aspirin', 'Unishield Aspirin', 'ASA Empirin', '1oxr', '2-Acetoxybenzoate', 'Aspirin 5 Grain', 'Care One Aspirin', 'Bufferin Arthritis', 'ULINE Aspirin', 'CAREALL Aspirin', 'MooreBrand Aspirin', 'Aspica (Aspirin)', 'Aspirin 81mg', 'Dg Health Aspirin', 'Medi-first Aspirin', 'Basic Care Aspirin', 'caring mill aspirin', 'Dr Pausins Aspirin', 'Good Sense Aspirin', 'rugby adult aspirin', 'Aspirin 325mg', 'Aspirin 81', 'Aspirin 81 mg', 'Up and Up Aspirin', 'Aspalon (JAN)', 'Durlaza (TN)', 'Easprin (TN)', 'Health Mart Aspirin', 'MBR Aspirin Powder', 'Pain Relief Aspirin', 'Solves-aspirinCherry', 'Aspirin 325 mg', 'Aspirin Pain reliver', 'Tri-buffered Aspirin', 'acetyl-salicylic acid', 'Aspirin 325', 'Aspirin 50 CT', 'AspirinEnteric Coated', 'ASPRISOL', 'Crane Safety Aspirin', 'equate aspirinchewable', 'Health Sense Ecpirin', 'Henry Schein Aspirin', 'sunmark adult aspirin', 'Travel Savvy Aspirin', 'VAZALORE', 'ASPIRINLow Strength', 'acetyl salicyclic acid', 'Adult Aspirin Regimen', 'Aspirin Bolus-240', 'AspirinDelayed Release', 'Bayer Aspirin Regimen', 'Bayer Genuine Aspirin', 'Direct Safety Aspirin', 'Moore Medical Aspirin', 'o-(Acetyloxy)benzoate', 'Rapid Comfort Aspirin', 'Safety Coated Aspirin', 'signature care aspirin', 'Aspirinregular strength', 'ASSURED ASPIRIN', 'Percodan (Salt/Mix)', 'Adult Chewable Aspirin', 'Biovanta Double Action', 'Enteric Coated Aspirin', 'Extra Strength Aspirin', 'ADVANCED ASPIRIN', 'Ascriptin (Salt/Mix)', 'Micrainin (Salt/Mix)', 'VALUMEDS ASPIRIN', '2-acetoxy benzoic acid', 'Aspirin tablet 325mg', 'Chewable Aspirin 81mg', 'Dye-Free Aspirin 81', 'Family Wellness Aspirin', 'Physicians Care Aspirin', 'RHODINE NC RP', 'Signature Care Aspririn', 'Spectrum_001245', '2-Acetylsalicyclic acid', 'First Aid Only Aspirin', 'Acide acetyl salicylique', 'ASPIRIN [VANDF]', 'Medique at Home Aspirin', 'ASPIRIN [HSDB]', 'Aspirin Regular Strength', 'Ecotrin Regular Strength', 'Medi-First Plus Aspirin', 'Medique Products Aspirin', 'Regular Strength Aspirin', 'Salicylic acid, acetyl-', 'ASPIRIN [JAN]', 'Bayer PlusExtra Strength', 'Circle K Aspirin 325', 'Pharbest Aspirin 325mg', 'ASPIRIN [MI]', 'CHEMBL25', 'health mart adult aspirin', 'Spectrum2_001899', 'Spectrum3_001295', 'Spectrum4_000099', 'Spectrum5_000740', 'Aspirin (JP18/USP)', 'Lopac-A-5376', 'Salycylacetylsalicylic acid', 'ASPIRIN480', 'BAYER 500 mg', 'Chronic Pain/Fever Relief', 'CARDIASPIRIN PROTECT', 'NobleAid PAIN RELIEVER', 'Berkley and Jensen Aspirin', 'Epitope ID:114151', 'Percodan Demi (Salt/Mix)', 'Soma Compound (Salt/Mix)', 'EC 200-064-1', 'PL2200 component aspirin', 'Acetylsalicylic acid, 99%', 'ASPIRINEXTRA STRENGTH', 'cid_2244', 'Pravigard PAC (Salt/Mix)', 'SCHEMBL1353', 'Up and Up Chewable Aspirin', 'ASPIRIN BOLUS-480', 'AspirinEnteric Safety Coated', 'AspirinEnteric Safety-Coated', 'Regular Strength Aspirin EC', '2-(Acetyloxy)-benzoic acid', 'Aspirin-PC component aspirin', 'Bay-e-4465', 'Plus PharmaNSAID 325 mg', '365 Everyday Value Aspirin', 'Alka-Seltzer Original Flavor', 'Aspirin 81mg Enteric coated', 'AspirinLow Strength, Enteric', 'Critical Care Aspirin To Go', 'Lopac0_000038', 'ASPIRIN 325 MG EC', 'KBioGR_000398', 'KBioGR_002271', 'KBioSS_001725', 'KBioSS_002272', '4-10-00-00138 (Beilstein Handbook Reference)', 'MLS001055329', 'MLS001066332', 'MLS001336045', 'MLS001336046', 'ASPIRIN [ORANGE BOOK]', 'BAYER Aspirin Extra Strength', 'BIDD:GT0118', 'DivK1c_000555', 'Lil Drug Store Aspirin 325', 'SPECTRUM1500130', 'Aspirin 81 mg Enteric Coated', 'Bayer Aspirin Regimen Chewable', 'Bayer Chewable-Aspirin Regimen', 'Good Neighbor Pharmacy Aspirin', 'PA-32540 component aspirin', 'Rapidol Aspirin Display 2x25', 'SPBio_001838', 'Acetylsalicylic acid, >=99%', 'Buffered AspirinFor Small Dogs', 'GTPL4139', 'O-Acetylsalicylic acid; Aspirin', 'MBR Aspirin Bolus 240 Grains', 'Acetylsalicylic acid-carboxy-14c', 'BDBM22360', 'HMS501L17', 'KBio1_000555', 'KBio2_001725', 'KBio2_002271', 'KBio2_004293', 'KBio2_004839', 'KBio2_006861', 'KBio2_007407', 'KBio3_002149', 'KBio3_002751', 'Empirin with Codeine (Salt/Mix)', 'Pharbest Regular Strength Aspirin', 'Value PharmaAspirin Pain Reliever', 'Acetylsalicylic acid, >=99.0%', 'cMAP_000006', 'component of Zactirin (Salt/Mix)', 'First Aid Direct Chewable Aspirin', 'NINDS_000555', 'ASPIRIN Analgesic and Antipyretic', 'ASPIRIN COMPONENT OF AXOTAL', 'ASPIRIN COMPONENT OF AZDONE', 'ASPIRIN COMPONENT OF CODOXY', 'HMS1920E13', 'HMS2090G03', 'HMS2091K13', 'HMS2233L18', 'HMS3260G17', 'HMS3372N15', 'HMS3656N14', 'HMS3715P19', 'HMS3866L03', 'HMS3885G03', 'Pharmakon1600-01500130', 'Bayer Aspirin Regimenenteric coated', 'BCP21790', 'STR01551', 'ACETYLSALICYLIC ACID; ASPIRIN', 'ASPIRIN COMPONENT OF AGGRENOX', 'ASPIRIN COMPONENT OF DUOCOVER', 'ASPIRIN COMPONENT OF EXCEDRIN', 'ASPIRIN COMPONENT OF FIORINAL', 'ASPIRIN COMPONENT OF NORGESIC', 'ASPIRIN COMPONENT OF PERCODAN', 'ASPIRIN COMPONENT OF Q-GESIC', 'ASPIRIN COMPONENT OF ROXIPRIN', 'ASPIRIN COMPONENT OF VICOPRIN', 'ASPIRIN COMPONENT OF YOSPRALA', 'BAYER AspirinExtra Strength Caplets', 'Tox21_110076', 'Tox21_202117', 'Tox21_300146', 'Tox21_500038', 'Buffered aspirin, effervescent tablet', 'CCG-39490', 'HY-14654R', 'NSC755899', 's3017', 'STL137674', 'ACETYLSALICYLIC ACID [WHO-DD]', 'ASPIRIN COMPONENT OF DUOPLAVIN', 'ASPIRIN COMPONENT OF EQUAGESIC', 'ASPIRIN COMPONENT OF INVAGESIC', 'ASPIRIN COMPONENT OF LANORINAL', 'ASPIRIN COMPONENT OF MICRAININ', 'ASPIRIN COMPONENT OF ROBAXISAL', 'Bufferin Regular Strength Pain Relief', 'enteric coated aspirinRegular Strength', 'AKOS000118884', 'Aspirin Enteric Coated Tablets 81 mg', 'component of Ascodeen-30 (Salt/Mix)', 'Tox21_110076_1', 'ACETYLSALICYLIC ACID [EMA EPAR]', 'ACETYLSALICYLICUM ACIDUM [HPUS]', 'Aspirin 81 mg Delayed Release Tablets', 'ASPIRIN COMPONENT OF ORPHENGESIC', 'CS-2001', 'DB00945', 'FA17179', 'LP00038', 'NSC-755899', 'PL-2200', 'SDCCGSBI-0050027.P005', 'Value PharmaPain RelieverExtra Strength', 'ASPIRIN COMPONENT OF SYNALGOS-DC', 'AspirinEnteric Coated, Regular Strength', 'BAY-1019036', 'IDI1_000555', 'Regular Strength Enteric Coated Aspirin', 'ACETYLSALICYLIC ACID [GREEN BOOK]', 'Acetylsalicylic acid, analytical standard', 'Aspirin Delayed Release Tablets, 81 mg', 'Buffered AspirinFor Medium to Large Dogs', 'Coraspirin 81 mg Enteric Coasted Tablet', 'NCGC00015067-01', 'NCGC00015067-02', 'NCGC00015067-03', 'NCGC00015067-05', 'NCGC00015067-06', 'NCGC00015067-07', 'NCGC00015067-08', 'NCGC00015067-09', 'NCGC00015067-10', 'NCGC00015067-11', 'NCGC00015067-12', 'NCGC00015067-13', 'NCGC00015067-14', 'NCGC00015067-24', 'NCGC00015067-26', 'NCGC00090977-01', 'NCGC00090977-02', 'NCGC00090977-03', 'NCGC00090977-04', 'NCGC00090977-05', 'NCGC00090977-06', 'NCGC00090977-07', 'NCGC00254034-01', 'NCGC00259666-01', 'NCGC00260723-01', 'AC-37704', 'ASPIRIN COMPONENT OF MEPRO-ASPIRIN', 'ASPIRIN COMPONENT OF PERCODAN-DEMI', 'ASPIRIN COMPONENT OF PRAVIGARD PAC', 'ASPIRIN COMPONENT OF SOMA COMPOUND', 'Aspirin, meets USP testing specifications', 'DA-61272', 'HY-14654', 'NCI60_002222', 'ACETYLSALICYLIC ACID [EP MONOGRAPH]', 'Aspirin 81mg Enteric coatedDelayed Release', 'Cardioaspirin 81 mg Enteric Coated Tablet', 'SBI-0050027.P004', 'ASPIRIN COMPONENT OF DARVON COMPOUND', 'ASPIRIN COMPONENT OF INVAGESIC FORTE', 'ASPIRIN COMPONENT OF TALWIN COMPOUND', 'DS-017139', 'UNM-0000306102', 'A2262', 'ASPIRIN COMPONENT OF ORPHENGESIC FORTE', 'component of Darvon with A.S.A (Salt/Mix)', 'CS-0694916', 'EU-0100038', 'NS00000658', 'SW199665-2', 'CARISOPRODOL COMPOUND COMPONENT ASPIRIN', 'EN300-19606', 'A 5376', 'Acetylsalicylic Acid 1.0 mg/ml in Acetonitrile', 'C01405', 'D00109', 'E80792', 'Q18216', 'Safety Coated Aspirin 325 mg Regular Strength', 'AB00051918-08', 'AB00051918_09', 'AB00051918_10', 'Arthritis Pain Formula Maximum Strength (Salt/Mix)', 'Health Mart Regular Strength Enteric Coated Aspirin', 'Natural Aspirin plus Tart Cherry Dietary Supplement', 'SR-01000075668-1', 'SR-01000075668-4', 'SR-01000075668-6', 'BRD-K11433652-001-16-2', 'BRD-K11433652-001-17-0', 'BRD-K11433652-001-18-8', 'Acetylsalicylic acid, Vetec(TM) reagent grade, >=99%', 'Aspirin 81mg Enteric coatedLow Strength Aspirin Regimen', 'Aspirin, British Pharmacopoeia (BP) Reference Standard', 'CLOPIDOGREL/ACETYLSALICYLIC ACID COMPONENT ASPIRIN', 'F2191-0068', 'Natural Aspirin plus Immune Supporting Dietary Supplement', 'Natural Aspirin plus Lemon and Honey Dietary Supplement', 'Z104474430', 'Aspirin, United States Pharmacopeia (USP) Reference Standard', 'D41527A7-A9EB-472D-A7FC-312821130549', 'Acetylsalicylic acid, European Pharmacopoeia (EP) Reference Standard', 'Acetylsalicylic acid, BioReagent, plant cell culture tested, >=99.0%', '2-Acetoxybenzoic acid;2-(Acetyloxy)benzoic acid;Acylpyrin;Aspirin;Aspirin granular', 'Acetylsalicylic acid for peak identification, European Pharmacopoeia (EP) Reference Standard', 'InChI=1/C9H8O4/c1-6(10)13-8-5-3-2-4-7(8)9(11)12/h2-5H,1H3,(H,11,12', '11126-35-5', '200-064-1', 'Aspirin (Acetyl Salicylic Acid), Pharmaceutical Secondary Standard; Certified Reference Material']\n"
          ]
        }
      ]
    },
    {
      "cell_type": "markdown",
      "source": [
        "También podemos obtener una serie de propiedades usando un diccionario.\n",
        "\n",
        "Un diccionario en Python es una colección de elementos, donde cada uno tiene una clave `key` y un valor `value`. Los diccionarios se pueden crear con llaves `{}` separando con una coma cada par `key: value`. En el siguiente ejemplo tenemos tres `keys` que son el cid, los sinónimos y el smiles.\n"
      ],
      "metadata": {
        "id": "0uZFiZzizWEd"
      },
      "id": "0uZFiZzizWEd"
    },
    {
      "cell_type": "code",
      "source": [
        "# Imprime la información del primer resultado en formato diccionario\n",
        "print(molecula[0].to_dict(properties=['cid', 'synonyms', 'isomeric_smiles']))"
      ],
      "metadata": {
        "colab": {
          "base_uri": "https://localhost:8080/"
        },
        "id": "r58Q0XTnzVjM",
        "outputId": "9d4c1252-15bc-4070-e799-beb948a81c4f"
      },
      "id": "r58Q0XTnzVjM",
      "execution_count": null,
      "outputs": [
        {
          "output_type": "stream",
          "name": "stdout",
          "text": [
            "{'cid': 2244, 'synonyms': ['aspirin', 'ACETYLSALICYLIC ACID', '50-78-2', '2-Acetoxybenzoic acid', '2-(Acetyloxy)benzoic acid', 'Acetosal', 'O-Acetylsalicylic acid', 'o-Acetoxybenzoic acid', 'Acenterine', 'Acetophen', 'Acylpyrin', 'Easprin', 'Ecotrin', 'Salicylic acid acetate', 'Acetosalin', 'Aspirdrops', 'Polopiryna', 'Salcetogen', 'Aceticyl', 'Acetonyl', 'Acetylin', 'Acetylsalicylate', 'Acidum acetylsalicylicum', 'Benaspir', 'Colfarit', 'Empirin', 'Endydol', 'Measurin', 'Rhodine', 'Saletin', 'o-Carboxyphenyl acetate', 'Enterosarein', 'Enterosarine', 'Acetisal', 'Acetylsal', 'Aspirine', 'Bialpirinia', 'Entericin', 'Enterophen', 'Micristin', 'Pharmacin', 'Premaspin', 'Salacetin', 'Solpyron', 'Temperal', 'Acesal', 'Acisal', 'Asagran', 'Asteric', 'Duramax', 'Ecolen', 'Extren', 'Globoid', 'Helicon', 'Idragin', 'Rhonal', 'Aspro', 'Novid', 'Rheumintabletten', 'Yasta', 'Solprin acid', 'Benzoic acid, 2-(acetyloxy)-', '2-acetyloxybenzoic acid', 'Acimetten', 'Bialpirina', 'Claradin', 'Clariprin', 'Delgesic', 'Entrophen', 'Globentyl', 'Neuronika', 'Acetilum acidulatum', 'Cemirit', 'Decaten', 'Levius', 'Pirseal', 'Solfrin', 'Acetilsalicilico', 'Adiro', 'Aspec', 'Acetosalic acid', 'Dolean pH 8', 'Triple-sal', 'Spira-Dine', 'ZORprin', 'Contrheuma retard', 'Bi-prin', 'XAXA', 'Acido acetilsalicilico', 'Acide acetylsalicylique', 'Persistin', 'Bayer', '2-Carboxyphenyl acetate', 'A.S.A. empirin', 'ASA', '8-hour Bayer', 'Endosprin', 'Kapsazal', 'Asatard', 'Durlaza', 'Bayer Plus', 'Acetylsalicylsaure', 'Rheumin tabletten', 'Solprin', 'acetyl salicylic acid', 'Tasprin', 'Nu-seals aspirin', 'Salicylic acid, acetate', 'Acido O-acetil-benzoico', 'Kyselina acetylsalicylova', '2-Acetoxybenzenecarboxylic acid', 'Acetylsalicylsaeure', 'Azetylsalizylsaeure', 'SP 189', 'St. Joseph Aspirin for Adults', 'A.S.A.', 'St. Joseph', 'Kyselina 2-acetoxybenzoova', 'AC 5230', 'Acetylsalicyclic acid', 'Acetylsalicylicum acidum', 'Aspropharm', 'Cardioaspirin', 'Acetard', 'CHEBI:15365', 'acetyl salicylate', 'benzoic acid, 2-acetoxy-', 'S-211', 'ECM', 'NSC-27223', 'acide 2-(acetyloxy)benzoique', 'Bayer Extra Strength Aspirin for Migraine Pain', 'Aspirin (Standard)', 'NSC-406186', 'R16CO5Y76E', 'DTXSID5020108', '2-(acetyloxy)benzoate', 'MFCD00002430', 'o-(Acetyloxy)benzoic acid', 'BAY1019036', 'DTXCID50108', 'Acetylsalicylic acid (who-ip)', 'AXOTAL COMPONENT ASPIRIN', 'AZDONE COMPONENT ASPIRIN', 'CODOXY COMPONENT ASPIRIN', 'AGGRENOX COMPONENT ASPIRIN', 'Aspirin form II', 'DUOCOVER COMPONENT ASPIRIN', 'EXCEDRIN COMPONENT ASPIRIN', 'FIORINAL COMPONENT ASPIRIN', 'NORGESIC COMPONENT ASPIRIN', 'PERCODAN COMPONENT ASPIRIN', 'Q-GESIC COMPONENT ASPIRIN', 'ROXIPRIN COMPONENT ASPIRIN', 'VICOPRIN COMPONENT ASPIRIN', 'YOSPRALA COMPONENT ASPIRIN', 'DUOPLAVIN COMPONENT ASPIRIN', 'EQUAGESIC COMPONENT ASPIRIN', 'INVAGESIC COMPONENT ASPIRIN', 'LANORINAL COMPONENT ASPIRIN', 'MICRAININ COMPONENT ASPIRIN', 'ROBAXISAL COMPONENT ASPIRIN', 'component of Midol', 'NSC27223', 'ORPHENGESIC COMPONENT ASPIRIN', 'SYNALGOS-DC COMPONENT ASPIRIN', 'component of Synirin', 'NSC406186', 'component of Zactirin', 'MEPRO-ASPIRIN COMPONENT ASPIRIN', 'PERCODAN-DEMI COMPONENT ASPIRIN', 'PRAVIGARD PAC COMPONENT ASPIRIN', 'SOMA COMPOUND COMPONENT ASPIRIN', 'component of Coricidin', 'component of Persistin', 'component of Robaxisal', 'o-Acetoxybenzoate', 'DARVON COMPOUND COMPONENT ASPIRIN', 'INVAGESIC FORTE COMPONENT ASPIRIN', 'TALWIN COMPOUND COMPONENT ASPIRIN', 'NCGC00015067-04', 'Acetysal', 'ACIDUM ACETYLSALICYLICUM (WHO-IP)', 'Istopirin', 'Magnecyl', 'Medisyl', 'Polopirin', 'ORPHENGESIC FORTE COMPONENT ASPIRIN', 'Ronal', 'ASPIRIN (MART.)', 'ASPIRIN [MART.]', 'Bayer Buffered', 'Aspro Clear', 'component of Ascodeen-30', 'ASPIRIN (USP-RS)', 'ASPIRIN [USP-RS]', 'WLN: QVR BOV1', 'aspirin (acetylsalicylic acid)', 'Aspirina 03', 'Acetylsalycilic acid', 'ASPIRIN (USP MONOGRAPH)', 'ASPIRIN [USP MONOGRAPH]', 'component of Darvon with A.S.A', 'Bayer Aspirin 8 Hour', 'Asaphen', 'Aspalon', 'Asprin', \"Bayer Children's Aspirin\", 'Nu-seals', 'component of St. Joseph Cold Tablets', 'Aspir-Mox', 'Durlaza ER', 'Acetylsalicylsaure [German]', 'CAS-50-78-2', 'Acetoxybenzoic acid', 'Acetysalicylic acid', 'AIN', 'SMR000059138', 'Ascoden-30', 'CCRIS 3243', 'HSDB 652', 'Acide acetylsalicylique [French]', 'Acido acetilsalicilico [Italian]', 'Kyselina acetylsalicylova [Czech]', 'Acido O-acetil-benzoico [Italian]', 'SR-01000075668', 'Kyselina 2-acetoxybenzoova [Czech]', 'EINECS 200-064-1', 'NSC 27223', 'Aspirin [USP:BAN:JAN]', 'Bayer Enteric 325 mg Regular Strength', 'BRN 0779271', 'vetality', 'Bay E4465', 'UNII-R16CO5Y76E', 'Bayer Enteric 81 mg Adult Low Strength', 'Cardioaspirina', 'Acetyonyl', 'Angettes', 'Asacard', 'Ascolong', 'Aspirina', 'AspirinChewable', 'Bayer Enteric 500 mg Arthritis Strength', 'Cardiprin', 'Claragine', 'Colsprin', 'Encaprin', 'Fasprin', 'Medpurine', 'Miniasal', 'Salospir', 'Acesan', 'careone aspirin', 'Toldex', 'Aramark Aspirin', 'Aspirin Powder', 'Aspirin Regimen', 'AspirinEC', 'Canine Aspirin', 'Coated Aspirin', 'Enteric Aspirin', 'Equate Aspirin', 'Leader Aspirin', 'Rapidol Aspirin', 'Rexall Aspirin', 'Sunmark Aspirin', 'Topcare Aspirin', 'AI3-02956', 'Aspirin Bolus', 'Aspirin Nsaid', 'Bayer Aspirin', 'Rugby Aspirin', 'Aspi-cor', 'Buffered Aspirin', 'Chewable Aspirin', 'Equaline Aspirin', 'Geritrex Aspirin', 'McKesson Aspirin', 'AspirinNSAID', 'Azetylsalizylsaure', 'Aspirin EC', 'aspirinpain relief', 'Childrens Aspirin', 'Unishield Aspirin', 'ASA Empirin', '1oxr', '2-Acetoxybenzoate', 'Aspirin 5 Grain', 'Care One Aspirin', 'Bufferin Arthritis', 'ULINE Aspirin', 'CAREALL Aspirin', 'MooreBrand Aspirin', 'Aspica (Aspirin)', 'Aspirin 81mg', 'Dg Health Aspirin', 'Medi-first Aspirin', 'Basic Care Aspirin', 'caring mill aspirin', 'Dr Pausins Aspirin', 'Good Sense Aspirin', 'rugby adult aspirin', 'Aspirin 325mg', 'Aspirin 81', 'Aspirin 81 mg', 'Up and Up Aspirin', 'Aspalon (JAN)', 'Durlaza (TN)', 'Easprin (TN)', 'Health Mart Aspirin', 'MBR Aspirin Powder', 'Pain Relief Aspirin', 'Solves-aspirinCherry', 'Aspirin 325 mg', 'Aspirin Pain reliver', 'Tri-buffered Aspirin', 'acetyl-salicylic acid', 'Aspirin 325', 'Aspirin 50 CT', 'AspirinEnteric Coated', 'ASPRISOL', 'Crane Safety Aspirin', 'equate aspirinchewable', 'Health Sense Ecpirin', 'Henry Schein Aspirin', 'sunmark adult aspirin', 'Travel Savvy Aspirin', 'VAZALORE', 'ASPIRINLow Strength', 'acetyl salicyclic acid', 'Adult Aspirin Regimen', 'Aspirin Bolus-240', 'AspirinDelayed Release', 'Bayer Aspirin Regimen', 'Bayer Genuine Aspirin', 'Direct Safety Aspirin', 'Moore Medical Aspirin', 'o-(Acetyloxy)benzoate', 'Rapid Comfort Aspirin', 'Safety Coated Aspirin', 'signature care aspirin', 'Aspirinregular strength', 'ASSURED ASPIRIN', 'Percodan (Salt/Mix)', 'Adult Chewable Aspirin', 'Biovanta Double Action', 'Enteric Coated Aspirin', 'Extra Strength Aspirin', 'ADVANCED ASPIRIN', 'Ascriptin (Salt/Mix)', 'Micrainin (Salt/Mix)', 'VALUMEDS ASPIRIN', '2-acetoxy benzoic acid', 'Aspirin tablet 325mg', 'Chewable Aspirin 81mg', 'Dye-Free Aspirin 81', 'Family Wellness Aspirin', 'Physicians Care Aspirin', 'RHODINE NC RP', 'Signature Care Aspririn', 'Spectrum_001245', '2-Acetylsalicyclic acid', 'First Aid Only Aspirin', 'Acide acetyl salicylique', 'ASPIRIN [VANDF]', 'Medique at Home Aspirin', 'ASPIRIN [HSDB]', 'Aspirin Regular Strength', 'Ecotrin Regular Strength', 'Medi-First Plus Aspirin', 'Medique Products Aspirin', 'Regular Strength Aspirin', 'Salicylic acid, acetyl-', 'ASPIRIN [JAN]', 'Bayer PlusExtra Strength', 'Circle K Aspirin 325', 'Pharbest Aspirin 325mg', 'ASPIRIN [MI]', 'CHEMBL25', 'health mart adult aspirin', 'Spectrum2_001899', 'Spectrum3_001295', 'Spectrum4_000099', 'Spectrum5_000740', 'Aspirin (JP18/USP)', 'Lopac-A-5376', 'Salycylacetylsalicylic acid', 'ASPIRIN480', 'BAYER 500 mg', 'Chronic Pain/Fever Relief', 'CARDIASPIRIN PROTECT', 'NobleAid PAIN RELIEVER', 'Berkley and Jensen Aspirin', 'Epitope ID:114151', 'Percodan Demi (Salt/Mix)', 'Soma Compound (Salt/Mix)', 'EC 200-064-1', 'PL2200 component aspirin', 'Acetylsalicylic acid, 99%', 'ASPIRINEXTRA STRENGTH', 'cid_2244', 'Pravigard PAC (Salt/Mix)', 'SCHEMBL1353', 'Up and Up Chewable Aspirin', 'ASPIRIN BOLUS-480', 'AspirinEnteric Safety Coated', 'AspirinEnteric Safety-Coated', 'Regular Strength Aspirin EC', '2-(Acetyloxy)-benzoic acid', 'Aspirin-PC component aspirin', 'Bay-e-4465', 'Plus PharmaNSAID 325 mg', '365 Everyday Value Aspirin', 'Alka-Seltzer Original Flavor', 'Aspirin 81mg Enteric coated', 'AspirinLow Strength, Enteric', 'Critical Care Aspirin To Go', 'Lopac0_000038', 'ASPIRIN 325 MG EC', 'KBioGR_000398', 'KBioGR_002271', 'KBioSS_001725', 'KBioSS_002272', '4-10-00-00138 (Beilstein Handbook Reference)', 'MLS001055329', 'MLS001066332', 'MLS001336045', 'MLS001336046', 'ASPIRIN [ORANGE BOOK]', 'BAYER Aspirin Extra Strength', 'BIDD:GT0118', 'DivK1c_000555', 'Lil Drug Store Aspirin 325', 'SPECTRUM1500130', 'Aspirin 81 mg Enteric Coated', 'Bayer Aspirin Regimen Chewable', 'Bayer Chewable-Aspirin Regimen', 'Good Neighbor Pharmacy Aspirin', 'PA-32540 component aspirin', 'Rapidol Aspirin Display 2x25', 'SPBio_001838', 'Acetylsalicylic acid, >=99%', 'Buffered AspirinFor Small Dogs', 'GTPL4139', 'O-Acetylsalicylic acid; Aspirin', 'MBR Aspirin Bolus 240 Grains', 'Acetylsalicylic acid-carboxy-14c', 'BDBM22360', 'HMS501L17', 'KBio1_000555', 'KBio2_001725', 'KBio2_002271', 'KBio2_004293', 'KBio2_004839', 'KBio2_006861', 'KBio2_007407', 'KBio3_002149', 'KBio3_002751', 'Empirin with Codeine (Salt/Mix)', 'Pharbest Regular Strength Aspirin', 'Value PharmaAspirin Pain Reliever', 'Acetylsalicylic acid, >=99.0%', 'cMAP_000006', 'component of Zactirin (Salt/Mix)', 'First Aid Direct Chewable Aspirin', 'NINDS_000555', 'ASPIRIN Analgesic and Antipyretic', 'ASPIRIN COMPONENT OF AXOTAL', 'ASPIRIN COMPONENT OF AZDONE', 'ASPIRIN COMPONENT OF CODOXY', 'HMS1920E13', 'HMS2090G03', 'HMS2091K13', 'HMS2233L18', 'HMS3260G17', 'HMS3372N15', 'HMS3656N14', 'HMS3715P19', 'HMS3866L03', 'HMS3885G03', 'Pharmakon1600-01500130', 'Bayer Aspirin Regimenenteric coated', 'BCP21790', 'STR01551', 'ACETYLSALICYLIC ACID; ASPIRIN', 'ASPIRIN COMPONENT OF AGGRENOX', 'ASPIRIN COMPONENT OF DUOCOVER', 'ASPIRIN COMPONENT OF EXCEDRIN', 'ASPIRIN COMPONENT OF FIORINAL', 'ASPIRIN COMPONENT OF NORGESIC', 'ASPIRIN COMPONENT OF PERCODAN', 'ASPIRIN COMPONENT OF Q-GESIC', 'ASPIRIN COMPONENT OF ROXIPRIN', 'ASPIRIN COMPONENT OF VICOPRIN', 'ASPIRIN COMPONENT OF YOSPRALA', 'BAYER AspirinExtra Strength Caplets', 'Tox21_110076', 'Tox21_202117', 'Tox21_300146', 'Tox21_500038', 'Buffered aspirin, effervescent tablet', 'CCG-39490', 'HY-14654R', 'NSC755899', 's3017', 'STL137674', 'ACETYLSALICYLIC ACID [WHO-DD]', 'ASPIRIN COMPONENT OF DUOPLAVIN', 'ASPIRIN COMPONENT OF EQUAGESIC', 'ASPIRIN COMPONENT OF INVAGESIC', 'ASPIRIN COMPONENT OF LANORINAL', 'ASPIRIN COMPONENT OF MICRAININ', 'ASPIRIN COMPONENT OF ROBAXISAL', 'Bufferin Regular Strength Pain Relief', 'enteric coated aspirinRegular Strength', 'AKOS000118884', 'Aspirin Enteric Coated Tablets 81 mg', 'component of Ascodeen-30 (Salt/Mix)', 'Tox21_110076_1', 'ACETYLSALICYLIC ACID [EMA EPAR]', 'ACETYLSALICYLICUM ACIDUM [HPUS]', 'Aspirin 81 mg Delayed Release Tablets', 'ASPIRIN COMPONENT OF ORPHENGESIC', 'CS-2001', 'DB00945', 'FA17179', 'LP00038', 'NSC-755899', 'PL-2200', 'SDCCGSBI-0050027.P005', 'Value PharmaPain RelieverExtra Strength', 'ASPIRIN COMPONENT OF SYNALGOS-DC', 'AspirinEnteric Coated, Regular Strength', 'BAY-1019036', 'IDI1_000555', 'Regular Strength Enteric Coated Aspirin', 'ACETYLSALICYLIC ACID [GREEN BOOK]', 'Acetylsalicylic acid, analytical standard', 'Aspirin Delayed Release Tablets, 81 mg', 'Buffered AspirinFor Medium to Large Dogs', 'Coraspirin 81 mg Enteric Coasted Tablet', 'NCGC00015067-01', 'NCGC00015067-02', 'NCGC00015067-03', 'NCGC00015067-05', 'NCGC00015067-06', 'NCGC00015067-07', 'NCGC00015067-08', 'NCGC00015067-09', 'NCGC00015067-10', 'NCGC00015067-11', 'NCGC00015067-12', 'NCGC00015067-13', 'NCGC00015067-14', 'NCGC00015067-24', 'NCGC00015067-26', 'NCGC00090977-01', 'NCGC00090977-02', 'NCGC00090977-03', 'NCGC00090977-04', 'NCGC00090977-05', 'NCGC00090977-06', 'NCGC00090977-07', 'NCGC00254034-01', 'NCGC00259666-01', 'NCGC00260723-01', 'AC-37704', 'ASPIRIN COMPONENT OF MEPRO-ASPIRIN', 'ASPIRIN COMPONENT OF PERCODAN-DEMI', 'ASPIRIN COMPONENT OF PRAVIGARD PAC', 'ASPIRIN COMPONENT OF SOMA COMPOUND', 'Aspirin, meets USP testing specifications', 'DA-61272', 'HY-14654', 'NCI60_002222', 'ACETYLSALICYLIC ACID [EP MONOGRAPH]', 'Aspirin 81mg Enteric coatedDelayed Release', 'Cardioaspirin 81 mg Enteric Coated Tablet', 'SBI-0050027.P004', 'ASPIRIN COMPONENT OF DARVON COMPOUND', 'ASPIRIN COMPONENT OF INVAGESIC FORTE', 'ASPIRIN COMPONENT OF TALWIN COMPOUND', 'DS-017139', 'UNM-0000306102', 'A2262', 'ASPIRIN COMPONENT OF ORPHENGESIC FORTE', 'component of Darvon with A.S.A (Salt/Mix)', 'CS-0694916', 'EU-0100038', 'NS00000658', 'SW199665-2', 'CARISOPRODOL COMPOUND COMPONENT ASPIRIN', 'EN300-19606', 'A 5376', 'Acetylsalicylic Acid 1.0 mg/ml in Acetonitrile', 'C01405', 'D00109', 'E80792', 'Q18216', 'Safety Coated Aspirin 325 mg Regular Strength', 'AB00051918-08', 'AB00051918_09', 'AB00051918_10', 'Arthritis Pain Formula Maximum Strength (Salt/Mix)', 'Health Mart Regular Strength Enteric Coated Aspirin', 'Natural Aspirin plus Tart Cherry Dietary Supplement', 'SR-01000075668-1', 'SR-01000075668-4', 'SR-01000075668-6', 'BRD-K11433652-001-16-2', 'BRD-K11433652-001-17-0', 'BRD-K11433652-001-18-8', 'Acetylsalicylic acid, Vetec(TM) reagent grade, >=99%', 'Aspirin 81mg Enteric coatedLow Strength Aspirin Regimen', 'Aspirin, British Pharmacopoeia (BP) Reference Standard', 'CLOPIDOGREL/ACETYLSALICYLIC ACID COMPONENT ASPIRIN', 'F2191-0068', 'Natural Aspirin plus Immune Supporting Dietary Supplement', 'Natural Aspirin plus Lemon and Honey Dietary Supplement', 'Z104474430', 'Aspirin, United States Pharmacopeia (USP) Reference Standard', 'D41527A7-A9EB-472D-A7FC-312821130549', 'Acetylsalicylic acid, European Pharmacopoeia (EP) Reference Standard', 'Acetylsalicylic acid, BioReagent, plant cell culture tested, >=99.0%', '2-Acetoxybenzoic acid;2-(Acetyloxy)benzoic acid;Acylpyrin;Aspirin;Aspirin granular', 'Acetylsalicylic acid for peak identification, European Pharmacopoeia (EP) Reference Standard', 'InChI=1/C9H8O4/c1-6(10)13-8-5-3-2-4-7(8)9(11)12/h2-5H,1H3,(H,11,12', '11126-35-5', '200-064-1', 'Aspirin (Acetyl Salicylic Acid), Pharmaceutical Secondary Standard; Certified Reference Material'], 'isomeric_smiles': 'CC(=O)OC1=CC=CC=C1C(=O)O'}\n"
          ]
        }
      ]
    },
    {
      "cell_type": "markdown",
      "source": [
        "Podemos obtener esta información de una lista de datos!\n",
        "\n",
        "Vamos a usar datos de un ensayo que buscó compuestos que inhiban la actividad de Schnurri3 (SHN3). Esta proteína tiene como función de suprimir la actividad de los osteoblastos, fomentando la formación ósea.\n",
        "Encontrar compuestos que inhiban esta proteína es una aproximación a buscar nuevos tratamientos contra la osteoporosis.\n",
        "\n",
        "Para encontrar más información sobre este ensayo pueden ingresar al PubChem y usar el BioAssays Id 624132.\n",
        "\n",
        "De ese ensayo, seleccionamos una lista de 50 PubChem Compounds ID (CID) que resultaron activos, es decir, que inhibieron a SHN3.\n",
        "\n",
        "La lista se encuentra en la siguiente celda:"
      ],
      "metadata": {
        "id": "DR7SEd8Y5Bzw"
      },
      "id": "DR7SEd8Y5Bzw"
    },
    {
      "cell_type": "code",
      "source": [
        "#Cargar la lista de CIDs\n",
        "lista_cids = [135870943, 135521560, 135519870, 135517008, 135513616, 135512421, 135512388, 135501733, 135497985, 135481286, 135476833, 135455077, 135438323, 135414027, 135406743, 135401246, 85090241, 56643206, 56643191, 56642958, 54693585, 54692915, 54687736, 54683835, 53312847, 53299516, 53299508, 53299506, 51361447, 51361446, 51361441, 51361440, 51361436, 51360490, 51360349, 51360344, 51360321, 51360310, 51359983, 49795833, 49795742, 49792745, 49792698, 49792581, 49792547, 49792370, 49792323, 49792139, 49791133, 49790979]"
      ],
      "metadata": {
        "id": "wE0QYynAAIag"
      },
      "id": "wE0QYynAAIag",
      "execution_count": null,
      "outputs": []
    },
    {
      "cell_type": "code",
      "source": [
        "import pandas as pd\n",
        "\n",
        "#Generar una tabla que tenga como primer columna los CIDs\n",
        "tabla_cids = pd.DataFrame()\n",
        "tabla_cids['cid'] = lista_cids"
      ],
      "metadata": {
        "id": "3ZLPQ7kE-JvX"
      },
      "id": "3ZLPQ7kE-JvX",
      "execution_count": null,
      "outputs": []
    },
    {
      "cell_type": "markdown",
      "source": [
        "Ahora vamos a usar los comandos que vimos de `pcp` para recolectar información de cada compuesto.\n",
        "\n",
        "El primer paso es generar la molécula para cada CID:"
      ],
      "metadata": {
        "id": "Y9WyphsqF0kL"
      },
      "id": "Y9WyphsqF0kL"
    },
    {
      "cell_type": "code",
      "source": [
        "import time\n",
        "\n",
        "# Armar una lista vacia donde vamos a guardar las moléculas\n",
        "lista_moleculas = []\n",
        "\n",
        "# Recorrer la columna de CIDs y asignarle la molécula correspondiente.\n",
        "for i in range(len(tabla_cids)):\n",
        "    molecula = pcp.get_compounds(str(tabla_cids['cid'][i]), 'cid')\n",
        "    lista_moleculas.append(molecula)\n",
        "    time.sleep(1)  # Esperar 1 segundo entre cada request para no saturar al servidor"
      ],
      "metadata": {
        "id": "_jLKAgzm6zDk"
      },
      "id": "_jLKAgzm6zDk",
      "execution_count": null,
      "outputs": []
    },
    {
      "cell_type": "markdown",
      "source": [
        "Este paso puede tomar unos minutos, ya que recolecta los datos de PubChem para cada CID.\n",
        "\n",
        "Ahora vamos a agregar a la tabla una columna con las moléculas que calculamos en el paso anterior:"
      ],
      "metadata": {
        "id": "XaJC-G91GXk7"
      },
      "id": "XaJC-G91GXk7"
    },
    {
      "cell_type": "code",
      "source": [
        "#Agregar a la tabla una columna con las moléculas\n",
        "tabla_cids['moleculas'] = lista_moleculas"
      ],
      "metadata": {
        "id": "RDgSU75HA3yA"
      },
      "id": "RDgSU75HA3yA",
      "execution_count": null,
      "outputs": []
    },
    {
      "cell_type": "code",
      "source": [
        "#Mostrar la tabla completa\n",
        "tabla_cids"
      ],
      "metadata": {
        "id": "k20iewd6A4Zi",
        "colab": {
          "base_uri": "https://localhost:8080/",
          "height": 1000
        },
        "outputId": "5cd9f4b7-fde8-4469-d21f-6fc7962522af"
      },
      "id": "k20iewd6A4Zi",
      "execution_count": null,
      "outputs": [
        {
          "output_type": "execute_result",
          "data": {
            "text/plain": [
              "          cid              moleculas\n",
              "0   135870943  [Compound(135870943)]\n",
              "1   135521560  [Compound(135521560)]\n",
              "2   135519870  [Compound(135519870)]\n",
              "3   135517008  [Compound(135517008)]\n",
              "4   135513616  [Compound(135513616)]\n",
              "5   135512421  [Compound(135512421)]\n",
              "6   135512388  [Compound(135512388)]\n",
              "7   135501733  [Compound(135501733)]\n",
              "8   135497985  [Compound(135497985)]\n",
              "9   135481286  [Compound(135481286)]\n",
              "10  135476833  [Compound(135476833)]\n",
              "11  135455077  [Compound(135455077)]\n",
              "12  135438323  [Compound(135438323)]\n",
              "13  135414027  [Compound(135414027)]\n",
              "14  135406743  [Compound(135406743)]\n",
              "15  135401246  [Compound(135401246)]\n",
              "16   85090241   [Compound(85090241)]\n",
              "17   56643206   [Compound(56643206)]\n",
              "18   56643191   [Compound(56643191)]\n",
              "19   56642958   [Compound(56642958)]\n",
              "20   54693585   [Compound(54693585)]\n",
              "21   54692915   [Compound(54692915)]\n",
              "22   54687736   [Compound(54687736)]\n",
              "23   54683835   [Compound(54683835)]\n",
              "24   53312847   [Compound(53312847)]\n",
              "25   53299516   [Compound(53299516)]\n",
              "26   53299508   [Compound(53299508)]\n",
              "27   53299506   [Compound(53299506)]\n",
              "28   51361447   [Compound(51361447)]\n",
              "29   51361446   [Compound(51361446)]\n",
              "30   51361441   [Compound(51361441)]\n",
              "31   51361440   [Compound(51361440)]\n",
              "32   51361436   [Compound(51361436)]\n",
              "33   51360490   [Compound(51360490)]\n",
              "34   51360349   [Compound(51360349)]\n",
              "35   51360344   [Compound(51360344)]\n",
              "36   51360321   [Compound(51360321)]\n",
              "37   51360310   [Compound(51360310)]\n",
              "38   51359983   [Compound(51359983)]\n",
              "39   49795833   [Compound(49795833)]\n",
              "40   49795742   [Compound(49795742)]\n",
              "41   49792745   [Compound(49792745)]\n",
              "42   49792698   [Compound(49792698)]\n",
              "43   49792581   [Compound(49792581)]\n",
              "44   49792547   [Compound(49792547)]\n",
              "45   49792370   [Compound(49792370)]\n",
              "46   49792323   [Compound(49792323)]\n",
              "47   49792139   [Compound(49792139)]\n",
              "48   49791133   [Compound(49791133)]\n",
              "49   49790979   [Compound(49790979)]"
            ],
            "text/html": [
              "\n",
              "  <div id=\"df-9d96eaa3-a2f4-4504-b4c6-882e761f573a\" class=\"colab-df-container\">\n",
              "    <div>\n",
              "<style scoped>\n",
              "    .dataframe tbody tr th:only-of-type {\n",
              "        vertical-align: middle;\n",
              "    }\n",
              "\n",
              "    .dataframe tbody tr th {\n",
              "        vertical-align: top;\n",
              "    }\n",
              "\n",
              "    .dataframe thead th {\n",
              "        text-align: right;\n",
              "    }\n",
              "</style>\n",
              "<table border=\"1\" class=\"dataframe\">\n",
              "  <thead>\n",
              "    <tr style=\"text-align: right;\">\n",
              "      <th></th>\n",
              "      <th>cid</th>\n",
              "      <th>moleculas</th>\n",
              "    </tr>\n",
              "  </thead>\n",
              "  <tbody>\n",
              "    <tr>\n",
              "      <th>0</th>\n",
              "      <td>135870943</td>\n",
              "      <td>[Compound(135870943)]</td>\n",
              "    </tr>\n",
              "    <tr>\n",
              "      <th>1</th>\n",
              "      <td>135521560</td>\n",
              "      <td>[Compound(135521560)]</td>\n",
              "    </tr>\n",
              "    <tr>\n",
              "      <th>2</th>\n",
              "      <td>135519870</td>\n",
              "      <td>[Compound(135519870)]</td>\n",
              "    </tr>\n",
              "    <tr>\n",
              "      <th>3</th>\n",
              "      <td>135517008</td>\n",
              "      <td>[Compound(135517008)]</td>\n",
              "    </tr>\n",
              "    <tr>\n",
              "      <th>4</th>\n",
              "      <td>135513616</td>\n",
              "      <td>[Compound(135513616)]</td>\n",
              "    </tr>\n",
              "    <tr>\n",
              "      <th>5</th>\n",
              "      <td>135512421</td>\n",
              "      <td>[Compound(135512421)]</td>\n",
              "    </tr>\n",
              "    <tr>\n",
              "      <th>6</th>\n",
              "      <td>135512388</td>\n",
              "      <td>[Compound(135512388)]</td>\n",
              "    </tr>\n",
              "    <tr>\n",
              "      <th>7</th>\n",
              "      <td>135501733</td>\n",
              "      <td>[Compound(135501733)]</td>\n",
              "    </tr>\n",
              "    <tr>\n",
              "      <th>8</th>\n",
              "      <td>135497985</td>\n",
              "      <td>[Compound(135497985)]</td>\n",
              "    </tr>\n",
              "    <tr>\n",
              "      <th>9</th>\n",
              "      <td>135481286</td>\n",
              "      <td>[Compound(135481286)]</td>\n",
              "    </tr>\n",
              "    <tr>\n",
              "      <th>10</th>\n",
              "      <td>135476833</td>\n",
              "      <td>[Compound(135476833)]</td>\n",
              "    </tr>\n",
              "    <tr>\n",
              "      <th>11</th>\n",
              "      <td>135455077</td>\n",
              "      <td>[Compound(135455077)]</td>\n",
              "    </tr>\n",
              "    <tr>\n",
              "      <th>12</th>\n",
              "      <td>135438323</td>\n",
              "      <td>[Compound(135438323)]</td>\n",
              "    </tr>\n",
              "    <tr>\n",
              "      <th>13</th>\n",
              "      <td>135414027</td>\n",
              "      <td>[Compound(135414027)]</td>\n",
              "    </tr>\n",
              "    <tr>\n",
              "      <th>14</th>\n",
              "      <td>135406743</td>\n",
              "      <td>[Compound(135406743)]</td>\n",
              "    </tr>\n",
              "    <tr>\n",
              "      <th>15</th>\n",
              "      <td>135401246</td>\n",
              "      <td>[Compound(135401246)]</td>\n",
              "    </tr>\n",
              "    <tr>\n",
              "      <th>16</th>\n",
              "      <td>85090241</td>\n",
              "      <td>[Compound(85090241)]</td>\n",
              "    </tr>\n",
              "    <tr>\n",
              "      <th>17</th>\n",
              "      <td>56643206</td>\n",
              "      <td>[Compound(56643206)]</td>\n",
              "    </tr>\n",
              "    <tr>\n",
              "      <th>18</th>\n",
              "      <td>56643191</td>\n",
              "      <td>[Compound(56643191)]</td>\n",
              "    </tr>\n",
              "    <tr>\n",
              "      <th>19</th>\n",
              "      <td>56642958</td>\n",
              "      <td>[Compound(56642958)]</td>\n",
              "    </tr>\n",
              "    <tr>\n",
              "      <th>20</th>\n",
              "      <td>54693585</td>\n",
              "      <td>[Compound(54693585)]</td>\n",
              "    </tr>\n",
              "    <tr>\n",
              "      <th>21</th>\n",
              "      <td>54692915</td>\n",
              "      <td>[Compound(54692915)]</td>\n",
              "    </tr>\n",
              "    <tr>\n",
              "      <th>22</th>\n",
              "      <td>54687736</td>\n",
              "      <td>[Compound(54687736)]</td>\n",
              "    </tr>\n",
              "    <tr>\n",
              "      <th>23</th>\n",
              "      <td>54683835</td>\n",
              "      <td>[Compound(54683835)]</td>\n",
              "    </tr>\n",
              "    <tr>\n",
              "      <th>24</th>\n",
              "      <td>53312847</td>\n",
              "      <td>[Compound(53312847)]</td>\n",
              "    </tr>\n",
              "    <tr>\n",
              "      <th>25</th>\n",
              "      <td>53299516</td>\n",
              "      <td>[Compound(53299516)]</td>\n",
              "    </tr>\n",
              "    <tr>\n",
              "      <th>26</th>\n",
              "      <td>53299508</td>\n",
              "      <td>[Compound(53299508)]</td>\n",
              "    </tr>\n",
              "    <tr>\n",
              "      <th>27</th>\n",
              "      <td>53299506</td>\n",
              "      <td>[Compound(53299506)]</td>\n",
              "    </tr>\n",
              "    <tr>\n",
              "      <th>28</th>\n",
              "      <td>51361447</td>\n",
              "      <td>[Compound(51361447)]</td>\n",
              "    </tr>\n",
              "    <tr>\n",
              "      <th>29</th>\n",
              "      <td>51361446</td>\n",
              "      <td>[Compound(51361446)]</td>\n",
              "    </tr>\n",
              "    <tr>\n",
              "      <th>30</th>\n",
              "      <td>51361441</td>\n",
              "      <td>[Compound(51361441)]</td>\n",
              "    </tr>\n",
              "    <tr>\n",
              "      <th>31</th>\n",
              "      <td>51361440</td>\n",
              "      <td>[Compound(51361440)]</td>\n",
              "    </tr>\n",
              "    <tr>\n",
              "      <th>32</th>\n",
              "      <td>51361436</td>\n",
              "      <td>[Compound(51361436)]</td>\n",
              "    </tr>\n",
              "    <tr>\n",
              "      <th>33</th>\n",
              "      <td>51360490</td>\n",
              "      <td>[Compound(51360490)]</td>\n",
              "    </tr>\n",
              "    <tr>\n",
              "      <th>34</th>\n",
              "      <td>51360349</td>\n",
              "      <td>[Compound(51360349)]</td>\n",
              "    </tr>\n",
              "    <tr>\n",
              "      <th>35</th>\n",
              "      <td>51360344</td>\n",
              "      <td>[Compound(51360344)]</td>\n",
              "    </tr>\n",
              "    <tr>\n",
              "      <th>36</th>\n",
              "      <td>51360321</td>\n",
              "      <td>[Compound(51360321)]</td>\n",
              "    </tr>\n",
              "    <tr>\n",
              "      <th>37</th>\n",
              "      <td>51360310</td>\n",
              "      <td>[Compound(51360310)]</td>\n",
              "    </tr>\n",
              "    <tr>\n",
              "      <th>38</th>\n",
              "      <td>51359983</td>\n",
              "      <td>[Compound(51359983)]</td>\n",
              "    </tr>\n",
              "    <tr>\n",
              "      <th>39</th>\n",
              "      <td>49795833</td>\n",
              "      <td>[Compound(49795833)]</td>\n",
              "    </tr>\n",
              "    <tr>\n",
              "      <th>40</th>\n",
              "      <td>49795742</td>\n",
              "      <td>[Compound(49795742)]</td>\n",
              "    </tr>\n",
              "    <tr>\n",
              "      <th>41</th>\n",
              "      <td>49792745</td>\n",
              "      <td>[Compound(49792745)]</td>\n",
              "    </tr>\n",
              "    <tr>\n",
              "      <th>42</th>\n",
              "      <td>49792698</td>\n",
              "      <td>[Compound(49792698)]</td>\n",
              "    </tr>\n",
              "    <tr>\n",
              "      <th>43</th>\n",
              "      <td>49792581</td>\n",
              "      <td>[Compound(49792581)]</td>\n",
              "    </tr>\n",
              "    <tr>\n",
              "      <th>44</th>\n",
              "      <td>49792547</td>\n",
              "      <td>[Compound(49792547)]</td>\n",
              "    </tr>\n",
              "    <tr>\n",
              "      <th>45</th>\n",
              "      <td>49792370</td>\n",
              "      <td>[Compound(49792370)]</td>\n",
              "    </tr>\n",
              "    <tr>\n",
              "      <th>46</th>\n",
              "      <td>49792323</td>\n",
              "      <td>[Compound(49792323)]</td>\n",
              "    </tr>\n",
              "    <tr>\n",
              "      <th>47</th>\n",
              "      <td>49792139</td>\n",
              "      <td>[Compound(49792139)]</td>\n",
              "    </tr>\n",
              "    <tr>\n",
              "      <th>48</th>\n",
              "      <td>49791133</td>\n",
              "      <td>[Compound(49791133)]</td>\n",
              "    </tr>\n",
              "    <tr>\n",
              "      <th>49</th>\n",
              "      <td>49790979</td>\n",
              "      <td>[Compound(49790979)]</td>\n",
              "    </tr>\n",
              "  </tbody>\n",
              "</table>\n",
              "</div>\n",
              "    <div class=\"colab-df-buttons\">\n",
              "\n",
              "  <div class=\"colab-df-container\">\n",
              "    <button class=\"colab-df-convert\" onclick=\"convertToInteractive('df-9d96eaa3-a2f4-4504-b4c6-882e761f573a')\"\n",
              "            title=\"Convert this dataframe to an interactive table.\"\n",
              "            style=\"display:none;\">\n",
              "\n",
              "  <svg xmlns=\"http://www.w3.org/2000/svg\" height=\"24px\" viewBox=\"0 -960 960 960\">\n",
              "    <path d=\"M120-120v-720h720v720H120Zm60-500h600v-160H180v160Zm220 220h160v-160H400v160Zm0 220h160v-160H400v160ZM180-400h160v-160H180v160Zm440 0h160v-160H620v160ZM180-180h160v-160H180v160Zm440 0h160v-160H620v160Z\"/>\n",
              "  </svg>\n",
              "    </button>\n",
              "\n",
              "  <style>\n",
              "    .colab-df-container {\n",
              "      display:flex;\n",
              "      gap: 12px;\n",
              "    }\n",
              "\n",
              "    .colab-df-convert {\n",
              "      background-color: #E8F0FE;\n",
              "      border: none;\n",
              "      border-radius: 50%;\n",
              "      cursor: pointer;\n",
              "      display: none;\n",
              "      fill: #1967D2;\n",
              "      height: 32px;\n",
              "      padding: 0 0 0 0;\n",
              "      width: 32px;\n",
              "    }\n",
              "\n",
              "    .colab-df-convert:hover {\n",
              "      background-color: #E2EBFA;\n",
              "      box-shadow: 0px 1px 2px rgba(60, 64, 67, 0.3), 0px 1px 3px 1px rgba(60, 64, 67, 0.15);\n",
              "      fill: #174EA6;\n",
              "    }\n",
              "\n",
              "    .colab-df-buttons div {\n",
              "      margin-bottom: 4px;\n",
              "    }\n",
              "\n",
              "    [theme=dark] .colab-df-convert {\n",
              "      background-color: #3B4455;\n",
              "      fill: #D2E3FC;\n",
              "    }\n",
              "\n",
              "    [theme=dark] .colab-df-convert:hover {\n",
              "      background-color: #434B5C;\n",
              "      box-shadow: 0px 1px 3px 1px rgba(0, 0, 0, 0.15);\n",
              "      filter: drop-shadow(0px 1px 2px rgba(0, 0, 0, 0.3));\n",
              "      fill: #FFFFFF;\n",
              "    }\n",
              "  </style>\n",
              "\n",
              "    <script>\n",
              "      const buttonEl =\n",
              "        document.querySelector('#df-9d96eaa3-a2f4-4504-b4c6-882e761f573a button.colab-df-convert');\n",
              "      buttonEl.style.display =\n",
              "        google.colab.kernel.accessAllowed ? 'block' : 'none';\n",
              "\n",
              "      async function convertToInteractive(key) {\n",
              "        const element = document.querySelector('#df-9d96eaa3-a2f4-4504-b4c6-882e761f573a');\n",
              "        const dataTable =\n",
              "          await google.colab.kernel.invokeFunction('convertToInteractive',\n",
              "                                                    [key], {});\n",
              "        if (!dataTable) return;\n",
              "\n",
              "        const docLinkHtml = 'Like what you see? Visit the ' +\n",
              "          '<a target=\"_blank\" href=https://colab.research.google.com/notebooks/data_table.ipynb>data table notebook</a>'\n",
              "          + ' to learn more about interactive tables.';\n",
              "        element.innerHTML = '';\n",
              "        dataTable['output_type'] = 'display_data';\n",
              "        await google.colab.output.renderOutput(dataTable, element);\n",
              "        const docLink = document.createElement('div');\n",
              "        docLink.innerHTML = docLinkHtml;\n",
              "        element.appendChild(docLink);\n",
              "      }\n",
              "    </script>\n",
              "  </div>\n",
              "\n",
              "\n",
              "<div id=\"df-3da07377-a344-4231-8f8f-4d913ff35a18\">\n",
              "  <button class=\"colab-df-quickchart\" onclick=\"quickchart('df-3da07377-a344-4231-8f8f-4d913ff35a18')\"\n",
              "            title=\"Suggest charts\"\n",
              "            style=\"display:none;\">\n",
              "\n",
              "<svg xmlns=\"http://www.w3.org/2000/svg\" height=\"24px\"viewBox=\"0 0 24 24\"\n",
              "     width=\"24px\">\n",
              "    <g>\n",
              "        <path d=\"M19 3H5c-1.1 0-2 .9-2 2v14c0 1.1.9 2 2 2h14c1.1 0 2-.9 2-2V5c0-1.1-.9-2-2-2zM9 17H7v-7h2v7zm4 0h-2V7h2v10zm4 0h-2v-4h2v4z\"/>\n",
              "    </g>\n",
              "</svg>\n",
              "  </button>\n",
              "\n",
              "<style>\n",
              "  .colab-df-quickchart {\n",
              "      --bg-color: #E8F0FE;\n",
              "      --fill-color: #1967D2;\n",
              "      --hover-bg-color: #E2EBFA;\n",
              "      --hover-fill-color: #174EA6;\n",
              "      --disabled-fill-color: #AAA;\n",
              "      --disabled-bg-color: #DDD;\n",
              "  }\n",
              "\n",
              "  [theme=dark] .colab-df-quickchart {\n",
              "      --bg-color: #3B4455;\n",
              "      --fill-color: #D2E3FC;\n",
              "      --hover-bg-color: #434B5C;\n",
              "      --hover-fill-color: #FFFFFF;\n",
              "      --disabled-bg-color: #3B4455;\n",
              "      --disabled-fill-color: #666;\n",
              "  }\n",
              "\n",
              "  .colab-df-quickchart {\n",
              "    background-color: var(--bg-color);\n",
              "    border: none;\n",
              "    border-radius: 50%;\n",
              "    cursor: pointer;\n",
              "    display: none;\n",
              "    fill: var(--fill-color);\n",
              "    height: 32px;\n",
              "    padding: 0;\n",
              "    width: 32px;\n",
              "  }\n",
              "\n",
              "  .colab-df-quickchart:hover {\n",
              "    background-color: var(--hover-bg-color);\n",
              "    box-shadow: 0 1px 2px rgba(60, 64, 67, 0.3), 0 1px 3px 1px rgba(60, 64, 67, 0.15);\n",
              "    fill: var(--button-hover-fill-color);\n",
              "  }\n",
              "\n",
              "  .colab-df-quickchart-complete:disabled,\n",
              "  .colab-df-quickchart-complete:disabled:hover {\n",
              "    background-color: var(--disabled-bg-color);\n",
              "    fill: var(--disabled-fill-color);\n",
              "    box-shadow: none;\n",
              "  }\n",
              "\n",
              "  .colab-df-spinner {\n",
              "    border: 2px solid var(--fill-color);\n",
              "    border-color: transparent;\n",
              "    border-bottom-color: var(--fill-color);\n",
              "    animation:\n",
              "      spin 1s steps(1) infinite;\n",
              "  }\n",
              "\n",
              "  @keyframes spin {\n",
              "    0% {\n",
              "      border-color: transparent;\n",
              "      border-bottom-color: var(--fill-color);\n",
              "      border-left-color: var(--fill-color);\n",
              "    }\n",
              "    20% {\n",
              "      border-color: transparent;\n",
              "      border-left-color: var(--fill-color);\n",
              "      border-top-color: var(--fill-color);\n",
              "    }\n",
              "    30% {\n",
              "      border-color: transparent;\n",
              "      border-left-color: var(--fill-color);\n",
              "      border-top-color: var(--fill-color);\n",
              "      border-right-color: var(--fill-color);\n",
              "    }\n",
              "    40% {\n",
              "      border-color: transparent;\n",
              "      border-right-color: var(--fill-color);\n",
              "      border-top-color: var(--fill-color);\n",
              "    }\n",
              "    60% {\n",
              "      border-color: transparent;\n",
              "      border-right-color: var(--fill-color);\n",
              "    }\n",
              "    80% {\n",
              "      border-color: transparent;\n",
              "      border-right-color: var(--fill-color);\n",
              "      border-bottom-color: var(--fill-color);\n",
              "    }\n",
              "    90% {\n",
              "      border-color: transparent;\n",
              "      border-bottom-color: var(--fill-color);\n",
              "    }\n",
              "  }\n",
              "</style>\n",
              "\n",
              "  <script>\n",
              "    async function quickchart(key) {\n",
              "      const quickchartButtonEl =\n",
              "        document.querySelector('#' + key + ' button');\n",
              "      quickchartButtonEl.disabled = true;  // To prevent multiple clicks.\n",
              "      quickchartButtonEl.classList.add('colab-df-spinner');\n",
              "      try {\n",
              "        const charts = await google.colab.kernel.invokeFunction(\n",
              "            'suggestCharts', [key], {});\n",
              "      } catch (error) {\n",
              "        console.error('Error during call to suggestCharts:', error);\n",
              "      }\n",
              "      quickchartButtonEl.classList.remove('colab-df-spinner');\n",
              "      quickchartButtonEl.classList.add('colab-df-quickchart-complete');\n",
              "    }\n",
              "    (() => {\n",
              "      let quickchartButtonEl =\n",
              "        document.querySelector('#df-3da07377-a344-4231-8f8f-4d913ff35a18 button');\n",
              "      quickchartButtonEl.style.display =\n",
              "        google.colab.kernel.accessAllowed ? 'block' : 'none';\n",
              "    })();\n",
              "  </script>\n",
              "</div>\n",
              "\n",
              "  <div id=\"id_3749e77a-a99d-414c-bcd8-467fa347863c\">\n",
              "    <style>\n",
              "      .colab-df-generate {\n",
              "        background-color: #E8F0FE;\n",
              "        border: none;\n",
              "        border-radius: 50%;\n",
              "        cursor: pointer;\n",
              "        display: none;\n",
              "        fill: #1967D2;\n",
              "        height: 32px;\n",
              "        padding: 0 0 0 0;\n",
              "        width: 32px;\n",
              "      }\n",
              "\n",
              "      .colab-df-generate:hover {\n",
              "        background-color: #E2EBFA;\n",
              "        box-shadow: 0px 1px 2px rgba(60, 64, 67, 0.3), 0px 1px 3px 1px rgba(60, 64, 67, 0.15);\n",
              "        fill: #174EA6;\n",
              "      }\n",
              "\n",
              "      [theme=dark] .colab-df-generate {\n",
              "        background-color: #3B4455;\n",
              "        fill: #D2E3FC;\n",
              "      }\n",
              "\n",
              "      [theme=dark] .colab-df-generate:hover {\n",
              "        background-color: #434B5C;\n",
              "        box-shadow: 0px 1px 3px 1px rgba(0, 0, 0, 0.15);\n",
              "        filter: drop-shadow(0px 1px 2px rgba(0, 0, 0, 0.3));\n",
              "        fill: #FFFFFF;\n",
              "      }\n",
              "    </style>\n",
              "    <button class=\"colab-df-generate\" onclick=\"generateWithVariable('tabla_cids')\"\n",
              "            title=\"Generate code using this dataframe.\"\n",
              "            style=\"display:none;\">\n",
              "\n",
              "  <svg xmlns=\"http://www.w3.org/2000/svg\" height=\"24px\"viewBox=\"0 0 24 24\"\n",
              "       width=\"24px\">\n",
              "    <path d=\"M7,19H8.4L18.45,9,17,7.55,7,17.6ZM5,21V16.75L18.45,3.32a2,2,0,0,1,2.83,0l1.4,1.43a1.91,1.91,0,0,1,.58,1.4,1.91,1.91,0,0,1-.58,1.4L9.25,21ZM18.45,9,17,7.55Zm-12,3A5.31,5.31,0,0,0,4.9,8.1,5.31,5.31,0,0,0,1,6.5,5.31,5.31,0,0,0,4.9,4.9,5.31,5.31,0,0,0,6.5,1,5.31,5.31,0,0,0,8.1,4.9,5.31,5.31,0,0,0,12,6.5,5.46,5.46,0,0,0,6.5,12Z\"/>\n",
              "  </svg>\n",
              "    </button>\n",
              "    <script>\n",
              "      (() => {\n",
              "      const buttonEl =\n",
              "        document.querySelector('#id_3749e77a-a99d-414c-bcd8-467fa347863c button.colab-df-generate');\n",
              "      buttonEl.style.display =\n",
              "        google.colab.kernel.accessAllowed ? 'block' : 'none';\n",
              "\n",
              "      buttonEl.onclick = () => {\n",
              "        google.colab.notebook.generateWithVariable('tabla_cids');\n",
              "      }\n",
              "      })();\n",
              "    </script>\n",
              "  </div>\n",
              "\n",
              "    </div>\n",
              "  </div>\n"
            ],
            "application/vnd.google.colaboratory.intrinsic+json": {
              "type": "dataframe",
              "variable_name": "tabla_cids",
              "summary": "{\n  \"name\": \"tabla_cids\",\n  \"rows\": 50,\n  \"fields\": [\n    {\n      \"column\": \"cid\",\n      \"properties\": {\n        \"dtype\": \"number\",\n        \"std\": 39228088,\n        \"min\": 49790979,\n        \"max\": 135870943,\n        \"num_unique_values\": 50,\n        \"samples\": [\n          135414027,\n          49795833,\n          51361441\n        ],\n        \"semantic_type\": \"\",\n        \"description\": \"\"\n      }\n    },\n    {\n      \"column\": \"moleculas\",\n      \"properties\": {\n        \"dtype\": \"object\",\n        \"semantic_type\": \"\",\n        \"description\": \"\"\n      }\n    }\n  ]\n}"
            }
          },
          "metadata": {},
          "execution_count": 19
        }
      ]
    },
    {
      "cell_type": "code",
      "source": [
        "# Recorrer la columna de CIDs y asignarle la fórmula molecular correspondiente.\n",
        "lista_formulas_moleculares = []\n",
        "for i in range(len(tabla_cids['moleculas'])):\n",
        "  # Para cada fila de la columna de moléculas de la tabla cids calculo su formula molecular\n",
        "  formula_molecular = tabla_cids['moleculas'][i][0].molecular_formula\n",
        "  #Agrego el parámetro calculado a la lista de fórmulas\n",
        "  lista_formulas_moleculares.append(formula_molecular)\n",
        "\n",
        "#Agregar a la tabla una columna con las moléculas\n",
        "tabla_cids['formula_molecular'] = lista_formulas_moleculares"
      ],
      "metadata": {
        "id": "gXvU8UzA9bEt"
      },
      "id": "gXvU8UzA9bEt",
      "execution_count": null,
      "outputs": []
    },
    {
      "cell_type": "code",
      "source": [
        "#Mostrar la tabla completa\n",
        "tabla_cids"
      ],
      "metadata": {
        "id": "IajLLt3T8xV0",
        "colab": {
          "base_uri": "https://localhost:8080/",
          "height": 1000
        },
        "outputId": "598277ca-3338-498f-a8fc-21621f6ea315"
      },
      "id": "IajLLt3T8xV0",
      "execution_count": null,
      "outputs": [
        {
          "output_type": "execute_result",
          "data": {
            "text/plain": [
              "          cid              moleculas formula_molecular\n",
              "0   135870943  [Compound(135870943)]       C24H24N4O2S\n",
              "1   135521560  [Compound(135521560)]       C14H21ClN4S\n",
              "2   135519870  [Compound(135519870)]      C15H23ClN4OS\n",
              "3   135517008  [Compound(135517008)]        C23H23N5O2\n",
              "4   135513616  [Compound(135513616)]       C20H21N5O2S\n",
              "5   135512421  [Compound(135512421)]     C20H20ClN5O2S\n",
              "6   135512388  [Compound(135512388)]        C22H18F2N4\n",
              "7   135501733  [Compound(135501733)]        C19H20N4O2\n",
              "8   135497985  [Compound(135497985)]        C21H22N4O2\n",
              "9   135481286  [Compound(135481286)]       C19H16ClNO2\n",
              "10  135476833  [Compound(135476833)]        C25H29N5O4\n",
              "11  135455077  [Compound(135455077)]      C24H30BrN3OS\n",
              "12  135438323  [Compound(135438323)]        C18H19FN4S\n",
              "13  135414027  [Compound(135414027)]     C18H17BrN4O2S\n",
              "14  135406743  [Compound(135406743)]        C15H14N4O2\n",
              "15  135401246  [Compound(135401246)]      C18H17FN4O2S\n",
              "16   85090241   [Compound(85090241)]         C24H26N4O\n",
              "17   56643206   [Compound(56643206)]      C17H13F3N2O3\n",
              "18   56643191   [Compound(56643191)]     C24H32F3N3O9S\n",
              "19   56642958   [Compound(56642958)]          C19H22O6\n",
              "20   54693585   [Compound(54693585)]        C19H20N4O3\n",
              "21   54692915   [Compound(54692915)]        C19H16N4O3\n",
              "22   54687736   [Compound(54687736)]        C23H26N2O3\n",
              "23   54683835   [Compound(54683835)]     C14H20Cl2N2O6\n",
              "24   53312847   [Compound(53312847)]      C27H28F3N3O3\n",
              "25   53299516   [Compound(53299516)]     C27H34F3N3O3S\n",
              "26   53299508   [Compound(53299508)]     C29H30F3N3O2S\n",
              "27   53299506   [Compound(53299506)]     C28H28F3N3O2S\n",
              "28   51361447   [Compound(51361447)]          C20H26O5\n",
              "29   51361446   [Compound(51361446)]          C25H34O7\n",
              "30   51361441   [Compound(51361441)]          C23H32O6\n",
              "31   51361440   [Compound(51361440)]          C21H30O5\n",
              "32   51361436   [Compound(51361436)]          C20H28O4\n",
              "33   51360490   [Compound(51360490)]       C56H94N6O13\n",
              "34   51360349   [Compound(51360349)]        C25H25N7OS\n",
              "35   51360344   [Compound(51360344)]         C29H31N7O\n",
              "36   51360321   [Compound(51360321)]        C30H29N7O2\n",
              "37   51360310   [Compound(51360310)]        C30H31N7O5\n",
              "38   51359983   [Compound(51359983)]      C20H17BrN2O2\n",
              "39   49795833   [Compound(49795833)]       C26H26N4O2S\n",
              "40   49795742   [Compound(49795742)]       C17H14FNO2S\n",
              "41   49792745   [Compound(49792745)]       C27H31N5O2S\n",
              "42   49792698   [Compound(49792698)]        C22H26N4OS\n",
              "43   49792581   [Compound(49792581)]       C19H22N4O2S\n",
              "44   49792547   [Compound(49792547)]        C24H26N4OS\n",
              "45   49792370   [Compound(49792370)]        C23H20N2O5\n",
              "46   49792323   [Compound(49792323)]         C23H28N4S\n",
              "47   49792139   [Compound(49792139)]       C25H24N4O2S\n",
              "48   49791133   [Compound(49791133)]        C20H28N4OS\n",
              "49   49790979   [Compound(49790979)]        C24H22N2O5"
            ],
            "text/html": [
              "\n",
              "  <div id=\"df-3e3eb14a-45ec-44ca-9f18-05d0cfd2d232\" class=\"colab-df-container\">\n",
              "    <div>\n",
              "<style scoped>\n",
              "    .dataframe tbody tr th:only-of-type {\n",
              "        vertical-align: middle;\n",
              "    }\n",
              "\n",
              "    .dataframe tbody tr th {\n",
              "        vertical-align: top;\n",
              "    }\n",
              "\n",
              "    .dataframe thead th {\n",
              "        text-align: right;\n",
              "    }\n",
              "</style>\n",
              "<table border=\"1\" class=\"dataframe\">\n",
              "  <thead>\n",
              "    <tr style=\"text-align: right;\">\n",
              "      <th></th>\n",
              "      <th>cid</th>\n",
              "      <th>moleculas</th>\n",
              "      <th>formula_molecular</th>\n",
              "    </tr>\n",
              "  </thead>\n",
              "  <tbody>\n",
              "    <tr>\n",
              "      <th>0</th>\n",
              "      <td>135870943</td>\n",
              "      <td>[Compound(135870943)]</td>\n",
              "      <td>C24H24N4O2S</td>\n",
              "    </tr>\n",
              "    <tr>\n",
              "      <th>1</th>\n",
              "      <td>135521560</td>\n",
              "      <td>[Compound(135521560)]</td>\n",
              "      <td>C14H21ClN4S</td>\n",
              "    </tr>\n",
              "    <tr>\n",
              "      <th>2</th>\n",
              "      <td>135519870</td>\n",
              "      <td>[Compound(135519870)]</td>\n",
              "      <td>C15H23ClN4OS</td>\n",
              "    </tr>\n",
              "    <tr>\n",
              "      <th>3</th>\n",
              "      <td>135517008</td>\n",
              "      <td>[Compound(135517008)]</td>\n",
              "      <td>C23H23N5O2</td>\n",
              "    </tr>\n",
              "    <tr>\n",
              "      <th>4</th>\n",
              "      <td>135513616</td>\n",
              "      <td>[Compound(135513616)]</td>\n",
              "      <td>C20H21N5O2S</td>\n",
              "    </tr>\n",
              "    <tr>\n",
              "      <th>5</th>\n",
              "      <td>135512421</td>\n",
              "      <td>[Compound(135512421)]</td>\n",
              "      <td>C20H20ClN5O2S</td>\n",
              "    </tr>\n",
              "    <tr>\n",
              "      <th>6</th>\n",
              "      <td>135512388</td>\n",
              "      <td>[Compound(135512388)]</td>\n",
              "      <td>C22H18F2N4</td>\n",
              "    </tr>\n",
              "    <tr>\n",
              "      <th>7</th>\n",
              "      <td>135501733</td>\n",
              "      <td>[Compound(135501733)]</td>\n",
              "      <td>C19H20N4O2</td>\n",
              "    </tr>\n",
              "    <tr>\n",
              "      <th>8</th>\n",
              "      <td>135497985</td>\n",
              "      <td>[Compound(135497985)]</td>\n",
              "      <td>C21H22N4O2</td>\n",
              "    </tr>\n",
              "    <tr>\n",
              "      <th>9</th>\n",
              "      <td>135481286</td>\n",
              "      <td>[Compound(135481286)]</td>\n",
              "      <td>C19H16ClNO2</td>\n",
              "    </tr>\n",
              "    <tr>\n",
              "      <th>10</th>\n",
              "      <td>135476833</td>\n",
              "      <td>[Compound(135476833)]</td>\n",
              "      <td>C25H29N5O4</td>\n",
              "    </tr>\n",
              "    <tr>\n",
              "      <th>11</th>\n",
              "      <td>135455077</td>\n",
              "      <td>[Compound(135455077)]</td>\n",
              "      <td>C24H30BrN3OS</td>\n",
              "    </tr>\n",
              "    <tr>\n",
              "      <th>12</th>\n",
              "      <td>135438323</td>\n",
              "      <td>[Compound(135438323)]</td>\n",
              "      <td>C18H19FN4S</td>\n",
              "    </tr>\n",
              "    <tr>\n",
              "      <th>13</th>\n",
              "      <td>135414027</td>\n",
              "      <td>[Compound(135414027)]</td>\n",
              "      <td>C18H17BrN4O2S</td>\n",
              "    </tr>\n",
              "    <tr>\n",
              "      <th>14</th>\n",
              "      <td>135406743</td>\n",
              "      <td>[Compound(135406743)]</td>\n",
              "      <td>C15H14N4O2</td>\n",
              "    </tr>\n",
              "    <tr>\n",
              "      <th>15</th>\n",
              "      <td>135401246</td>\n",
              "      <td>[Compound(135401246)]</td>\n",
              "      <td>C18H17FN4O2S</td>\n",
              "    </tr>\n",
              "    <tr>\n",
              "      <th>16</th>\n",
              "      <td>85090241</td>\n",
              "      <td>[Compound(85090241)]</td>\n",
              "      <td>C24H26N4O</td>\n",
              "    </tr>\n",
              "    <tr>\n",
              "      <th>17</th>\n",
              "      <td>56643206</td>\n",
              "      <td>[Compound(56643206)]</td>\n",
              "      <td>C17H13F3N2O3</td>\n",
              "    </tr>\n",
              "    <tr>\n",
              "      <th>18</th>\n",
              "      <td>56643191</td>\n",
              "      <td>[Compound(56643191)]</td>\n",
              "      <td>C24H32F3N3O9S</td>\n",
              "    </tr>\n",
              "    <tr>\n",
              "      <th>19</th>\n",
              "      <td>56642958</td>\n",
              "      <td>[Compound(56642958)]</td>\n",
              "      <td>C19H22O6</td>\n",
              "    </tr>\n",
              "    <tr>\n",
              "      <th>20</th>\n",
              "      <td>54693585</td>\n",
              "      <td>[Compound(54693585)]</td>\n",
              "      <td>C19H20N4O3</td>\n",
              "    </tr>\n",
              "    <tr>\n",
              "      <th>21</th>\n",
              "      <td>54692915</td>\n",
              "      <td>[Compound(54692915)]</td>\n",
              "      <td>C19H16N4O3</td>\n",
              "    </tr>\n",
              "    <tr>\n",
              "      <th>22</th>\n",
              "      <td>54687736</td>\n",
              "      <td>[Compound(54687736)]</td>\n",
              "      <td>C23H26N2O3</td>\n",
              "    </tr>\n",
              "    <tr>\n",
              "      <th>23</th>\n",
              "      <td>54683835</td>\n",
              "      <td>[Compound(54683835)]</td>\n",
              "      <td>C14H20Cl2N2O6</td>\n",
              "    </tr>\n",
              "    <tr>\n",
              "      <th>24</th>\n",
              "      <td>53312847</td>\n",
              "      <td>[Compound(53312847)]</td>\n",
              "      <td>C27H28F3N3O3</td>\n",
              "    </tr>\n",
              "    <tr>\n",
              "      <th>25</th>\n",
              "      <td>53299516</td>\n",
              "      <td>[Compound(53299516)]</td>\n",
              "      <td>C27H34F3N3O3S</td>\n",
              "    </tr>\n",
              "    <tr>\n",
              "      <th>26</th>\n",
              "      <td>53299508</td>\n",
              "      <td>[Compound(53299508)]</td>\n",
              "      <td>C29H30F3N3O2S</td>\n",
              "    </tr>\n",
              "    <tr>\n",
              "      <th>27</th>\n",
              "      <td>53299506</td>\n",
              "      <td>[Compound(53299506)]</td>\n",
              "      <td>C28H28F3N3O2S</td>\n",
              "    </tr>\n",
              "    <tr>\n",
              "      <th>28</th>\n",
              "      <td>51361447</td>\n",
              "      <td>[Compound(51361447)]</td>\n",
              "      <td>C20H26O5</td>\n",
              "    </tr>\n",
              "    <tr>\n",
              "      <th>29</th>\n",
              "      <td>51361446</td>\n",
              "      <td>[Compound(51361446)]</td>\n",
              "      <td>C25H34O7</td>\n",
              "    </tr>\n",
              "    <tr>\n",
              "      <th>30</th>\n",
              "      <td>51361441</td>\n",
              "      <td>[Compound(51361441)]</td>\n",
              "      <td>C23H32O6</td>\n",
              "    </tr>\n",
              "    <tr>\n",
              "      <th>31</th>\n",
              "      <td>51361440</td>\n",
              "      <td>[Compound(51361440)]</td>\n",
              "      <td>C21H30O5</td>\n",
              "    </tr>\n",
              "    <tr>\n",
              "      <th>32</th>\n",
              "      <td>51361436</td>\n",
              "      <td>[Compound(51361436)]</td>\n",
              "      <td>C20H28O4</td>\n",
              "    </tr>\n",
              "    <tr>\n",
              "      <th>33</th>\n",
              "      <td>51360490</td>\n",
              "      <td>[Compound(51360490)]</td>\n",
              "      <td>C56H94N6O13</td>\n",
              "    </tr>\n",
              "    <tr>\n",
              "      <th>34</th>\n",
              "      <td>51360349</td>\n",
              "      <td>[Compound(51360349)]</td>\n",
              "      <td>C25H25N7OS</td>\n",
              "    </tr>\n",
              "    <tr>\n",
              "      <th>35</th>\n",
              "      <td>51360344</td>\n",
              "      <td>[Compound(51360344)]</td>\n",
              "      <td>C29H31N7O</td>\n",
              "    </tr>\n",
              "    <tr>\n",
              "      <th>36</th>\n",
              "      <td>51360321</td>\n",
              "      <td>[Compound(51360321)]</td>\n",
              "      <td>C30H29N7O2</td>\n",
              "    </tr>\n",
              "    <tr>\n",
              "      <th>37</th>\n",
              "      <td>51360310</td>\n",
              "      <td>[Compound(51360310)]</td>\n",
              "      <td>C30H31N7O5</td>\n",
              "    </tr>\n",
              "    <tr>\n",
              "      <th>38</th>\n",
              "      <td>51359983</td>\n",
              "      <td>[Compound(51359983)]</td>\n",
              "      <td>C20H17BrN2O2</td>\n",
              "    </tr>\n",
              "    <tr>\n",
              "      <th>39</th>\n",
              "      <td>49795833</td>\n",
              "      <td>[Compound(49795833)]</td>\n",
              "      <td>C26H26N4O2S</td>\n",
              "    </tr>\n",
              "    <tr>\n",
              "      <th>40</th>\n",
              "      <td>49795742</td>\n",
              "      <td>[Compound(49795742)]</td>\n",
              "      <td>C17H14FNO2S</td>\n",
              "    </tr>\n",
              "    <tr>\n",
              "      <th>41</th>\n",
              "      <td>49792745</td>\n",
              "      <td>[Compound(49792745)]</td>\n",
              "      <td>C27H31N5O2S</td>\n",
              "    </tr>\n",
              "    <tr>\n",
              "      <th>42</th>\n",
              "      <td>49792698</td>\n",
              "      <td>[Compound(49792698)]</td>\n",
              "      <td>C22H26N4OS</td>\n",
              "    </tr>\n",
              "    <tr>\n",
              "      <th>43</th>\n",
              "      <td>49792581</td>\n",
              "      <td>[Compound(49792581)]</td>\n",
              "      <td>C19H22N4O2S</td>\n",
              "    </tr>\n",
              "    <tr>\n",
              "      <th>44</th>\n",
              "      <td>49792547</td>\n",
              "      <td>[Compound(49792547)]</td>\n",
              "      <td>C24H26N4OS</td>\n",
              "    </tr>\n",
              "    <tr>\n",
              "      <th>45</th>\n",
              "      <td>49792370</td>\n",
              "      <td>[Compound(49792370)]</td>\n",
              "      <td>C23H20N2O5</td>\n",
              "    </tr>\n",
              "    <tr>\n",
              "      <th>46</th>\n",
              "      <td>49792323</td>\n",
              "      <td>[Compound(49792323)]</td>\n",
              "      <td>C23H28N4S</td>\n",
              "    </tr>\n",
              "    <tr>\n",
              "      <th>47</th>\n",
              "      <td>49792139</td>\n",
              "      <td>[Compound(49792139)]</td>\n",
              "      <td>C25H24N4O2S</td>\n",
              "    </tr>\n",
              "    <tr>\n",
              "      <th>48</th>\n",
              "      <td>49791133</td>\n",
              "      <td>[Compound(49791133)]</td>\n",
              "      <td>C20H28N4OS</td>\n",
              "    </tr>\n",
              "    <tr>\n",
              "      <th>49</th>\n",
              "      <td>49790979</td>\n",
              "      <td>[Compound(49790979)]</td>\n",
              "      <td>C24H22N2O5</td>\n",
              "    </tr>\n",
              "  </tbody>\n",
              "</table>\n",
              "</div>\n",
              "    <div class=\"colab-df-buttons\">\n",
              "\n",
              "  <div class=\"colab-df-container\">\n",
              "    <button class=\"colab-df-convert\" onclick=\"convertToInteractive('df-3e3eb14a-45ec-44ca-9f18-05d0cfd2d232')\"\n",
              "            title=\"Convert this dataframe to an interactive table.\"\n",
              "            style=\"display:none;\">\n",
              "\n",
              "  <svg xmlns=\"http://www.w3.org/2000/svg\" height=\"24px\" viewBox=\"0 -960 960 960\">\n",
              "    <path d=\"M120-120v-720h720v720H120Zm60-500h600v-160H180v160Zm220 220h160v-160H400v160Zm0 220h160v-160H400v160ZM180-400h160v-160H180v160Zm440 0h160v-160H620v160ZM180-180h160v-160H180v160Zm440 0h160v-160H620v160Z\"/>\n",
              "  </svg>\n",
              "    </button>\n",
              "\n",
              "  <style>\n",
              "    .colab-df-container {\n",
              "      display:flex;\n",
              "      gap: 12px;\n",
              "    }\n",
              "\n",
              "    .colab-df-convert {\n",
              "      background-color: #E8F0FE;\n",
              "      border: none;\n",
              "      border-radius: 50%;\n",
              "      cursor: pointer;\n",
              "      display: none;\n",
              "      fill: #1967D2;\n",
              "      height: 32px;\n",
              "      padding: 0 0 0 0;\n",
              "      width: 32px;\n",
              "    }\n",
              "\n",
              "    .colab-df-convert:hover {\n",
              "      background-color: #E2EBFA;\n",
              "      box-shadow: 0px 1px 2px rgba(60, 64, 67, 0.3), 0px 1px 3px 1px rgba(60, 64, 67, 0.15);\n",
              "      fill: #174EA6;\n",
              "    }\n",
              "\n",
              "    .colab-df-buttons div {\n",
              "      margin-bottom: 4px;\n",
              "    }\n",
              "\n",
              "    [theme=dark] .colab-df-convert {\n",
              "      background-color: #3B4455;\n",
              "      fill: #D2E3FC;\n",
              "    }\n",
              "\n",
              "    [theme=dark] .colab-df-convert:hover {\n",
              "      background-color: #434B5C;\n",
              "      box-shadow: 0px 1px 3px 1px rgba(0, 0, 0, 0.15);\n",
              "      filter: drop-shadow(0px 1px 2px rgba(0, 0, 0, 0.3));\n",
              "      fill: #FFFFFF;\n",
              "    }\n",
              "  </style>\n",
              "\n",
              "    <script>\n",
              "      const buttonEl =\n",
              "        document.querySelector('#df-3e3eb14a-45ec-44ca-9f18-05d0cfd2d232 button.colab-df-convert');\n",
              "      buttonEl.style.display =\n",
              "        google.colab.kernel.accessAllowed ? 'block' : 'none';\n",
              "\n",
              "      async function convertToInteractive(key) {\n",
              "        const element = document.querySelector('#df-3e3eb14a-45ec-44ca-9f18-05d0cfd2d232');\n",
              "        const dataTable =\n",
              "          await google.colab.kernel.invokeFunction('convertToInteractive',\n",
              "                                                    [key], {});\n",
              "        if (!dataTable) return;\n",
              "\n",
              "        const docLinkHtml = 'Like what you see? Visit the ' +\n",
              "          '<a target=\"_blank\" href=https://colab.research.google.com/notebooks/data_table.ipynb>data table notebook</a>'\n",
              "          + ' to learn more about interactive tables.';\n",
              "        element.innerHTML = '';\n",
              "        dataTable['output_type'] = 'display_data';\n",
              "        await google.colab.output.renderOutput(dataTable, element);\n",
              "        const docLink = document.createElement('div');\n",
              "        docLink.innerHTML = docLinkHtml;\n",
              "        element.appendChild(docLink);\n",
              "      }\n",
              "    </script>\n",
              "  </div>\n",
              "\n",
              "\n",
              "<div id=\"df-39f6971b-a296-4691-9e7b-bd921e421a48\">\n",
              "  <button class=\"colab-df-quickchart\" onclick=\"quickchart('df-39f6971b-a296-4691-9e7b-bd921e421a48')\"\n",
              "            title=\"Suggest charts\"\n",
              "            style=\"display:none;\">\n",
              "\n",
              "<svg xmlns=\"http://www.w3.org/2000/svg\" height=\"24px\"viewBox=\"0 0 24 24\"\n",
              "     width=\"24px\">\n",
              "    <g>\n",
              "        <path d=\"M19 3H5c-1.1 0-2 .9-2 2v14c0 1.1.9 2 2 2h14c1.1 0 2-.9 2-2V5c0-1.1-.9-2-2-2zM9 17H7v-7h2v7zm4 0h-2V7h2v10zm4 0h-2v-4h2v4z\"/>\n",
              "    </g>\n",
              "</svg>\n",
              "  </button>\n",
              "\n",
              "<style>\n",
              "  .colab-df-quickchart {\n",
              "      --bg-color: #E8F0FE;\n",
              "      --fill-color: #1967D2;\n",
              "      --hover-bg-color: #E2EBFA;\n",
              "      --hover-fill-color: #174EA6;\n",
              "      --disabled-fill-color: #AAA;\n",
              "      --disabled-bg-color: #DDD;\n",
              "  }\n",
              "\n",
              "  [theme=dark] .colab-df-quickchart {\n",
              "      --bg-color: #3B4455;\n",
              "      --fill-color: #D2E3FC;\n",
              "      --hover-bg-color: #434B5C;\n",
              "      --hover-fill-color: #FFFFFF;\n",
              "      --disabled-bg-color: #3B4455;\n",
              "      --disabled-fill-color: #666;\n",
              "  }\n",
              "\n",
              "  .colab-df-quickchart {\n",
              "    background-color: var(--bg-color);\n",
              "    border: none;\n",
              "    border-radius: 50%;\n",
              "    cursor: pointer;\n",
              "    display: none;\n",
              "    fill: var(--fill-color);\n",
              "    height: 32px;\n",
              "    padding: 0;\n",
              "    width: 32px;\n",
              "  }\n",
              "\n",
              "  .colab-df-quickchart:hover {\n",
              "    background-color: var(--hover-bg-color);\n",
              "    box-shadow: 0 1px 2px rgba(60, 64, 67, 0.3), 0 1px 3px 1px rgba(60, 64, 67, 0.15);\n",
              "    fill: var(--button-hover-fill-color);\n",
              "  }\n",
              "\n",
              "  .colab-df-quickchart-complete:disabled,\n",
              "  .colab-df-quickchart-complete:disabled:hover {\n",
              "    background-color: var(--disabled-bg-color);\n",
              "    fill: var(--disabled-fill-color);\n",
              "    box-shadow: none;\n",
              "  }\n",
              "\n",
              "  .colab-df-spinner {\n",
              "    border: 2px solid var(--fill-color);\n",
              "    border-color: transparent;\n",
              "    border-bottom-color: var(--fill-color);\n",
              "    animation:\n",
              "      spin 1s steps(1) infinite;\n",
              "  }\n",
              "\n",
              "  @keyframes spin {\n",
              "    0% {\n",
              "      border-color: transparent;\n",
              "      border-bottom-color: var(--fill-color);\n",
              "      border-left-color: var(--fill-color);\n",
              "    }\n",
              "    20% {\n",
              "      border-color: transparent;\n",
              "      border-left-color: var(--fill-color);\n",
              "      border-top-color: var(--fill-color);\n",
              "    }\n",
              "    30% {\n",
              "      border-color: transparent;\n",
              "      border-left-color: var(--fill-color);\n",
              "      border-top-color: var(--fill-color);\n",
              "      border-right-color: var(--fill-color);\n",
              "    }\n",
              "    40% {\n",
              "      border-color: transparent;\n",
              "      border-right-color: var(--fill-color);\n",
              "      border-top-color: var(--fill-color);\n",
              "    }\n",
              "    60% {\n",
              "      border-color: transparent;\n",
              "      border-right-color: var(--fill-color);\n",
              "    }\n",
              "    80% {\n",
              "      border-color: transparent;\n",
              "      border-right-color: var(--fill-color);\n",
              "      border-bottom-color: var(--fill-color);\n",
              "    }\n",
              "    90% {\n",
              "      border-color: transparent;\n",
              "      border-bottom-color: var(--fill-color);\n",
              "    }\n",
              "  }\n",
              "</style>\n",
              "\n",
              "  <script>\n",
              "    async function quickchart(key) {\n",
              "      const quickchartButtonEl =\n",
              "        document.querySelector('#' + key + ' button');\n",
              "      quickchartButtonEl.disabled = true;  // To prevent multiple clicks.\n",
              "      quickchartButtonEl.classList.add('colab-df-spinner');\n",
              "      try {\n",
              "        const charts = await google.colab.kernel.invokeFunction(\n",
              "            'suggestCharts', [key], {});\n",
              "      } catch (error) {\n",
              "        console.error('Error during call to suggestCharts:', error);\n",
              "      }\n",
              "      quickchartButtonEl.classList.remove('colab-df-spinner');\n",
              "      quickchartButtonEl.classList.add('colab-df-quickchart-complete');\n",
              "    }\n",
              "    (() => {\n",
              "      let quickchartButtonEl =\n",
              "        document.querySelector('#df-39f6971b-a296-4691-9e7b-bd921e421a48 button');\n",
              "      quickchartButtonEl.style.display =\n",
              "        google.colab.kernel.accessAllowed ? 'block' : 'none';\n",
              "    })();\n",
              "  </script>\n",
              "</div>\n",
              "\n",
              "  <div id=\"id_3217aeb1-b909-46fb-853c-0d4918ebc731\">\n",
              "    <style>\n",
              "      .colab-df-generate {\n",
              "        background-color: #E8F0FE;\n",
              "        border: none;\n",
              "        border-radius: 50%;\n",
              "        cursor: pointer;\n",
              "        display: none;\n",
              "        fill: #1967D2;\n",
              "        height: 32px;\n",
              "        padding: 0 0 0 0;\n",
              "        width: 32px;\n",
              "      }\n",
              "\n",
              "      .colab-df-generate:hover {\n",
              "        background-color: #E2EBFA;\n",
              "        box-shadow: 0px 1px 2px rgba(60, 64, 67, 0.3), 0px 1px 3px 1px rgba(60, 64, 67, 0.15);\n",
              "        fill: #174EA6;\n",
              "      }\n",
              "\n",
              "      [theme=dark] .colab-df-generate {\n",
              "        background-color: #3B4455;\n",
              "        fill: #D2E3FC;\n",
              "      }\n",
              "\n",
              "      [theme=dark] .colab-df-generate:hover {\n",
              "        background-color: #434B5C;\n",
              "        box-shadow: 0px 1px 3px 1px rgba(0, 0, 0, 0.15);\n",
              "        filter: drop-shadow(0px 1px 2px rgba(0, 0, 0, 0.3));\n",
              "        fill: #FFFFFF;\n",
              "      }\n",
              "    </style>\n",
              "    <button class=\"colab-df-generate\" onclick=\"generateWithVariable('tabla_cids')\"\n",
              "            title=\"Generate code using this dataframe.\"\n",
              "            style=\"display:none;\">\n",
              "\n",
              "  <svg xmlns=\"http://www.w3.org/2000/svg\" height=\"24px\"viewBox=\"0 0 24 24\"\n",
              "       width=\"24px\">\n",
              "    <path d=\"M7,19H8.4L18.45,9,17,7.55,7,17.6ZM5,21V16.75L18.45,3.32a2,2,0,0,1,2.83,0l1.4,1.43a1.91,1.91,0,0,1,.58,1.4,1.91,1.91,0,0,1-.58,1.4L9.25,21ZM18.45,9,17,7.55Zm-12,3A5.31,5.31,0,0,0,4.9,8.1,5.31,5.31,0,0,0,1,6.5,5.31,5.31,0,0,0,4.9,4.9,5.31,5.31,0,0,0,6.5,1,5.31,5.31,0,0,0,8.1,4.9,5.31,5.31,0,0,0,12,6.5,5.46,5.46,0,0,0,6.5,12Z\"/>\n",
              "  </svg>\n",
              "    </button>\n",
              "    <script>\n",
              "      (() => {\n",
              "      const buttonEl =\n",
              "        document.querySelector('#id_3217aeb1-b909-46fb-853c-0d4918ebc731 button.colab-df-generate');\n",
              "      buttonEl.style.display =\n",
              "        google.colab.kernel.accessAllowed ? 'block' : 'none';\n",
              "\n",
              "      buttonEl.onclick = () => {\n",
              "        google.colab.notebook.generateWithVariable('tabla_cids');\n",
              "      }\n",
              "      })();\n",
              "    </script>\n",
              "  </div>\n",
              "\n",
              "    </div>\n",
              "  </div>\n"
            ],
            "application/vnd.google.colaboratory.intrinsic+json": {
              "type": "dataframe",
              "variable_name": "tabla_cids",
              "summary": "{\n  \"name\": \"tabla_cids\",\n  \"rows\": 50,\n  \"fields\": [\n    {\n      \"column\": \"cid\",\n      \"properties\": {\n        \"dtype\": \"number\",\n        \"std\": 39228088,\n        \"min\": 49790979,\n        \"max\": 135870943,\n        \"num_unique_values\": 50,\n        \"samples\": [\n          135414027,\n          49795833,\n          51361441\n        ],\n        \"semantic_type\": \"\",\n        \"description\": \"\"\n      }\n    },\n    {\n      \"column\": \"moleculas\",\n      \"properties\": {\n        \"dtype\": \"object\",\n        \"semantic_type\": \"\",\n        \"description\": \"\"\n      }\n    },\n    {\n      \"column\": \"formula_molecular\",\n      \"properties\": {\n        \"dtype\": \"string\",\n        \"num_unique_values\": 50,\n        \"samples\": [\n          \"C18H17BrN4O2S\",\n          \"C26H26N4O2S\",\n          \"C23H32O6\"\n        ],\n        \"semantic_type\": \"\",\n        \"description\": \"\"\n      }\n    }\n  ]\n}"
            }
          },
          "metadata": {},
          "execution_count": 21
        }
      ]
    },
    {
      "cell_type": "markdown",
      "source": [
        "### Actividad N°1 usando PubChem:\n",
        "\n",
        "💭 Agrega una columan que indique el peso molecular\n",
        "\n",
        "❗ Escribí el comando en la celda que se encuentra debajo\n",
        "\n",
        "👇"
      ],
      "metadata": {
        "id": "FzTrKqsNBCdj"
      },
      "id": "FzTrKqsNBCdj"
    },
    {
      "cell_type": "code",
      "source": [],
      "metadata": {
        "id": "9FZ8Jg795G4b"
      },
      "id": "9FZ8Jg795G4b",
      "execution_count": null,
      "outputs": []
    },
    {
      "cell_type": "markdown",
      "source": [
        "\n",
        "Si quieren profundizar sobre las aplicaciones de esta librería, pueden ingresar a este link: https://pubchempy.readthedocs.io/en/latest/"
      ],
      "metadata": {
        "id": "UrIshx_0uq0S"
      },
      "id": "UrIshx_0uq0S"
    },
    {
      "cell_type": "markdown",
      "source": [
        "---\n",
        "## ChEMBL"
      ],
      "metadata": {
        "id": "RqKDRFozcctt"
      },
      "id": "RqKDRFozcctt"
    },
    {
      "cell_type": "markdown",
      "source": [
        "[ChEMBL](https://www.ebi.ac.uk/chembl/) es una base de datos curada manualmente de moléculas bioactivas del Laboratorio Europeo de Biología Molecular (EMBL).\n"
      ],
      "metadata": {
        "id": "iwXI1ED51Ugx"
      },
      "id": "iwXI1ED51Ugx"
    },
    {
      "cell_type": "markdown",
      "source": [
        "Para trabajar con esta base de datos\n",
        "vamos a usar la libreria `chembl_webresource_client`. De esa librería la importamos las funciones relacionadas al ingreso a la base de datos como `new_client`."
      ],
      "metadata": {
        "id": "lrqLzk6E1cH8"
      },
      "id": "lrqLzk6E1cH8"
    },
    {
      "cell_type": "markdown",
      "source": [
        "Esta libreria nos permite acceder a la información disponible en la base de datos.\n",
        "\n",
        "Podemos ver los recursos disponibles usando el comando que se encuentra a continuación:"
      ],
      "metadata": {
        "id": "exqe5V0qVaJa"
      },
      "id": "exqe5V0qVaJa"
    },
    {
      "cell_type": "code",
      "source": [
        "# Importar libreria de ChEMBL\n",
        "from chembl_webresource_client.new_client import new_client\n",
        "\n",
        "#Mostrar los recursos disponibles de la libreria chembl_webresource_client.new_client\n",
        "available_resources = [resource for resource in dir(new_client) if not resource.startswith('_')]\n",
        "print(available_resources)"
      ],
      "metadata": {
        "id": "rAAVnU1nTebi",
        "colab": {
          "base_uri": "https://localhost:8080/"
        },
        "outputId": "a0c22520-e80e-4cc8-9843-b5a32fc2d20e"
      },
      "id": "rAAVnU1nTebi",
      "execution_count": null,
      "outputs": [
        {
          "output_type": "stream",
          "name": "stdout",
          "text": [
            "['activity', 'activity_supplementary_data_by_activity', 'assay', 'assay_class', 'atc_class', 'binding_site', 'biotherapeutic', 'cell_line', 'chembl_id_lookup', 'chembl_release', 'compound_record', 'compound_structural_alert', 'description', 'document', 'document_similarity', 'drug', 'drug_indication', 'drug_warning', 'go_slim', 'image', 'mechanism', 'metabolism', 'molecule', 'molecule_form', 'official', 'organism', 'protein_classification', 'similarity', 'source', 'substructure', 'target', 'target_component', 'target_relation', 'tissue', 'xref_source']\n"
          ]
        }
      ]
    },
    {
      "cell_type": "markdown",
      "source": [
        "El diseño del cliente se basa en Django QuerySet (https://docs.djangoproject.com/en/1.11/ref/models/querysets) y admite los tipos de búsqueda más importantes:\n",
        "\n",
        "*   exact\n",
        "*   iexact\n",
        "*   contains\n",
        "*   icontains\n",
        "*   in\n",
        "*   gt\n",
        "*   gte\n",
        "*   lt\n",
        "*   lte\n",
        "*   startswith\n",
        "*   istartswith\n",
        "*   endswith\n",
        "*   iendswith\n",
        "*   range\n",
        "*   isnull\n",
        "*   regex\n",
        "*   iregex"
      ],
      "metadata": {
        "id": "A9w6mye1XVKM"
      },
      "id": "A9w6mye1XVKM"
    },
    {
      "cell_type": "markdown",
      "source": [
        "Asi como hicimos con PubChem, podemos buscar moléculas por su nombre.\n",
        "\n",
        "Para hacerlo, tenemos que llamar a la libreria `.new_client()`. Le vamos a pedir que nos devuelva las moléculas, usando `.molecule()`, que coincidan con el nombre \"aspirin\" usando el comando `.filter()` y parámetro `pref_name__iexact`."
      ],
      "metadata": {
        "id": "YcyujshaXifS"
      },
      "id": "YcyujshaXifS"
    },
    {
      "cell_type": "code",
      "source": [
        "#Buscar la información de las moléculas que tienen como nombre \"Aspirin\"\n",
        "aspirina = new_client.molecule.filter(pref_name__iexact='aspirin')"
      ],
      "metadata": {
        "id": "D_oORS3FcFLA"
      },
      "id": "D_oORS3FcFLA",
      "execution_count": null,
      "outputs": []
    },
    {
      "cell_type": "code",
      "source": [
        "#Imprimir las moléculas que tienen como nombre \"Aspirin\"\n",
        "print(len(aspirina))\n",
        "print(aspirina[0])"
      ],
      "metadata": {
        "id": "VnMhG_tdXvE6",
        "colab": {
          "base_uri": "https://localhost:8080/"
        },
        "outputId": "3b228f3b-0939-410b-dc66-491f627cb71f"
      },
      "id": "VnMhG_tdXvE6",
      "execution_count": null,
      "outputs": [
        {
          "output_type": "stream",
          "name": "stdout",
          "text": [
            "1\n",
            "{'atc_classifications': ['B01AC06', 'N02BA01', 'N02BA51', 'A01AD05', 'N02BA71'], 'availability_type': 2, 'biotherapeutic': None, 'black_box_warning': 0, 'chebi_par_id': 15365, 'chemical_probe': 0, 'chirality': 2, 'cross_references': [{'xref_id': 'aspirin', 'xref_name': 'aspirin', 'xref_src': 'DailyMed'}], 'dosed_ingredient': True, 'first_approval': 1950, 'first_in_class': 0, 'helm_notation': None, 'indication_class': 'Analgesic; Antirheumatic; Antipyretic', 'inorganic_flag': 0, 'max_phase': '4.0', 'molecule_chembl_id': 'CHEMBL25', 'molecule_hierarchy': {'active_chembl_id': 'CHEMBL25', 'molecule_chembl_id': 'CHEMBL25', 'parent_chembl_id': 'CHEMBL25'}, 'molecule_properties': {'alogp': '1.31', 'aromatic_rings': 1, 'cx_logd': '-2.16', 'cx_logp': '1.24', 'cx_most_apka': '3.41', 'cx_most_bpka': None, 'full_molformula': 'C9H8O4', 'full_mwt': '180.16', 'hba': 3, 'hba_lipinski': 4, 'hbd': 1, 'hbd_lipinski': 1, 'heavy_atoms': 13, 'molecular_species': 'ACID', 'mw_freebase': '180.16', 'mw_monoisotopic': '180.0423', 'np_likeness_score': '0.12', 'num_lipinski_ro5_violations': 0, 'num_ro5_violations': 0, 'psa': '63.60', 'qed_weighted': '0.55', 'ro3_pass': 'N', 'rtb': 2}, 'molecule_structures': {'canonical_smiles': 'CC(=O)Oc1ccccc1C(=O)O', 'molfile': '\\n     RDKit          2D\\n\\n 13 13  0  0  0  0  0  0  0  0999 V2000\\n   19.8052   -4.2758    0.0000 C   0  0  0  0  0  0  0  0  0  0  0  0\\n   19.8040   -5.0953    0.0000 C   0  0  0  0  0  0  0  0  0  0  0  0\\n   20.5121   -5.5043    0.0000 C   0  0  0  0  0  0  0  0  0  0  0  0\\n   21.2217   -5.0948    0.0000 C   0  0  0  0  0  0  0  0  0  0  0  0\\n   21.2189   -4.2722    0.0000 C   0  0  0  0  0  0  0  0  0  0  0  0\\n   20.5103   -3.8669    0.0000 C   0  0  0  0  0  0  0  0  0  0  0  0\\n   20.5078   -3.0497    0.0000 C   0  0  0  0  0  0  0  0  0  0  0  0\\n   21.2143   -2.6390    0.0000 O   0  0  0  0  0  0  0  0  0  0  0  0\\n   19.7989   -2.6432    0.0000 O   0  0  0  0  0  0  0  0  0  0  0  0\\n   21.9250   -3.8609    0.0000 O   0  0  0  0  0  0  0  0  0  0  0  0\\n   22.6343   -4.2668    0.0000 C   0  0  0  0  0  0  0  0  0  0  0  0\\n   23.3405   -3.8556    0.0000 C   0  0  0  0  0  0  0  0  0  0  0  0\\n   22.6374   -5.0840    0.0000 O   0  0  0  0  0  0  0  0  0  0  0  0\\n  1  2  2  0\\n  2  3  1  0\\n  3  4  2  0\\n  4  5  1  0\\n  5  6  2  0\\n  6  1  1  0\\n  6  7  1  0\\n  7  8  1  0\\n  7  9  2  0\\n  5 10  1  0\\n 10 11  1  0\\n 11 12  1  0\\n 11 13  2  0\\nM  END\\n> <chembl_id>\\nCHEMBL25\\n\\n> <chembl_pref_name>\\nASPIRIN', 'standard_inchi': 'InChI=1S/C9H8O4/c1-6(10)13-8-5-3-2-4-7(8)9(11)12/h2-5H,1H3,(H,11,12)', 'standard_inchi_key': 'BSYNRYMUTXBXSQ-UHFFFAOYSA-N'}, 'molecule_synonyms': [{'molecule_synonym': '8-hour bayer', 'syn_type': 'TRADE_NAME', 'synonyms': '8-HOUR BAYER'}, {'molecule_synonym': 'Acetosalic Acid', 'syn_type': 'TRADE_NAME', 'synonyms': 'Acetosalic Acid'}, {'molecule_synonym': 'Acetylsalic acid', 'syn_type': 'TRADE_NAME', 'synonyms': 'ACETYLSALIC ACID'}, {'molecule_synonym': 'Acetyl salicylate', 'syn_type': 'OTHER', 'synonyms': 'ACETYL SALICYLATE'}, {'molecule_synonym': 'Acetylsalicylic Acid', 'syn_type': 'INN', 'synonyms': 'Acetylsalicylic Acid'}, {'molecule_synonym': 'Acetylsalicylic Acid', 'syn_type': 'TRADE_NAME', 'synonyms': 'Acetylsalicylic Acid'}, {'molecule_synonym': 'Acetylsalicylic acid', 'syn_type': 'ATC', 'synonyms': 'ACETYLSALICYLIC ACID'}, {'molecule_synonym': 'Acetylsalicylic acid', 'syn_type': 'OTHER', 'synonyms': 'ACETYLSALICYLIC ACID'}, {'molecule_synonym': 'Acetylsalicylic acid (who-ip)', 'syn_type': 'OTHER', 'synonyms': 'ACETYLSALICYLIC ACID (WHO-IP)'}, {'molecule_synonym': 'Acetylsalicylicum acidum', 'syn_type': 'OTHER', 'synonyms': 'ACETYLSALICYLICUM ACIDUM'}, {'molecule_synonym': 'Acidum acetylsalicylicum', 'syn_type': 'OTHER', 'synonyms': 'ACIDUM ACETYLSALICYLICUM'}, {'molecule_synonym': 'Acidum acetylsalicylicum (who-ip)', 'syn_type': 'OTHER', 'synonyms': 'ACIDUM ACETYLSALICYLICUM (WHO-IP)'}, {'molecule_synonym': 'Alka rapid', 'syn_type': 'TRADE_NAME', 'synonyms': 'ALKA RAPID'}, {'molecule_synonym': 'Anadin all night', 'syn_type': 'TRADE_NAME', 'synonyms': 'ANADIN ALL NIGHT'}, {'molecule_synonym': 'Angettes 75', 'syn_type': 'TRADE_NAME', 'synonyms': 'ANGETTES 75'}, {'molecule_synonym': 'Aspirin', 'syn_type': 'USAN', 'synonyms': 'Aspirin'}, {'molecule_synonym': 'Aspirin', 'syn_type': 'BAN', 'synonyms': 'ASPIRIN'}, {'molecule_synonym': 'Aspirin', 'syn_type': 'BNF', 'synonyms': 'ASPIRIN'}, {'molecule_synonym': 'Aspirin', 'syn_type': 'FDA', 'synonyms': 'ASPIRIN'}, {'molecule_synonym': 'Aspirin', 'syn_type': 'JAN', 'synonyms': 'ASPIRIN'}, {'molecule_synonym': 'Aspirin', 'syn_type': 'MERCK_INDEX', 'synonyms': 'ASPIRIN'}, {'molecule_synonym': 'Aspirin', 'syn_type': 'OTHER', 'synonyms': 'ASPIRIN'}, {'molecule_synonym': 'Aspirin', 'syn_type': 'TRADE_NAME', 'synonyms': 'ASPIRIN'}, {'molecule_synonym': 'Aspirin', 'syn_type': 'USP', 'synonyms': 'ASPIRIN'}, {'molecule_synonym': 'Aspro clr', 'syn_type': 'TRADE_NAME', 'synonyms': 'ASPRO CLR'}, {'molecule_synonym': 'BAY1019036', 'syn_type': 'RESEARCH_CODE', 'synonyms': 'BAY1019036'}, {'molecule_synonym': 'Bayer extra strength aspirin for migraine pain', 'syn_type': 'TRADE_NAME', 'synonyms': 'BAYER EXTRA STRENGTH ASPIRIN FOR MIGRAINE PAIN'}, {'molecule_synonym': 'Benzoic acid, 2-(acetyloxy)-', 'syn_type': 'OTHER', 'synonyms': 'BENZOIC ACID, 2-(ACETYLOXY)-'}, {'molecule_synonym': 'Danamep', 'syn_type': 'TRADE_NAME', 'synonyms': 'DANAMEP'}, {'molecule_synonym': 'Disprin cv', 'syn_type': 'TRADE_NAME', 'synonyms': 'DISPRIN CV'}, {'molecule_synonym': 'Disprin direct', 'syn_type': 'TRADE_NAME', 'synonyms': 'DISPRIN DIRECT'}, {'molecule_synonym': 'Durlaza', 'syn_type': 'TRADE_NAME', 'synonyms': 'DURLAZA'}, {'molecule_synonym': 'Ecotrin', 'syn_type': 'TRADE_NAME', 'synonyms': 'Ecotrin'}, {'molecule_synonym': 'Enprin', 'syn_type': 'TRADE_NAME', 'synonyms': 'ENPRIN'}, {'molecule_synonym': 'Equi-Prin', 'syn_type': 'TRADE_NAME', 'synonyms': 'Equi-Prin'}, {'molecule_synonym': 'Gencardia', 'syn_type': 'TRADE_NAME', 'synonyms': 'GENCARDIA'}, {'molecule_synonym': 'Levius', 'syn_type': 'TRADE_NAME', 'synonyms': 'LEVIUS'}, {'molecule_synonym': 'Max strgh aspro clr', 'syn_type': 'TRADE_NAME', 'synonyms': 'MAX STRGH ASPRO CLR'}, {'molecule_synonym': 'Measurin', 'syn_type': 'TRADE_NAME', 'synonyms': 'MEASURIN'}, {'molecule_synonym': 'Micropirin ec', 'syn_type': 'TRADE_NAME', 'synonyms': 'MICROPIRIN EC'}, {'molecule_synonym': 'NSC-27223', 'syn_type': 'RESEARCH_CODE', 'synonyms': 'NSC-27223'}, {'molecule_synonym': 'NSC-406186', 'syn_type': 'RESEARCH_CODE', 'synonyms': 'NSC-406186'}, {'molecule_synonym': 'Nu-seals 300', 'syn_type': 'TRADE_NAME', 'synonyms': 'NU-SEALS 300'}, {'molecule_synonym': 'Nu-seals 600', 'syn_type': 'TRADE_NAME', 'synonyms': 'NU-SEALS 600'}, {'molecule_synonym': 'Nu-seals 75', 'syn_type': 'TRADE_NAME', 'synonyms': 'NU-SEALS 75'}, {'molecule_synonym': 'Nu-seals cardio 75', 'syn_type': 'TRADE_NAME', 'synonyms': 'NU-SEALS CARDIO 75'}, {'molecule_synonym': 'Paynocil', 'syn_type': 'TRADE_NAME', 'synonyms': 'PAYNOCIL'}, {'molecule_synonym': 'Platet', 'syn_type': 'TRADE_NAME', 'synonyms': 'PLATET'}, {'molecule_synonym': 'Platet 300', 'syn_type': 'TRADE_NAME', 'synonyms': 'PLATET 300'}, {'molecule_synonym': 'Postmi 300', 'syn_type': 'TRADE_NAME', 'synonyms': 'POSTMI 300'}, {'molecule_synonym': 'Postmi 75', 'syn_type': 'TRADE_NAME', 'synonyms': 'POSTMI 75'}, {'molecule_synonym': 'Salicylic Acid Acetate', 'syn_type': 'TRADE_NAME', 'synonyms': 'Salicylic Acid Acetate'}, {'molecule_synonym': 'Vazalore', 'syn_type': 'TRADE_NAME', 'synonyms': 'VAZALORE'}], 'molecule_type': 'Small molecule', 'natural_product': 1, 'oral': True, 'orphan': 0, 'parenteral': False, 'polymer_flag': 0, 'pref_name': 'ASPIRIN', 'prodrug': 0, 'structure_type': 'MOL', 'therapeutic_flag': True, 'topical': False, 'usan_stem': None, 'usan_stem_definition': None, 'usan_substem': None, 'usan_year': None, 'withdrawn_flag': False}\n"
          ]
        }
      ]
    },
    {
      "cell_type": "markdown",
      "source": [
        "Tamién se puede hacer la búsqueda de Aspirin con el ChEMBL ID es CHEMBL25"
      ],
      "metadata": {
        "id": "KOUDv9r0YBoK"
      },
      "id": "KOUDv9r0YBoK"
    },
    {
      "cell_type": "code",
      "source": [
        "#Buscar la información de las moléculas que tienen como ChEMBL ID \"CHEMBL25\"\n",
        "aspirina = new_client.molecule.filter(chembl_id='CHEMBL25')"
      ],
      "metadata": {
        "id": "OgMv6MGDYTGE"
      },
      "id": "OgMv6MGDYTGE",
      "execution_count": null,
      "outputs": []
    },
    {
      "cell_type": "code",
      "source": [
        "#Imrprimir la información obtenida para \"Aspirin\"\n",
        "aspirina"
      ],
      "metadata": {
        "id": "z4A7LdfvZ4Zb",
        "colab": {
          "base_uri": "https://localhost:8080/"
        },
        "outputId": "165372cf-fab4-4bb3-844b-1faf913e7445"
      },
      "id": "z4A7LdfvZ4Zb",
      "execution_count": null,
      "outputs": [
        {
          "output_type": "execute_result",
          "data": {
            "text/plain": [
              "[{'atc_classifications': ['B01AC06', 'N02BA01', 'N02BA51', 'A01AD05', 'N02BA71'], 'availability_type': 2, 'biotherapeutic': None, 'black_box_warning': 0, 'chebi_par_id': 15365, 'chemical_probe': 0, 'chirality': 2, 'cross_references': [{'xref_id': 'aspirin', 'xref_name': 'aspirin', 'xref_src': 'DailyMed'}], 'dosed_ingredient': True, 'first_approval': 1950, 'first_in_class': 0, 'helm_notation': None, 'indication_class': 'Analgesic; Antirheumatic; Antipyretic', 'inorganic_flag': 0, 'max_phase': '4.0', 'molecule_chembl_id': 'CHEMBL25', 'molecule_hierarchy': {'active_chembl_id': 'CHEMBL25', 'molecule_chembl_id': 'CHEMBL25', 'parent_chembl_id': 'CHEMBL25'}, 'molecule_properties': {'alogp': '1.31', 'aromatic_rings': 1, 'cx_logd': '-2.16', 'cx_logp': '1.24', 'cx_most_apka': '3.41', 'cx_most_bpka': None, 'full_molformula': 'C9H8O4', 'full_mwt': '180.16', 'hba': 3, 'hba_lipinski': 4, 'hbd': 1, 'hbd_lipinski': 1, 'heavy_atoms': 13, 'molecular_species': 'ACID', 'mw_freebase': '180.16', 'mw_monoisotopic': '180.0423', 'np_likeness_score': '0.12', 'num_lipinski_ro5_violations': 0, 'num_ro5_violations': 0, 'psa': '63.60', 'qed_weighted': '0.55', 'ro3_pass': 'N', 'rtb': 2}, 'molecule_structures': {'canonical_smiles': 'CC(=O)Oc1ccccc1C(=O)O', 'molfile': '\\n     RDKit          2D\\n\\n 13 13  0  0  0  0  0  0  0  0999 V2000\\n   19.8052   -4.2758    0.0000 C   0  0  0  0  0  0  0  0  0  0  0  0\\n   19.8040   -5.0953    0.0000 C   0  0  0  0  0  0  0  0  0  0  0  0\\n   20.5121   -5.5043    0.0000 C   0  0  0  0  0  0  0  0  0  0  0  0\\n   21.2217   -5.0948    0.0000 C   0  0  0  0  0  0  0  0  0  0  0  0\\n   21.2189   -4.2722    0.0000 C   0  0  0  0  0  0  0  0  0  0  0  0\\n   20.5103   -3.8669    0.0000 C   0  0  0  0  0  0  0  0  0  0  0  0\\n   20.5078   -3.0497    0.0000 C   0  0  0  0  0  0  0  0  0  0  0  0\\n   21.2143   -2.6390    0.0000 O   0  0  0  0  0  0  0  0  0  0  0  0\\n   19.7989   -2.6432    0.0000 O   0  0  0  0  0  0  0  0  0  0  0  0\\n   21.9250   -3.8609    0.0000 O   0  0  0  0  0  0  0  0  0  0  0  0\\n   22.6343   -4.2668    0.0000 C   0  0  0  0  0  0  0  0  0  0  0  0\\n   23.3405   -3.8556    0.0000 C   0  0  0  0  0  0  0  0  0  0  0  0\\n   22.6374   -5.0840    0.0000 O   0  0  0  0  0  0  0  0  0  0  0  0\\n  1  2  2  0\\n  2  3  1  0\\n  3  4  2  0\\n  4  5  1  0\\n  5  6  2  0\\n  6  1  1  0\\n  6  7  1  0\\n  7  8  1  0\\n  7  9  2  0\\n  5 10  1  0\\n 10 11  1  0\\n 11 12  1  0\\n 11 13  2  0\\nM  END\\n> <chembl_id>\\nCHEMBL25\\n\\n> <chembl_pref_name>\\nASPIRIN', 'standard_inchi': 'InChI=1S/C9H8O4/c1-6(10)13-8-5-3-2-4-7(8)9(11)12/h2-5H,1H3,(H,11,12)', 'standard_inchi_key': 'BSYNRYMUTXBXSQ-UHFFFAOYSA-N'}, 'molecule_synonyms': [{'molecule_synonym': '8-hour bayer', 'syn_type': 'TRADE_NAME', 'synonyms': '8-HOUR BAYER'}, {'molecule_synonym': 'Acetosalic Acid', 'syn_type': 'TRADE_NAME', 'synonyms': 'Acetosalic Acid'}, {'molecule_synonym': 'Acetylsalic acid', 'syn_type': 'TRADE_NAME', 'synonyms': 'ACETYLSALIC ACID'}, {'molecule_synonym': 'Acetyl salicylate', 'syn_type': 'OTHER', 'synonyms': 'ACETYL SALICYLATE'}, {'molecule_synonym': 'Acetylsalicylic Acid', 'syn_type': 'INN', 'synonyms': 'Acetylsalicylic Acid'}, {'molecule_synonym': 'Acetylsalicylic Acid', 'syn_type': 'TRADE_NAME', 'synonyms': 'Acetylsalicylic Acid'}, {'molecule_synonym': 'Acetylsalicylic acid', 'syn_type': 'ATC', 'synonyms': 'ACETYLSALICYLIC ACID'}, {'molecule_synonym': 'Acetylsalicylic acid', 'syn_type': 'OTHER', 'synonyms': 'ACETYLSALICYLIC ACID'}, {'molecule_synonym': 'Acetylsalicylic acid (who-ip)', 'syn_type': 'OTHER', 'synonyms': 'ACETYLSALICYLIC ACID (WHO-IP)'}, {'molecule_synonym': 'Acetylsalicylicum acidum', 'syn_type': 'OTHER', 'synonyms': 'ACETYLSALICYLICUM ACIDUM'}, {'molecule_synonym': 'Acidum acetylsalicylicum', 'syn_type': 'OTHER', 'synonyms': 'ACIDUM ACETYLSALICYLICUM'}, {'molecule_synonym': 'Acidum acetylsalicylicum (who-ip)', 'syn_type': 'OTHER', 'synonyms': 'ACIDUM ACETYLSALICYLICUM (WHO-IP)'}, {'molecule_synonym': 'Alka rapid', 'syn_type': 'TRADE_NAME', 'synonyms': 'ALKA RAPID'}, {'molecule_synonym': 'Anadin all night', 'syn_type': 'TRADE_NAME', 'synonyms': 'ANADIN ALL NIGHT'}, {'molecule_synonym': 'Angettes 75', 'syn_type': 'TRADE_NAME', 'synonyms': 'ANGETTES 75'}, {'molecule_synonym': 'Aspirin', 'syn_type': 'USAN', 'synonyms': 'Aspirin'}, {'molecule_synonym': 'Aspirin', 'syn_type': 'BAN', 'synonyms': 'ASPIRIN'}, {'molecule_synonym': 'Aspirin', 'syn_type': 'BNF', 'synonyms': 'ASPIRIN'}, {'molecule_synonym': 'Aspirin', 'syn_type': 'FDA', 'synonyms': 'ASPIRIN'}, {'molecule_synonym': 'Aspirin', 'syn_type': 'JAN', 'synonyms': 'ASPIRIN'}, {'molecule_synonym': 'Aspirin', 'syn_type': 'MERCK_INDEX', 'synonyms': 'ASPIRIN'}, {'molecule_synonym': 'Aspirin', 'syn_type': 'OTHER', 'synonyms': 'ASPIRIN'}, {'molecule_synonym': 'Aspirin', 'syn_type': 'TRADE_NAME', 'synonyms': 'ASPIRIN'}, {'molecule_synonym': 'Aspirin', 'syn_type': 'USP', 'synonyms': 'ASPIRIN'}, {'molecule_synonym': 'Aspro clr', 'syn_type': 'TRADE_NAME', 'synonyms': 'ASPRO CLR'}, {'molecule_synonym': 'BAY1019036', 'syn_type': 'RESEARCH_CODE', 'synonyms': 'BAY1019036'}, {'molecule_synonym': 'Bayer extra strength aspirin for migraine pain', 'syn_type': 'TRADE_NAME', 'synonyms': 'BAYER EXTRA STRENGTH ASPIRIN FOR MIGRAINE PAIN'}, {'molecule_synonym': 'Benzoic acid, 2-(acetyloxy)-', 'syn_type': 'OTHER', 'synonyms': 'BENZOIC ACID, 2-(ACETYLOXY)-'}, {'molecule_synonym': 'Danamep', 'syn_type': 'TRADE_NAME', 'synonyms': 'DANAMEP'}, {'molecule_synonym': 'Disprin cv', 'syn_type': 'TRADE_NAME', 'synonyms': 'DISPRIN CV'}, {'molecule_synonym': 'Disprin direct', 'syn_type': 'TRADE_NAME', 'synonyms': 'DISPRIN DIRECT'}, {'molecule_synonym': 'Durlaza', 'syn_type': 'TRADE_NAME', 'synonyms': 'DURLAZA'}, {'molecule_synonym': 'Ecotrin', 'syn_type': 'TRADE_NAME', 'synonyms': 'Ecotrin'}, {'molecule_synonym': 'Enprin', 'syn_type': 'TRADE_NAME', 'synonyms': 'ENPRIN'}, {'molecule_synonym': 'Equi-Prin', 'syn_type': 'TRADE_NAME', 'synonyms': 'Equi-Prin'}, {'molecule_synonym': 'Gencardia', 'syn_type': 'TRADE_NAME', 'synonyms': 'GENCARDIA'}, {'molecule_synonym': 'Levius', 'syn_type': 'TRADE_NAME', 'synonyms': 'LEVIUS'}, {'molecule_synonym': 'Max strgh aspro clr', 'syn_type': 'TRADE_NAME', 'synonyms': 'MAX STRGH ASPRO CLR'}, {'molecule_synonym': 'Measurin', 'syn_type': 'TRADE_NAME', 'synonyms': 'MEASURIN'}, {'molecule_synonym': 'Micropirin ec', 'syn_type': 'TRADE_NAME', 'synonyms': 'MICROPIRIN EC'}, {'molecule_synonym': 'NSC-27223', 'syn_type': 'RESEARCH_CODE', 'synonyms': 'NSC-27223'}, {'molecule_synonym': 'NSC-406186', 'syn_type': 'RESEARCH_CODE', 'synonyms': 'NSC-406186'}, {'molecule_synonym': 'Nu-seals 300', 'syn_type': 'TRADE_NAME', 'synonyms': 'NU-SEALS 300'}, {'molecule_synonym': 'Nu-seals 600', 'syn_type': 'TRADE_NAME', 'synonyms': 'NU-SEALS 600'}, {'molecule_synonym': 'Nu-seals 75', 'syn_type': 'TRADE_NAME', 'synonyms': 'NU-SEALS 75'}, {'molecule_synonym': 'Nu-seals cardio 75', 'syn_type': 'TRADE_NAME', 'synonyms': 'NU-SEALS CARDIO 75'}, {'molecule_synonym': 'Paynocil', 'syn_type': 'TRADE_NAME', 'synonyms': 'PAYNOCIL'}, {'molecule_synonym': 'Platet', 'syn_type': 'TRADE_NAME', 'synonyms': 'PLATET'}, {'molecule_synonym': 'Platet 300', 'syn_type': 'TRADE_NAME', 'synonyms': 'PLATET 300'}, {'molecule_synonym': 'Postmi 300', 'syn_type': 'TRADE_NAME', 'synonyms': 'POSTMI 300'}, {'molecule_synonym': 'Postmi 75', 'syn_type': 'TRADE_NAME', 'synonyms': 'POSTMI 75'}, {'molecule_synonym': 'Salicylic Acid Acetate', 'syn_type': 'TRADE_NAME', 'synonyms': 'Salicylic Acid Acetate'}, {'molecule_synonym': 'Vazalore', 'syn_type': 'TRADE_NAME', 'synonyms': 'VAZALORE'}], 'molecule_type': 'Small molecule', 'natural_product': 1, 'oral': True, 'orphan': 0, 'parenteral': False, 'polymer_flag': 0, 'pref_name': 'ASPIRIN', 'prodrug': 0, 'structure_type': 'MOL', 'therapeutic_flag': True, 'topical': False, 'usan_stem': None, 'usan_stem_definition': None, 'usan_substem': None, 'usan_year': None, 'withdrawn_flag': False}]"
            ]
          },
          "metadata": {},
          "execution_count": 27
        }
      ]
    },
    {
      "cell_type": "markdown",
      "source": [
        "Podemos hacer la búsqueda y pedirle que nos devuelva ciertos parámetros usando el comando `.only()`"
      ],
      "metadata": {
        "id": "PDeB--0gYmPa"
      },
      "id": "PDeB--0gYmPa"
    },
    {
      "cell_type": "code",
      "source": [
        "#Buscar la información de las moléculas que tienen como ChEMBL ID \"CHEMBL25\" y devolver solo la información relacionada al ChEMBL ID, el nombre y la estructura\n",
        "aspirina = new_client.molecule.filter(chembl_id='CHEMBL25').only(['molecule_chembl_id', 'pref_name', 'molecule_structures'])"
      ],
      "metadata": {
        "id": "qQJFnK8AYXq7"
      },
      "id": "qQJFnK8AYXq7",
      "execution_count": null,
      "outputs": []
    },
    {
      "cell_type": "code",
      "source": [
        "aspirina"
      ],
      "metadata": {
        "colab": {
          "base_uri": "https://localhost:8080/"
        },
        "id": "jRxrUInida0s",
        "outputId": "ea80b8da-2734-44f9-ebd0-cf1f4b094eb5"
      },
      "id": "jRxrUInida0s",
      "execution_count": null,
      "outputs": [
        {
          "output_type": "execute_result",
          "data": {
            "text/plain": [
              "[{'molecule_chembl_id': 'CHEMBL25', 'molecule_structures': {'canonical_smiles': 'CC(=O)Oc1ccccc1C(=O)O', 'molfile': '\\n     RDKit          2D\\n\\n 13 13  0  0  0  0  0  0  0  0999 V2000\\n   19.8052   -4.2758    0.0000 C   0  0  0  0  0  0  0  0  0  0  0  0\\n   19.8040   -5.0953    0.0000 C   0  0  0  0  0  0  0  0  0  0  0  0\\n   20.5121   -5.5043    0.0000 C   0  0  0  0  0  0  0  0  0  0  0  0\\n   21.2217   -5.0948    0.0000 C   0  0  0  0  0  0  0  0  0  0  0  0\\n   21.2189   -4.2722    0.0000 C   0  0  0  0  0  0  0  0  0  0  0  0\\n   20.5103   -3.8669    0.0000 C   0  0  0  0  0  0  0  0  0  0  0  0\\n   20.5078   -3.0497    0.0000 C   0  0  0  0  0  0  0  0  0  0  0  0\\n   21.2143   -2.6390    0.0000 O   0  0  0  0  0  0  0  0  0  0  0  0\\n   19.7989   -2.6432    0.0000 O   0  0  0  0  0  0  0  0  0  0  0  0\\n   21.9250   -3.8609    0.0000 O   0  0  0  0  0  0  0  0  0  0  0  0\\n   22.6343   -4.2668    0.0000 C   0  0  0  0  0  0  0  0  0  0  0  0\\n   23.3405   -3.8556    0.0000 C   0  0  0  0  0  0  0  0  0  0  0  0\\n   22.6374   -5.0840    0.0000 O   0  0  0  0  0  0  0  0  0  0  0  0\\n  1  2  2  0\\n  2  3  1  0\\n  3  4  2  0\\n  4  5  1  0\\n  5  6  2  0\\n  6  1  1  0\\n  6  7  1  0\\n  7  8  1  0\\n  7  9  2  0\\n  5 10  1  0\\n 10 11  1  0\\n 11 12  1  0\\n 11 13  2  0\\nM  END\\n> <chembl_id>\\nCHEMBL25\\n\\n> <chembl_pref_name>\\nASPIRIN', 'standard_inchi': 'InChI=1S/C9H8O4/c1-6(10)13-8-5-3-2-4-7(8)9(11)12/h2-5H,1H3,(H,11,12)', 'standard_inchi_key': 'BSYNRYMUTXBXSQ-UHFFFAOYSA-N'}, 'pref_name': 'ASPIRIN'}]"
            ]
          },
          "metadata": {},
          "execution_count": 29
        }
      ]
    },
    {
      "cell_type": "markdown",
      "source": [
        "También podemos imprimir sólo la información que nos interesa:"
      ],
      "metadata": {
        "id": "iIyhQbncaAKS"
      },
      "id": "iIyhQbncaAKS"
    },
    {
      "cell_type": "markdown",
      "source": [
        "Para obtener el nombre se usa `pref_name()`:\n",
        "\n",
        "👇"
      ],
      "metadata": {
        "id": "4q-LLVDbjUuS"
      },
      "id": "4q-LLVDbjUuS"
    },
    {
      "cell_type": "code",
      "source": [
        "# Imprimir el nombre de la aspirina accediendo a la clave 'pref_name' del primer elemento de la lista 'aspirina'\n",
        "print('El nombre es '+ aspirina[0]['pref_name'])"
      ],
      "metadata": {
        "id": "Piyrgaz1iw_b",
        "colab": {
          "base_uri": "https://localhost:8080/"
        },
        "outputId": "18030a8d-82b4-4c90-8504-929304c32d05"
      },
      "id": "Piyrgaz1iw_b",
      "execution_count": null,
      "outputs": [
        {
          "output_type": "stream",
          "name": "stdout",
          "text": [
            "El nombre es ASPIRIN\n"
          ]
        }
      ]
    },
    {
      "cell_type": "markdown",
      "source": [
        "Para obtener el ChEMBL ID se usa `molecule_chembl_id()`:\n",
        "\n",
        "👇"
      ],
      "metadata": {
        "id": "e6pFFXq0jbyo"
      },
      "id": "e6pFFXq0jbyo"
    },
    {
      "cell_type": "code",
      "source": [
        "# Imprimir el ID de ChEMBL de la aspirina accediendo a la clave 'molecule_chembl_id' del primer elemento de la lista 'aspirina'\n",
        "print('El ChEMBL ID es '+ aspirina[0]['molecule_chembl_id'])"
      ],
      "metadata": {
        "id": "29tpAk4rizNq",
        "colab": {
          "base_uri": "https://localhost:8080/"
        },
        "outputId": "a5fefc78-d9cf-451b-e660-ea84cfc867e1"
      },
      "id": "29tpAk4rizNq",
      "execution_count": null,
      "outputs": [
        {
          "output_type": "stream",
          "name": "stdout",
          "text": [
            "El ChEMBL ID es CHEMBL25\n"
          ]
        }
      ]
    },
    {
      "cell_type": "markdown",
      "source": [
        "Para obtener el SMILES se usa `canonical_smiles` que está dentro de la información relacionada a `molecule_structures()`:\n",
        "\n",
        "👇"
      ],
      "metadata": {
        "id": "x6aLzhtLjdZC"
      },
      "id": "x6aLzhtLjdZC"
    },
    {
      "cell_type": "code",
      "source": [
        "# Imprimir el SMILES de la aspirina accediendo a la clave 'canonical_smiles' dentro de la clave 'molecule_structures' del primer elemento de la lista 'aspirina'\n",
        "print('El SMILES es '+ aspirina[0]['molecule_structures']['canonical_smiles'])"
      ],
      "metadata": {
        "id": "eC2cieM-i4LK",
        "colab": {
          "base_uri": "https://localhost:8080/"
        },
        "outputId": "e759b793-7811-43da-f625-ef06c7e8283e"
      },
      "id": "eC2cieM-i4LK",
      "execution_count": null,
      "outputs": [
        {
          "output_type": "stream",
          "name": "stdout",
          "text": [
            "El SMILES es CC(=O)Oc1ccccc1C(=O)O\n"
          ]
        }
      ]
    },
    {
      "cell_type": "markdown",
      "source": [
        "Para obtener el InChi se usa `standard_inchi` que está dentro de la información relacionada a `molecule_structures()`:\n",
        "\n",
        "👇\n"
      ],
      "metadata": {
        "id": "br_1WEHIjcr5"
      },
      "id": "br_1WEHIjcr5"
    },
    {
      "cell_type": "code",
      "source": [
        "# Imprimir el InChI de la aspirina accediendo a la clave 'standard_inchi' dentro de la clave 'molecule_structures' del primer elemento de la lista 'aspirina'\n",
        "print('El InChi es '+ aspirina[0]['molecule_structures']['standard_inchi'])"
      ],
      "metadata": {
        "id": "1XPdg8Wki8eD",
        "colab": {
          "base_uri": "https://localhost:8080/"
        },
        "outputId": "f99b54f7-05f5-495e-dce0-f6b1d1e18e9c"
      },
      "id": "1XPdg8Wki8eD",
      "execution_count": null,
      "outputs": [
        {
          "output_type": "stream",
          "name": "stdout",
          "text": [
            "El InChi es InChI=1S/C9H8O4/c1-6(10)13-8-5-3-2-4-7(8)9(11)12/h2-5H,1H3,(H,11,12)\n"
          ]
        }
      ]
    },
    {
      "cell_type": "markdown",
      "source": [
        "Para obtener el InChi se usa `InChiKey` que está dentro de la información relacionada a `standard_inchi_key()`:\n",
        "\n",
        "👇"
      ],
      "metadata": {
        "id": "FNaiETRyjd8y"
      },
      "id": "FNaiETRyjd8y"
    },
    {
      "cell_type": "code",
      "source": [
        "# Imprimir el InChIKey de la aspirina accediendo a la clave 'standard_inchi_key' dentro de la clave 'molecule_structures' del primer elemento de la lista 'aspirina'\n",
        "print('El InChiKey es '+ aspirina[0]['molecule_structures']['standard_inchi_key'])"
      ],
      "metadata": {
        "id": "QPxQKjDni9n7",
        "colab": {
          "base_uri": "https://localhost:8080/"
        },
        "outputId": "cb931f27-78af-4325-a317-401fb2305322"
      },
      "id": "QPxQKjDni9n7",
      "execution_count": null,
      "outputs": [
        {
          "output_type": "stream",
          "name": "stdout",
          "text": [
            "El InChiKey es BSYNRYMUTXBXSQ-UHFFFAOYSA-N\n"
          ]
        }
      ]
    },
    {
      "cell_type": "markdown",
      "source": [
        "Podemos usar `new_client()` para obtener una visualización de la molécula usando el comando `image()`"
      ],
      "metadata": {
        "id": "ZbdOOmqPk9RC"
      },
      "id": "ZbdOOmqPk9RC"
    },
    {
      "cell_type": "code",
      "source": [
        "from IPython.display import SVG\n",
        "\n",
        "# Crear un objeto de imagen\n",
        "image = new_client.image\n",
        "\n",
        "# Establecer el formato de la imagen en SVG\n",
        "image.set_format('svg')\n",
        "\n",
        "# Obtener la imagen con el identificador 'CHEMBL25' en formato SVG\n",
        "svg_image = image.get('CHEMBL25')\n",
        "\n",
        "# Mostrar la imagen SVG\n",
        "SVG(svg_image)"
      ],
      "metadata": {
        "id": "6oDd3kj5T0gP",
        "colab": {
          "base_uri": "https://localhost:8080/",
          "height": 521
        },
        "outputId": "37b4cae7-f314-4afe-f3f9-9eced2115388"
      },
      "id": "6oDd3kj5T0gP",
      "execution_count": null,
      "outputs": [
        {
          "output_type": "execute_result",
          "data": {
            "text/plain": [
              "<IPython.core.display.SVG object>"
            ],
            "image/svg+xml": "<svg xmlns=\"http://www.w3.org/2000/svg\" xmlns:rdkit=\"http://www.rdkit.org/xml\" xmlns:xlink=\"http://www.w3.org/1999/xlink\" version=\"1.1\" baseProfile=\"full\" xml:space=\"preserve\" width=\"500px\" height=\"500px\" viewBox=\"0 0 500 500\">\n<!-- END OF HEADER -->\n<path class=\"bond-0 atom-0 atom-1\" d=\"M 41.9,282.0 L 41.7,381.7\" style=\"fill:none;fill-rule:evenodd;stroke:#000000;stroke-width:2.0px;stroke-linecap:butt;stroke-linejoin:miter;stroke-opacity:1\"/>\n<path class=\"bond-0 atom-0 atom-1\" d=\"M 56.8,290.6 L 56.6,373.1\" style=\"fill:none;fill-rule:evenodd;stroke:#000000;stroke-width:2.0px;stroke-linecap:butt;stroke-linejoin:miter;stroke-opacity:1\"/>\n<path class=\"bond-1 atom-1 atom-2\" d=\"M 41.7,381.7 L 127.8,431.4\" style=\"fill:none;fill-rule:evenodd;stroke:#000000;stroke-width:2.0px;stroke-linecap:butt;stroke-linejoin:miter;stroke-opacity:1\"/>\n<path class=\"bond-2 atom-2 atom-3\" d=\"M 127.8,431.4 L 214.2,381.6\" style=\"fill:none;fill-rule:evenodd;stroke:#000000;stroke-width:2.0px;stroke-linecap:butt;stroke-linejoin:miter;stroke-opacity:1\"/>\n<path class=\"bond-2 atom-2 atom-3\" d=\"M 127.8,414.2 L 199.2,373.0\" style=\"fill:none;fill-rule:evenodd;stroke:#000000;stroke-width:2.0px;stroke-linecap:butt;stroke-linejoin:miter;stroke-opacity:1\"/>\n<path class=\"bond-3 atom-3 atom-4\" d=\"M 214.2,381.6 L 213.8,281.6\" style=\"fill:none;fill-rule:evenodd;stroke:#000000;stroke-width:2.0px;stroke-linecap:butt;stroke-linejoin:miter;stroke-opacity:1\"/>\n<path class=\"bond-4 atom-4 atom-5\" d=\"M 213.8,281.6 L 127.6,232.3\" style=\"fill:none;fill-rule:evenodd;stroke:#000000;stroke-width:2.0px;stroke-linecap:butt;stroke-linejoin:miter;stroke-opacity:1\"/>\n<path class=\"bond-4 atom-4 atom-5\" d=\"M 198.9,290.2 L 127.7,249.5\" style=\"fill:none;fill-rule:evenodd;stroke:#000000;stroke-width:2.0px;stroke-linecap:butt;stroke-linejoin:miter;stroke-opacity:1\"/>\n<path class=\"bond-5 atom-5 atom-0\" d=\"M 127.6,232.3 L 41.9,282.0\" style=\"fill:none;fill-rule:evenodd;stroke:#000000;stroke-width:2.0px;stroke-linecap:butt;stroke-linejoin:miter;stroke-opacity:1\"/>\n<path class=\"bond-6 atom-5 atom-6\" d=\"M 127.6,232.3 L 127.3,132.8\" style=\"fill:none;fill-rule:evenodd;stroke:#000000;stroke-width:2.0px;stroke-linecap:butt;stroke-linejoin:miter;stroke-opacity:1\"/>\n<path class=\"bond-7 atom-6 atom-7\" d=\"M 127.3,132.8 L 162.2,112.6\" style=\"fill:none;fill-rule:evenodd;stroke:#000000;stroke-width:2.0px;stroke-linecap:butt;stroke-linejoin:miter;stroke-opacity:1\"/>\n<path class=\"bond-7 atom-6 atom-7\" d=\"M 162.2,112.6 L 197.0,92.3\" style=\"fill:none;fill-rule:evenodd;stroke:#FF0000;stroke-width:2.0px;stroke-linecap:butt;stroke-linejoin:miter;stroke-opacity:1\"/>\n<path class=\"bond-8 atom-6 atom-8\" d=\"M 134.8,128.5 L 97.9,107.4\" style=\"fill:none;fill-rule:evenodd;stroke:#000000;stroke-width:2.0px;stroke-linecap:butt;stroke-linejoin:miter;stroke-opacity:1\"/>\n<path class=\"bond-8 atom-6 atom-8\" d=\"M 97.9,107.4 L 61.1,86.3\" style=\"fill:none;fill-rule:evenodd;stroke:#FF0000;stroke-width:2.0px;stroke-linecap:butt;stroke-linejoin:miter;stroke-opacity:1\"/>\n<path class=\"bond-8 atom-6 atom-8\" d=\"M 127.3,141.5 L 90.5,120.3\" style=\"fill:none;fill-rule:evenodd;stroke:#000000;stroke-width:2.0px;stroke-linecap:butt;stroke-linejoin:miter;stroke-opacity:1\"/>\n<path class=\"bond-8 atom-6 atom-8\" d=\"M 90.5,120.3 L 53.7,99.2\" style=\"fill:none;fill-rule:evenodd;stroke:#FF0000;stroke-width:2.0px;stroke-linecap:butt;stroke-linejoin:miter;stroke-opacity:1\"/>\n<path class=\"bond-9 atom-4 atom-9\" d=\"M 213.8,281.6 L 248.6,261.3\" style=\"fill:none;fill-rule:evenodd;stroke:#000000;stroke-width:2.0px;stroke-linecap:butt;stroke-linejoin:miter;stroke-opacity:1\"/>\n<path class=\"bond-9 atom-4 atom-9\" d=\"M 248.6,261.3 L 283.4,241.0\" style=\"fill:none;fill-rule:evenodd;stroke:#FF0000;stroke-width:2.0px;stroke-linecap:butt;stroke-linejoin:miter;stroke-opacity:1\"/>\n<path class=\"bond-10 atom-9 atom-10\" d=\"M 316.0,240.8 L 351.0,260.9\" style=\"fill:none;fill-rule:evenodd;stroke:#FF0000;stroke-width:2.0px;stroke-linecap:butt;stroke-linejoin:miter;stroke-opacity:1\"/>\n<path class=\"bond-10 atom-9 atom-10\" d=\"M 351.0,260.9 L 386.0,280.9\" style=\"fill:none;fill-rule:evenodd;stroke:#000000;stroke-width:2.0px;stroke-linecap:butt;stroke-linejoin:miter;stroke-opacity:1\"/>\n<path class=\"bond-11 atom-10 atom-11\" d=\"M 386.0,280.9 L 471.9,230.9\" style=\"fill:none;fill-rule:evenodd;stroke:#000000;stroke-width:2.0px;stroke-linecap:butt;stroke-linejoin:miter;stroke-opacity:1\"/>\n<path class=\"bond-12 atom-10 atom-12\" d=\"M 378.5,276.6 L 378.7,319.7\" style=\"fill:none;fill-rule:evenodd;stroke:#000000;stroke-width:2.0px;stroke-linecap:butt;stroke-linejoin:miter;stroke-opacity:1\"/>\n<path class=\"bond-12 atom-10 atom-12\" d=\"M 378.7,319.7 L 378.9,362.7\" style=\"fill:none;fill-rule:evenodd;stroke:#FF0000;stroke-width:2.0px;stroke-linecap:butt;stroke-linejoin:miter;stroke-opacity:1\"/>\n<path class=\"bond-12 atom-10 atom-12\" d=\"M 393.4,276.6 L 393.6,319.6\" style=\"fill:none;fill-rule:evenodd;stroke:#000000;stroke-width:2.0px;stroke-linecap:butt;stroke-linejoin:miter;stroke-opacity:1\"/>\n<path class=\"bond-12 atom-10 atom-12\" d=\"M 393.6,319.6 L 393.8,362.7\" style=\"fill:none;fill-rule:evenodd;stroke:#FF0000;stroke-width:2.0px;stroke-linecap:butt;stroke-linejoin:miter;stroke-opacity:1\"/>\n<path d=\"M 41.8,287.0 L 41.9,282.0 L 46.1,279.5\" style=\"fill:none;stroke:#000000;stroke-width:2.0px;stroke-linecap:butt;stroke-linejoin:miter;stroke-opacity:1;\"/>\n<path d=\"M 41.7,376.7 L 41.7,381.7 L 46.0,384.2\" style=\"fill:none;stroke:#000000;stroke-width:2.0px;stroke-linecap:butt;stroke-linejoin:miter;stroke-opacity:1;\"/>\n<path d=\"M 123.5,428.9 L 127.8,431.4 L 132.2,428.9\" style=\"fill:none;stroke:#000000;stroke-width:2.0px;stroke-linecap:butt;stroke-linejoin:miter;stroke-opacity:1;\"/>\n<path d=\"M 209.9,384.1 L 214.2,381.6 L 214.1,376.6\" style=\"fill:none;stroke:#000000;stroke-width:2.0px;stroke-linecap:butt;stroke-linejoin:miter;stroke-opacity:1;\"/>\n<path d=\"M 127.3,137.8 L 127.3,132.8 L 129.1,131.8\" style=\"fill:none;stroke:#000000;stroke-width:2.0px;stroke-linecap:butt;stroke-linejoin:miter;stroke-opacity:1;\"/>\n<path d=\"M 384.3,279.9 L 386.0,280.9 L 390.3,278.4\" style=\"fill:none;stroke:#000000;stroke-width:2.0px;stroke-linecap:butt;stroke-linejoin:miter;stroke-opacity:1;\"/>\n<path class=\"atom-7\" d=\"M 200.3 83.0 Q 200.3 76.2, 203.6 72.4 Q 207.0 68.6, 213.3 68.6 Q 219.5 68.6, 222.9 72.4 Q 226.3 76.2, 226.3 83.0 Q 226.3 89.8, 222.9 93.8 Q 219.5 97.6, 213.3 97.6 Q 207.0 97.6, 203.6 93.8 Q 200.3 89.9, 200.3 83.0 M 213.3 94.4 Q 217.6 94.4, 219.9 91.6 Q 222.3 88.6, 222.3 83.0 Q 222.3 77.4, 219.9 74.6 Q 217.6 71.8, 213.3 71.8 Q 208.9 71.8, 206.6 74.6 Q 204.3 77.4, 204.3 83.0 Q 204.3 88.7, 206.6 91.6 Q 208.9 94.4, 213.3 94.4 \" fill=\"#FF0000\"/>\n<path class=\"atom-7\" d=\"M 230.7 68.9 L 234.5 68.9 L 234.5 80.9 L 249.0 80.9 L 249.0 68.9 L 252.8 68.9 L 252.8 97.2 L 249.0 97.2 L 249.0 84.1 L 234.5 84.1 L 234.5 97.2 L 230.7 97.2 L 230.7 68.9 \" fill=\"#FF0000\"/>\n<path class=\"atom-8\" d=\"M 28.1 83.5 Q 28.1 76.7, 31.4 72.9 Q 34.8 69.1, 41.1 69.1 Q 47.4 69.1, 50.7 72.9 Q 54.1 76.7, 54.1 83.5 Q 54.1 90.4, 50.7 94.3 Q 47.3 98.2, 41.1 98.2 Q 34.8 98.2, 31.4 94.3 Q 28.1 90.4, 28.1 83.5 M 41.1 95.0 Q 45.4 95.0, 47.7 92.1 Q 50.1 89.2, 50.1 83.5 Q 50.1 77.9, 47.7 75.1 Q 45.4 72.3, 41.1 72.3 Q 36.8 72.3, 34.4 75.1 Q 32.1 77.9, 32.1 83.5 Q 32.1 89.2, 34.4 92.1 Q 36.8 95.0, 41.1 95.0 \" fill=\"#FF0000\"/>\n<path class=\"atom-9\" d=\"M 286.7 231.6 Q 286.7 224.8, 290.1 221.0 Q 293.4 217.2, 299.7 217.2 Q 306.0 217.2, 309.4 221.0 Q 312.7 224.8, 312.7 231.6 Q 312.7 238.5, 309.3 242.4 Q 305.9 246.3, 299.7 246.3 Q 293.5 246.3, 290.1 242.4 Q 286.7 238.5, 286.7 231.6 M 299.7 243.1 Q 304.0 243.1, 306.4 240.2 Q 308.7 237.3, 308.7 231.6 Q 308.7 226.0, 306.4 223.2 Q 304.0 220.4, 299.7 220.4 Q 295.4 220.4, 293.0 223.2 Q 290.7 226.0, 290.7 231.6 Q 290.7 237.3, 293.0 240.2 Q 295.4 243.1, 299.7 243.1 \" fill=\"#FF0000\"/>\n<path class=\"atom-12\" d=\"M 373.4 380.4 Q 373.4 373.6, 376.7 369.8 Q 380.1 366.0, 386.4 366.0 Q 392.7 366.0, 396.0 369.8 Q 399.4 373.6, 399.4 380.4 Q 399.4 387.3, 396.0 391.2 Q 392.6 395.1, 386.4 395.1 Q 380.1 395.1, 376.7 391.2 Q 373.4 387.3, 373.4 380.4 M 386.4 391.9 Q 390.7 391.9, 393.0 389.0 Q 395.4 386.1, 395.4 380.4 Q 395.4 374.8, 393.0 372.0 Q 390.7 369.2, 386.4 369.2 Q 382.1 369.2, 379.7 372.0 Q 377.4 374.8, 377.4 380.4 Q 377.4 386.1, 379.7 389.0 Q 382.1 391.9, 386.4 391.9 \" fill=\"#FF0000\"/>\n</svg>"
          },
          "metadata": {},
          "execution_count": 38
        }
      ]
    },
    {
      "cell_type": "markdown",
      "source": [
        "Se puede descargar la información dispobible de una molécula usando el InChiKey"
      ],
      "metadata": {
        "id": "RTbQggihmd8z"
      },
      "id": "RTbQggihmd8z"
    },
    {
      "cell_type": "code",
      "source": [
        "# Filtrar la molécula utilizando el InChIKey y obtener solo los campos 'molecule_chembl_id', 'pref_name' y 'molecule_structures'\n",
        "molecula = new_client.molecule.filter(molecule_structures__standard_inchi_key='BNRNXUUZRGQAQC-UHFFFAOYSA-N').only(['molecule_chembl_id', 'pref_name', 'molecule_structures'])"
      ],
      "metadata": {
        "id": "o3FtqX_hT1pK"
      },
      "id": "o3FtqX_hT1pK",
      "execution_count": null,
      "outputs": []
    },
    {
      "cell_type": "code",
      "source": [
        "molecula"
      ],
      "metadata": {
        "colab": {
          "base_uri": "https://localhost:8080/"
        },
        "id": "TH-N8YJi6V0A",
        "outputId": "ca656b02-c43f-43b4-cee1-95b88253235e"
      },
      "id": "TH-N8YJi6V0A",
      "execution_count": null,
      "outputs": [
        {
          "output_type": "execute_result",
          "data": {
            "text/plain": [
              "[{'molecule_chembl_id': 'CHEMBL192', 'molecule_structures': {'canonical_smiles': 'CCCc1nn(C)c2c(=O)[nH]c(-c3cc(S(=O)(=O)N4CCN(C)CC4)ccc3OCC)nc12', 'molfile': '\\n     RDKit          2D\\n\\n 33 36  0  0  0  0  0  0  0  0999 V2000\\n    2.1000   -0.0042    0.0000 C   0  0  0  0  0  0  0  0  0  0  0  0\\n    2.1000    0.7000    0.0000 C   0  0  0  0  0  0  0  0  0  0  0  0\\n   -1.5375   -0.0042    0.0000 S   0  0  0  0  0  0  0  0  0  0  0  0\\n    1.4917   -0.3667    0.0000 N   0  0  0  0  0  0  0  0  0  0  0  0\\n    0.8792   -0.0042    0.0000 C   0  0  0  0  0  0  0  0  0  0  0  0\\n    2.8042    0.9083    0.0000 N   0  0  0  0  0  0  0  0  0  0  0  0\\n    1.4917    1.0625    0.0000 C   0  0  0  0  0  0  0  0  0  0  0  0\\n    0.8792    0.6833    0.0000 N   0  0  0  0  0  0  0  0  0  0  0  0\\n    3.2042    0.3458    0.0000 N   0  0  0  0  0  0  0  0  0  0  0  0\\n    2.8042   -0.2417    0.0000 C   0  0  0  0  0  0  0  0  0  0  0  0\\n    0.2875   -0.3750    0.0000 C   0  0  0  0  0  0  0  0  0  0  0  0\\n   -2.1583   -0.3750    0.0000 N   0  0  0  0  0  0  0  0  0  0  0  0\\n   -0.9333   -0.3750    0.0000 C   0  0  0  0  0  0  0  0  0  0  0  0\\n   -0.3208   -0.0333    0.0000 C   0  0  0  0  0  0  0  0  0  0  0  0\\n   -1.1875    0.6083    0.0000 O   0  0  0  0  0  0  0  0  0  0  0  0\\n   -1.8958    0.6083    0.0000 O   0  0  0  0  0  0  0  0  0  0  0  0\\n   -3.3958   -1.0917    0.0000 N   0  0  0  0  0  0  0  0  0  0  0  0\\n   -2.7833   -0.0042    0.0000 C   0  0  0  0  0  0  0  0  0  0  0  0\\n   -2.1583   -1.0917    0.0000 C   0  0  0  0  0  0  0  0  0  0  0  0\\n    0.2875   -1.1125    0.0000 C   0  0  0  0  0  0  0  0  0  0  0  0\\n    1.4917    1.7708    0.0000 O   0  0  0  0  0  0  0  0  0  0  0  0\\n   -0.9333   -1.1125    0.0000 C   0  0  0  0  0  0  0  0  0  0  0  0\\n   -0.3208   -1.4542    0.0000 C   0  0  0  0  0  0  0  0  0  0  0  0\\n   -3.3958   -0.3750    0.0000 C   0  0  0  0  0  0  0  0  0  0  0  0\\n   -2.7833   -1.4417    0.0000 C   0  0  0  0  0  0  0  0  0  0  0  0\\n    3.0750    1.5750    0.0000 C   0  0  0  0  0  0  0  0  0  0  0  0\\n    2.8042   -0.9500    0.0000 C   0  0  0  0  0  0  0  0  0  0  0  0\\n    0.8792   -1.4542    0.0000 O   0  0  0  0  0  0  0  0  0  0  0  0\\n   -3.9958   -1.4292    0.0000 C   0  0  0  0  0  0  0  0  0  0  0  0\\n    1.4958   -1.1000    0.0000 C   0  0  0  0  0  0  0  0  0  0  0  0\\n    3.4167   -1.3125    0.0000 C   0  0  0  0  0  0  0  0  0  0  0  0\\n    2.1125   -1.4500    0.0000 C   0  0  0  0  0  0  0  0  0  0  0  0\\n    4.0375   -0.9542    0.0000 C   0  0  0  0  0  0  0  0  0  0  0  0\\n  2  1  2  0\\n  3 13  1  0\\n  4  1  1  0\\n  5  4  2  0\\n  6  2  1  0\\n  7  2  1  0\\n  8  5  1  0\\n  9 10  2  0\\n 10  1  1  0\\n 11  5  1  0\\n 12  3  1  0\\n 13 14  2  0\\n 14 11  1  0\\n 15  3  2  0\\n 16  3  2  0\\n 17 25  1  0\\n 18 12  1  0\\n 19 12  1  0\\n 20 11  2  0\\n 21  7  2  0\\n 22 23  2  0\\n 23 20  1  0\\n 24 18  1  0\\n 25 19  1  0\\n 26  6  1  0\\n 27 10  1  0\\n 28 20  1  0\\n 29 17  1  0\\n 30 28  1  0\\n 31 27  1  0\\n 32 30  1  0\\n 33 31  1  0\\n  9  6  1  0\\n  8  7  1  0\\n 22 13  1  0\\n 17 24  1  0\\nM  END\\n> <chembl_id>\\nCHEMBL192\\n\\n> <chembl_pref_name>\\nSILDENAFIL', 'standard_inchi': 'InChI=1S/C22H30N6O4S/c1-5-7-17-19-20(27(4)25-17)22(29)24-21(23-19)16-14-15(8-9-18(16)32-6-2)33(30,31)28-12-10-26(3)11-13-28/h8-9,14H,5-7,10-13H2,1-4H3,(H,23,24,29)', 'standard_inchi_key': 'BNRNXUUZRGQAQC-UHFFFAOYSA-N'}, 'pref_name': 'SILDENAFIL'}]"
            ]
          },
          "metadata": {},
          "execution_count": 48
        }
      ]
    },
    {
      "cell_type": "markdown",
      "source": [
        "También se puede hacer ingresando la molécula en formato SMILES"
      ],
      "metadata": {
        "id": "L0vyfO0xm8YD"
      },
      "id": "L0vyfO0xm8YD"
    },
    {
      "cell_type": "code",
      "source": [
        "# Filtrar la molécula utilizando el SMILES canónico y obtener solo los campos 'molecule_chembl_id', 'pref_name' y 'molecule_structures'\n",
        "molecula = new_client.molecule.filter(molecule_structures__canonical_smiles=\"CCCc1nn(C)c2c(=O)[nH]c(-c3cc(S(=O)(=O)N4CCN(C)CC4)ccc3OCC)nc12\").only(['molecule_chembl_id', 'pref_name', 'molecule_structures'])"
      ],
      "metadata": {
        "id": "DdT4m16CnCPb"
      },
      "id": "DdT4m16CnCPb",
      "execution_count": null,
      "outputs": []
    },
    {
      "cell_type": "code",
      "source": [
        "molecula"
      ],
      "metadata": {
        "colab": {
          "base_uri": "https://localhost:8080/"
        },
        "id": "TIGtw0mz6cWc",
        "outputId": "768ff843-c7ba-4d68-8251-ece06b5b90ed"
      },
      "id": "TIGtw0mz6cWc",
      "execution_count": null,
      "outputs": [
        {
          "output_type": "execute_result",
          "data": {
            "text/plain": [
              "[{'molecule_chembl_id': 'CHEMBL192', 'molecule_structures': {'canonical_smiles': 'CCCc1nn(C)c2c(=O)[nH]c(-c3cc(S(=O)(=O)N4CCN(C)CC4)ccc3OCC)nc12', 'molfile': '\\n     RDKit          2D\\n\\n 33 36  0  0  0  0  0  0  0  0999 V2000\\n    2.1000   -0.0042    0.0000 C   0  0  0  0  0  0  0  0  0  0  0  0\\n    2.1000    0.7000    0.0000 C   0  0  0  0  0  0  0  0  0  0  0  0\\n   -1.5375   -0.0042    0.0000 S   0  0  0  0  0  0  0  0  0  0  0  0\\n    1.4917   -0.3667    0.0000 N   0  0  0  0  0  0  0  0  0  0  0  0\\n    0.8792   -0.0042    0.0000 C   0  0  0  0  0  0  0  0  0  0  0  0\\n    2.8042    0.9083    0.0000 N   0  0  0  0  0  0  0  0  0  0  0  0\\n    1.4917    1.0625    0.0000 C   0  0  0  0  0  0  0  0  0  0  0  0\\n    0.8792    0.6833    0.0000 N   0  0  0  0  0  0  0  0  0  0  0  0\\n    3.2042    0.3458    0.0000 N   0  0  0  0  0  0  0  0  0  0  0  0\\n    2.8042   -0.2417    0.0000 C   0  0  0  0  0  0  0  0  0  0  0  0\\n    0.2875   -0.3750    0.0000 C   0  0  0  0  0  0  0  0  0  0  0  0\\n   -2.1583   -0.3750    0.0000 N   0  0  0  0  0  0  0  0  0  0  0  0\\n   -0.9333   -0.3750    0.0000 C   0  0  0  0  0  0  0  0  0  0  0  0\\n   -0.3208   -0.0333    0.0000 C   0  0  0  0  0  0  0  0  0  0  0  0\\n   -1.1875    0.6083    0.0000 O   0  0  0  0  0  0  0  0  0  0  0  0\\n   -1.8958    0.6083    0.0000 O   0  0  0  0  0  0  0  0  0  0  0  0\\n   -3.3958   -1.0917    0.0000 N   0  0  0  0  0  0  0  0  0  0  0  0\\n   -2.7833   -0.0042    0.0000 C   0  0  0  0  0  0  0  0  0  0  0  0\\n   -2.1583   -1.0917    0.0000 C   0  0  0  0  0  0  0  0  0  0  0  0\\n    0.2875   -1.1125    0.0000 C   0  0  0  0  0  0  0  0  0  0  0  0\\n    1.4917    1.7708    0.0000 O   0  0  0  0  0  0  0  0  0  0  0  0\\n   -0.9333   -1.1125    0.0000 C   0  0  0  0  0  0  0  0  0  0  0  0\\n   -0.3208   -1.4542    0.0000 C   0  0  0  0  0  0  0  0  0  0  0  0\\n   -3.3958   -0.3750    0.0000 C   0  0  0  0  0  0  0  0  0  0  0  0\\n   -2.7833   -1.4417    0.0000 C   0  0  0  0  0  0  0  0  0  0  0  0\\n    3.0750    1.5750    0.0000 C   0  0  0  0  0  0  0  0  0  0  0  0\\n    2.8042   -0.9500    0.0000 C   0  0  0  0  0  0  0  0  0  0  0  0\\n    0.8792   -1.4542    0.0000 O   0  0  0  0  0  0  0  0  0  0  0  0\\n   -3.9958   -1.4292    0.0000 C   0  0  0  0  0  0  0  0  0  0  0  0\\n    1.4958   -1.1000    0.0000 C   0  0  0  0  0  0  0  0  0  0  0  0\\n    3.4167   -1.3125    0.0000 C   0  0  0  0  0  0  0  0  0  0  0  0\\n    2.1125   -1.4500    0.0000 C   0  0  0  0  0  0  0  0  0  0  0  0\\n    4.0375   -0.9542    0.0000 C   0  0  0  0  0  0  0  0  0  0  0  0\\n  2  1  2  0\\n  3 13  1  0\\n  4  1  1  0\\n  5  4  2  0\\n  6  2  1  0\\n  7  2  1  0\\n  8  5  1  0\\n  9 10  2  0\\n 10  1  1  0\\n 11  5  1  0\\n 12  3  1  0\\n 13 14  2  0\\n 14 11  1  0\\n 15  3  2  0\\n 16  3  2  0\\n 17 25  1  0\\n 18 12  1  0\\n 19 12  1  0\\n 20 11  2  0\\n 21  7  2  0\\n 22 23  2  0\\n 23 20  1  0\\n 24 18  1  0\\n 25 19  1  0\\n 26  6  1  0\\n 27 10  1  0\\n 28 20  1  0\\n 29 17  1  0\\n 30 28  1  0\\n 31 27  1  0\\n 32 30  1  0\\n 33 31  1  0\\n  9  6  1  0\\n  8  7  1  0\\n 22 13  1  0\\n 17 24  1  0\\nM  END\\n> <chembl_id>\\nCHEMBL192\\n\\n> <chembl_pref_name>\\nSILDENAFIL', 'standard_inchi': 'InChI=1S/C22H30N6O4S/c1-5-7-17-19-20(27(4)25-17)22(29)24-21(23-19)16-14-15(8-9-18(16)32-6-2)33(30,31)28-12-10-26(3)11-13-28/h8-9,14H,5-7,10-13H2,1-4H3,(H,23,24,29)', 'standard_inchi_key': 'BNRNXUUZRGQAQC-UHFFFAOYSA-N'}, 'pref_name': 'SILDENAFIL'}]"
            ]
          },
          "metadata": {},
          "execution_count": 50
        }
      ]
    },
    {
      "cell_type": "markdown",
      "source": [
        "También podemos indicarle que campos queremos obtener"
      ],
      "metadata": {
        "id": "-TO6Z0KfpPW7"
      },
      "id": "-TO6Z0KfpPW7"
    },
    {
      "cell_type": "markdown",
      "source": [
        "Podemos obtener la información de varias moléculas a la vez:"
      ],
      "metadata": {
        "id": "QMUbhAcRkgTT"
      },
      "id": "QMUbhAcRkgTT"
    },
    {
      "cell_type": "code",
      "source": [
        "# Filtrar las moléculas utilizando el cliente adecuado y los identificadores de ChEMBL especificados y obtener solo los campos 'molecule_chembl_id' (identificador de ChEMBL) y 'pref_name' (nombre preferido)\n",
        "moleculas = new_client.molecule.filter(molecule_chembl_id__in=['CHEMBL25', 'CHEMBL192', 'CHEMBL27']).only(['molecule_chembl_id', 'pref_name'])"
      ],
      "metadata": {
        "id": "BkyJteHbTzXm"
      },
      "id": "BkyJteHbTzXm",
      "execution_count": null,
      "outputs": []
    },
    {
      "cell_type": "code",
      "source": [
        "# Imprimir las moléculas seleccionadas\n",
        "moleculas"
      ],
      "metadata": {
        "id": "gbiKMvFxknXW",
        "colab": {
          "base_uri": "https://localhost:8080/"
        },
        "outputId": "2eb120fd-c8cf-4c53-df8d-fdecdc90f827"
      },
      "id": "gbiKMvFxknXW",
      "execution_count": null,
      "outputs": [
        {
          "output_type": "execute_result",
          "data": {
            "text/plain": [
              "[{'molecule_chembl_id': 'CHEMBL25', 'pref_name': 'ASPIRIN'}, {'molecule_chembl_id': 'CHEMBL27', 'pref_name': 'PROPRANOLOL'}, {'molecule_chembl_id': 'CHEMBL192', 'pref_name': 'SILDENAFIL'}]"
            ]
          },
          "metadata": {},
          "execution_count": 40
        }
      ]
    },
    {
      "cell_type": "markdown",
      "source": [
        "Usando `new_client()` también podemos obtener una lista de compuestos similares usando el comando `similarity()`"
      ],
      "metadata": {
        "id": "oEzEljbqj4X6"
      },
      "id": "oEzEljbqj4X6"
    },
    {
      "cell_type": "code",
      "source": [
        "# Filtrar las moléculas similares a la aspirina utilizando el cliente adecuado, el identificador de ChEMBL de la aspirina y un umbral de similitud del 70%. Luego obtener solo los campos 'molecule_chembl_id' (identificador de ChEMBL), 'pref_name' (nombre preferido) y 'similarity' (similitud)\n",
        "similar_aspirina = new_client.similarity.filter(chembl_id='CHEMBL25', similarity=70).only(['molecule_chembl_id', 'pref_name', 'similarity'])"
      ],
      "metadata": {
        "id": "UlCqKhOvT6hC"
      },
      "id": "UlCqKhOvT6hC",
      "execution_count": null,
      "outputs": []
    },
    {
      "cell_type": "code",
      "source": [
        "# Imprimir las moléculas seleccionadas\n",
        "similar_aspirina"
      ],
      "metadata": {
        "id": "sUE3aAitkRBS",
        "colab": {
          "base_uri": "https://localhost:8080/"
        },
        "outputId": "e0803048-a5a3-4fbc-8a1f-ce27947cba1f"
      },
      "id": "sUE3aAitkRBS",
      "execution_count": null,
      "outputs": [
        {
          "output_type": "execute_result",
          "data": {
            "text/plain": [
              "[{'molecule_chembl_id': 'CHEMBL2296002', 'pref_name': None, 'similarity': '100'}, {'molecule_chembl_id': 'CHEMBL1697753', 'pref_name': 'ASPIRIN DL-LYSINE', 'similarity': '100'}, {'molecule_chembl_id': 'CHEMBL3833404', 'pref_name': 'CARBASPIRIN', 'similarity': '88.8888895511627197265625'}, {'molecule_chembl_id': 'CHEMBL3833325', 'pref_name': 'CARBASPIRIN CALCIUM', 'similarity': '88.8888895511627197265625'}, '...(remaining elements truncated)...']"
            ]
          },
          "metadata": {},
          "execution_count": 42
        }
      ]
    },
    {
      "cell_type": "markdown",
      "source": [
        "### Actividad N°1 usando ChEMBL:\n",
        "\n",
        "💭 Escribí los comandos necesarios para indicar las caractéristicas o \"molecule_properties\" de la molécula `CC(C)NCC(COC1=CC=CC2=CC=CC=C21)O`\n",
        "\n",
        "❗ Escribí el comando en la celda que se encuentra debajo\n",
        "\n",
        "👇"
      ],
      "metadata": {
        "id": "0DznW3BCoXQ8"
      },
      "id": "0DznW3BCoXQ8"
    },
    {
      "cell_type": "code",
      "source": [],
      "metadata": {
        "id": "s3xv8xY5q3zb"
      },
      "id": "s3xv8xY5q3zb",
      "execution_count": null,
      "outputs": []
    },
    {
      "cell_type": "markdown",
      "source": [
        "### Actividad N°2 usando ChEMBL:"
      ],
      "metadata": {
        "id": "QX6ilyDCgtg9"
      },
      "id": "QX6ilyDCgtg9"
    },
    {
      "cell_type": "markdown",
      "source": [
        "💭 Usando el InchiKey `BNRNXUUZRGQAQC-UHFFFAOYSA-N`, obtengan el smiles usando los comandos que vimos y extraigan de ChEMBL las moléculas que tengan una similitud mayor al 75%\n",
        "\n",
        "❗ Escribí el comando en la celda que se encuentra debajo\n",
        "\n",
        "👇"
      ],
      "metadata": {
        "id": "3aIzcGN5oN0T"
      },
      "id": "3aIzcGN5oN0T"
    },
    {
      "cell_type": "code",
      "source": [],
      "metadata": {
        "id": "Tv3xiu1kgjtN"
      },
      "id": "Tv3xiu1kgjtN",
      "execution_count": null,
      "outputs": []
    },
    {
      "cell_type": "markdown",
      "source": [
        "---\n",
        "# Parte 2: Analisis de conjuntos de datos"
      ],
      "metadata": {
        "id": "NaMnnndMQupE"
      },
      "id": "NaMnnndMQupE"
    },
    {
      "cell_type": "markdown",
      "source": [
        "En esta sección vamos a trabajar con datos en formato .csv\n",
        "\n",
        "Los datos los pueden descargar accediendo a este [link](https://drive.google.com/file/d/19Z44waZs4xnoY-mHcdjl1FxiScaoJ6-0/view?usp=sharing)\n",
        "\n",
        "Tienen que descargar la tabla y luego guardarla en la misma carpeta de Google Drive en la que guardan las copias de las Notebooks del curso.\n",
        "\n",
        "Luego, vamos a cargar el contenido de drive para poder guardar los archivos generados en este práctico. Este proceso tarda unos minutos y para completarlo debes seguir los siguientes pasos:\n",
        "\n",
        "\n",
        "1.  Ejecutar la celda que se encuentra debajo\n",
        "2.  Vas a obtener un cartel que dice \"¿Permitir que este cuaderno acceda a tus archivos de Google Drive?\"\n",
        "3.  Apretar \"Conectar con Google Drive\".\n",
        "4.  Te va a pedir \"Google Drive for desktop quiere acceder a tu cuenta de Google\" y tenés que apretar en \"permitir\".\n",
        "\n",
        "Esperar unos minutos para que se cargue el contenido de Drive\n",
        "\n",
        "Listo!🎉"
      ],
      "metadata": {
        "id": "adu8gn0ZcYF0"
      },
      "id": "adu8gn0ZcYF0"
    },
    {
      "cell_type": "code",
      "source": [
        "# Cargar el contenido de drive\n",
        "from google.colab import drive\n",
        "drive.mount('/content/drive')"
      ],
      "metadata": {
        "colab": {
          "base_uri": "https://localhost:8080/"
        },
        "id": "0ejufMPgcSCf",
        "outputId": "f9170dda-8361-4036-e6d3-760586244e2e"
      },
      "id": "0ejufMPgcSCf",
      "execution_count": null,
      "outputs": [
        {
          "output_type": "stream",
          "name": "stdout",
          "text": [
            "Mounted at /content/drive\n"
          ]
        }
      ]
    },
    {
      "cell_type": "markdown",
      "source": [
        "\n",
        "## Formato .csv\n"
      ],
      "metadata": {
        "id": "j3ZkKLrr9eK5"
      },
      "id": "j3ZkKLrr9eK5"
    },
    {
      "cell_type": "markdown",
      "id": "0582e1f4",
      "metadata": {
        "id": "0582e1f4"
      },
      "source": [
        "En este práctico vamos a usar como ejemplo una lista de moléculas proveniente de un ensayo realizado en <i>T. cruzi</i>.\n",
        "\n",
        "El objetivo de este experimento fue encontrar moléculas que tuvieran actividad tripanocida y asi obtener nuevos candidatos para tratar la enfermedad del Chagas. Se ensayaron ~300.000 compuestos químicos y ~4.000 resultaron activos\n",
        "\n",
        "Si quieren profundizar, la descripción y el protocolo del ensayo se encuentran en este [link](https://pubchem.ncbi.nlm.nih.gov/bioassay/1885):\n",
        "\n",
        "\n",
        "---"
      ]
    },
    {
      "cell_type": "markdown",
      "source": [
        "A continuación vamos a cargar la lista de moléculas activas de ese ensayo. La tabla que les pasamos la tienen que guardar en su drive. El comando que encontrarás a continuación es de la dirección estándar para trabajar en este curso, pero podés modificarla en función de como tengas organizado tu drive.\n",
        "\n",
        "Si necesitas ayuda para encontrar la carpeta en la que guardaste la tabla podés usar la sección de \"Archivo\" que se encuentra a la izquierda de la Notebook"
      ],
      "metadata": {
        "id": "JFZ7yz76E7Ol"
      },
      "id": "JFZ7yz76E7Ol"
    },
    {
      "cell_type": "code",
      "source": [
        "# Importar libreria para cambiar el directorio y guardar archivos\n",
        "import os\n",
        "\n",
        "# Indicar la carpeta de trabajo\n",
        "path = '/content/drive/MyDrive/Curso_quimioinformatica'\n",
        "os.chdir(path)"
      ],
      "metadata": {
        "id": "LV9j4z4qyHhT"
      },
      "id": "LV9j4z4qyHhT",
      "execution_count": null,
      "outputs": []
    },
    {
      "cell_type": "markdown",
      "source": [
        "Los datos se encuentran guardados en un archivo tipo .csv. Los documentos de este tipo son archivos de texto que corresponden a tablas o listas, donde los datos están separados por comas.\n",
        "\n",
        "Vamos a abrir el archivo usando un comando de `pandas` llamado `read_csv()`\n",
        "\n"
      ],
      "metadata": {
        "id": "cJy_9-iwFFtk"
      },
      "id": "cJy_9-iwFFtk"
    },
    {
      "cell_type": "code",
      "source": [
        "#Generar una variable con el nombre de la tabla que contiene la lista de moléculas activas del ensayo\n",
        "smiles_tabla = pd.read_csv('smiles.csv')"
      ],
      "metadata": {
        "id": "XML-LClUFH9c"
      },
      "id": "XML-LClUFH9c",
      "execution_count": null,
      "outputs": []
    },
    {
      "cell_type": "markdown",
      "id": "b6de588c",
      "metadata": {
        "id": "b6de588c"
      },
      "source": [
        "La libreria `pandas` es muy útil para trabajar con datos en Python, si quieren leer más al respecto pueden ingresar al siguiente link: https://pandas.pydata.org/\n",
        "\n",
        "Al usar este comando estamos generando una variable llamada `smiles_tabla`. Esta variable es en formato `DataFrame`, que es el formato que usa Python para representar tablas.\n"
      ]
    },
    {
      "cell_type": "markdown",
      "id": "77584d76",
      "metadata": {
        "id": "77584d76"
      },
      "source": [
        "Vamos a verificar el tipo de la variable usando la función\n",
        "\n",
        "`type()`\n",
        "\n",
        "👇"
      ]
    },
    {
      "cell_type": "code",
      "execution_count": null,
      "id": "fda32d9c",
      "metadata": {
        "id": "fda32d9c",
        "colab": {
          "base_uri": "https://localhost:8080/",
          "height": 204
        },
        "outputId": "010e9c67-6e5b-4f17-8b96-9a6b01344c6e"
      },
      "outputs": [
        {
          "output_type": "execute_result",
          "data": {
            "text/plain": [
              "pandas.core.frame.DataFrame"
            ],
            "text/html": [
              "<div style=\"max-width:800px; border: 1px solid var(--colab-border-color);\"><style>\n",
              "      pre.function-repr-contents {\n",
              "        overflow-x: auto;\n",
              "        padding: 8px 12px;\n",
              "        max-height: 500px;\n",
              "      }\n",
              "\n",
              "      pre.function-repr-contents.function-repr-contents-collapsed {\n",
              "        cursor: pointer;\n",
              "        max-height: 100px;\n",
              "      }\n",
              "    </style>\n",
              "    <pre style=\"white-space: initial; background:\n",
              "         var(--colab-secondary-surface-color); padding: 8px 12px;\n",
              "         border-bottom: 1px solid var(--colab-border-color);\"><b>pandas.core.frame.DataFrame</b><br/>def __init__(data=None, index: Axes | None=None, columns: Axes | None=None, dtype: Dtype | None=None, copy: bool | None=None) -&gt; None</pre><pre class=\"function-repr-contents function-repr-contents-collapsed\" style=\"\"><a class=\"filepath\" style=\"display:none\" href=\"#\">/usr/local/lib/python3.11/dist-packages/pandas/core/frame.py</a>Two-dimensional, size-mutable, potentially heterogeneous tabular data.\n",
              "\n",
              "Data structure also contains labeled axes (rows and columns).\n",
              "Arithmetic operations align on both row and column labels. Can be\n",
              "thought of as a dict-like container for Series objects. The primary\n",
              "pandas data structure.\n",
              "\n",
              "Parameters\n",
              "----------\n",
              "data : ndarray (structured or homogeneous), Iterable, dict, or DataFrame\n",
              "    Dict can contain Series, arrays, constants, dataclass or list-like objects. If\n",
              "    data is a dict, column order follows insertion-order. If a dict contains Series\n",
              "    which have an index defined, it is aligned by its index. This alignment also\n",
              "    occurs if data is a Series or a DataFrame itself. Alignment is done on\n",
              "    Series/DataFrame inputs.\n",
              "\n",
              "    If data is a list of dicts, column order follows insertion-order.\n",
              "\n",
              "index : Index or array-like\n",
              "    Index to use for resulting frame. Will default to RangeIndex if\n",
              "    no indexing information part of input data and no index provided.\n",
              "columns : Index or array-like\n",
              "    Column labels to use for resulting frame when data does not have them,\n",
              "    defaulting to RangeIndex(0, 1, 2, ..., n). If data contains column labels,\n",
              "    will perform column selection instead.\n",
              "dtype : dtype, default None\n",
              "    Data type to force. Only a single dtype is allowed. If None, infer.\n",
              "copy : bool or None, default None\n",
              "    Copy data from inputs.\n",
              "    For dict data, the default of None behaves like ``copy=True``.  For DataFrame\n",
              "    or 2d ndarray input, the default of None behaves like ``copy=False``.\n",
              "    If data is a dict containing one or more Series (possibly of different dtypes),\n",
              "    ``copy=False`` will ensure that these inputs are not copied.\n",
              "\n",
              "    .. versionchanged:: 1.3.0\n",
              "\n",
              "See Also\n",
              "--------\n",
              "DataFrame.from_records : Constructor from tuples, also record arrays.\n",
              "DataFrame.from_dict : From dicts of Series, arrays, or dicts.\n",
              "read_csv : Read a comma-separated values (csv) file into DataFrame.\n",
              "read_table : Read general delimited file into DataFrame.\n",
              "read_clipboard : Read text from clipboard into DataFrame.\n",
              "\n",
              "Notes\n",
              "-----\n",
              "Please reference the :ref:`User Guide &lt;basics.dataframe&gt;` for more information.\n",
              "\n",
              "Examples\n",
              "--------\n",
              "Constructing DataFrame from a dictionary.\n",
              "\n",
              "&gt;&gt;&gt; d = {&#x27;col1&#x27;: [1, 2], &#x27;col2&#x27;: [3, 4]}\n",
              "&gt;&gt;&gt; df = pd.DataFrame(data=d)\n",
              "&gt;&gt;&gt; df\n",
              "   col1  col2\n",
              "0     1     3\n",
              "1     2     4\n",
              "\n",
              "Notice that the inferred dtype is int64.\n",
              "\n",
              "&gt;&gt;&gt; df.dtypes\n",
              "col1    int64\n",
              "col2    int64\n",
              "dtype: object\n",
              "\n",
              "To enforce a single dtype:\n",
              "\n",
              "&gt;&gt;&gt; df = pd.DataFrame(data=d, dtype=np.int8)\n",
              "&gt;&gt;&gt; df.dtypes\n",
              "col1    int8\n",
              "col2    int8\n",
              "dtype: object\n",
              "\n",
              "Constructing DataFrame from a dictionary including Series:\n",
              "\n",
              "&gt;&gt;&gt; d = {&#x27;col1&#x27;: [0, 1, 2, 3], &#x27;col2&#x27;: pd.Series([2, 3], index=[2, 3])}\n",
              "&gt;&gt;&gt; pd.DataFrame(data=d, index=[0, 1, 2, 3])\n",
              "   col1  col2\n",
              "0     0   NaN\n",
              "1     1   NaN\n",
              "2     2   2.0\n",
              "3     3   3.0\n",
              "\n",
              "Constructing DataFrame from numpy ndarray:\n",
              "\n",
              "&gt;&gt;&gt; df2 = pd.DataFrame(np.array([[1, 2, 3], [4, 5, 6], [7, 8, 9]]),\n",
              "...                    columns=[&#x27;a&#x27;, &#x27;b&#x27;, &#x27;c&#x27;])\n",
              "&gt;&gt;&gt; df2\n",
              "   a  b  c\n",
              "0  1  2  3\n",
              "1  4  5  6\n",
              "2  7  8  9\n",
              "\n",
              "Constructing DataFrame from a numpy ndarray that has labeled columns:\n",
              "\n",
              "&gt;&gt;&gt; data = np.array([(1, 2, 3), (4, 5, 6), (7, 8, 9)],\n",
              "...                 dtype=[(&quot;a&quot;, &quot;i4&quot;), (&quot;b&quot;, &quot;i4&quot;), (&quot;c&quot;, &quot;i4&quot;)])\n",
              "&gt;&gt;&gt; df3 = pd.DataFrame(data, columns=[&#x27;c&#x27;, &#x27;a&#x27;])\n",
              "...\n",
              "&gt;&gt;&gt; df3\n",
              "   c  a\n",
              "0  3  1\n",
              "1  6  4\n",
              "2  9  7\n",
              "\n",
              "Constructing DataFrame from dataclass:\n",
              "\n",
              "&gt;&gt;&gt; from dataclasses import make_dataclass\n",
              "&gt;&gt;&gt; Point = make_dataclass(&quot;Point&quot;, [(&quot;x&quot;, int), (&quot;y&quot;, int)])\n",
              "&gt;&gt;&gt; pd.DataFrame([Point(0, 0), Point(0, 3), Point(2, 3)])\n",
              "   x  y\n",
              "0  0  0\n",
              "1  0  3\n",
              "2  2  3\n",
              "\n",
              "Constructing DataFrame from Series/DataFrame:\n",
              "\n",
              "&gt;&gt;&gt; ser = pd.Series([1, 2, 3], index=[&quot;a&quot;, &quot;b&quot;, &quot;c&quot;])\n",
              "&gt;&gt;&gt; df = pd.DataFrame(data=ser, index=[&quot;a&quot;, &quot;c&quot;])\n",
              "&gt;&gt;&gt; df\n",
              "   0\n",
              "a  1\n",
              "c  3\n",
              "\n",
              "&gt;&gt;&gt; df1 = pd.DataFrame([1, 2, 3], index=[&quot;a&quot;, &quot;b&quot;, &quot;c&quot;], columns=[&quot;x&quot;])\n",
              "&gt;&gt;&gt; df2 = pd.DataFrame(data=df1, index=[&quot;a&quot;, &quot;c&quot;])\n",
              "&gt;&gt;&gt; df2\n",
              "   x\n",
              "a  1\n",
              "c  3</pre>\n",
              "      <script>\n",
              "      if (google.colab.kernel.accessAllowed && google.colab.files && google.colab.files.view) {\n",
              "        for (const element of document.querySelectorAll('.filepath')) {\n",
              "          element.style.display = 'block'\n",
              "          element.onclick = (event) => {\n",
              "            event.preventDefault();\n",
              "            event.stopPropagation();\n",
              "            google.colab.files.view(element.textContent, 509);\n",
              "          };\n",
              "        }\n",
              "      }\n",
              "      for (const element of document.querySelectorAll('.function-repr-contents')) {\n",
              "        element.onclick = (event) => {\n",
              "          event.preventDefault();\n",
              "          event.stopPropagation();\n",
              "          element.classList.toggle('function-repr-contents-collapsed');\n",
              "        };\n",
              "      }\n",
              "      </script>\n",
              "      </div>"
            ]
          },
          "metadata": {},
          "execution_count": 57
        }
      ],
      "source": [
        "# Indicar el tipo de variable\n",
        "type(smiles_tabla)"
      ]
    },
    {
      "cell_type": "markdown",
      "source": [
        "\n",
        "Ahora veamos que datos tiene el DataFrame imprimiendo la variable \"smiles_lista\":\n",
        "\n",
        "👇"
      ],
      "metadata": {
        "id": "bjLqusl3IA8m"
      },
      "id": "bjLqusl3IA8m"
    },
    {
      "cell_type": "code",
      "execution_count": null,
      "id": "8fd8d9cd",
      "metadata": {
        "id": "8fd8d9cd",
        "colab": {
          "base_uri": "https://localhost:8080/",
          "height": 423
        },
        "outputId": "074f2877-046e-45f2-91a6-83837e6d75aa"
      },
      "outputs": [
        {
          "output_type": "execute_result",
          "data": {
            "text/plain": [
              "        ID                                             smiles\n",
              "0        0  CC1=CC=C(C=C1)C(C2=NN=NN2C(C)(C)C)N(CC3=CC=CO3...\n",
              "1        1  C1CCN(C1)S(=O)(=O)C2=CC=C(C=C2)S(=O)(=O)NC3=CC...\n",
              "2        2                C1CCC(CC1)CNC2=C3CCCCC3=NC4=NN=NN24\n",
              "3        3                        CC1=CC(=C(C=C1N)C(C)C)OC.Cl\n",
              "4        4  C1CN(CCN1C2=CC=CC=C2)C(C3=CN=CC=C3)C4=NN=NN4CC...\n",
              "...    ...                                                ...\n",
              "4391  4391                            CCCCCCC1=C(C=C(C=C1)O)O\n",
              "4392  4392  CC[C@H](C)CC1=CN(N=N1)[C@@H](CCCN=C(N)N)C(=O)N...\n",
              "4393  4393  CC[C@H](C)CC1=CN(N=N1)[C@@H](CCCCN)C(=O)NCCCCC...\n",
              "4394  4394  CC[C@H](C)CC1=CN(N=N1)[C@@H](CCCCN)C(=O)NCCCCC...\n",
              "4395  4395  CC[C@H](C)CC1=CN(N=N1)[C@@H](CCCN=C(NC(=O)OC(C...\n",
              "\n",
              "[4396 rows x 2 columns]"
            ],
            "text/html": [
              "\n",
              "  <div id=\"df-c66c52ec-5857-4a26-af17-901ff37a6a61\" class=\"colab-df-container\">\n",
              "    <div>\n",
              "<style scoped>\n",
              "    .dataframe tbody tr th:only-of-type {\n",
              "        vertical-align: middle;\n",
              "    }\n",
              "\n",
              "    .dataframe tbody tr th {\n",
              "        vertical-align: top;\n",
              "    }\n",
              "\n",
              "    .dataframe thead th {\n",
              "        text-align: right;\n",
              "    }\n",
              "</style>\n",
              "<table border=\"1\" class=\"dataframe\">\n",
              "  <thead>\n",
              "    <tr style=\"text-align: right;\">\n",
              "      <th></th>\n",
              "      <th>ID</th>\n",
              "      <th>smiles</th>\n",
              "    </tr>\n",
              "  </thead>\n",
              "  <tbody>\n",
              "    <tr>\n",
              "      <th>0</th>\n",
              "      <td>0</td>\n",
              "      <td>CC1=CC=C(C=C1)C(C2=NN=NN2C(C)(C)C)N(CC3=CC=CO3...</td>\n",
              "    </tr>\n",
              "    <tr>\n",
              "      <th>1</th>\n",
              "      <td>1</td>\n",
              "      <td>C1CCN(C1)S(=O)(=O)C2=CC=C(C=C2)S(=O)(=O)NC3=CC...</td>\n",
              "    </tr>\n",
              "    <tr>\n",
              "      <th>2</th>\n",
              "      <td>2</td>\n",
              "      <td>C1CCC(CC1)CNC2=C3CCCCC3=NC4=NN=NN24</td>\n",
              "    </tr>\n",
              "    <tr>\n",
              "      <th>3</th>\n",
              "      <td>3</td>\n",
              "      <td>CC1=CC(=C(C=C1N)C(C)C)OC.Cl</td>\n",
              "    </tr>\n",
              "    <tr>\n",
              "      <th>4</th>\n",
              "      <td>4</td>\n",
              "      <td>C1CN(CCN1C2=CC=CC=C2)C(C3=CN=CC=C3)C4=NN=NN4CC...</td>\n",
              "    </tr>\n",
              "    <tr>\n",
              "      <th>...</th>\n",
              "      <td>...</td>\n",
              "      <td>...</td>\n",
              "    </tr>\n",
              "    <tr>\n",
              "      <th>4391</th>\n",
              "      <td>4391</td>\n",
              "      <td>CCCCCCC1=C(C=C(C=C1)O)O</td>\n",
              "    </tr>\n",
              "    <tr>\n",
              "      <th>4392</th>\n",
              "      <td>4392</td>\n",
              "      <td>CC[C@H](C)CC1=CN(N=N1)[C@@H](CCCN=C(N)N)C(=O)N...</td>\n",
              "    </tr>\n",
              "    <tr>\n",
              "      <th>4393</th>\n",
              "      <td>4393</td>\n",
              "      <td>CC[C@H](C)CC1=CN(N=N1)[C@@H](CCCCN)C(=O)NCCCCC...</td>\n",
              "    </tr>\n",
              "    <tr>\n",
              "      <th>4394</th>\n",
              "      <td>4394</td>\n",
              "      <td>CC[C@H](C)CC1=CN(N=N1)[C@@H](CCCCN)C(=O)NCCCCC...</td>\n",
              "    </tr>\n",
              "    <tr>\n",
              "      <th>4395</th>\n",
              "      <td>4395</td>\n",
              "      <td>CC[C@H](C)CC1=CN(N=N1)[C@@H](CCCN=C(NC(=O)OC(C...</td>\n",
              "    </tr>\n",
              "  </tbody>\n",
              "</table>\n",
              "<p>4396 rows × 2 columns</p>\n",
              "</div>\n",
              "    <div class=\"colab-df-buttons\">\n",
              "\n",
              "  <div class=\"colab-df-container\">\n",
              "    <button class=\"colab-df-convert\" onclick=\"convertToInteractive('df-c66c52ec-5857-4a26-af17-901ff37a6a61')\"\n",
              "            title=\"Convert this dataframe to an interactive table.\"\n",
              "            style=\"display:none;\">\n",
              "\n",
              "  <svg xmlns=\"http://www.w3.org/2000/svg\" height=\"24px\" viewBox=\"0 -960 960 960\">\n",
              "    <path d=\"M120-120v-720h720v720H120Zm60-500h600v-160H180v160Zm220 220h160v-160H400v160Zm0 220h160v-160H400v160ZM180-400h160v-160H180v160Zm440 0h160v-160H620v160ZM180-180h160v-160H180v160Zm440 0h160v-160H620v160Z\"/>\n",
              "  </svg>\n",
              "    </button>\n",
              "\n",
              "  <style>\n",
              "    .colab-df-container {\n",
              "      display:flex;\n",
              "      gap: 12px;\n",
              "    }\n",
              "\n",
              "    .colab-df-convert {\n",
              "      background-color: #E8F0FE;\n",
              "      border: none;\n",
              "      border-radius: 50%;\n",
              "      cursor: pointer;\n",
              "      display: none;\n",
              "      fill: #1967D2;\n",
              "      height: 32px;\n",
              "      padding: 0 0 0 0;\n",
              "      width: 32px;\n",
              "    }\n",
              "\n",
              "    .colab-df-convert:hover {\n",
              "      background-color: #E2EBFA;\n",
              "      box-shadow: 0px 1px 2px rgba(60, 64, 67, 0.3), 0px 1px 3px 1px rgba(60, 64, 67, 0.15);\n",
              "      fill: #174EA6;\n",
              "    }\n",
              "\n",
              "    .colab-df-buttons div {\n",
              "      margin-bottom: 4px;\n",
              "    }\n",
              "\n",
              "    [theme=dark] .colab-df-convert {\n",
              "      background-color: #3B4455;\n",
              "      fill: #D2E3FC;\n",
              "    }\n",
              "\n",
              "    [theme=dark] .colab-df-convert:hover {\n",
              "      background-color: #434B5C;\n",
              "      box-shadow: 0px 1px 3px 1px rgba(0, 0, 0, 0.15);\n",
              "      filter: drop-shadow(0px 1px 2px rgba(0, 0, 0, 0.3));\n",
              "      fill: #FFFFFF;\n",
              "    }\n",
              "  </style>\n",
              "\n",
              "    <script>\n",
              "      const buttonEl =\n",
              "        document.querySelector('#df-c66c52ec-5857-4a26-af17-901ff37a6a61 button.colab-df-convert');\n",
              "      buttonEl.style.display =\n",
              "        google.colab.kernel.accessAllowed ? 'block' : 'none';\n",
              "\n",
              "      async function convertToInteractive(key) {\n",
              "        const element = document.querySelector('#df-c66c52ec-5857-4a26-af17-901ff37a6a61');\n",
              "        const dataTable =\n",
              "          await google.colab.kernel.invokeFunction('convertToInteractive',\n",
              "                                                    [key], {});\n",
              "        if (!dataTable) return;\n",
              "\n",
              "        const docLinkHtml = 'Like what you see? Visit the ' +\n",
              "          '<a target=\"_blank\" href=https://colab.research.google.com/notebooks/data_table.ipynb>data table notebook</a>'\n",
              "          + ' to learn more about interactive tables.';\n",
              "        element.innerHTML = '';\n",
              "        dataTable['output_type'] = 'display_data';\n",
              "        await google.colab.output.renderOutput(dataTable, element);\n",
              "        const docLink = document.createElement('div');\n",
              "        docLink.innerHTML = docLinkHtml;\n",
              "        element.appendChild(docLink);\n",
              "      }\n",
              "    </script>\n",
              "  </div>\n",
              "\n",
              "\n",
              "<div id=\"df-a484a16c-fbaf-439e-bcbe-c064527a689e\">\n",
              "  <button class=\"colab-df-quickchart\" onclick=\"quickchart('df-a484a16c-fbaf-439e-bcbe-c064527a689e')\"\n",
              "            title=\"Suggest charts\"\n",
              "            style=\"display:none;\">\n",
              "\n",
              "<svg xmlns=\"http://www.w3.org/2000/svg\" height=\"24px\"viewBox=\"0 0 24 24\"\n",
              "     width=\"24px\">\n",
              "    <g>\n",
              "        <path d=\"M19 3H5c-1.1 0-2 .9-2 2v14c0 1.1.9 2 2 2h14c1.1 0 2-.9 2-2V5c0-1.1-.9-2-2-2zM9 17H7v-7h2v7zm4 0h-2V7h2v10zm4 0h-2v-4h2v4z\"/>\n",
              "    </g>\n",
              "</svg>\n",
              "  </button>\n",
              "\n",
              "<style>\n",
              "  .colab-df-quickchart {\n",
              "      --bg-color: #E8F0FE;\n",
              "      --fill-color: #1967D2;\n",
              "      --hover-bg-color: #E2EBFA;\n",
              "      --hover-fill-color: #174EA6;\n",
              "      --disabled-fill-color: #AAA;\n",
              "      --disabled-bg-color: #DDD;\n",
              "  }\n",
              "\n",
              "  [theme=dark] .colab-df-quickchart {\n",
              "      --bg-color: #3B4455;\n",
              "      --fill-color: #D2E3FC;\n",
              "      --hover-bg-color: #434B5C;\n",
              "      --hover-fill-color: #FFFFFF;\n",
              "      --disabled-bg-color: #3B4455;\n",
              "      --disabled-fill-color: #666;\n",
              "  }\n",
              "\n",
              "  .colab-df-quickchart {\n",
              "    background-color: var(--bg-color);\n",
              "    border: none;\n",
              "    border-radius: 50%;\n",
              "    cursor: pointer;\n",
              "    display: none;\n",
              "    fill: var(--fill-color);\n",
              "    height: 32px;\n",
              "    padding: 0;\n",
              "    width: 32px;\n",
              "  }\n",
              "\n",
              "  .colab-df-quickchart:hover {\n",
              "    background-color: var(--hover-bg-color);\n",
              "    box-shadow: 0 1px 2px rgba(60, 64, 67, 0.3), 0 1px 3px 1px rgba(60, 64, 67, 0.15);\n",
              "    fill: var(--button-hover-fill-color);\n",
              "  }\n",
              "\n",
              "  .colab-df-quickchart-complete:disabled,\n",
              "  .colab-df-quickchart-complete:disabled:hover {\n",
              "    background-color: var(--disabled-bg-color);\n",
              "    fill: var(--disabled-fill-color);\n",
              "    box-shadow: none;\n",
              "  }\n",
              "\n",
              "  .colab-df-spinner {\n",
              "    border: 2px solid var(--fill-color);\n",
              "    border-color: transparent;\n",
              "    border-bottom-color: var(--fill-color);\n",
              "    animation:\n",
              "      spin 1s steps(1) infinite;\n",
              "  }\n",
              "\n",
              "  @keyframes spin {\n",
              "    0% {\n",
              "      border-color: transparent;\n",
              "      border-bottom-color: var(--fill-color);\n",
              "      border-left-color: var(--fill-color);\n",
              "    }\n",
              "    20% {\n",
              "      border-color: transparent;\n",
              "      border-left-color: var(--fill-color);\n",
              "      border-top-color: var(--fill-color);\n",
              "    }\n",
              "    30% {\n",
              "      border-color: transparent;\n",
              "      border-left-color: var(--fill-color);\n",
              "      border-top-color: var(--fill-color);\n",
              "      border-right-color: var(--fill-color);\n",
              "    }\n",
              "    40% {\n",
              "      border-color: transparent;\n",
              "      border-right-color: var(--fill-color);\n",
              "      border-top-color: var(--fill-color);\n",
              "    }\n",
              "    60% {\n",
              "      border-color: transparent;\n",
              "      border-right-color: var(--fill-color);\n",
              "    }\n",
              "    80% {\n",
              "      border-color: transparent;\n",
              "      border-right-color: var(--fill-color);\n",
              "      border-bottom-color: var(--fill-color);\n",
              "    }\n",
              "    90% {\n",
              "      border-color: transparent;\n",
              "      border-bottom-color: var(--fill-color);\n",
              "    }\n",
              "  }\n",
              "</style>\n",
              "\n",
              "  <script>\n",
              "    async function quickchart(key) {\n",
              "      const quickchartButtonEl =\n",
              "        document.querySelector('#' + key + ' button');\n",
              "      quickchartButtonEl.disabled = true;  // To prevent multiple clicks.\n",
              "      quickchartButtonEl.classList.add('colab-df-spinner');\n",
              "      try {\n",
              "        const charts = await google.colab.kernel.invokeFunction(\n",
              "            'suggestCharts', [key], {});\n",
              "      } catch (error) {\n",
              "        console.error('Error during call to suggestCharts:', error);\n",
              "      }\n",
              "      quickchartButtonEl.classList.remove('colab-df-spinner');\n",
              "      quickchartButtonEl.classList.add('colab-df-quickchart-complete');\n",
              "    }\n",
              "    (() => {\n",
              "      let quickchartButtonEl =\n",
              "        document.querySelector('#df-a484a16c-fbaf-439e-bcbe-c064527a689e button');\n",
              "      quickchartButtonEl.style.display =\n",
              "        google.colab.kernel.accessAllowed ? 'block' : 'none';\n",
              "    })();\n",
              "  </script>\n",
              "</div>\n",
              "\n",
              "  <div id=\"id_7fe9d17b-cb28-4c76-a89f-84a8a954ddc2\">\n",
              "    <style>\n",
              "      .colab-df-generate {\n",
              "        background-color: #E8F0FE;\n",
              "        border: none;\n",
              "        border-radius: 50%;\n",
              "        cursor: pointer;\n",
              "        display: none;\n",
              "        fill: #1967D2;\n",
              "        height: 32px;\n",
              "        padding: 0 0 0 0;\n",
              "        width: 32px;\n",
              "      }\n",
              "\n",
              "      .colab-df-generate:hover {\n",
              "        background-color: #E2EBFA;\n",
              "        box-shadow: 0px 1px 2px rgba(60, 64, 67, 0.3), 0px 1px 3px 1px rgba(60, 64, 67, 0.15);\n",
              "        fill: #174EA6;\n",
              "      }\n",
              "\n",
              "      [theme=dark] .colab-df-generate {\n",
              "        background-color: #3B4455;\n",
              "        fill: #D2E3FC;\n",
              "      }\n",
              "\n",
              "      [theme=dark] .colab-df-generate:hover {\n",
              "        background-color: #434B5C;\n",
              "        box-shadow: 0px 1px 3px 1px rgba(0, 0, 0, 0.15);\n",
              "        filter: drop-shadow(0px 1px 2px rgba(0, 0, 0, 0.3));\n",
              "        fill: #FFFFFF;\n",
              "      }\n",
              "    </style>\n",
              "    <button class=\"colab-df-generate\" onclick=\"generateWithVariable('smiles_tabla')\"\n",
              "            title=\"Generate code using this dataframe.\"\n",
              "            style=\"display:none;\">\n",
              "\n",
              "  <svg xmlns=\"http://www.w3.org/2000/svg\" height=\"24px\"viewBox=\"0 0 24 24\"\n",
              "       width=\"24px\">\n",
              "    <path d=\"M7,19H8.4L18.45,9,17,7.55,7,17.6ZM5,21V16.75L18.45,3.32a2,2,0,0,1,2.83,0l1.4,1.43a1.91,1.91,0,0,1,.58,1.4,1.91,1.91,0,0,1-.58,1.4L9.25,21ZM18.45,9,17,7.55Zm-12,3A5.31,5.31,0,0,0,4.9,8.1,5.31,5.31,0,0,0,1,6.5,5.31,5.31,0,0,0,4.9,4.9,5.31,5.31,0,0,0,6.5,1,5.31,5.31,0,0,0,8.1,4.9,5.31,5.31,0,0,0,12,6.5,5.46,5.46,0,0,0,6.5,12Z\"/>\n",
              "  </svg>\n",
              "    </button>\n",
              "    <script>\n",
              "      (() => {\n",
              "      const buttonEl =\n",
              "        document.querySelector('#id_7fe9d17b-cb28-4c76-a89f-84a8a954ddc2 button.colab-df-generate');\n",
              "      buttonEl.style.display =\n",
              "        google.colab.kernel.accessAllowed ? 'block' : 'none';\n",
              "\n",
              "      buttonEl.onclick = () => {\n",
              "        google.colab.notebook.generateWithVariable('smiles_tabla');\n",
              "      }\n",
              "      })();\n",
              "    </script>\n",
              "  </div>\n",
              "\n",
              "    </div>\n",
              "  </div>\n"
            ],
            "application/vnd.google.colaboratory.intrinsic+json": {
              "type": "dataframe",
              "variable_name": "smiles_tabla",
              "summary": "{\n  \"name\": \"smiles_tabla\",\n  \"rows\": 4396,\n  \"fields\": [\n    {\n      \"column\": \"ID\",\n      \"properties\": {\n        \"dtype\": \"number\",\n        \"std\": 1269,\n        \"min\": 0,\n        \"max\": 4395,\n        \"num_unique_values\": 4396,\n        \"samples\": [\n          3942,\n          2658,\n          1532\n        ],\n        \"semantic_type\": \"\",\n        \"description\": \"\"\n      }\n    },\n    {\n      \"column\": \"smiles\",\n      \"properties\": {\n        \"dtype\": \"string\",\n        \"num_unique_values\": 4394,\n        \"samples\": [\n          \"CC1=C(SC(=C1CN2CCN(CC2)CC3=CC=CC=C3)NC(=O)C4=CC=CO4)C\",\n          \"COC1=CC=C(C=C1)CN2CCC(=CC2)/C=C/C3=CC=C(C=C3)OC.Cl\",\n          \"CC1=CC(=NC(=N1)NCC2=CC=CC=C2)N/N=C/C3=CC=C(C=C3)Cl\"\n        ],\n        \"semantic_type\": \"\",\n        \"description\": \"\"\n      }\n    }\n  ]\n}"
            }
          },
          "metadata": {},
          "execution_count": 58
        }
      ],
      "source": [
        "# Imprimir la variable\n",
        "smiles_tabla"
      ]
    },
    {
      "cell_type": "markdown",
      "source": [
        "La variable \"smiles_tabla\" da como resultado una tabla con tres columnas:\n",
        "\n",
        "\n",
        "1.   La primer columna (la que se encuentra en **negrita**) indica el índice de la fila.\n",
        "2.   La segunda columna se llama **\"ID\"** y es un número de identifica a cada molécula.\n",
        "3.   La tercera columna se llama **\"smiles\"** y contiene a las moléculas activas del ensayo.\n",
        "\n"
      ],
      "metadata": {
        "id": "hK8Tzw9KMfGU"
      },
      "id": "hK8Tzw9KMfGU"
    },
    {
      "cell_type": "markdown",
      "id": "caf9bd24",
      "metadata": {
        "id": "caf9bd24"
      },
      "source": [
        "### Actividad N°1 de lista de datos\n",
        "\n",
        "💭 ¿El archivo importado tiene la cantidad de datos esperada?\n"
      ]
    },
    {
      "cell_type": "code",
      "source": [],
      "metadata": {
        "id": "aJ0B0uOHNC6I"
      },
      "id": "aJ0B0uOHNC6I",
      "execution_count": null,
      "outputs": []
    },
    {
      "cell_type": "markdown",
      "source": [
        "La escritura en formato SMILES no permite identificar compuestos duplicados, ya que un mismo compuesto puede escribirse de diferentes"
      ],
      "metadata": {
        "id": "Q8cbIRxpr9UC"
      },
      "id": "Q8cbIRxpr9UC"
    },
    {
      "cell_type": "markdown",
      "id": "58d21359",
      "metadata": {
        "id": "58d21359"
      },
      "source": [
        "Dentro de la tabla se encuentran guardadas en las \"rows\" o filas todas las estructuras de smiles activas del ensayo.\n",
        "\n",
        "Para acceder a las rows, primero tenemos que indicarle el nombre de la columna (en este caso se llama **\"smiles\"**) y después indicarle el número de fila. Cada una de esas cosas se indican entre corchetes.\n",
        "\n",
        "Vamos a ver que compuesto se encuentra en la row 1\n",
        "👇"
      ]
    },
    {
      "cell_type": "code",
      "execution_count": null,
      "id": "76695e86",
      "metadata": {
        "id": "76695e86",
        "colab": {
          "base_uri": "https://localhost:8080/",
          "height": 36
        },
        "outputId": "ee622c5d-861b-4b25-b3b0-88a101da0366"
      },
      "outputs": [
        {
          "output_type": "execute_result",
          "data": {
            "text/plain": [
              "'C1CCN(C1)S(=O)(=O)C2=CC=C(C=C2)S(=O)(=O)NC3=CC=CC4=C3N=CC=C4'"
            ],
            "application/vnd.google.colaboratory.intrinsic+json": {
              "type": "string"
            }
          },
          "metadata": {},
          "execution_count": 59
        }
      ],
      "source": [
        "# Imprimir el dato que se encuentra en la fila 1 de la columna smiles\n",
        "smiles_tabla['smiles'][1]"
      ]
    },
    {
      "cell_type": "markdown",
      "source": [
        "### Actividad N°2 de lista de datos\n",
        "\n",
        "💭 ¿La molécula que obtuvieron es la que esperaban? ¿Por qué se obtuvo este resultado?\n",
        "\n",
        "❗ Escribí el comando correcto para ver el compuesto que se encuentra en la row 1 en la celda que se encuentra debajo\n",
        "\n",
        "👇"
      ],
      "metadata": {
        "id": "j5n6XKc4NO3k"
      },
      "id": "j5n6XKc4NO3k"
    },
    {
      "cell_type": "code",
      "source": [],
      "metadata": {
        "id": "6_i0vO2tPLeQ",
        "colab": {
          "base_uri": "https://localhost:8080/",
          "height": 36
        },
        "outputId": "ea42f214-f91e-42a5-8000-93f5ffa40673"
      },
      "id": "6_i0vO2tPLeQ",
      "execution_count": null,
      "outputs": [
        {
          "output_type": "execute_result",
          "data": {
            "text/plain": [
              "'CC1=CC=C(C=C1)C(C2=NN=NN2C(C)(C)C)N(CC3=CC=CO3)CC4=CC=CS4'"
            ],
            "application/vnd.google.colaboratory.intrinsic+json": {
              "type": "string"
            }
          },
          "metadata": {},
          "execution_count": 60
        }
      ]
    },
    {
      "cell_type": "markdown",
      "id": "67dca07b",
      "metadata": {
        "id": "67dca07b"
      },
      "source": [
        "¡Nos indicó el compuesto que está en la row 2!\n",
        "\n",
        "Esto sucede porque los números de fila comienzan desde el 0"
      ]
    },
    {
      "cell_type": "markdown",
      "id": "ca0f08db",
      "metadata": {
        "id": "ca0f08db"
      },
      "source": [
        "\n",
        "Al igual que en el práctico 1, todos los compuestos se encuentran en en formato \"str\" o string. Recuerden que este es el formato que usa python para representar texto.\n",
        "\n",
        "Para verificarlo podemos pedirle a Python que nos diga de que el tipo de la variable usando la función\n",
        "\n",
        "`type()`\n",
        "\n",
        "\n",
        "👇"
      ]
    },
    {
      "cell_type": "code",
      "execution_count": null,
      "id": "6840ad30",
      "metadata": {
        "id": "6840ad30"
      },
      "outputs": [],
      "source": [
        "# Imprimir el tipo de variable que es el dato que se encuentra en la fila 0 de la columna smiles\n",
        "type(smiles_tabla['smiles'][0])"
      ]
    },
    {
      "cell_type": "markdown",
      "id": "31c1cf5e",
      "metadata": {
        "id": "31c1cf5e"
      },
      "source": [
        "Lo que buscamos es poder trabajar con la molécula como tal, no como cadena de texto.\n",
        "\n",
        "Como en el práctico 1, vamos a usar <b>RDKit</b> para hacerlo!\n",
        "\n",
        "Vamos a transformar en molécula al smiles correspondiente a la fila 1:\n",
        "\n",
        "👇"
      ]
    },
    {
      "cell_type": "code",
      "execution_count": null,
      "id": "514808e4",
      "metadata": {
        "id": "514808e4",
        "colab": {
          "base_uri": "https://localhost:8080/"
        },
        "outputId": "7ff4558e-abd8-4b06-8ef5-11273c535807"
      },
      "outputs": [
        {
          "output_type": "execute_result",
          "data": {
            "text/plain": [
              "<rdkit.Chem.rdchem.Mol at 0x7a01e70f0900>"
            ]
          },
          "metadata": {},
          "execution_count": 64
        }
      ],
      "source": [
        "from rdkit import Chem\n",
        "\n",
        "# Generar una molécula a partir del smiles\n",
        "molecula = Chem.MolFromSmiles(smiles_tabla['smiles'][0])"
      ]
    },
    {
      "cell_type": "code",
      "source": [
        "# Imprimir la molécula\n",
        "molecula"
      ],
      "metadata": {
        "id": "NE9G_PqgOF9j",
        "colab": {
          "base_uri": "https://localhost:8080/"
        },
        "outputId": "d1a49eca-0bf1-467e-f91d-9efa6346694f"
      },
      "id": "NE9G_PqgOF9j",
      "execution_count": null,
      "outputs": [
        {
          "output_type": "execute_result",
          "data": {
            "text/plain": [
              "<rdkit.Chem.rdchem.Mol at 0x7a01e70f0580>"
            ]
          },
          "metadata": {},
          "execution_count": 63
        }
      ]
    },
    {
      "cell_type": "markdown",
      "id": "25ee7e47",
      "metadata": {
        "id": "25ee7e47"
      },
      "source": [
        "O podemos usar el siguiente comando para transformar a molécula todas las filas de la tabla\n",
        "\n",
        "👇"
      ]
    },
    {
      "cell_type": "code",
      "execution_count": null,
      "id": "93ec6725",
      "metadata": {
        "id": "93ec6725"
      },
      "outputs": [],
      "source": [
        "# Generar las moléculas en formato RDKit de todas las filas de una columna\n",
        "moleculas = [Chem.MolFromSmiles(smiles) for smiles in smiles_tabla['smiles']]\n",
        "\n",
        "#No le hagan caso al WARNING!"
      ]
    },
    {
      "cell_type": "markdown",
      "id": "651c9572",
      "metadata": {
        "id": "651c9572"
      },
      "source": [
        "### Actividad N°3 de lista de datos\n",
        "\n",
        "💭 ¿Que obtuvimos luego de ejecutar ese comando?\n",
        "\n",
        "❗ Escribí la variable que generamos en la celda que se encuentra debajo\n",
        "\n",
        "👇"
      ]
    },
    {
      "cell_type": "code",
      "execution_count": null,
      "id": "c414c870",
      "metadata": {
        "id": "c414c870"
      },
      "outputs": [],
      "source": []
    },
    {
      "cell_type": "markdown",
      "id": "715d9213",
      "metadata": {
        "id": "715d9213"
      },
      "source": [
        "### Actividad N°4 de lista de datos\n",
        "\n",
        "💭 ¿Qué tipo de variable es?\n",
        "\n",
        "❗ Escribí el comando en la celda que se encuentra debajo\n",
        "\n",
        "👇"
      ]
    },
    {
      "cell_type": "code",
      "execution_count": null,
      "id": "917fdce1",
      "metadata": {
        "id": "917fdce1"
      },
      "outputs": [],
      "source": []
    },
    {
      "cell_type": "markdown",
      "source": [
        "💡 ¡Es una lista!\n",
        "\n",
        "Este tipo de variable almacena datos de manera concatenada y separada por comas."
      ],
      "metadata": {
        "id": "mzliPJTLPvXX"
      },
      "id": "mzliPJTLPvXX"
    },
    {
      "cell_type": "markdown",
      "id": "f98990b7",
      "metadata": {
        "id": "f98990b7"
      },
      "source": [
        "Para poder trabajar mejor, vamos a agregar estas moléculas a la tabla inicial usando el siguiente comando:\n",
        "\n",
        "👇"
      ]
    },
    {
      "cell_type": "code",
      "execution_count": null,
      "id": "34e77515",
      "metadata": {
        "id": "34e77515"
      },
      "outputs": [],
      "source": [
        "smiles_tabla['moleculas'] = moleculas"
      ]
    },
    {
      "cell_type": "markdown",
      "id": "96335e40",
      "metadata": {
        "id": "96335e40"
      },
      "source": [
        "Veamos como quedó la tabla terminada:\n",
        "\n",
        "👇"
      ]
    },
    {
      "cell_type": "code",
      "execution_count": null,
      "id": "6fa0614f",
      "metadata": {
        "id": "6fa0614f",
        "colab": {
          "base_uri": "https://localhost:8080/",
          "height": 423
        },
        "outputId": "48d196ef-cd46-4c10-9907-056c3562c538"
      },
      "outputs": [
        {
          "output_type": "execute_result",
          "data": {
            "text/plain": [
              "        ID                                             smiles  \\\n",
              "0        0  CC1=CC=C(C=C1)C(C2=NN=NN2C(C)(C)C)N(CC3=CC=CO3...   \n",
              "1        1  C1CCN(C1)S(=O)(=O)C2=CC=C(C=C2)S(=O)(=O)NC3=CC...   \n",
              "2        2                C1CCC(CC1)CNC2=C3CCCCC3=NC4=NN=NN24   \n",
              "3        3                        CC1=CC(=C(C=C1N)C(C)C)OC.Cl   \n",
              "4        4  C1CN(CCN1C2=CC=CC=C2)C(C3=CN=CC=C3)C4=NN=NN4CC...   \n",
              "...    ...                                                ...   \n",
              "4391  4391                            CCCCCCC1=C(C=C(C=C1)O)O   \n",
              "4392  4392  CC[C@H](C)CC1=CN(N=N1)[C@@H](CCCN=C(N)N)C(=O)N...   \n",
              "4393  4393  CC[C@H](C)CC1=CN(N=N1)[C@@H](CCCCN)C(=O)NCCCCC...   \n",
              "4394  4394  CC[C@H](C)CC1=CN(N=N1)[C@@H](CCCCN)C(=O)NCCCCC...   \n",
              "4395  4395  CC[C@H](C)CC1=CN(N=N1)[C@@H](CCCN=C(NC(=O)OC(C...   \n",
              "\n",
              "                                             moleculas  \n",
              "0     <rdkit.Chem.rdchem.Mol object at 0x7a01e185bdf0>  \n",
              "1     <rdkit.Chem.rdchem.Mol object at 0x7a01e185bd80>  \n",
              "2     <rdkit.Chem.rdchem.Mol object at 0x7a01e185bed0>  \n",
              "3     <rdkit.Chem.rdchem.Mol object at 0x7a01e185bf40>  \n",
              "4     <rdkit.Chem.rdchem.Mol object at 0x7a01e185be60>  \n",
              "...                                                ...  \n",
              "4391  <rdkit.Chem.rdchem.Mol object at 0x7a01e1759000>  \n",
              "4392  <rdkit.Chem.rdchem.Mol object at 0x7a01e1759070>  \n",
              "4393  <rdkit.Chem.rdchem.Mol object at 0x7a01e17590e0>  \n",
              "4394  <rdkit.Chem.rdchem.Mol object at 0x7a01e1759150>  \n",
              "4395  <rdkit.Chem.rdchem.Mol object at 0x7a01e17591c0>  \n",
              "\n",
              "[4396 rows x 3 columns]"
            ],
            "text/html": [
              "\n",
              "  <div id=\"df-c0c8432c-fbe7-4e99-80c2-e0c16e0ba272\" class=\"colab-df-container\">\n",
              "    <div>\n",
              "<style scoped>\n",
              "    .dataframe tbody tr th:only-of-type {\n",
              "        vertical-align: middle;\n",
              "    }\n",
              "\n",
              "    .dataframe tbody tr th {\n",
              "        vertical-align: top;\n",
              "    }\n",
              "\n",
              "    .dataframe thead th {\n",
              "        text-align: right;\n",
              "    }\n",
              "</style>\n",
              "<table border=\"1\" class=\"dataframe\">\n",
              "  <thead>\n",
              "    <tr style=\"text-align: right;\">\n",
              "      <th></th>\n",
              "      <th>ID</th>\n",
              "      <th>smiles</th>\n",
              "      <th>moleculas</th>\n",
              "    </tr>\n",
              "  </thead>\n",
              "  <tbody>\n",
              "    <tr>\n",
              "      <th>0</th>\n",
              "      <td>0</td>\n",
              "      <td>CC1=CC=C(C=C1)C(C2=NN=NN2C(C)(C)C)N(CC3=CC=CO3...</td>\n",
              "      <td>&lt;rdkit.Chem.rdchem.Mol object at 0x7a01e185bdf0&gt;</td>\n",
              "    </tr>\n",
              "    <tr>\n",
              "      <th>1</th>\n",
              "      <td>1</td>\n",
              "      <td>C1CCN(C1)S(=O)(=O)C2=CC=C(C=C2)S(=O)(=O)NC3=CC...</td>\n",
              "      <td>&lt;rdkit.Chem.rdchem.Mol object at 0x7a01e185bd80&gt;</td>\n",
              "    </tr>\n",
              "    <tr>\n",
              "      <th>2</th>\n",
              "      <td>2</td>\n",
              "      <td>C1CCC(CC1)CNC2=C3CCCCC3=NC4=NN=NN24</td>\n",
              "      <td>&lt;rdkit.Chem.rdchem.Mol object at 0x7a01e185bed0&gt;</td>\n",
              "    </tr>\n",
              "    <tr>\n",
              "      <th>3</th>\n",
              "      <td>3</td>\n",
              "      <td>CC1=CC(=C(C=C1N)C(C)C)OC.Cl</td>\n",
              "      <td>&lt;rdkit.Chem.rdchem.Mol object at 0x7a01e185bf40&gt;</td>\n",
              "    </tr>\n",
              "    <tr>\n",
              "      <th>4</th>\n",
              "      <td>4</td>\n",
              "      <td>C1CN(CCN1C2=CC=CC=C2)C(C3=CN=CC=C3)C4=NN=NN4CC...</td>\n",
              "      <td>&lt;rdkit.Chem.rdchem.Mol object at 0x7a01e185be60&gt;</td>\n",
              "    </tr>\n",
              "    <tr>\n",
              "      <th>...</th>\n",
              "      <td>...</td>\n",
              "      <td>...</td>\n",
              "      <td>...</td>\n",
              "    </tr>\n",
              "    <tr>\n",
              "      <th>4391</th>\n",
              "      <td>4391</td>\n",
              "      <td>CCCCCCC1=C(C=C(C=C1)O)O</td>\n",
              "      <td>&lt;rdkit.Chem.rdchem.Mol object at 0x7a01e1759000&gt;</td>\n",
              "    </tr>\n",
              "    <tr>\n",
              "      <th>4392</th>\n",
              "      <td>4392</td>\n",
              "      <td>CC[C@H](C)CC1=CN(N=N1)[C@@H](CCCN=C(N)N)C(=O)N...</td>\n",
              "      <td>&lt;rdkit.Chem.rdchem.Mol object at 0x7a01e1759070&gt;</td>\n",
              "    </tr>\n",
              "    <tr>\n",
              "      <th>4393</th>\n",
              "      <td>4393</td>\n",
              "      <td>CC[C@H](C)CC1=CN(N=N1)[C@@H](CCCCN)C(=O)NCCCCC...</td>\n",
              "      <td>&lt;rdkit.Chem.rdchem.Mol object at 0x7a01e17590e0&gt;</td>\n",
              "    </tr>\n",
              "    <tr>\n",
              "      <th>4394</th>\n",
              "      <td>4394</td>\n",
              "      <td>CC[C@H](C)CC1=CN(N=N1)[C@@H](CCCCN)C(=O)NCCCCC...</td>\n",
              "      <td>&lt;rdkit.Chem.rdchem.Mol object at 0x7a01e1759150&gt;</td>\n",
              "    </tr>\n",
              "    <tr>\n",
              "      <th>4395</th>\n",
              "      <td>4395</td>\n",
              "      <td>CC[C@H](C)CC1=CN(N=N1)[C@@H](CCCN=C(NC(=O)OC(C...</td>\n",
              "      <td>&lt;rdkit.Chem.rdchem.Mol object at 0x7a01e17591c0&gt;</td>\n",
              "    </tr>\n",
              "  </tbody>\n",
              "</table>\n",
              "<p>4396 rows × 3 columns</p>\n",
              "</div>\n",
              "    <div class=\"colab-df-buttons\">\n",
              "\n",
              "  <div class=\"colab-df-container\">\n",
              "    <button class=\"colab-df-convert\" onclick=\"convertToInteractive('df-c0c8432c-fbe7-4e99-80c2-e0c16e0ba272')\"\n",
              "            title=\"Convert this dataframe to an interactive table.\"\n",
              "            style=\"display:none;\">\n",
              "\n",
              "  <svg xmlns=\"http://www.w3.org/2000/svg\" height=\"24px\" viewBox=\"0 -960 960 960\">\n",
              "    <path d=\"M120-120v-720h720v720H120Zm60-500h600v-160H180v160Zm220 220h160v-160H400v160Zm0 220h160v-160H400v160ZM180-400h160v-160H180v160Zm440 0h160v-160H620v160ZM180-180h160v-160H180v160Zm440 0h160v-160H620v160Z\"/>\n",
              "  </svg>\n",
              "    </button>\n",
              "\n",
              "  <style>\n",
              "    .colab-df-container {\n",
              "      display:flex;\n",
              "      gap: 12px;\n",
              "    }\n",
              "\n",
              "    .colab-df-convert {\n",
              "      background-color: #E8F0FE;\n",
              "      border: none;\n",
              "      border-radius: 50%;\n",
              "      cursor: pointer;\n",
              "      display: none;\n",
              "      fill: #1967D2;\n",
              "      height: 32px;\n",
              "      padding: 0 0 0 0;\n",
              "      width: 32px;\n",
              "    }\n",
              "\n",
              "    .colab-df-convert:hover {\n",
              "      background-color: #E2EBFA;\n",
              "      box-shadow: 0px 1px 2px rgba(60, 64, 67, 0.3), 0px 1px 3px 1px rgba(60, 64, 67, 0.15);\n",
              "      fill: #174EA6;\n",
              "    }\n",
              "\n",
              "    .colab-df-buttons div {\n",
              "      margin-bottom: 4px;\n",
              "    }\n",
              "\n",
              "    [theme=dark] .colab-df-convert {\n",
              "      background-color: #3B4455;\n",
              "      fill: #D2E3FC;\n",
              "    }\n",
              "\n",
              "    [theme=dark] .colab-df-convert:hover {\n",
              "      background-color: #434B5C;\n",
              "      box-shadow: 0px 1px 3px 1px rgba(0, 0, 0, 0.15);\n",
              "      filter: drop-shadow(0px 1px 2px rgba(0, 0, 0, 0.3));\n",
              "      fill: #FFFFFF;\n",
              "    }\n",
              "  </style>\n",
              "\n",
              "    <script>\n",
              "      const buttonEl =\n",
              "        document.querySelector('#df-c0c8432c-fbe7-4e99-80c2-e0c16e0ba272 button.colab-df-convert');\n",
              "      buttonEl.style.display =\n",
              "        google.colab.kernel.accessAllowed ? 'block' : 'none';\n",
              "\n",
              "      async function convertToInteractive(key) {\n",
              "        const element = document.querySelector('#df-c0c8432c-fbe7-4e99-80c2-e0c16e0ba272');\n",
              "        const dataTable =\n",
              "          await google.colab.kernel.invokeFunction('convertToInteractive',\n",
              "                                                    [key], {});\n",
              "        if (!dataTable) return;\n",
              "\n",
              "        const docLinkHtml = 'Like what you see? Visit the ' +\n",
              "          '<a target=\"_blank\" href=https://colab.research.google.com/notebooks/data_table.ipynb>data table notebook</a>'\n",
              "          + ' to learn more about interactive tables.';\n",
              "        element.innerHTML = '';\n",
              "        dataTable['output_type'] = 'display_data';\n",
              "        await google.colab.output.renderOutput(dataTable, element);\n",
              "        const docLink = document.createElement('div');\n",
              "        docLink.innerHTML = docLinkHtml;\n",
              "        element.appendChild(docLink);\n",
              "      }\n",
              "    </script>\n",
              "  </div>\n",
              "\n",
              "\n",
              "<div id=\"df-07a2a78a-a853-4e54-b673-280a8892f73f\">\n",
              "  <button class=\"colab-df-quickchart\" onclick=\"quickchart('df-07a2a78a-a853-4e54-b673-280a8892f73f')\"\n",
              "            title=\"Suggest charts\"\n",
              "            style=\"display:none;\">\n",
              "\n",
              "<svg xmlns=\"http://www.w3.org/2000/svg\" height=\"24px\"viewBox=\"0 0 24 24\"\n",
              "     width=\"24px\">\n",
              "    <g>\n",
              "        <path d=\"M19 3H5c-1.1 0-2 .9-2 2v14c0 1.1.9 2 2 2h14c1.1 0 2-.9 2-2V5c0-1.1-.9-2-2-2zM9 17H7v-7h2v7zm4 0h-2V7h2v10zm4 0h-2v-4h2v4z\"/>\n",
              "    </g>\n",
              "</svg>\n",
              "  </button>\n",
              "\n",
              "<style>\n",
              "  .colab-df-quickchart {\n",
              "      --bg-color: #E8F0FE;\n",
              "      --fill-color: #1967D2;\n",
              "      --hover-bg-color: #E2EBFA;\n",
              "      --hover-fill-color: #174EA6;\n",
              "      --disabled-fill-color: #AAA;\n",
              "      --disabled-bg-color: #DDD;\n",
              "  }\n",
              "\n",
              "  [theme=dark] .colab-df-quickchart {\n",
              "      --bg-color: #3B4455;\n",
              "      --fill-color: #D2E3FC;\n",
              "      --hover-bg-color: #434B5C;\n",
              "      --hover-fill-color: #FFFFFF;\n",
              "      --disabled-bg-color: #3B4455;\n",
              "      --disabled-fill-color: #666;\n",
              "  }\n",
              "\n",
              "  .colab-df-quickchart {\n",
              "    background-color: var(--bg-color);\n",
              "    border: none;\n",
              "    border-radius: 50%;\n",
              "    cursor: pointer;\n",
              "    display: none;\n",
              "    fill: var(--fill-color);\n",
              "    height: 32px;\n",
              "    padding: 0;\n",
              "    width: 32px;\n",
              "  }\n",
              "\n",
              "  .colab-df-quickchart:hover {\n",
              "    background-color: var(--hover-bg-color);\n",
              "    box-shadow: 0 1px 2px rgba(60, 64, 67, 0.3), 0 1px 3px 1px rgba(60, 64, 67, 0.15);\n",
              "    fill: var(--button-hover-fill-color);\n",
              "  }\n",
              "\n",
              "  .colab-df-quickchart-complete:disabled,\n",
              "  .colab-df-quickchart-complete:disabled:hover {\n",
              "    background-color: var(--disabled-bg-color);\n",
              "    fill: var(--disabled-fill-color);\n",
              "    box-shadow: none;\n",
              "  }\n",
              "\n",
              "  .colab-df-spinner {\n",
              "    border: 2px solid var(--fill-color);\n",
              "    border-color: transparent;\n",
              "    border-bottom-color: var(--fill-color);\n",
              "    animation:\n",
              "      spin 1s steps(1) infinite;\n",
              "  }\n",
              "\n",
              "  @keyframes spin {\n",
              "    0% {\n",
              "      border-color: transparent;\n",
              "      border-bottom-color: var(--fill-color);\n",
              "      border-left-color: var(--fill-color);\n",
              "    }\n",
              "    20% {\n",
              "      border-color: transparent;\n",
              "      border-left-color: var(--fill-color);\n",
              "      border-top-color: var(--fill-color);\n",
              "    }\n",
              "    30% {\n",
              "      border-color: transparent;\n",
              "      border-left-color: var(--fill-color);\n",
              "      border-top-color: var(--fill-color);\n",
              "      border-right-color: var(--fill-color);\n",
              "    }\n",
              "    40% {\n",
              "      border-color: transparent;\n",
              "      border-right-color: var(--fill-color);\n",
              "      border-top-color: var(--fill-color);\n",
              "    }\n",
              "    60% {\n",
              "      border-color: transparent;\n",
              "      border-right-color: var(--fill-color);\n",
              "    }\n",
              "    80% {\n",
              "      border-color: transparent;\n",
              "      border-right-color: var(--fill-color);\n",
              "      border-bottom-color: var(--fill-color);\n",
              "    }\n",
              "    90% {\n",
              "      border-color: transparent;\n",
              "      border-bottom-color: var(--fill-color);\n",
              "    }\n",
              "  }\n",
              "</style>\n",
              "\n",
              "  <script>\n",
              "    async function quickchart(key) {\n",
              "      const quickchartButtonEl =\n",
              "        document.querySelector('#' + key + ' button');\n",
              "      quickchartButtonEl.disabled = true;  // To prevent multiple clicks.\n",
              "      quickchartButtonEl.classList.add('colab-df-spinner');\n",
              "      try {\n",
              "        const charts = await google.colab.kernel.invokeFunction(\n",
              "            'suggestCharts', [key], {});\n",
              "      } catch (error) {\n",
              "        console.error('Error during call to suggestCharts:', error);\n",
              "      }\n",
              "      quickchartButtonEl.classList.remove('colab-df-spinner');\n",
              "      quickchartButtonEl.classList.add('colab-df-quickchart-complete');\n",
              "    }\n",
              "    (() => {\n",
              "      let quickchartButtonEl =\n",
              "        document.querySelector('#df-07a2a78a-a853-4e54-b673-280a8892f73f button');\n",
              "      quickchartButtonEl.style.display =\n",
              "        google.colab.kernel.accessAllowed ? 'block' : 'none';\n",
              "    })();\n",
              "  </script>\n",
              "</div>\n",
              "\n",
              "  <div id=\"id_f68b9d13-d3c9-49d8-bde3-41b8dcfc663f\">\n",
              "    <style>\n",
              "      .colab-df-generate {\n",
              "        background-color: #E8F0FE;\n",
              "        border: none;\n",
              "        border-radius: 50%;\n",
              "        cursor: pointer;\n",
              "        display: none;\n",
              "        fill: #1967D2;\n",
              "        height: 32px;\n",
              "        padding: 0 0 0 0;\n",
              "        width: 32px;\n",
              "      }\n",
              "\n",
              "      .colab-df-generate:hover {\n",
              "        background-color: #E2EBFA;\n",
              "        box-shadow: 0px 1px 2px rgba(60, 64, 67, 0.3), 0px 1px 3px 1px rgba(60, 64, 67, 0.15);\n",
              "        fill: #174EA6;\n",
              "      }\n",
              "\n",
              "      [theme=dark] .colab-df-generate {\n",
              "        background-color: #3B4455;\n",
              "        fill: #D2E3FC;\n",
              "      }\n",
              "\n",
              "      [theme=dark] .colab-df-generate:hover {\n",
              "        background-color: #434B5C;\n",
              "        box-shadow: 0px 1px 3px 1px rgba(0, 0, 0, 0.15);\n",
              "        filter: drop-shadow(0px 1px 2px rgba(0, 0, 0, 0.3));\n",
              "        fill: #FFFFFF;\n",
              "      }\n",
              "    </style>\n",
              "    <button class=\"colab-df-generate\" onclick=\"generateWithVariable('smiles_tabla')\"\n",
              "            title=\"Generate code using this dataframe.\"\n",
              "            style=\"display:none;\">\n",
              "\n",
              "  <svg xmlns=\"http://www.w3.org/2000/svg\" height=\"24px\"viewBox=\"0 0 24 24\"\n",
              "       width=\"24px\">\n",
              "    <path d=\"M7,19H8.4L18.45,9,17,7.55,7,17.6ZM5,21V16.75L18.45,3.32a2,2,0,0,1,2.83,0l1.4,1.43a1.91,1.91,0,0,1,.58,1.4,1.91,1.91,0,0,1-.58,1.4L9.25,21ZM18.45,9,17,7.55Zm-12,3A5.31,5.31,0,0,0,4.9,8.1,5.31,5.31,0,0,0,1,6.5,5.31,5.31,0,0,0,4.9,4.9,5.31,5.31,0,0,0,6.5,1,5.31,5.31,0,0,0,8.1,4.9,5.31,5.31,0,0,0,12,6.5,5.46,5.46,0,0,0,6.5,12Z\"/>\n",
              "  </svg>\n",
              "    </button>\n",
              "    <script>\n",
              "      (() => {\n",
              "      const buttonEl =\n",
              "        document.querySelector('#id_f68b9d13-d3c9-49d8-bde3-41b8dcfc663f button.colab-df-generate');\n",
              "      buttonEl.style.display =\n",
              "        google.colab.kernel.accessAllowed ? 'block' : 'none';\n",
              "\n",
              "      buttonEl.onclick = () => {\n",
              "        google.colab.notebook.generateWithVariable('smiles_tabla');\n",
              "      }\n",
              "      })();\n",
              "    </script>\n",
              "  </div>\n",
              "\n",
              "    </div>\n",
              "  </div>\n"
            ],
            "application/vnd.google.colaboratory.intrinsic+json": {
              "type": "dataframe",
              "variable_name": "smiles_tabla",
              "summary": "{\n  \"name\": \"smiles_tabla\",\n  \"rows\": 4396,\n  \"fields\": [\n    {\n      \"column\": \"ID\",\n      \"properties\": {\n        \"dtype\": \"number\",\n        \"std\": 1269,\n        \"min\": 0,\n        \"max\": 4395,\n        \"num_unique_values\": 4396,\n        \"samples\": [\n          3942,\n          2658,\n          1532\n        ],\n        \"semantic_type\": \"\",\n        \"description\": \"\"\n      }\n    },\n    {\n      \"column\": \"smiles\",\n      \"properties\": {\n        \"dtype\": \"string\",\n        \"num_unique_values\": 4394,\n        \"samples\": [\n          \"CC1=C(SC(=C1CN2CCN(CC2)CC3=CC=CC=C3)NC(=O)C4=CC=CO4)C\",\n          \"COC1=CC=C(C=C1)CN2CCC(=CC2)/C=C/C3=CC=C(C=C3)OC.Cl\",\n          \"CC1=CC(=NC(=N1)NCC2=CC=CC=C2)N/N=C/C3=CC=C(C=C3)Cl\"\n        ],\n        \"semantic_type\": \"\",\n        \"description\": \"\"\n      }\n    },\n    {\n      \"column\": \"moleculas\",\n      \"properties\": {\n        \"dtype\": \"string\",\n        \"num_unique_values\": 4396,\n        \"samples\": [\n          \"<rdkit.Chem.rdchem.Mol object at 0x7a01e174ca50>\",\n          \"<rdkit.Chem.rdchem.Mol object at 0x7a01e1729310>\",\n          \"<rdkit.Chem.rdchem.Mol object at 0x7a01e17061f0>\"\n        ],\n        \"semantic_type\": \"\",\n        \"description\": \"\"\n      }\n    }\n  ]\n}"
            }
          },
          "metadata": {},
          "execution_count": 73
        }
      ],
      "source": [
        "smiles_tabla"
      ]
    },
    {
      "cell_type": "markdown",
      "id": "e9b47aee",
      "metadata": {
        "id": "e9b47aee"
      },
      "source": [
        "Podemos usar un comando el siguiente comando para dibujar todas las moléculas de la tabla\n",
        "\n",
        "👇"
      ]
    },
    {
      "cell_type": "code",
      "execution_count": null,
      "id": "a2151996",
      "metadata": {
        "id": "a2151996",
        "colab": {
          "base_uri": "https://localhost:8080/",
          "height": 817
        },
        "outputId": "3012e432-51b8-4162-bba7-9d62df733f39"
      },
      "outputs": [
        {
          "output_type": "execute_result",
          "data": {
            "text/plain": [
              "<PIL.PngImagePlugin.PngImageFile image mode=RGB size=1000x800>"
            ],
            "image/png": "[encoded data removed]",
            "image/jpeg": "[encoded data removed]"
          },
          "metadata": {},
          "execution_count": 77
        }
      ],
      "source": [
        "from rdkit.Chem import Draw\n",
        "\n",
        "# Generar imagen de las primeras N moléculas (por ejemplo, 20)\n",
        "Draw.MolsToGridImage(\n",
        "    smiles_tabla['moleculas'].iloc[:20].tolist(),\n",
        "    legends=smiles_tabla['ID'].astype(str).iloc[:20].tolist(),\n",
        "    molsPerRow=5,\n",
        "    subImgSize=(200, 200)\n",
        ")"
      ]
    },
    {
      "cell_type": "markdown",
      "source": [
        "## PandasTools"
      ],
      "metadata": {
        "id": "XEJ6zKBlU6rX"
      },
      "id": "XEJ6zKBlU6rX"
    },
    {
      "cell_type": "markdown",
      "source": [
        "PandasTools es una libreria que\n",
        "habilita varias funciones que permiten usar moléculas RDKit como columnas de un marco de datos de Pandas.\n",
        "\n",
        "Esto nos va a permitir hacer la conversión de moléculas que hicimos en la sección anterior de una manera más rápida.\n",
        "\n",
        "Vamos a volver a cargar la tabla:"
      ],
      "metadata": {
        "id": "eTRUY5u48uPe"
      },
      "id": "eTRUY5u48uPe"
    },
    {
      "cell_type": "code",
      "source": [
        "#Generar una variable con el nombre de la tabla que contiene la lista de moléculas activas del ensayo\n",
        "smiles_tabla = pd.read_csv('smiles.csv')"
      ],
      "metadata": {
        "id": "gqoz6e271JS2"
      },
      "id": "gqoz6e271JS2",
      "execution_count": null,
      "outputs": []
    },
    {
      "cell_type": "markdown",
      "source": [
        "Ahora vamos a usar `PandasTools` para agregar la molécula de cada smiles"
      ],
      "metadata": {
        "id": "XluZEGaT9eWV"
      },
      "id": "XluZEGaT9eWV"
    },
    {
      "cell_type": "code",
      "source": [
        "from rdkit.Chem import PandasTools\n",
        "\n",
        "#Agregar el formato molécula de RDKit para cada smiles\n",
        "PandasTools.AddMoleculeColumnToFrame(smiles_tabla, smilesCol='smiles')"
      ],
      "metadata": {
        "id": "bHj2iGEe1RGp"
      },
      "id": "bHj2iGEe1RGp",
      "execution_count": null,
      "outputs": []
    },
    {
      "cell_type": "markdown",
      "source": [
        "Vamos a imprimir la tabla para ver como quedó:"
      ],
      "metadata": {
        "id": "7E4QpHhy_FWQ"
      },
      "id": "7E4QpHhy_FWQ"
    },
    {
      "cell_type": "code",
      "source": [
        "#Imprimir la tabla\n",
        "smiles_tabla"
      ],
      "metadata": {
        "id": "mXD5D3AQ3eir",
        "colab": {
          "base_uri": "https://localhost:8080/",
          "height": 1000
        },
        "outputId": "0cf281c1-7a0b-4c9c-a905-9a54c85f4429"
      },
      "id": "mXD5D3AQ3eir",
      "execution_count": null,
      "outputs": [
        {
          "output_type": "execute_result",
          "data": {
            "text/plain": [
              "        ID                                             smiles  \\\n",
              "0        0  CC1=CC=C(C=C1)C(C2=NN=NN2C(C)(C)C)N(CC3=CC=CO3...   \n",
              "1        1  C1CCN(C1)S(=O)(=O)C2=CC=C(C=C2)S(=O)(=O)NC3=CC...   \n",
              "2        2                C1CCC(CC1)CNC2=C3CCCCC3=NC4=NN=NN24   \n",
              "3        3                        CC1=CC(=C(C=C1N)C(C)C)OC.Cl   \n",
              "4        4  C1CN(CCN1C2=CC=CC=C2)C(C3=CN=CC=C3)C4=NN=NN4CC...   \n",
              "...    ...                                                ...   \n",
              "4391  4391                            CCCCCCC1=C(C=C(C=C1)O)O   \n",
              "4392  4392  CC[C@H](C)CC1=CN(N=N1)[C@@H](CCCN=C(N)N)C(=O)N...   \n",
              "4393  4393  CC[C@H](C)CC1=CN(N=N1)[C@@H](CCCCN)C(=O)NCCCCC...   \n",
              "4394  4394  CC[C@H](C)CC1=CN(N=N1)[C@@H](CCCCN)C(=O)NCCCCC...   \n",
              "4395  4395  CC[C@H](C)CC1=CN(N=N1)[C@@H](CCCN=C(NC(=O)OC(C...   \n",
              "\n",
              "                                                 ROMol  \n",
              "0     <rdkit.Chem.rdchem.Mol object at 0x7a01e076d5b0>  \n",
              "1     <rdkit.Chem.rdchem.Mol object at 0x7a01dd09a260>  \n",
              "2     <rdkit.Chem.rdchem.Mol object at 0x7a01dd09a880>  \n",
              "3     <rdkit.Chem.rdchem.Mol object at 0x7a01dd09a8f0>  \n",
              "4     <rdkit.Chem.rdchem.Mol object at 0x7a01dd09a960>  \n",
              "...                                                ...  \n",
              "4391  <rdkit.Chem.rdchem.Mol object at 0x7a01dd163990>  \n",
              "4392  <rdkit.Chem.rdchem.Mol object at 0x7a01dd163a00>  \n",
              "4393  <rdkit.Chem.rdchem.Mol object at 0x7a01dd163a70>  \n",
              "4394  <rdkit.Chem.rdchem.Mol object at 0x7a01dd163ae0>  \n",
              "4395  <rdkit.Chem.rdchem.Mol object at 0x7a01dd163b50>  \n",
              "\n",
              "[4396 rows x 3 columns]"
            ],
            "text/html": [
              "\n",
              "  <div id=\"df-160dd70f-045f-4350-8b8a-1f62632e6194\" class=\"colab-df-container\">\n",
              "    <div>\n",
              "<style scoped>\n",
              "    .dataframe tbody tr th:only-of-type {\n",
              "        vertical-align: middle;\n",
              "    }\n",
              "\n",
              "    .dataframe tbody tr th {\n",
              "        vertical-align: top;\n",
              "    }\n",
              "\n",
              "    .dataframe thead th {\n",
              "        text-align: right;\n",
              "    }\n",
              "</style>\n",
              "<table border=\"1\" class=\"dataframe\">\n",
              "  <thead>\n",
              "    <tr style=\"text-align: right;\">\n",
              "      <th></th>\n",
              "      <th>ID</th>\n",
              "      <th>smiles</th>\n",
              "      <th>ROMol</th>\n",
              "    </tr>\n",
              "  </thead>\n",
              "  <tbody>\n",
              "    <tr>\n",
              "      <th>0</th>\n",
              "      <td>0</td>\n",
              "      <td>CC1=CC=C(C=C1)C(C2=NN=NN2C(C)(C)C)N(CC3=CC=CO3...</td>\n",
              "      <td style=\"text-align: center;\"><div style=\"width: 200px; height: 200px\" data-content=\"rdkit/molecule\"><img src=\"data:image/png;base64,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\" alt=\"Mol\"/></div></td>\n",
              "    </tr>\n",
              "    <tr>\n",
              "      <th>1</th>\n",
              "      <td>1</td>\n",
              "      <td>C1CCN(C1)S(=O)(=O)C2=CC=C(C=C2)S(=O)(=O)NC3=CC...</td>\n",
              "      <td style=\"text-align: center;\"><div style=\"width: 200px; height: 200px\" data-content=\"rdkit/molecule\"><img src=\"data:image/png;base64,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\" alt=\"Mol\"/></div></td>\n",
              "    </tr>\n",
              "    <tr>\n",
              "      <th>2</th>\n",
              "      <td>2</td>\n",
              "      <td>C1CCC(CC1)CNC2=C3CCCCC3=NC4=NN=NN24</td>\n",
              "      <td style=\"text-align: center;\"><div style=\"width: 200px; height: 200px\" data-content=\"rdkit/molecule\"><img src=\"data:image/png;base64,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\" alt=\"Mol\"/></div></td>\n",
              "    </tr>\n",
              "    <tr>\n",
              "      <th>3</th>\n",
              "      <td>3</td>\n",
              "      <td>CC1=CC(=C(C=C1N)C(C)C)OC.Cl</td>\n",
              "      <td style=\"text-align: center;\"><div style=\"width: 200px; height: 200px\" data-content=\"rdkit/molecule\"><img src=\"data:image/png;base64,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\" alt=\"Mol\"/></div></td>\n",
              "    </tr>\n",
              "    <tr>\n",
              "      <th>4</th>\n",
              "      <td>4</td>\n",
              "      <td>C1CN(CCN1C2=CC=CC=C2)C(C3=CN=CC=C3)C4=NN=NN4CC...</td>\n",
              "      <td style=\"text-align: center;\"><div style=\"width: 200px; height: 200px\" data-content=\"rdkit/molecule\"><img src=\"data:image/png;base64,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\" alt=\"Mol\"/></div></td>\n",
              "    </tr>\n",
              "    <tr>\n",
              "      <th>...</th>\n",
              "      <td>...</td>\n",
              "      <td>...</td>\n",
              "      <td>...</td>\n",
              "    </tr>\n",
              "    <tr>\n",
              "      <th>4391</th>\n",
              "      <td>4391</td>\n",
              "      <td>CCCCCCC1=C(C=C(C=C1)O)O</td>\n",
              "      <td style=\"text-align: center;\"><div style=\"width: 200px; height: 200px\" data-content=\"rdkit/molecule\"><img src=\"data:image/png;base64,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\" alt=\"Mol\"/></div></td>\n",
              "    </tr>\n",
              "    <tr>\n",
              "      <th>4392</th>\n",
              "      <td>4392</td>\n",
              "      <td>CC[C@H](C)CC1=CN(N=N1)[C@@H](CCCN=C(N)N)C(=O)N...</td>\n",
              "      <td style=\"text-align: center;\"><div style=\"width: 200px; height: 200px\" data-content=\"rdkit/molecule\"><img src=\"data:image/png;base64,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\" alt=\"Mol\"/></div></td>\n",
              "    </tr>\n",
              "    <tr>\n",
              "      <th>4393</th>\n",
              "      <td>4393</td>\n",
              "      <td>CC[C@H](C)CC1=CN(N=N1)[C@@H](CCCCN)C(=O)NCCCCC...</td>\n",
              "      <td style=\"text-align: center;\"><div style=\"width: 200px; height: 200px\" data-content=\"rdkit/molecule\"><img src=\"data:image/png;base64,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\" alt=\"Mol\"/></div></td>\n",
              "    </tr>\n",
              "    <tr>\n",
              "      <th>4394</th>\n",
              "      <td>4394</td>\n",
              "      <td>CC[C@H](C)CC1=CN(N=N1)[C@@H](CCCCN)C(=O)NCCCCC...</td>\n",
              "      <td style=\"text-align: center;\"><div style=\"width: 200px; height: 200px\" data-content=\"rdkit/molecule\"><img src=\"data:image/png;base64,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\" alt=\"Mol\"/></div></td>\n",
              "    </tr>\n",
              "    <tr>\n",
              "      <th>4395</th>\n",
              "      <td>4395</td>\n",
              "      <td>CC[C@H](C)CC1=CN(N=N1)[C@@H](CCCN=C(NC(=O)OC(C...</td>\n",
              "      <td style=\"text-align: center;\"><div style=\"width: 200px; height: 200px\" data-content=\"rdkit/molecule\"><img src=\"data:image/png;base64,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\" alt=\"Mol\"/></div></td>\n",
              "    </tr>\n",
              "  </tbody>\n",
              "</table>\n",
              "<p>4396 rows × 3 columns</p>\n",
              "</div>\n",
              "    <div class=\"colab-df-buttons\">\n",
              "\n",
              "  <div class=\"colab-df-container\">\n",
              "    <button class=\"colab-df-convert\" onclick=\"convertToInteractive('df-160dd70f-045f-4350-8b8a-1f62632e6194')\"\n",
              "            title=\"Convert this dataframe to an interactive table.\"\n",
              "            style=\"display:none;\">\n",
              "\n",
              "  <svg xmlns=\"http://www.w3.org/2000/svg\" height=\"24px\" viewBox=\"0 -960 960 960\">\n",
              "    <path d=\"M120-120v-720h720v720H120Zm60-500h600v-160H180v160Zm220 220h160v-160H400v160Zm0 220h160v-160H400v160ZM180-400h160v-160H180v160Zm440 0h160v-160H620v160ZM180-180h160v-160H180v160Zm440 0h160v-160H620v160Z\"/>\n",
              "  </svg>\n",
              "    </button>\n",
              "\n",
              "  <style>\n",
              "    .colab-df-container {\n",
              "      display:flex;\n",
              "      gap: 12px;\n",
              "    }\n",
              "\n",
              "    .colab-df-convert {\n",
              "      background-color: #E8F0FE;\n",
              "      border: none;\n",
              "      border-radius: 50%;\n",
              "      cursor: pointer;\n",
              "      display: none;\n",
              "      fill: #1967D2;\n",
              "      height: 32px;\n",
              "      padding: 0 0 0 0;\n",
              "      width: 32px;\n",
              "    }\n",
              "\n",
              "    .colab-df-convert:hover {\n",
              "      background-color: #E2EBFA;\n",
              "      box-shadow: 0px 1px 2px rgba(60, 64, 67, 0.3), 0px 1px 3px 1px rgba(60, 64, 67, 0.15);\n",
              "      fill: #174EA6;\n",
              "    }\n",
              "\n",
              "    .colab-df-buttons div {\n",
              "      margin-bottom: 4px;\n",
              "    }\n",
              "\n",
              "    [theme=dark] .colab-df-convert {\n",
              "      background-color: #3B4455;\n",
              "      fill: #D2E3FC;\n",
              "    }\n",
              "\n",
              "    [theme=dark] .colab-df-convert:hover {\n",
              "      background-color: #434B5C;\n",
              "      box-shadow: 0px 1px 3px 1px rgba(0, 0, 0, 0.15);\n",
              "      filter: drop-shadow(0px 1px 2px rgba(0, 0, 0, 0.3));\n",
              "      fill: #FFFFFF;\n",
              "    }\n",
              "  </style>\n",
              "\n",
              "    <script>\n",
              "      const buttonEl =\n",
              "        document.querySelector('#df-160dd70f-045f-4350-8b8a-1f62632e6194 button.colab-df-convert');\n",
              "      buttonEl.style.display =\n",
              "        google.colab.kernel.accessAllowed ? 'block' : 'none';\n",
              "\n",
              "      async function convertToInteractive(key) {\n",
              "        const element = document.querySelector('#df-160dd70f-045f-4350-8b8a-1f62632e6194');\n",
              "        const dataTable =\n",
              "          await google.colab.kernel.invokeFunction('convertToInteractive',\n",
              "                                                    [key], {});\n",
              "        if (!dataTable) return;\n",
              "\n",
              "        const docLinkHtml = 'Like what you see? Visit the ' +\n",
              "          '<a target=\"_blank\" href=https://colab.research.google.com/notebooks/data_table.ipynb>data table notebook</a>'\n",
              "          + ' to learn more about interactive tables.';\n",
              "        element.innerHTML = '';\n",
              "        dataTable['output_type'] = 'display_data';\n",
              "        await google.colab.output.renderOutput(dataTable, element);\n",
              "        const docLink = document.createElement('div');\n",
              "        docLink.innerHTML = docLinkHtml;\n",
              "        element.appendChild(docLink);\n",
              "      }\n",
              "    </script>\n",
              "  </div>\n",
              "\n",
              "\n",
              "<div id=\"df-e99725e1-35e7-42e9-9c2f-9e6cf0690537\">\n",
              "  <button class=\"colab-df-quickchart\" onclick=\"quickchart('df-e99725e1-35e7-42e9-9c2f-9e6cf0690537')\"\n",
              "            title=\"Suggest charts\"\n",
              "            style=\"display:none;\">\n",
              "\n",
              "<svg xmlns=\"http://www.w3.org/2000/svg\" height=\"24px\"viewBox=\"0 0 24 24\"\n",
              "     width=\"24px\">\n",
              "    <g>\n",
              "        <path d=\"M19 3H5c-1.1 0-2 .9-2 2v14c0 1.1.9 2 2 2h14c1.1 0 2-.9 2-2V5c0-1.1-.9-2-2-2zM9 17H7v-7h2v7zm4 0h-2V7h2v10zm4 0h-2v-4h2v4z\"/>\n",
              "    </g>\n",
              "</svg>\n",
              "  </button>\n",
              "\n",
              "<style>\n",
              "  .colab-df-quickchart {\n",
              "      --bg-color: #E8F0FE;\n",
              "      --fill-color: #1967D2;\n",
              "      --hover-bg-color: #E2EBFA;\n",
              "      --hover-fill-color: #174EA6;\n",
              "      --disabled-fill-color: #AAA;\n",
              "      --disabled-bg-color: #DDD;\n",
              "  }\n",
              "\n",
              "  [theme=dark] .colab-df-quickchart {\n",
              "      --bg-color: #3B4455;\n",
              "      --fill-color: #D2E3FC;\n",
              "      --hover-bg-color: #434B5C;\n",
              "      --hover-fill-color: #FFFFFF;\n",
              "      --disabled-bg-color: #3B4455;\n",
              "      --disabled-fill-color: #666;\n",
              "  }\n",
              "\n",
              "  .colab-df-quickchart {\n",
              "    background-color: var(--bg-color);\n",
              "    border: none;\n",
              "    border-radius: 50%;\n",
              "    cursor: pointer;\n",
              "    display: none;\n",
              "    fill: var(--fill-color);\n",
              "    height: 32px;\n",
              "    padding: 0;\n",
              "    width: 32px;\n",
              "  }\n",
              "\n",
              "  .colab-df-quickchart:hover {\n",
              "    background-color: var(--hover-bg-color);\n",
              "    box-shadow: 0 1px 2px rgba(60, 64, 67, 0.3), 0 1px 3px 1px rgba(60, 64, 67, 0.15);\n",
              "    fill: var(--button-hover-fill-color);\n",
              "  }\n",
              "\n",
              "  .colab-df-quickchart-complete:disabled,\n",
              "  .colab-df-quickchart-complete:disabled:hover {\n",
              "    background-color: var(--disabled-bg-color);\n",
              "    fill: var(--disabled-fill-color);\n",
              "    box-shadow: none;\n",
              "  }\n",
              "\n",
              "  .colab-df-spinner {\n",
              "    border: 2px solid var(--fill-color);\n",
              "    border-color: transparent;\n",
              "    border-bottom-color: var(--fill-color);\n",
              "    animation:\n",
              "      spin 1s steps(1) infinite;\n",
              "  }\n",
              "\n",
              "  @keyframes spin {\n",
              "    0% {\n",
              "      border-color: transparent;\n",
              "      border-bottom-color: var(--fill-color);\n",
              "      border-left-color: var(--fill-color);\n",
              "    }\n",
              "    20% {\n",
              "      border-color: transparent;\n",
              "      border-left-color: var(--fill-color);\n",
              "      border-top-color: var(--fill-color);\n",
              "    }\n",
              "    30% {\n",
              "      border-color: transparent;\n",
              "      border-left-color: var(--fill-color);\n",
              "      border-top-color: var(--fill-color);\n",
              "      border-right-color: var(--fill-color);\n",
              "    }\n",
              "    40% {\n",
              "      border-color: transparent;\n",
              "      border-right-color: var(--fill-color);\n",
              "      border-top-color: var(--fill-color);\n",
              "    }\n",
              "    60% {\n",
              "      border-color: transparent;\n",
              "      border-right-color: var(--fill-color);\n",
              "    }\n",
              "    80% {\n",
              "      border-color: transparent;\n",
              "      border-right-color: var(--fill-color);\n",
              "      border-bottom-color: var(--fill-color);\n",
              "    }\n",
              "    90% {\n",
              "      border-color: transparent;\n",
              "      border-bottom-color: var(--fill-color);\n",
              "    }\n",
              "  }\n",
              "</style>\n",
              "\n",
              "  <script>\n",
              "    async function quickchart(key) {\n",
              "      const quickchartButtonEl =\n",
              "        document.querySelector('#' + key + ' button');\n",
              "      quickchartButtonEl.disabled = true;  // To prevent multiple clicks.\n",
              "      quickchartButtonEl.classList.add('colab-df-spinner');\n",
              "      try {\n",
              "        const charts = await google.colab.kernel.invokeFunction(\n",
              "            'suggestCharts', [key], {});\n",
              "      } catch (error) {\n",
              "        console.error('Error during call to suggestCharts:', error);\n",
              "      }\n",
              "      quickchartButtonEl.classList.remove('colab-df-spinner');\n",
              "      quickchartButtonEl.classList.add('colab-df-quickchart-complete');\n",
              "    }\n",
              "    (() => {\n",
              "      let quickchartButtonEl =\n",
              "        document.querySelector('#df-e99725e1-35e7-42e9-9c2f-9e6cf0690537 button');\n",
              "      quickchartButtonEl.style.display =\n",
              "        google.colab.kernel.accessAllowed ? 'block' : 'none';\n",
              "    })();\n",
              "  </script>\n",
              "</div>\n",
              "\n",
              "  <div id=\"id_40c32d6e-16b9-4aae-9b7b-0fb30b076e89\">\n",
              "    <style>\n",
              "      .colab-df-generate {\n",
              "        background-color: #E8F0FE;\n",
              "        border: none;\n",
              "        border-radius: 50%;\n",
              "        cursor: pointer;\n",
              "        display: none;\n",
              "        fill: #1967D2;\n",
              "        height: 32px;\n",
              "        padding: 0 0 0 0;\n",
              "        width: 32px;\n",
              "      }\n",
              "\n",
              "      .colab-df-generate:hover {\n",
              "        background-color: #E2EBFA;\n",
              "        box-shadow: 0px 1px 2px rgba(60, 64, 67, 0.3), 0px 1px 3px 1px rgba(60, 64, 67, 0.15);\n",
              "        fill: #174EA6;\n",
              "      }\n",
              "\n",
              "      [theme=dark] .colab-df-generate {\n",
              "        background-color: #3B4455;\n",
              "        fill: #D2E3FC;\n",
              "      }\n",
              "\n",
              "      [theme=dark] .colab-df-generate:hover {\n",
              "        background-color: #434B5C;\n",
              "        box-shadow: 0px 1px 3px 1px rgba(0, 0, 0, 0.15);\n",
              "        filter: drop-shadow(0px 1px 2px rgba(0, 0, 0, 0.3));\n",
              "        fill: #FFFFFF;\n",
              "      }\n",
              "    </style>\n",
              "    <button class=\"colab-df-generate\" onclick=\"generateWithVariable('smiles_tabla')\"\n",
              "            title=\"Generate code using this dataframe.\"\n",
              "            style=\"display:none;\">\n",
              "\n",
              "  <svg xmlns=\"http://www.w3.org/2000/svg\" height=\"24px\"viewBox=\"0 0 24 24\"\n",
              "       width=\"24px\">\n",
              "    <path d=\"M7,19H8.4L18.45,9,17,7.55,7,17.6ZM5,21V16.75L18.45,3.32a2,2,0,0,1,2.83,0l1.4,1.43a1.91,1.91,0,0,1,.58,1.4,1.91,1.91,0,0,1-.58,1.4L9.25,21ZM18.45,9,17,7.55Zm-12,3A5.31,5.31,0,0,0,4.9,8.1,5.31,5.31,0,0,0,1,6.5,5.31,5.31,0,0,0,4.9,4.9,5.31,5.31,0,0,0,6.5,1,5.31,5.31,0,0,0,8.1,4.9,5.31,5.31,0,0,0,12,6.5,5.46,5.46,0,0,0,6.5,12Z\"/>\n",
              "  </svg>\n",
              "    </button>\n",
              "    <script>\n",
              "      (() => {\n",
              "      const buttonEl =\n",
              "        document.querySelector('#id_40c32d6e-16b9-4aae-9b7b-0fb30b076e89 button.colab-df-generate');\n",
              "      buttonEl.style.display =\n",
              "        google.colab.kernel.accessAllowed ? 'block' : 'none';\n",
              "\n",
              "      buttonEl.onclick = () => {\n",
              "        google.colab.notebook.generateWithVariable('smiles_tabla');\n",
              "      }\n",
              "      })();\n",
              "    </script>\n",
              "  </div>\n",
              "\n",
              "    </div>\n",
              "  </div>\n"
            ],
            "application/vnd.google.colaboratory.intrinsic+json": {
              "type": "dataframe",
              "variable_name": "smiles_tabla",
              "summary": "{\n  \"name\": \"smiles_tabla\",\n  \"rows\": 4396,\n  \"fields\": [\n    {\n      \"column\": \"ID\",\n      \"properties\": {\n        \"dtype\": \"number\",\n        \"std\": 1269,\n        \"min\": 0,\n        \"max\": 4395,\n        \"num_unique_values\": 4396,\n        \"samples\": [\n          3942,\n          2658,\n          1532\n        ],\n        \"semantic_type\": \"\",\n        \"description\": \"\"\n      }\n    },\n    {\n      \"column\": \"smiles\",\n      \"properties\": {\n        \"dtype\": \"string\",\n        \"num_unique_values\": 4394,\n        \"samples\": [\n          \"CC1=C(SC(=C1CN2CCN(CC2)CC3=CC=CC=C3)NC(=O)C4=CC=CO4)C\",\n          \"COC1=CC=C(C=C1)CN2CCC(=CC2)/C=C/C3=CC=C(C=C3)OC.Cl\",\n          \"CC1=CC(=NC(=N1)NCC2=CC=CC=C2)N/N=C/C3=CC=C(C=C3)Cl\"\n        ],\n        \"semantic_type\": \"\",\n        \"description\": \"\"\n      }\n    },\n    {\n      \"column\": \"ROMol\",\n      \"properties\": {\n        \"dtype\": \"string\",\n        \"num_unique_values\": 4396,\n        \"samples\": [\n          \"<rdkit.Chem.rdchem.Mol object at 0x7a01dd157370>\",\n          \"<rdkit.Chem.rdchem.Mol object at 0x7a01dd133ca0>\",\n          \"<rdkit.Chem.rdchem.Mol object at 0x7a01dd114c10>\"\n        ],\n        \"semantic_type\": \"\",\n        \"description\": \"\"\n      }\n    }\n  ]\n}"
            }
          },
          "metadata": {},
          "execution_count": 81
        }
      ]
    },
    {
      "cell_type": "markdown",
      "source": [
        "---\n",
        "## Limpieza de datos\n"
      ],
      "metadata": {
        "id": "9cgNEEoqJZYj"
      },
      "id": "9cgNEEoqJZYj"
    },
    {
      "cell_type": "markdown",
      "source": [
        "Para todo trabajo bioinformático es fundamental el tratamiento de los datos para descartar valores nulos y repetidos.\n",
        "En el caso de la quimioinformática, esto trae sus desafíos"
      ],
      "metadata": {
        "id": "CIGzvhNhJe--"
      },
      "id": "CIGzvhNhJe--"
    },
    {
      "cell_type": "markdown",
      "source": [
        "La nomenclatura usada para los compuestos va a tener un rol importante en el tratamiento de los datos.\n",
        "Como vimos en el práctico 1, la nomenclatura en smiles puede variar para un mismo compuesto. Es por este motivo que se recomienda filtrar los duplicados usando la nomenclatura Inchi o InchiKey.\n",
        "\n",
        "Vamos a cambiar la forma de llamar a nuestras moléculas:"
      ],
      "metadata": {
        "id": "P54n9ouqJoGj"
      },
      "id": "P54n9ouqJoGj"
    },
    {
      "cell_type": "code",
      "source": [
        "# Generar el InchiKey de todas las moléculas de la tabla\n",
        "moleculas_inchikey = [Chem.MolToInchiKey(molecula) for molecula in smiles_tabla['ROMol']]\n",
        "smiles_tabla['inchikey'] = moleculas_inchikey"
      ],
      "metadata": {
        "id": "CZt7Fw0kJedL"
      },
      "id": "CZt7Fw0kJedL",
      "execution_count": null,
      "outputs": []
    },
    {
      "cell_type": "markdown",
      "source": [
        "Ahora vamos a eliminar las moléculas que estén duplicadas sólo en la columna de `InchiKey`"
      ],
      "metadata": {
        "id": "36bE_qiGMiBr"
      },
      "id": "36bE_qiGMiBr"
    },
    {
      "cell_type": "code",
      "source": [
        "# Eliminar los duplicados de la columna \"inchikey\" y quedarse con la primera vez que aparece\n",
        "smiles_tabla = smiles_tabla.drop_duplicates(smiles_tabla.columns[~smiles_tabla.columns.isin(['inchikey'])], keep='first')"
      ],
      "metadata": {
        "id": "Qt8gfec5MV5e"
      },
      "id": "Qt8gfec5MV5e",
      "execution_count": null,
      "outputs": []
    },
    {
      "cell_type": "markdown",
      "source": [
        "Por último, vamos a eliminar las filas que tengan valores vacíos usando la función `dropna()`"
      ],
      "metadata": {
        "id": "Ttn_Cd5RM4Ss"
      },
      "id": "Ttn_Cd5RM4Ss"
    },
    {
      "cell_type": "code",
      "source": [
        "#Eliminar filas con datos vacios o NA\n",
        "smiles_tabla.dropna()"
      ],
      "metadata": {
        "id": "gK5Pe1eFM3ok",
        "colab": {
          "base_uri": "https://localhost:8080/",
          "height": 597
        },
        "outputId": "22deb437-dda4-406f-a4ce-b0ba8c959c03"
      },
      "id": "gK5Pe1eFM3ok",
      "execution_count": null,
      "outputs": [
        {
          "output_type": "execute_result",
          "data": {
            "text/plain": [
              "        ID                                             smiles  \\\n",
              "0        0  CC1=CC=C(C=C1)C(C2=NN=NN2C(C)(C)C)N(CC3=CC=CO3...   \n",
              "1        1  C1CCN(C1)S(=O)(=O)C2=CC=C(C=C2)S(=O)(=O)NC3=CC...   \n",
              "2        2                C1CCC(CC1)CNC2=C3CCCCC3=NC4=NN=NN24   \n",
              "3        3                        CC1=CC(=C(C=C1N)C(C)C)OC.Cl   \n",
              "4        4  C1CN(CCN1C2=CC=CC=C2)C(C3=CN=CC=C3)C4=NN=NN4CC...   \n",
              "...    ...                                                ...   \n",
              "4391  4391                            CCCCCCC1=C(C=C(C=C1)O)O   \n",
              "4392  4392  CC[C@H](C)CC1=CN(N=N1)[C@@H](CCCN=C(N)N)C(=O)N...   \n",
              "4393  4393  CC[C@H](C)CC1=CN(N=N1)[C@@H](CCCCN)C(=O)NCCCCC...   \n",
              "4394  4394  CC[C@H](C)CC1=CN(N=N1)[C@@H](CCCCN)C(=O)NCCCCC...   \n",
              "4395  4395  CC[C@H](C)CC1=CN(N=N1)[C@@H](CCCN=C(NC(=O)OC(C...   \n",
              "\n",
              "                                                 ROMol  \\\n",
              "0     <rdkit.Chem.rdchem.Mol object at 0x7a01e076d5b0>   \n",
              "1     <rdkit.Chem.rdchem.Mol object at 0x7a01dd09a260>   \n",
              "2     <rdkit.Chem.rdchem.Mol object at 0x7a01dd09a880>   \n",
              "3     <rdkit.Chem.rdchem.Mol object at 0x7a01dd09a8f0>   \n",
              "4     <rdkit.Chem.rdchem.Mol object at 0x7a01dd09a960>   \n",
              "...                                                ...   \n",
              "4391  <rdkit.Chem.rdchem.Mol object at 0x7a01dd163990>   \n",
              "4392  <rdkit.Chem.rdchem.Mol object at 0x7a01dd163a00>   \n",
              "4393  <rdkit.Chem.rdchem.Mol object at 0x7a01dd163a70>   \n",
              "4394  <rdkit.Chem.rdchem.Mol object at 0x7a01dd163ae0>   \n",
              "4395  <rdkit.Chem.rdchem.Mol object at 0x7a01dd163b50>   \n",
              "\n",
              "                                             moleculas  \\\n",
              "0     <rdkit.Chem.rdchem.Mol object at 0x7a01e185bdf0>   \n",
              "1     <rdkit.Chem.rdchem.Mol object at 0x7a01e185bd80>   \n",
              "2     <rdkit.Chem.rdchem.Mol object at 0x7a01e185bed0>   \n",
              "3     <rdkit.Chem.rdchem.Mol object at 0x7a01e185bf40>   \n",
              "4     <rdkit.Chem.rdchem.Mol object at 0x7a01e185be60>   \n",
              "...                                                ...   \n",
              "4391  <rdkit.Chem.rdchem.Mol object at 0x7a01e1759000>   \n",
              "4392  <rdkit.Chem.rdchem.Mol object at 0x7a01e1759070>   \n",
              "4393  <rdkit.Chem.rdchem.Mol object at 0x7a01e17590e0>   \n",
              "4394  <rdkit.Chem.rdchem.Mol object at 0x7a01e1759150>   \n",
              "4395  <rdkit.Chem.rdchem.Mol object at 0x7a01e17591c0>   \n",
              "\n",
              "                         inchikey  \n",
              "0     GWPBJZLTYMUVMV-UHFFFAOYSA-N  \n",
              "1     AQJOPZLWPJXKQC-UHFFFAOYSA-N  \n",
              "2     GSSZIRDJOKLGGZ-UHFFFAOYSA-N  \n",
              "3     FQMDGRJHBVBUTR-UHFFFAOYSA-N  \n",
              "4     OXXMYGBQTYQECH-UHFFFAOYSA-N  \n",
              "...                           ...  \n",
              "4391  WFJIVOKAWHGMBH-UHFFFAOYSA-N  \n",
              "4392  RNLYVRKMBPOHNI-UNDPIUDWSA-N  \n",
              "4393  SMYFYPCDLGZRIA-IEAZLBRSSA-N  \n",
              "4394  UIZOYKBALIHNJF-MODPYIGGSA-N  \n",
              "4395  FHIJWWDEXOXMOX-TWJUONSBSA-N  \n",
              "\n",
              "[4396 rows x 5 columns]"
            ],
            "text/html": [
              "\n",
              "  <div id=\"df-39810b2e-d761-43f2-8bac-520a57be8809\" class=\"colab-df-container\">\n",
              "    <div>\n",
              "<style scoped>\n",
              "    .dataframe tbody tr th:only-of-type {\n",
              "        vertical-align: middle;\n",
              "    }\n",
              "\n",
              "    .dataframe tbody tr th {\n",
              "        vertical-align: top;\n",
              "    }\n",
              "\n",
              "    .dataframe thead th {\n",
              "        text-align: right;\n",
              "    }\n",
              "</style>\n",
              "<table border=\"1\" class=\"dataframe\">\n",
              "  <thead>\n",
              "    <tr style=\"text-align: right;\">\n",
              "      <th></th>\n",
              "      <th>ID</th>\n",
              "      <th>smiles</th>\n",
              "      <th>ROMol</th>\n",
              "      <th>moleculas</th>\n",
              "      <th>inchikey</th>\n",
              "    </tr>\n",
              "  </thead>\n",
              "  <tbody>\n",
              "    <tr>\n",
              "      <th>0</th>\n",
              "      <td>0</td>\n",
              "      <td>CC1=CC=C(C=C1)C(C2=NN=NN2C(C)(C)C)N(CC3=CC=CO3...</td>\n",
              "      <td>&lt;rdkit.Chem.rdchem.Mol object at 0x7a01e076d5b0&gt;</td>\n",
              "      <td>&lt;rdkit.Chem.rdchem.Mol object at 0x7a01e185bdf0&gt;</td>\n",
              "      <td>GWPBJZLTYMUVMV-UHFFFAOYSA-N</td>\n",
              "    </tr>\n",
              "    <tr>\n",
              "      <th>1</th>\n",
              "      <td>1</td>\n",
              "      <td>C1CCN(C1)S(=O)(=O)C2=CC=C(C=C2)S(=O)(=O)NC3=CC...</td>\n",
              "      <td>&lt;rdkit.Chem.rdchem.Mol object at 0x7a01dd09a260&gt;</td>\n",
              "      <td>&lt;rdkit.Chem.rdchem.Mol object at 0x7a01e185bd80&gt;</td>\n",
              "      <td>AQJOPZLWPJXKQC-UHFFFAOYSA-N</td>\n",
              "    </tr>\n",
              "    <tr>\n",
              "      <th>2</th>\n",
              "      <td>2</td>\n",
              "      <td>C1CCC(CC1)CNC2=C3CCCCC3=NC4=NN=NN24</td>\n",
              "      <td>&lt;rdkit.Chem.rdchem.Mol object at 0x7a01dd09a880&gt;</td>\n",
              "      <td>&lt;rdkit.Chem.rdchem.Mol object at 0x7a01e185bed0&gt;</td>\n",
              "      <td>GSSZIRDJOKLGGZ-UHFFFAOYSA-N</td>\n",
              "    </tr>\n",
              "    <tr>\n",
              "      <th>3</th>\n",
              "      <td>3</td>\n",
              "      <td>CC1=CC(=C(C=C1N)C(C)C)OC.Cl</td>\n",
              "      <td>&lt;rdkit.Chem.rdchem.Mol object at 0x7a01dd09a8f0&gt;</td>\n",
              "      <td>&lt;rdkit.Chem.rdchem.Mol object at 0x7a01e185bf40&gt;</td>\n",
              "      <td>FQMDGRJHBVBUTR-UHFFFAOYSA-N</td>\n",
              "    </tr>\n",
              "    <tr>\n",
              "      <th>4</th>\n",
              "      <td>4</td>\n",
              "      <td>C1CN(CCN1C2=CC=CC=C2)C(C3=CN=CC=C3)C4=NN=NN4CC...</td>\n",
              "      <td>&lt;rdkit.Chem.rdchem.Mol object at 0x7a01dd09a960&gt;</td>\n",
              "      <td>&lt;rdkit.Chem.rdchem.Mol object at 0x7a01e185be60&gt;</td>\n",
              "      <td>OXXMYGBQTYQECH-UHFFFAOYSA-N</td>\n",
              "    </tr>\n",
              "    <tr>\n",
              "      <th>...</th>\n",
              "      <td>...</td>\n",
              "      <td>...</td>\n",
              "      <td>...</td>\n",
              "      <td>...</td>\n",
              "      <td>...</td>\n",
              "    </tr>\n",
              "    <tr>\n",
              "      <th>4391</th>\n",
              "      <td>4391</td>\n",
              "      <td>CCCCCCC1=C(C=C(C=C1)O)O</td>\n",
              "      <td>&lt;rdkit.Chem.rdchem.Mol object at 0x7a01dd163990&gt;</td>\n",
              "      <td>&lt;rdkit.Chem.rdchem.Mol object at 0x7a01e1759000&gt;</td>\n",
              "      <td>WFJIVOKAWHGMBH-UHFFFAOYSA-N</td>\n",
              "    </tr>\n",
              "    <tr>\n",
              "      <th>4392</th>\n",
              "      <td>4392</td>\n",
              "      <td>CC[C@H](C)CC1=CN(N=N1)[C@@H](CCCN=C(N)N)C(=O)N...</td>\n",
              "      <td>&lt;rdkit.Chem.rdchem.Mol object at 0x7a01dd163a00&gt;</td>\n",
              "      <td>&lt;rdkit.Chem.rdchem.Mol object at 0x7a01e1759070&gt;</td>\n",
              "      <td>RNLYVRKMBPOHNI-UNDPIUDWSA-N</td>\n",
              "    </tr>\n",
              "    <tr>\n",
              "      <th>4393</th>\n",
              "      <td>4393</td>\n",
              "      <td>CC[C@H](C)CC1=CN(N=N1)[C@@H](CCCCN)C(=O)NCCCCC...</td>\n",
              "      <td>&lt;rdkit.Chem.rdchem.Mol object at 0x7a01dd163a70&gt;</td>\n",
              "      <td>&lt;rdkit.Chem.rdchem.Mol object at 0x7a01e17590e0&gt;</td>\n",
              "      <td>SMYFYPCDLGZRIA-IEAZLBRSSA-N</td>\n",
              "    </tr>\n",
              "    <tr>\n",
              "      <th>4394</th>\n",
              "      <td>4394</td>\n",
              "      <td>CC[C@H](C)CC1=CN(N=N1)[C@@H](CCCCN)C(=O)NCCCCC...</td>\n",
              "      <td>&lt;rdkit.Chem.rdchem.Mol object at 0x7a01dd163ae0&gt;</td>\n",
              "      <td>&lt;rdkit.Chem.rdchem.Mol object at 0x7a01e1759150&gt;</td>\n",
              "      <td>UIZOYKBALIHNJF-MODPYIGGSA-N</td>\n",
              "    </tr>\n",
              "    <tr>\n",
              "      <th>4395</th>\n",
              "      <td>4395</td>\n",
              "      <td>CC[C@H](C)CC1=CN(N=N1)[C@@H](CCCN=C(NC(=O)OC(C...</td>\n",
              "      <td>&lt;rdkit.Chem.rdchem.Mol object at 0x7a01dd163b50&gt;</td>\n",
              "      <td>&lt;rdkit.Chem.rdchem.Mol object at 0x7a01e17591c0&gt;</td>\n",
              "      <td>FHIJWWDEXOXMOX-TWJUONSBSA-N</td>\n",
              "    </tr>\n",
              "  </tbody>\n",
              "</table>\n",
              "<p>4396 rows × 5 columns</p>\n",
              "</div>\n",
              "    <div class=\"colab-df-buttons\">\n",
              "\n",
              "  <div class=\"colab-df-container\">\n",
              "    <button class=\"colab-df-convert\" onclick=\"convertToInteractive('df-39810b2e-d761-43f2-8bac-520a57be8809')\"\n",
              "            title=\"Convert this dataframe to an interactive table.\"\n",
              "            style=\"display:none;\">\n",
              "\n",
              "  <svg xmlns=\"http://www.w3.org/2000/svg\" height=\"24px\" viewBox=\"0 -960 960 960\">\n",
              "    <path d=\"M120-120v-720h720v720H120Zm60-500h600v-160H180v160Zm220 220h160v-160H400v160Zm0 220h160v-160H400v160ZM180-400h160v-160H180v160Zm440 0h160v-160H620v160ZM180-180h160v-160H180v160Zm440 0h160v-160H620v160Z\"/>\n",
              "  </svg>\n",
              "    </button>\n",
              "\n",
              "  <style>\n",
              "    .colab-df-container {\n",
              "      display:flex;\n",
              "      gap: 12px;\n",
              "    }\n",
              "\n",
              "    .colab-df-convert {\n",
              "      background-color: #E8F0FE;\n",
              "      border: none;\n",
              "      border-radius: 50%;\n",
              "      cursor: pointer;\n",
              "      display: none;\n",
              "      fill: #1967D2;\n",
              "      height: 32px;\n",
              "      padding: 0 0 0 0;\n",
              "      width: 32px;\n",
              "    }\n",
              "\n",
              "    .colab-df-convert:hover {\n",
              "      background-color: #E2EBFA;\n",
              "      box-shadow: 0px 1px 2px rgba(60, 64, 67, 0.3), 0px 1px 3px 1px rgba(60, 64, 67, 0.15);\n",
              "      fill: #174EA6;\n",
              "    }\n",
              "\n",
              "    .colab-df-buttons div {\n",
              "      margin-bottom: 4px;\n",
              "    }\n",
              "\n",
              "    [theme=dark] .colab-df-convert {\n",
              "      background-color: #3B4455;\n",
              "      fill: #D2E3FC;\n",
              "    }\n",
              "\n",
              "    [theme=dark] .colab-df-convert:hover {\n",
              "      background-color: #434B5C;\n",
              "      box-shadow: 0px 1px 3px 1px rgba(0, 0, 0, 0.15);\n",
              "      filter: drop-shadow(0px 1px 2px rgba(0, 0, 0, 0.3));\n",
              "      fill: #FFFFFF;\n",
              "    }\n",
              "  </style>\n",
              "\n",
              "    <script>\n",
              "      const buttonEl =\n",
              "        document.querySelector('#df-39810b2e-d761-43f2-8bac-520a57be8809 button.colab-df-convert');\n",
              "      buttonEl.style.display =\n",
              "        google.colab.kernel.accessAllowed ? 'block' : 'none';\n",
              "\n",
              "      async function convertToInteractive(key) {\n",
              "        const element = document.querySelector('#df-39810b2e-d761-43f2-8bac-520a57be8809');\n",
              "        const dataTable =\n",
              "          await google.colab.kernel.invokeFunction('convertToInteractive',\n",
              "                                                    [key], {});\n",
              "        if (!dataTable) return;\n",
              "\n",
              "        const docLinkHtml = 'Like what you see? Visit the ' +\n",
              "          '<a target=\"_blank\" href=https://colab.research.google.com/notebooks/data_table.ipynb>data table notebook</a>'\n",
              "          + ' to learn more about interactive tables.';\n",
              "        element.innerHTML = '';\n",
              "        dataTable['output_type'] = 'display_data';\n",
              "        await google.colab.output.renderOutput(dataTable, element);\n",
              "        const docLink = document.createElement('div');\n",
              "        docLink.innerHTML = docLinkHtml;\n",
              "        element.appendChild(docLink);\n",
              "      }\n",
              "    </script>\n",
              "  </div>\n",
              "\n",
              "\n",
              "<div id=\"df-047db95a-dc70-481e-93d0-b750f5483e87\">\n",
              "  <button class=\"colab-df-quickchart\" onclick=\"quickchart('df-047db95a-dc70-481e-93d0-b750f5483e87')\"\n",
              "            title=\"Suggest charts\"\n",
              "            style=\"display:none;\">\n",
              "\n",
              "<svg xmlns=\"http://www.w3.org/2000/svg\" height=\"24px\"viewBox=\"0 0 24 24\"\n",
              "     width=\"24px\">\n",
              "    <g>\n",
              "        <path d=\"M19 3H5c-1.1 0-2 .9-2 2v14c0 1.1.9 2 2 2h14c1.1 0 2-.9 2-2V5c0-1.1-.9-2-2-2zM9 17H7v-7h2v7zm4 0h-2V7h2v10zm4 0h-2v-4h2v4z\"/>\n",
              "    </g>\n",
              "</svg>\n",
              "  </button>\n",
              "\n",
              "<style>\n",
              "  .colab-df-quickchart {\n",
              "      --bg-color: #E8F0FE;\n",
              "      --fill-color: #1967D2;\n",
              "      --hover-bg-color: #E2EBFA;\n",
              "      --hover-fill-color: #174EA6;\n",
              "      --disabled-fill-color: #AAA;\n",
              "      --disabled-bg-color: #DDD;\n",
              "  }\n",
              "\n",
              "  [theme=dark] .colab-df-quickchart {\n",
              "      --bg-color: #3B4455;\n",
              "      --fill-color: #D2E3FC;\n",
              "      --hover-bg-color: #434B5C;\n",
              "      --hover-fill-color: #FFFFFF;\n",
              "      --disabled-bg-color: #3B4455;\n",
              "      --disabled-fill-color: #666;\n",
              "  }\n",
              "\n",
              "  .colab-df-quickchart {\n",
              "    background-color: var(--bg-color);\n",
              "    border: none;\n",
              "    border-radius: 50%;\n",
              "    cursor: pointer;\n",
              "    display: none;\n",
              "    fill: var(--fill-color);\n",
              "    height: 32px;\n",
              "    padding: 0;\n",
              "    width: 32px;\n",
              "  }\n",
              "\n",
              "  .colab-df-quickchart:hover {\n",
              "    background-color: var(--hover-bg-color);\n",
              "    box-shadow: 0 1px 2px rgba(60, 64, 67, 0.3), 0 1px 3px 1px rgba(60, 64, 67, 0.15);\n",
              "    fill: var(--button-hover-fill-color);\n",
              "  }\n",
              "\n",
              "  .colab-df-quickchart-complete:disabled,\n",
              "  .colab-df-quickchart-complete:disabled:hover {\n",
              "    background-color: var(--disabled-bg-color);\n",
              "    fill: var(--disabled-fill-color);\n",
              "    box-shadow: none;\n",
              "  }\n",
              "\n",
              "  .colab-df-spinner {\n",
              "    border: 2px solid var(--fill-color);\n",
              "    border-color: transparent;\n",
              "    border-bottom-color: var(--fill-color);\n",
              "    animation:\n",
              "      spin 1s steps(1) infinite;\n",
              "  }\n",
              "\n",
              "  @keyframes spin {\n",
              "    0% {\n",
              "      border-color: transparent;\n",
              "      border-bottom-color: var(--fill-color);\n",
              "      border-left-color: var(--fill-color);\n",
              "    }\n",
              "    20% {\n",
              "      border-color: transparent;\n",
              "      border-left-color: var(--fill-color);\n",
              "      border-top-color: var(--fill-color);\n",
              "    }\n",
              "    30% {\n",
              "      border-color: transparent;\n",
              "      border-left-color: var(--fill-color);\n",
              "      border-top-color: var(--fill-color);\n",
              "      border-right-color: var(--fill-color);\n",
              "    }\n",
              "    40% {\n",
              "      border-color: transparent;\n",
              "      border-right-color: var(--fill-color);\n",
              "      border-top-color: var(--fill-color);\n",
              "    }\n",
              "    60% {\n",
              "      border-color: transparent;\n",
              "      border-right-color: var(--fill-color);\n",
              "    }\n",
              "    80% {\n",
              "      border-color: transparent;\n",
              "      border-right-color: var(--fill-color);\n",
              "      border-bottom-color: var(--fill-color);\n",
              "    }\n",
              "    90% {\n",
              "      border-color: transparent;\n",
              "      border-bottom-color: var(--fill-color);\n",
              "    }\n",
              "  }\n",
              "</style>\n",
              "\n",
              "  <script>\n",
              "    async function quickchart(key) {\n",
              "      const quickchartButtonEl =\n",
              "        document.querySelector('#' + key + ' button');\n",
              "      quickchartButtonEl.disabled = true;  // To prevent multiple clicks.\n",
              "      quickchartButtonEl.classList.add('colab-df-spinner');\n",
              "      try {\n",
              "        const charts = await google.colab.kernel.invokeFunction(\n",
              "            'suggestCharts', [key], {});\n",
              "      } catch (error) {\n",
              "        console.error('Error during call to suggestCharts:', error);\n",
              "      }\n",
              "      quickchartButtonEl.classList.remove('colab-df-spinner');\n",
              "      quickchartButtonEl.classList.add('colab-df-quickchart-complete');\n",
              "    }\n",
              "    (() => {\n",
              "      let quickchartButtonEl =\n",
              "        document.querySelector('#df-047db95a-dc70-481e-93d0-b750f5483e87 button');\n",
              "      quickchartButtonEl.style.display =\n",
              "        google.colab.kernel.accessAllowed ? 'block' : 'none';\n",
              "    })();\n",
              "  </script>\n",
              "</div>\n",
              "\n",
              "    </div>\n",
              "  </div>\n"
            ],
            "application/vnd.google.colaboratory.intrinsic+json": {
              "type": "dataframe",
              "summary": "{\n  \"name\": \"smiles_tabla\",\n  \"rows\": 4396,\n  \"fields\": [\n    {\n      \"column\": \"ID\",\n      \"properties\": {\n        \"dtype\": \"number\",\n        \"std\": 1269,\n        \"min\": 0,\n        \"max\": 4395,\n        \"num_unique_values\": 4396,\n        \"samples\": [\n          3942,\n          2658,\n          1532\n        ],\n        \"semantic_type\": \"\",\n        \"description\": \"\"\n      }\n    },\n    {\n      \"column\": \"smiles\",\n      \"properties\": {\n        \"dtype\": \"string\",\n        \"num_unique_values\": 4394,\n        \"samples\": [\n          \"CC1=C(SC(=C1CN2CCN(CC2)CC3=CC=CC=C3)NC(=O)C4=CC=CO4)C\",\n          \"COC1=CC=C(C=C1)CN2CCC(=CC2)/C=C/C3=CC=C(C=C3)OC.Cl\",\n          \"CC1=CC(=NC(=N1)NCC2=CC=CC=C2)N/N=C/C3=CC=C(C=C3)Cl\"\n        ],\n        \"semantic_type\": \"\",\n        \"description\": \"\"\n      }\n    },\n    {\n      \"column\": \"ROMol\",\n      \"properties\": {\n        \"dtype\": \"string\",\n        \"num_unique_values\": 4396,\n        \"samples\": [\n          \"<rdkit.Chem.rdchem.Mol object at 0x7a01dd157370>\",\n          \"<rdkit.Chem.rdchem.Mol object at 0x7a01dd133ca0>\",\n          \"<rdkit.Chem.rdchem.Mol object at 0x7a01dd114c10>\"\n        ],\n        \"semantic_type\": \"\",\n        \"description\": \"\"\n      }\n    },\n    {\n      \"column\": \"moleculas\",\n      \"properties\": {\n        \"dtype\": \"string\",\n        \"num_unique_values\": 4396,\n        \"samples\": [\n          \"<rdkit.Chem.rdchem.Mol object at 0x7a01e174ca50>\",\n          \"<rdkit.Chem.rdchem.Mol object at 0x7a01e1729310>\",\n          \"<rdkit.Chem.rdchem.Mol object at 0x7a01e17061f0>\"\n        ],\n        \"semantic_type\": \"\",\n        \"description\": \"\"\n      }\n    },\n    {\n      \"column\": \"inchikey\",\n      \"properties\": {\n        \"dtype\": \"string\",\n        \"num_unique_values\": 4394,\n        \"samples\": [\n          \"VUDAAHGTVVULMQ-UHFFFAOYSA-N\",\n          \"TYJCVIMAADGGQY-BJILWQEISA-N\",\n          \"DMGILJRCIFDWJJ-LPYMAVHISA-N\"\n        ],\n        \"semantic_type\": \"\",\n        \"description\": \"\"\n      }\n    }\n  ]\n}"
            }
          },
          "metadata": {},
          "execution_count": 88
        }
      ]
    },
    {
      "cell_type": "markdown",
      "source": [
        "Veamos como quedó la tabla después del procesamiento:"
      ],
      "metadata": {
        "id": "fk4sEyeMN6dI"
      },
      "id": "fk4sEyeMN6dI"
    },
    {
      "cell_type": "code",
      "source": [
        "# Imprimir la tabla\n",
        "PandasTools.AddMoleculeColumnToFrame(smiles_tabla, smilesCol='smiles')\n",
        "smiles_tabla"
      ],
      "metadata": {
        "id": "BZGL6b6wL9Zb",
        "colab": {
          "base_uri": "https://localhost:8080/",
          "height": 1000
        },
        "outputId": "d3c9935b-e451-4b20-d1fe-42d0399d873f"
      },
      "id": "BZGL6b6wL9Zb",
      "execution_count": null,
      "outputs": [
        {
          "output_type": "execute_result",
          "data": {
            "text/plain": [
              "        ID                                             smiles  \\\n",
              "0        0  CC1=CC=C(C=C1)C(C2=NN=NN2C(C)(C)C)N(CC3=CC=CO3...   \n",
              "1        1  C1CCN(C1)S(=O)(=O)C2=CC=C(C=C2)S(=O)(=O)NC3=CC...   \n",
              "2        2                C1CCC(CC1)CNC2=C3CCCCC3=NC4=NN=NN24   \n",
              "3        3                        CC1=CC(=C(C=C1N)C(C)C)OC.Cl   \n",
              "4        4  C1CN(CCN1C2=CC=CC=C2)C(C3=CN=CC=C3)C4=NN=NN4CC...   \n",
              "...    ...                                                ...   \n",
              "4391  4391                            CCCCCCC1=C(C=C(C=C1)O)O   \n",
              "4392  4392  CC[C@H](C)CC1=CN(N=N1)[C@@H](CCCN=C(N)N)C(=O)N...   \n",
              "4393  4393  CC[C@H](C)CC1=CN(N=N1)[C@@H](CCCCN)C(=O)NCCCCC...   \n",
              "4394  4394  CC[C@H](C)CC1=CN(N=N1)[C@@H](CCCCN)C(=O)NCCCCC...   \n",
              "4395  4395  CC[C@H](C)CC1=CN(N=N1)[C@@H](CCCN=C(NC(=O)OC(C...   \n",
              "\n",
              "                                                 ROMol  \\\n",
              "0     <rdkit.Chem.rdchem.Mol object at 0x7a01dd16c7b0>   \n",
              "1     <rdkit.Chem.rdchem.Mol object at 0x7a01dd075e70>   \n",
              "2     <rdkit.Chem.rdchem.Mol object at 0x7a01dd076260>   \n",
              "3     <rdkit.Chem.rdchem.Mol object at 0x7a01dd075fc0>   \n",
              "4     <rdkit.Chem.rdchem.Mol object at 0x7a01dd076ce0>   \n",
              "...                                                ...   \n",
              "4391  <rdkit.Chem.rdchem.Mol object at 0x7a01dcf2af10>   \n",
              "4392  <rdkit.Chem.rdchem.Mol object at 0x7a01dcf2af80>   \n",
              "4393  <rdkit.Chem.rdchem.Mol object at 0x7a01dcf2aff0>   \n",
              "4394  <rdkit.Chem.rdchem.Mol object at 0x7a01dcf2b060>   \n",
              "4395  <rdkit.Chem.rdchem.Mol object at 0x7a01dcf2b0d0>   \n",
              "\n",
              "                                             moleculas  \\\n",
              "0     <rdkit.Chem.rdchem.Mol object at 0x7a01e185bdf0>   \n",
              "1     <rdkit.Chem.rdchem.Mol object at 0x7a01e185bd80>   \n",
              "2     <rdkit.Chem.rdchem.Mol object at 0x7a01e185bed0>   \n",
              "3     <rdkit.Chem.rdchem.Mol object at 0x7a01e185bf40>   \n",
              "4     <rdkit.Chem.rdchem.Mol object at 0x7a01e185be60>   \n",
              "...                                                ...   \n",
              "4391  <rdkit.Chem.rdchem.Mol object at 0x7a01e1759000>   \n",
              "4392  <rdkit.Chem.rdchem.Mol object at 0x7a01e1759070>   \n",
              "4393  <rdkit.Chem.rdchem.Mol object at 0x7a01e17590e0>   \n",
              "4394  <rdkit.Chem.rdchem.Mol object at 0x7a01e1759150>   \n",
              "4395  <rdkit.Chem.rdchem.Mol object at 0x7a01e17591c0>   \n",
              "\n",
              "                         inchikey  \n",
              "0     GWPBJZLTYMUVMV-UHFFFAOYSA-N  \n",
              "1     AQJOPZLWPJXKQC-UHFFFAOYSA-N  \n",
              "2     GSSZIRDJOKLGGZ-UHFFFAOYSA-N  \n",
              "3     FQMDGRJHBVBUTR-UHFFFAOYSA-N  \n",
              "4     OXXMYGBQTYQECH-UHFFFAOYSA-N  \n",
              "...                           ...  \n",
              "4391  WFJIVOKAWHGMBH-UHFFFAOYSA-N  \n",
              "4392  RNLYVRKMBPOHNI-UNDPIUDWSA-N  \n",
              "4393  SMYFYPCDLGZRIA-IEAZLBRSSA-N  \n",
              "4394  UIZOYKBALIHNJF-MODPYIGGSA-N  \n",
              "4395  FHIJWWDEXOXMOX-TWJUONSBSA-N  \n",
              "\n",
              "[4396 rows x 5 columns]"
            ],
            "text/html": [
              "\n",
              "  <div id=\"df-9f40ffa7-8b36-4553-ab4a-36eff6e59d8c\" class=\"colab-df-container\">\n",
              "    <div>\n",
              "<style scoped>\n",
              "    .dataframe tbody tr th:only-of-type {\n",
              "        vertical-align: middle;\n",
              "    }\n",
              "\n",
              "    .dataframe tbody tr th {\n",
              "        vertical-align: top;\n",
              "    }\n",
              "\n",
              "    .dataframe thead th {\n",
              "        text-align: right;\n",
              "    }\n",
              "</style>\n",
              "<table border=\"1\" class=\"dataframe\">\n",
              "  <thead>\n",
              "    <tr style=\"text-align: right;\">\n",
              "      <th></th>\n",
              "      <th>ID</th>\n",
              "      <th>smiles</th>\n",
              "      <th>ROMol</th>\n",
              "      <th>moleculas</th>\n",
              "      <th>inchikey</th>\n",
              "    </tr>\n",
              "  </thead>\n",
              "  <tbody>\n",
              "    <tr>\n",
              "      <th>0</th>\n",
              "      <td>0</td>\n",
              "      <td>CC1=CC=C(C=C1)C(C2=NN=NN2C(C)(C)C)N(CC3=CC=CO3...</td>\n",
              "      <td style=\"text-align: center;\"><div style=\"width: 200px; height: 200px\" data-content=\"rdkit/molecule\"><img src=\"data:image/png;base64,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\" alt=\"Mol\"/></div></td>\n",
              "      <td style=\"text-align: center;\"><div style=\"width: 200px; height: 200px\" data-content=\"rdkit/molecule\"><img src=\"data:image/png;base64,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\" alt=\"Mol\"/></div></td>\n",
              "      <td>GWPBJZLTYMUVMV-UHFFFAOYSA-N</td>\n",
              "    </tr>\n",
              "    <tr>\n",
              "      <th>1</th>\n",
              "      <td>1</td>\n",
              "      <td>C1CCN(C1)S(=O)(=O)C2=CC=C(C=C2)S(=O)(=O)NC3=CC...</td>\n",
              "      <td style=\"text-align: center;\"><div style=\"width: 200px; height: 200px\" data-content=\"rdkit/molecule\"><img src=\"data:image/png;base64,iVBORw0KGgoAAAANSUhEUgAAAMgAAADICAIAAAAiOjnJAAAABmJLR0QA/wD/AP+gvaeTAAAZvElEQVR4nO3de1yUVf4H8M8Ml4EEEVTQEhAQNCRvqBtiGqi7ppUuSio/dbMIbfNGriGadylSM9w0ZdXULmvqZkbe0NVaL1vhg3gDlbuAgIqAXGYYYOb8/jhEhQQzz8zx0n7fL16+LOdcGD7zPOc55zwPCsYYCDE35YPuAPl9omARIShYRAgKFhGCgkWEoGARIShYRAgKFhGCgkWEoGARIShYRAgKFhGCgkWEoGARIShYRAgKFhGCgkWEoGARIShYRAgKFhGCgkWEoGARIShYRAgKFhGCgkWEoGARIShYRAgKFhGCgkWEoGARIShYRAgKFhGCgkWEoGARIShYRAgKFhGCgkWEoGARIShYRAgKFhGCgkWEoGARIShYRAgKFhGCgkWEoGARIShYRAgKFhGCgkWEoGARIShYRAgKFhGCgkWEoGARIShYRAgKFhGCgkWEoGARIShYRAgKFhGCgkWEoGARIShYRAgKFhGCgkWEoGARIShYRAgKFhGCgkWEoGA9ejQazaFDh6qrqx90R1pi+aA7QIxz7ty5wYMHa7VavV7v6Ojo6enp6+vbs2dPT09PT0/PJ5988rHHHnvQfQQABWPsQfeBGEqj0QwaNOj8+fPW1tYKhUKr1TZ5gYWFhbu7u7e3t7e3t4+PD/9L165dLSws7nNXKViPkmnTpu3YscPb2zspKenDDz+sq6tTqVR1dXWlpaWZmZkZGRm5ubn19fVNSimVylGjRn311VeWlvfvBEXBemSsX79+7ty5dnZ233//fc+ePdu0aaPRaPg/WVpaurm5eXp6du3a1cnJyd7eXqlU3r17Ny0tLS0tLScnB8CuXbsmTJhw/7rLyKPgzJkz/PS3e/duxphWq42Li/vrX/86YsSIrl27KpXNXITZ2Nj4+fkdPnw4KioKQGho6P3sMB2xHgHFxcX+/v6FhYVvvfXWe++9d+8L6urq8vPzs7Ozs7OzU1NT09LSsrOzc3Nz9Xr9v//9b19fX3d3d4VCkZ+f7+zsfJ86fT9TTGSora0dPHgwgODg4Lq6OsMLVlZWnjt3rrKykjE2ZswYAKtXrxbWzaYoWA+76dOnA3Bzc7t165bsSg4cOADAy8tLr9ebsW8toGA91D755BMANjY2Z8+eNaUenU7n7u4O4MSJE+bqW8to5v3hlZKSwg9XGzdu7N+/vylVKZXKl19+GcCWLVvM0rfW3Z/8EmOVlJR4eHgAeOONN8xSYX5+voWFhbW1tSmnVMOZ/4h18eLFoqIi89SVmorZsxEVhfv2OXs46HS6sLCwnJycgICAdevWmaXOLl26jBw5sra29rPPPjNLha0wMZilpaWnTp2Kj4+fPXv28OHDXVxcANjZ2fHpFlP93/8xrZYxxiIj2fXrZqjwEREcHAygc+fON27cMGO1+/fvB9CjR4/7MIQ3LlhlZWWnT5+Oj4+fNWtWcHBws5MiKpUKQJ8+fczQ+8mTG/7yj3+wb781tbZHh4ODA4CtW7eWlJTs37/fXNXW1dU98cQTAE6ePGmuOn9L64tHVVVVY8aMsbCwuHLlSkFBQZN/dXBw8PX19fPz69mzJ/+zXbt2Pj4+58+f37t370svvWTS4VSpRHU12rTBxYt4/nmTqnqkdOvWLTk5+caNGx4eHhqN5vr1648//rjp1VpaWk6bNm3VqlVbtmx55plnTK+wJa1G7+mnn258sbW1ta+vb2ho6NKlSxMSErKyspo9LMXHxwPw9vY2akKvGZmZLDKSLVjAdu0yqZ5HzcGDBwF4enqGhIQAiImJMVfN169ft7CwsLW1vXPnjrnqbFbrwXryyScBLF68OCsrS6fTGVJpfX199+7dAWzdulV+1955h/XqxT7+mC1YwD77TH49j6DGaafY2FgAHh4eBr7zhvjTn/4EYP369eaqsFmtBEuv19vZ2QEoKyszqt7PP/8cgJubW01NjcyuTZrEALZ8OQNYr14yK3lkLV++HMCECRO8vLwAJCYmmlhhdXX15MmTs7Oz9+zZA8DJySksLGzp0qWff/55UlKSsT/fVrUSLD6ocnZ2NrZenU43dOiIoUPXr1+vldk1f38GsBUrGMDGjZNZCWOMsby8vKCgIEdHx9DQ0IULF27fvv3MmTP3ZzpHtoKCAj7ttGDBAgDjx483scKwsDAAAQEBkZGRSqVSoVA0GRQ5Ojr6+/uHhoZGRUXt3LlTkqSKigrZzbUSrG+//RZAYGCgjKoTEhjAOnZkMrvn4MAAtmBBw59y6fX6P/7xj/e+jwDatWvX+FbGx8efOnWqvLxcdkNm98ILL/BBiJWVlZWVVWFhoeyq+GSYnZ1dXFycQqGwsrL66KOPduzYsXDhwtDQ0D59+rRp06bZIXiXLl2CgoKGDh2akJBgVIutBIsPw6dNmybv+xk0iAFs1SrjSxYXM4A5OrIpUxjAtm2T1wH20znFwcFh06ZNMTExUVFRYWFhAwYMaNeuXbNvpYuLyzPPPNO/f/8ffvhBdqMNdDq2ezf74AOWnS2jdEJCAgAvLy++NyE2NlZeL06fPs33cq1du5YHaMOGDfe+rLS0VJKknTt3RkVFhYaG+vv7/zJtCoVCkiTDG20lWH/7298AvPPOO8Z9Kz85eZIBzMGBGXsJUl1ypmCbf3n81OqYqXXD/HVJZ+R14OjRoxYWFkql8tChQ1VVVfy41XjMnzNnzvLly2NjY5cvXz5lyhR/f397e/vG99HS0vL27dvy2m2wZAk7dIgVFbEJE4x+Cxirr693c3MD8O677/KLRBlD+MLCws6dOwOYO3dut27dAExunB00oAPZ2dmJiYldu3YFsHTpUsPbbSVY/LOyd+9ew2tsYsQIOaey27e3SRJycqacP+8kSaitLZbRdE5OTvv27Rsv13Nycvr169cYnSaeeOKJoKCgiIiIRYsW7d69m/8w4uPjZbT7s8Yf4a5d7JtvZFSwZMkSAJMmTeIXicePHzeqeG1tbWBgIIDg4OBRo0YB6N27d3V1teE1VFRUxMfH//3vf+enxfr6egMLthIsPtdw4cIFw7vSRFISUyhYmzbMqNFLQcECSQL/MyWlrYx21Wp1v379ALz44otNJtv4MX/Pnj1Lly6995gPICUl5dNPPwXQv39/GU3/LCyM8aY3b2bffSejgry8PD6Enz9/PoCJEycaVfy1114D4Obmxs88Tk5OWVlZRtXAN6yOHTvWx8cHwIEDBwws2FKwdDqdjY2NQqGoqqoyqjdNxMSwf/2LMcbq61l+vkFFsrLGSRKKilZIEtLS5Px0p06dCsDHx8eQ8bhOp8vJyTl69OjGjRvnzJlTWVmp0WicnJwAJCcny2i9wb59bP58tmMHmzqVGfxZb4IfaZYsWcITdvPmTQML7ty5E4CNjc26deuUSqVSqTx8+LCxrRcXF1tZWVlaWi5atAjAmDFjDCzYUrCys7MBuLq6Gtube3l4sFOnWEUFi4w06PWpqU9JEgoLl0sSsrPDjG3u/fff5xdBly9fNrqvP5kzZw6A119/XWb5M2fYunXsu+/Y4cNMo5Hdja+++gpAjx49nn/+eQDr1q0zpNS5c+dsbW35+Ixfprz33nvyOjBu3DgAixYtUqlUlpaWBQUFhpRqKVhHjhzhp2d5Hfql115jkyezO3dYZCSLj2effsp++KGl4eydO58VFCwoKfk4NbVXUZFxlw6nT5+2srJSKBR79uwxpc9paWkKhcLe3p5vGzdaVBQDWHQ0A1iHDrK7UVdXxxcKN27cuHPnTrVa3WqRkpISPtyePn26n58fP5fJ3hPAY+Dh4TF+/HgAK1asMKRUS8H68MMPAcyYMUNeh35pxgx2+jRbtoxFRrKOHRnQ8NWhAwsIYFlZMwoLV5WW7q6uTtHpqhhjGs2V3NyIgoJo/p+Ga7wIio6ONr3bfOS7Td5kR0jIzxO8AwaY0g1+Gnr66acPHjyYkZHR6gpseHg4gMDAQB6F7t273717V3brer2ez/7zi1NXV1dDhvAt7W7IyMgA4O3t3cJrWlVWBj5hFBiIXbtgZYXp05GR0fBVUoLHHisrK9tcVvZzEVvbpxwdJ7RvP9XOLhDQ19RcUak8FQpVq21ptdqxY8cWFRUNGzZs5cqVpnSbe+21186cObNly5ZXXnnF6MLp6QDA764z7T10dXW1t7f/8ccfR48ejV/cnsrxZze4u7s33kfPB1XOzs6rVq2yt7fft29f27ZtZbeuUChefvnlxYsXJycnd+vWLTMz89ixYyNHjmylWAuh44WNnXL9pVu3mJ8fe/XVhkui27fZf//7qxcUFbHk5Irbt7cUFLyVmfnn1NSeycmqK1eerq0tyM0Nz8ubXVNzTZKQnGxx6ZJHevqf8vJm3rz59/LyI5mZmfd+bvgn1d3d3dT5p5+o1WpHR0cAKSkpxpXU65mtLQPY/PkMYMbMADVx+fJlvlw7ZMiQlm9Pfeqpp0JCQqKiorZt2xYXF2dpaalQKP7Fr5tMU1RUxGf/+fpSSEhIq0VaChbfDip7rqGkhPXqxQD21FPMmCVOXV1dw+Dr5s0Pbt3aculSt+RkS0lC41di4uMArK2tu3fv/sILL8ybN2/z5s2RkZH8/TVqgrhVM2fOBDBz5kyjStWX5Wv/HKAbFsAmhzFA9u6MiooKPuMTFvbzFYxWq83Kyjp27FhcXFxERMTw4cM9PT2brFkpFAqlUrlw4UJ57d6Lz2guWrSIXyS2urW1pWA5OTkpFAp3d/f4+Hhjd1aVl7P+/RnAfHyYjDWusrKvCwqicnMjdLpKxpheX6vRXCsvP1Bc/P716zMOH/6Lm5tbk7fS3t5eoVB88sknjDFDRrgGunjxIgAHBwcj5xX/LUm4dm1oWlrf1OPOmptybt7S6/V8P1avXr1abb2ioiI5OfmLL75YuXLllClT+FyJGXef8jsTG7eItboY01Kw4uPj+UAYgJeX18cff1xbW2tIJ+7eZQMHMoB5ezMZm7avXQtOTx9eVvZ1cfE6tfr8b71Mo9FcvHjxyy+/jI2NfeWVV/gk54EDB4KCgvr06WN0q7/tD3/4A4AdO3YYXuTWrY8kCbm54Skp9pKE+vpSGe2+884ayJrVZIytXbsWwPPPPy+j3WYZu0WslZl3nU63Z8+eHj168Hi5u7vHxcW1vMWqsrLy5ZeTAOblZeh06C/p9XXJydaSpMzLi5QkFBUZunly3rx5AMLDw/lO/B9//NHotn/D1q1bYeQWj/z8SElCQcEiScL58x1lNHr0KHN2vtWv3/BDhw7JKF5SUqJSqSwsLK6b7yaUZcuWAZgwYQKfyzh69GgLLzboZgqdTpeQkNCnTx8eLzc3t7i4OE1zk35VVVVDhgwBMHbsmdxcOb2vqcmQJFy86J6ZOUaSUFpq6DLl1atXFQqFnZ0dn9gMDw+X03xzqqqq+FWV4dOtGRmjJQmFhSslCVevGr3pKDOTOTryjSHyb0iZOHEigGXLlsmuoQl+Z6Kjo+PixYsBDBw4sIUXG3GXDo9X3759ebxcXV2bxEutVvP7lrp06ZKZmSmv9+XlByUJ6ekjLl/2lSS0cCq8F890TEyMQqFo06aNKZM3nF6v58sgM2bMABAUFJSYmJidnd3qRE529uQLFzrduLFMkpCTY9ymI7Wa9e3LADZmDDPlRqfjx4/DyJXjVn3zzTfl5eUbNmzg5+gWXmn0fYV6vT4hIYGv7wJwcXGJjY1Vq9VarZbPsri4uKSlpcnu+s2bcZKE69f/eu6cjSQpjJog5SvHAwYMePbZZwFs3rxZdje4FStWAJg/f/7bb7/9y/1bKpXK19d37NixUVFv3br1j4qKb2trf7XQodfXl5buLSnZXll5RqMx7t2YOrXhosfETYd6vd7b27tTJ/+jR815S2Zubm6HDh0AjBo1qoWXybxhVa/Xf/nll7179+ZvdKdOnVxdXQE4OzunpqbKq5OrfydaOzagal/s7fcD8/YPMaps48pxTEwMgN69e5vSk8TERL6X64MPPuA3Sw4bNiw4OJh/p1zv3p0bJ0HOnbNLS+ublfXSjRuLSkq23bq1Ua2+qNMZd326fTsDmL09M+Gz+bMNG4otLJjBC8et02g0/CkSI0aMaPlAaOqd0MeOHRswYACfVerQocOlS5dMrLBhA9fKlQxgxi9T8gHWjBkzOnbsCED2nFbjXq6FCxd26dIFwOzZsxv/tbq6mt84uXv3+pycaVevBp4/37ExYRcudK6sPJ2Z+eeKihN6fe2VKwHZ2ZMLC1fcubOrulqqr2/mBN04I3P9Ops0ifFFzspK2VsiGhQXMysrZmnJDFs4bh1fgejatWtJSUnLrzTDQ0H0ev277747a9asb81ys7K7OwPYkiUMYNOnG1s6LS2NTzvNmjULwHTja2CMqdVqPpR88cUXhw4dCmDQoEFabSt3hdTXl1VVJd258/nt21sZY/X1FXl5c+7c+fyXU7uShG++Ge3iwoYMYa++ymJj2ZdfsvR01r8/47fhhIez1asZP+gvXy5vS/OvjB/f8Dk1HR9a2draGrKV6CF72kxNDbOwYFZWbOZMBrC1a2XUMWjQID6Dxy8SZdxqwh8C2717dz5m79Spk7HPUKio+La09F/Z2WGVld9XVp4qKfm4oCA6K2tcamqv+PjVjWvw/GvMGDZ9OpsyhWk0DcE6eJBdvcpmzzZDsBITGcDc3Ew9+H3//ffW1tYAdu7cacjrH7JgXb7cMHB97jkGMFnLlNu3bwcQEBDA7yLfsmWLUcX51KKdnd2aNWsAWFlZGfukg5KSHSUlO8vKvlGrm5me0OtZXh47fpxt3szmzWMvvMDWrGEzZrBz59jKlQ3Bio1ln3zCQkLMECy9nnl5MYAdOSK/kuLiYv7QhzfffNPAIg9ZsIqL2caNLD6eRUQwb2929aqMOhpXjletWtXqdEsTJ06c4Gu3jTe0bNq0ydgOXLzoLkkoLFwqScjLm2tIEb41KSqKTZli5lMhYywmhgEsKqrhP6uqjFq6ZbW1tXweJzAw0MClF2bIQ0Huq7ZtUVAAhQIdOuDSJaha3ypzL1tb27CwsI0bNxYVFTk5OSUlJaWkpDROv7UgPz9/4sSJ9fX18+bN27RpU3V19ZQpU/jZ0HCMaevqChQKq/r6OwCsrbsYUmrsWACIjsZ//gNnZ/Cn+AQHw8nJqMabFxGBxx7D668DwMmTyMzEq6/C2Rne3vDxgbc3evTQeHlleHt7802nTURGRp48ebJz58579+61srIytFUj0y/Y+vXsP/9hjLEjR5gJd8hcuHABQLt27WbPnj1u3DhDrlU1Gg2/vB02bNhzzz0HoE+fPjIWs9Xqy5KEy5d90tNHShLKy+VvOjKj0aMZXzUOD2dxcaxNm18N8vz8/gtAoVC4uroGBwdPnz79/fff59sO+FPaVCqVsUtkD9kR69o1/OUvANC3LxITZVfTq1evgQMHJiUlde7cef369YYUmTlz5tmzZz08PHr37r1u3br27dvv27ev2U9wy7TadAAqlU9NzRUAKpVJW/zMxdUVd+8iIwMASksxaRJcXKBSQadDRQVqa2t0uiezsrLy8/Pz8/NPnDjRtm3bN99888KFCxEREQA2bNgwcOBAo1p8yILVowfOn8fQoUhJga+vKTWNHDlSkqTo6OjVq1c32Wzp4+Nz792Fw4cP//rrr2fNmjVv3jwLC4t//vOf/BGgxrK+fLPTtf6WA5+qrDmmsLBQqTxN+S7MKDoab74JpRJffYVLl37+/0ol3NyCAgODgoKC2rdvb21tXVdXZ2NjU1paGhISolarIyIi+A5K44g48MqnVrPoaLZwIVu0iMl+TA1jjLHS0tJnn32WXyHfiz+SICIiYs2aNfv3779y5YpWq01JSeGP0lsra5qjQXh4w5ZRa2vd8MGmfAtmxC8OPvuMhYSw775jH33EIiPZ6NHM25tZWTGA2dn96pNmZWXFFxsGDhwo73lBv/9feVJYWJienp7xk/T09KysrGZ/IRsAnU730ksvffHFF80+RMQgQ4fi5EmsXInFi/Hcczh0yMT+m0VeHtzcwBhycuD562NoXR1yc/UZGUfS09Mb36j8/Hw+DEhKSvKVder4/QerWWVlZY2/c6bxV9DU1NS4uLhcvXr1t54XYpDOnVFcjLffxqpVmD0bho3wHjY1NTUpKSn9+vVTybowx0M3xrpfHB0dBw8ezH9HDafVai9duuTv7y//WAWgshI3b8LWFrduAabenPMA2djYBAQEmFLD/2iw7qVSqUz87Q8AUFqK/v1hY4PMTADw8TG9Y4+o/9FToUAXLuDUKXh5oW1b+PnBweFBd+jBoN+lY1Znz2LHDoSE4OxZ3L37P5sqULDM7OBBvPEGHn8c8+bh668fdG8eJAqWWdnaoqoKAKqqYPys/e8JjbHMKj8f0dEYPx4HDmDuXPj5PegOPTAULHOrqsK1a+jW7X95gAUKFhGExlhECAoWEYKCRYSgYBEhKFhECAoWEYKCRYSgYBEhKFhECAoWEYKCRYSgYBEhKFhECAoWEYKCRYSgYBEhKFhECAoWEYKCRYSgYBEhKFhECAoWEYKCRYSgYBEhKFhECAoWEYKCRYSgYBEhKFhECAoWEYKCRYSgYBEhKFhECAoWEYKCRYSgYBEhKFhECAoWEYKCRYSgYBEhKFhECAoWEYKCRYSgYBEhKFhECAoWEYKCRYSgYBEhKFhECAoWEYKCRYSgYBEhKFhECAoWEYKCRYSgYBEhKFhECAoWEYKCRYSgYBEhKFhECAoWEYKCRYSgYBEhKFhECAoWEYKCRYSgYBEhKFhECAoWEeL/AaMZZmEedx7cAAACCHpUWHRyZGtpdFBLTCByZGtpdCAyMDI0LjA5LjYAAHice79v7T0GIBAAYiYGCJABYnkgbmBkY0gAiTOh0+wMCkCaGcYVAHPZOBg0QKJMMJrNAUyzsDlkgGhmRiQGLhkcRrEzgOWZ8OjEYjiEZofQzHi0cDMwMjAyMTAxA5UzMLMysLJxMLGyAzEHAwdnBhMnVwIXdwYTN08CDy+Q4mPg4+dg4hMAYkEGQSEFIeEMJmGRBBHRDCZRsQQx8QwmcYkECckMJkmpBCnpDCYWBgZejgRxoQRpsQQnIIeBFWgZ0H2cXNw8vBxswiKiYuJCbBKSUtJi4uJRjAxAx8Bi4pk628EXDkvsQZxFizgP1u7z3QdiL3d4caDuVOx+EJt167EDh8qD7UBsvX93DqjUHAGrv242/UBTkfEeEDvBccKByxP3gMX9dOYdmBu/H6w3qND/gNCzTLCZuxl0DtxZcx4svo9j1v6dTa/B7MtHuvf9uqAJZh9dErzfit8abE7vU+EDX3YVgdnN7LPtt9QkgtUk3N1mv7tECizunVxn3xktfgDElm3QcTCf0gNW84g7wyEwYYEtWM1sFwf5MojbOoQbHPQ6NB1A7G0T1zvYz5UGsxm9DjqknGoBq5FvWexwqI4P7OYsm60On+yPgM2cseuJw3nRB2C2rQOjo+p3ITBb/8QHB76XgWC9YgBcRovP1Ds1SAAAApt6VFh0TU9MIHJka2l0IDIwMjQuMDkuNgAAeJx9VVtuGzEM/PcpdAELfIrkZxIHRVHEBpq0d+h/74+SMpJVEKG7FrHSzlIUZ0ifWl0/Lz/+/G0fF11Op9bgP7+IaL8ZAE4vrR7a4/O379f29Pbw+L7ydPt1fXtt5I0xv8n7M/bh7fbyvoLtqZ29s4sJNuzkTPVVh3kdn9IdOIAItJ2hE0AQbZBcSOuk5kGF9DHYdj6lXdt5pKfQsFYuh+LOpZbL0QNye88olRU4NsDRXttZupGKSO0NmM55g7R2K6SChWcauhhTvf8C9DswhAK8nRMZipmCr8ioKLmTIN0PTuSCtkEiFJT6cFPRcjqIZOzixMlQEgPM5RW7cwRtvU6Ocluj8FFPmXiWXajId6jTMK5tjcFgxxHKPVRG8HQKmQjHsfWpmfwMFBGHTecODjuWcGROM5HkY2pt5NmSrg2wWMotgw14RjEkxk4h6KmlTGiSjVFZgnCybUKLJs6Ea6qk3pvzNkqCCQTDMJ8KIdbdwakoklymLKMKQjwD3gGLIO3iQ/M9dWGUbYxU9IwOknKX3BrYZEs5yfSYIveMMXOOHLgPUjNBWorIk1eClFPw20of6dN6hmY2BW8KY4wd0hLplUF0rt3VBHxHZFZt+VQSmZlxjD2Pz9fLp/5071iPt+vl6Fh109GXctL4aD6YQ44Ogzn06CM1HUe3oBx2tISa+lH4mNM4qlty4FrDUgZxKVUpg7RUpJRBXgpPyqAsBYYTo0sh1TTLZCmY+4otlYFzxZcKwGliUbqUoVXSUoZw0a6UIVpEKmWIFzVKGZJFdlKGdJFXTVM8i4ykDNkiFylDvsgCi5SP+YxYjqRPCkmWQ/EM2JfwSjKrQGr+/neYz6d/XX1e2a+VPjAAAAFdelRYdFNNSUxFUyByZGtpdCAyMDI0LjA5LjYAAHicLZE7buRADESvsuEM0Grw/4EwkXM72CNMvifw4V1srwBB0OuuYpH8ev19vL6ej883v/HIm//N53l+H79neD/lAw/wm/98P3ibVOiiHaRqtm7ewsy5LtpVVNTrpt2tSbou2RrWsW7Z0a6yLt7UJblu3SGe40RZSnUQJXctFElRX7dtItFaUFs1ivm2CjcAUzZIYpORjIQ0TecGo0BNHNZm90ERGqe2KzLcuaHNGpBOAZuaEHxUnkZlc8nF0CDa4m7IbxxKSlfMNViqwRwegkn0mJWibyDErURKoBAxtH/pFmPpUYqUYV73ZTvFUQGMENolDnTK/zOYrABt0jxm1s4MFCiJocKKwlkOacJC1nTohPRXbS1LA5FS0UOCRPhEIGoZXW7soE6sQkfJJ70ygWGLVhx+Gi+J1FlWKiXxen7/ANZ8dd4PD+8aAAAAAElFTkSuQmCC\" alt=\"Mol\"/></div></td>\n",
              "      <td style=\"text-align: center;\"><div style=\"width: 200px; height: 200px\" data-content=\"rdkit/molecule\"><img src=\"data:image/png;base64,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\" alt=\"Mol\"/></div></td>\n",
              "      <td>AQJOPZLWPJXKQC-UHFFFAOYSA-N</td>\n",
              "    </tr>\n",
              "    <tr>\n",
              "      <th>2</th>\n",
              "      <td>2</td>\n",
              "      <td>C1CCC(CC1)CNC2=C3CCCCC3=NC4=NN=NN24</td>\n",
              "      <td style=\"text-align: center;\"><div style=\"width: 200px; height: 200px\" data-content=\"rdkit/molecule\"><img src=\"data:image/png;base64,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\" alt=\"Mol\"/></div></td>\n",
              "      <td style=\"text-align: center;\"><div style=\"width: 200px; height: 200px\" data-content=\"rdkit/molecule\"><img src=\"data:image/png;base64,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\" alt=\"Mol\"/></div></td>\n",
              "      <td>GSSZIRDJOKLGGZ-UHFFFAOYSA-N</td>\n",
              "    </tr>\n",
              "    <tr>\n",
              "      <th>3</th>\n",
              "      <td>3</td>\n",
              "      <td>CC1=CC(=C(C=C1N)C(C)C)OC.Cl</td>\n",
              "      <td style=\"text-align: center;\"><div style=\"width: 200px; height: 200px\" data-content=\"rdkit/molecule\"><img src=\"data:image/png;base64,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\" alt=\"Mol\"/></div></td>\n",
              "      <td style=\"text-align: center;\"><div style=\"width: 200px; height: 200px\" data-content=\"rdkit/molecule\"><img src=\"data:image/png;base64,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\" alt=\"Mol\"/></div></td>\n",
              "      <td>FQMDGRJHBVBUTR-UHFFFAOYSA-N</td>\n",
              "    </tr>\n",
              "    <tr>\n",
              "      <th>4</th>\n",
              "      <td>4</td>\n",
              "      <td>C1CN(CCN1C2=CC=CC=C2)C(C3=CN=CC=C3)C4=NN=NN4CC...</td>\n",
              "      <td style=\"text-align: center;\"><div style=\"width: 200px; height: 200px\" data-content=\"rdkit/molecule\"><img src=\"data:image/png;base64,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\" alt=\"Mol\"/></div></td>\n",
              "      <td style=\"text-align: center;\"><div style=\"width: 200px; height: 200px\" data-content=\"rdkit/molecule\"><img src=\"data:image/png;base64,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\" alt=\"Mol\"/></div></td>\n",
              "      <td>OXXMYGBQTYQECH-UHFFFAOYSA-N</td>\n",
              "    </tr>\n",
              "    <tr>\n",
              "      <th>...</th>\n",
              "      <td>...</td>\n",
              "      <td>...</td>\n",
              "      <td>...</td>\n",
              "      <td>...</td>\n",
              "      <td>...</td>\n",
              "    </tr>\n",
              "    <tr>\n",
              "      <th>4391</th>\n",
              "      <td>4391</td>\n",
              "      <td>CCCCCCC1=C(C=C(C=C1)O)O</td>\n",
              "      <td style=\"text-align: center;\"><div style=\"width: 200px; height: 200px\" data-content=\"rdkit/molecule\"><img src=\"data:image/png;base64,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\" alt=\"Mol\"/></div></td>\n",
              "      <td style=\"text-align: center;\"><div style=\"width: 200px; height: 200px\" data-content=\"rdkit/molecule\"><img src=\"data:image/png;base64,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\" alt=\"Mol\"/></div></td>\n",
              "      <td>WFJIVOKAWHGMBH-UHFFFAOYSA-N</td>\n",
              "    </tr>\n",
              "    <tr>\n",
              "      <th>4392</th>\n",
              "      <td>4392</td>\n",
              "      <td>CC[C@H](C)CC1=CN(N=N1)[C@@H](CCCN=C(N)N)C(=O)N...</td>\n",
              "      <td style=\"text-align: center;\"><div style=\"width: 200px; height: 200px\" data-content=\"rdkit/molecule\"><img src=\"data:image/png;base64,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\" alt=\"Mol\"/></div></td>\n",
              "      <td style=\"text-align: center;\"><div style=\"width: 200px; height: 200px\" data-content=\"rdkit/molecule\"><img src=\"data:image/png;base64,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\" alt=\"Mol\"/></div></td>\n",
              "      <td>RNLYVRKMBPOHNI-UNDPIUDWSA-N</td>\n",
              "    </tr>\n",
              "    <tr>\n",
              "      <th>4393</th>\n",
              "      <td>4393</td>\n",
              "      <td>CC[C@H](C)CC1=CN(N=N1)[C@@H](CCCCN)C(=O)NCCCCC...</td>\n",
              "      <td style=\"text-align: center;\"><div style=\"width: 200px; height: 200px\" data-content=\"rdkit/molecule\"><img src=\"data:image/png;base64,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\" alt=\"Mol\"/></div></td>\n",
              "      <td style=\"text-align: center;\"><div style=\"width: 200px; height: 200px\" data-content=\"rdkit/molecule\"><img src=\"data:image/png;base64,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\" alt=\"Mol\"/></div></td>\n",
              "      <td>SMYFYPCDLGZRIA-IEAZLBRSSA-N</td>\n",
              "    </tr>\n",
              "    <tr>\n",
              "      <th>4394</th>\n",
              "      <td>4394</td>\n",
              "      <td>CC[C@H](C)CC1=CN(N=N1)[C@@H](CCCCN)C(=O)NCCCCC...</td>\n",
              "      <td style=\"text-align: center;\"><div style=\"width: 200px; height: 200px\" data-content=\"rdkit/molecule\"><img src=\"data:image/png;base64,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\" alt=\"Mol\"/></div></td>\n",
              "      <td style=\"text-align: center;\"><div style=\"width: 200px; height: 200px\" data-content=\"rdkit/molecule\"><img src=\"data:image/png;base64,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\" alt=\"Mol\"/></div></td>\n",
              "      <td>UIZOYKBALIHNJF-MODPYIGGSA-N</td>\n",
              "    </tr>\n",
              "    <tr>\n",
              "      <th>4395</th>\n",
              "      <td>4395</td>\n",
              "      <td>CC[C@H](C)CC1=CN(N=N1)[C@@H](CCCN=C(NC(=O)OC(C...</td>\n",
              "      <td style=\"text-align: center;\"><div style=\"width: 200px; height: 200px\" data-content=\"rdkit/molecule\"><img src=\"data:image/png;base64,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\" alt=\"Mol\"/></div></td>\n",
              "      <td style=\"text-align: center;\"><div style=\"width: 200px; height: 200px\" data-content=\"rdkit/molecule\"><img src=\"data:image/png;base64,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\" alt=\"Mol\"/></div></td>\n",
              "      <td>FHIJWWDEXOXMOX-TWJUONSBSA-N</td>\n",
              "    </tr>\n",
              "  </tbody>\n",
              "</table>\n",
              "<p>4396 rows × 5 columns</p>\n",
              "</div>\n",
              "    <div class=\"colab-df-buttons\">\n",
              "\n",
              "  <div class=\"colab-df-container\">\n",
              "    <button class=\"colab-df-convert\" onclick=\"convertToInteractive('df-9f40ffa7-8b36-4553-ab4a-36eff6e59d8c')\"\n",
              "            title=\"Convert this dataframe to an interactive table.\"\n",
              "            style=\"display:none;\">\n",
              "\n",
              "  <svg xmlns=\"http://www.w3.org/2000/svg\" height=\"24px\" viewBox=\"0 -960 960 960\">\n",
              "    <path d=\"M120-120v-720h720v720H120Zm60-500h600v-160H180v160Zm220 220h160v-160H400v160Zm0 220h160v-160H400v160ZM180-400h160v-160H180v160Zm440 0h160v-160H620v160ZM180-180h160v-160H180v160Zm440 0h160v-160H620v160Z\"/>\n",
              "  </svg>\n",
              "    </button>\n",
              "\n",
              "  <style>\n",
              "    .colab-df-container {\n",
              "      display:flex;\n",
              "      gap: 12px;\n",
              "    }\n",
              "\n",
              "    .colab-df-convert {\n",
              "      background-color: #E8F0FE;\n",
              "      border: none;\n",
              "      border-radius: 50%;\n",
              "      cursor: pointer;\n",
              "      display: none;\n",
              "      fill: #1967D2;\n",
              "      height: 32px;\n",
              "      padding: 0 0 0 0;\n",
              "      width: 32px;\n",
              "    }\n",
              "\n",
              "    .colab-df-convert:hover {\n",
              "      background-color: #E2EBFA;\n",
              "      box-shadow: 0px 1px 2px rgba(60, 64, 67, 0.3), 0px 1px 3px 1px rgba(60, 64, 67, 0.15);\n",
              "      fill: #174EA6;\n",
              "    }\n",
              "\n",
              "    .colab-df-buttons div {\n",
              "      margin-bottom: 4px;\n",
              "    }\n",
              "\n",
              "    [theme=dark] .colab-df-convert {\n",
              "      background-color: #3B4455;\n",
              "      fill: #D2E3FC;\n",
              "    }\n",
              "\n",
              "    [theme=dark] .colab-df-convert:hover {\n",
              "      background-color: #434B5C;\n",
              "      box-shadow: 0px 1px 3px 1px rgba(0, 0, 0, 0.15);\n",
              "      filter: drop-shadow(0px 1px 2px rgba(0, 0, 0, 0.3));\n",
              "      fill: #FFFFFF;\n",
              "    }\n",
              "  </style>\n",
              "\n",
              "    <script>\n",
              "      const buttonEl =\n",
              "        document.querySelector('#df-9f40ffa7-8b36-4553-ab4a-36eff6e59d8c button.colab-df-convert');\n",
              "      buttonEl.style.display =\n",
              "        google.colab.kernel.accessAllowed ? 'block' : 'none';\n",
              "\n",
              "      async function convertToInteractive(key) {\n",
              "        const element = document.querySelector('#df-9f40ffa7-8b36-4553-ab4a-36eff6e59d8c');\n",
              "        const dataTable =\n",
              "          await google.colab.kernel.invokeFunction('convertToInteractive',\n",
              "                                                    [key], {});\n",
              "        if (!dataTable) return;\n",
              "\n",
              "        const docLinkHtml = 'Like what you see? Visit the ' +\n",
              "          '<a target=\"_blank\" href=https://colab.research.google.com/notebooks/data_table.ipynb>data table notebook</a>'\n",
              "          + ' to learn more about interactive tables.';\n",
              "        element.innerHTML = '';\n",
              "        dataTable['output_type'] = 'display_data';\n",
              "        await google.colab.output.renderOutput(dataTable, element);\n",
              "        const docLink = document.createElement('div');\n",
              "        docLink.innerHTML = docLinkHtml;\n",
              "        element.appendChild(docLink);\n",
              "      }\n",
              "    </script>\n",
              "  </div>\n",
              "\n",
              "\n",
              "<div id=\"df-0dc0a4a5-c4c6-4925-b79d-8711fa89cb91\">\n",
              "  <button class=\"colab-df-quickchart\" onclick=\"quickchart('df-0dc0a4a5-c4c6-4925-b79d-8711fa89cb91')\"\n",
              "            title=\"Suggest charts\"\n",
              "            style=\"display:none;\">\n",
              "\n",
              "<svg xmlns=\"http://www.w3.org/2000/svg\" height=\"24px\"viewBox=\"0 0 24 24\"\n",
              "     width=\"24px\">\n",
              "    <g>\n",
              "        <path d=\"M19 3H5c-1.1 0-2 .9-2 2v14c0 1.1.9 2 2 2h14c1.1 0 2-.9 2-2V5c0-1.1-.9-2-2-2zM9 17H7v-7h2v7zm4 0h-2V7h2v10zm4 0h-2v-4h2v4z\"/>\n",
              "    </g>\n",
              "</svg>\n",
              "  </button>\n",
              "\n",
              "<style>\n",
              "  .colab-df-quickchart {\n",
              "      --bg-color: #E8F0FE;\n",
              "      --fill-color: #1967D2;\n",
              "      --hover-bg-color: #E2EBFA;\n",
              "      --hover-fill-color: #174EA6;\n",
              "      --disabled-fill-color: #AAA;\n",
              "      --disabled-bg-color: #DDD;\n",
              "  }\n",
              "\n",
              "  [theme=dark] .colab-df-quickchart {\n",
              "      --bg-color: #3B4455;\n",
              "      --fill-color: #D2E3FC;\n",
              "      --hover-bg-color: #434B5C;\n",
              "      --hover-fill-color: #FFFFFF;\n",
              "      --disabled-bg-color: #3B4455;\n",
              "      --disabled-fill-color: #666;\n",
              "  }\n",
              "\n",
              "  .colab-df-quickchart {\n",
              "    background-color: var(--bg-color);\n",
              "    border: none;\n",
              "    border-radius: 50%;\n",
              "    cursor: pointer;\n",
              "    display: none;\n",
              "    fill: var(--fill-color);\n",
              "    height: 32px;\n",
              "    padding: 0;\n",
              "    width: 32px;\n",
              "  }\n",
              "\n",
              "  .colab-df-quickchart:hover {\n",
              "    background-color: var(--hover-bg-color);\n",
              "    box-shadow: 0 1px 2px rgba(60, 64, 67, 0.3), 0 1px 3px 1px rgba(60, 64, 67, 0.15);\n",
              "    fill: var(--button-hover-fill-color);\n",
              "  }\n",
              "\n",
              "  .colab-df-quickchart-complete:disabled,\n",
              "  .colab-df-quickchart-complete:disabled:hover {\n",
              "    background-color: var(--disabled-bg-color);\n",
              "    fill: var(--disabled-fill-color);\n",
              "    box-shadow: none;\n",
              "  }\n",
              "\n",
              "  .colab-df-spinner {\n",
              "    border: 2px solid var(--fill-color);\n",
              "    border-color: transparent;\n",
              "    border-bottom-color: var(--fill-color);\n",
              "    animation:\n",
              "      spin 1s steps(1) infinite;\n",
              "  }\n",
              "\n",
              "  @keyframes spin {\n",
              "    0% {\n",
              "      border-color: transparent;\n",
              "      border-bottom-color: var(--fill-color);\n",
              "      border-left-color: var(--fill-color);\n",
              "    }\n",
              "    20% {\n",
              "      border-color: transparent;\n",
              "      border-left-color: var(--fill-color);\n",
              "      border-top-color: var(--fill-color);\n",
              "    }\n",
              "    30% {\n",
              "      border-color: transparent;\n",
              "      border-left-color: var(--fill-color);\n",
              "      border-top-color: var(--fill-color);\n",
              "      border-right-color: var(--fill-color);\n",
              "    }\n",
              "    40% {\n",
              "      border-color: transparent;\n",
              "      border-right-color: var(--fill-color);\n",
              "      border-top-color: var(--fill-color);\n",
              "    }\n",
              "    60% {\n",
              "      border-color: transparent;\n",
              "      border-right-color: var(--fill-color);\n",
              "    }\n",
              "    80% {\n",
              "      border-color: transparent;\n",
              "      border-right-color: var(--fill-color);\n",
              "      border-bottom-color: var(--fill-color);\n",
              "    }\n",
              "    90% {\n",
              "      border-color: transparent;\n",
              "      border-bottom-color: var(--fill-color);\n",
              "    }\n",
              "  }\n",
              "</style>\n",
              "\n",
              "  <script>\n",
              "    async function quickchart(key) {\n",
              "      const quickchartButtonEl =\n",
              "        document.querySelector('#' + key + ' button');\n",
              "      quickchartButtonEl.disabled = true;  // To prevent multiple clicks.\n",
              "      quickchartButtonEl.classList.add('colab-df-spinner');\n",
              "      try {\n",
              "        const charts = await google.colab.kernel.invokeFunction(\n",
              "            'suggestCharts', [key], {});\n",
              "      } catch (error) {\n",
              "        console.error('Error during call to suggestCharts:', error);\n",
              "      }\n",
              "      quickchartButtonEl.classList.remove('colab-df-spinner');\n",
              "      quickchartButtonEl.classList.add('colab-df-quickchart-complete');\n",
              "    }\n",
              "    (() => {\n",
              "      let quickchartButtonEl =\n",
              "        document.querySelector('#df-0dc0a4a5-c4c6-4925-b79d-8711fa89cb91 button');\n",
              "      quickchartButtonEl.style.display =\n",
              "        google.colab.kernel.accessAllowed ? 'block' : 'none';\n",
              "    })();\n",
              "  </script>\n",
              "</div>\n",
              "\n",
              "  <div id=\"id_48fdfbfb-cb6c-48d9-ab6e-2f3728217386\">\n",
              "    <style>\n",
              "      .colab-df-generate {\n",
              "        background-color: #E8F0FE;\n",
              "        border: none;\n",
              "        border-radius: 50%;\n",
              "        cursor: pointer;\n",
              "        display: none;\n",
              "        fill: #1967D2;\n",
              "        height: 32px;\n",
              "        padding: 0 0 0 0;\n",
              "        width: 32px;\n",
              "      }\n",
              "\n",
              "      .colab-df-generate:hover {\n",
              "        background-color: #E2EBFA;\n",
              "        box-shadow: 0px 1px 2px rgba(60, 64, 67, 0.3), 0px 1px 3px 1px rgba(60, 64, 67, 0.15);\n",
              "        fill: #174EA6;\n",
              "      }\n",
              "\n",
              "      [theme=dark] .colab-df-generate {\n",
              "        background-color: #3B4455;\n",
              "        fill: #D2E3FC;\n",
              "      }\n",
              "\n",
              "      [theme=dark] .colab-df-generate:hover {\n",
              "        background-color: #434B5C;\n",
              "        box-shadow: 0px 1px 3px 1px rgba(0, 0, 0, 0.15);\n",
              "        filter: drop-shadow(0px 1px 2px rgba(0, 0, 0, 0.3));\n",
              "        fill: #FFFFFF;\n",
              "      }\n",
              "    </style>\n",
              "    <button class=\"colab-df-generate\" onclick=\"generateWithVariable('smiles_tabla')\"\n",
              "            title=\"Generate code using this dataframe.\"\n",
              "            style=\"display:none;\">\n",
              "\n",
              "  <svg xmlns=\"http://www.w3.org/2000/svg\" height=\"24px\"viewBox=\"0 0 24 24\"\n",
              "       width=\"24px\">\n",
              "    <path d=\"M7,19H8.4L18.45,9,17,7.55,7,17.6ZM5,21V16.75L18.45,3.32a2,2,0,0,1,2.83,0l1.4,1.43a1.91,1.91,0,0,1,.58,1.4,1.91,1.91,0,0,1-.58,1.4L9.25,21ZM18.45,9,17,7.55Zm-12,3A5.31,5.31,0,0,0,4.9,8.1,5.31,5.31,0,0,0,1,6.5,5.31,5.31,0,0,0,4.9,4.9,5.31,5.31,0,0,0,6.5,1,5.31,5.31,0,0,0,8.1,4.9,5.31,5.31,0,0,0,12,6.5,5.46,5.46,0,0,0,6.5,12Z\"/>\n",
              "  </svg>\n",
              "    </button>\n",
              "    <script>\n",
              "      (() => {\n",
              "      const buttonEl =\n",
              "        document.querySelector('#id_48fdfbfb-cb6c-48d9-ab6e-2f3728217386 button.colab-df-generate');\n",
              "      buttonEl.style.display =\n",
              "        google.colab.kernel.accessAllowed ? 'block' : 'none';\n",
              "\n",
              "      buttonEl.onclick = () => {\n",
              "        google.colab.notebook.generateWithVariable('smiles_tabla');\n",
              "      }\n",
              "      })();\n",
              "    </script>\n",
              "  </div>\n",
              "\n",
              "    </div>\n",
              "  </div>\n"
            ],
            "application/vnd.google.colaboratory.intrinsic+json": {
              "type": "dataframe",
              "variable_name": "smiles_tabla",
              "summary": "{\n  \"name\": \"smiles_tabla\",\n  \"rows\": 4396,\n  \"fields\": [\n    {\n      \"column\": \"ID\",\n      \"properties\": {\n        \"dtype\": \"number\",\n        \"std\": 1269,\n        \"min\": 0,\n        \"max\": 4395,\n        \"num_unique_values\": 4396,\n        \"samples\": [\n          3942,\n          2658,\n          1532\n        ],\n        \"semantic_type\": \"\",\n        \"description\": \"\"\n      }\n    },\n    {\n      \"column\": \"smiles\",\n      \"properties\": {\n        \"dtype\": \"string\",\n        \"num_unique_values\": 4394,\n        \"samples\": [\n          \"CC1=C(SC(=C1CN2CCN(CC2)CC3=CC=CC=C3)NC(=O)C4=CC=CO4)C\",\n          \"COC1=CC=C(C=C1)CN2CCC(=CC2)/C=C/C3=CC=C(C=C3)OC.Cl\",\n          \"CC1=CC(=NC(=N1)NCC2=CC=CC=C2)N/N=C/C3=CC=C(C=C3)Cl\"\n        ],\n        \"semantic_type\": \"\",\n        \"description\": \"\"\n      }\n    },\n    {\n      \"column\": \"ROMol\",\n      \"properties\": {\n        \"dtype\": \"string\",\n        \"num_unique_values\": 4396,\n        \"samples\": [\n          \"<rdkit.Chem.rdchem.Mol object at 0x7a01dcf1e8f0>\",\n          \"<rdkit.Chem.rdchem.Mol object at 0x7a01dcefb220>\",\n          \"<rdkit.Chem.rdchem.Mol object at 0x7a01dcfbc190>\"\n        ],\n        \"semantic_type\": \"\",\n        \"description\": \"\"\n      }\n    },\n    {\n      \"column\": \"moleculas\",\n      \"properties\": {\n        \"dtype\": \"string\",\n        \"num_unique_values\": 4396,\n        \"samples\": [\n          \"<rdkit.Chem.rdchem.Mol object at 0x7a01e174ca50>\",\n          \"<rdkit.Chem.rdchem.Mol object at 0x7a01e1729310>\",\n          \"<rdkit.Chem.rdchem.Mol object at 0x7a01e17061f0>\"\n        ],\n        \"semantic_type\": \"\",\n        \"description\": \"\"\n      }\n    },\n    {\n      \"column\": \"inchikey\",\n      \"properties\": {\n        \"dtype\": \"string\",\n        \"num_unique_values\": 4394,\n        \"samples\": [\n          \"VUDAAHGTVVULMQ-UHFFFAOYSA-N\",\n          \"TYJCVIMAADGGQY-BJILWQEISA-N\",\n          \"DMGILJRCIFDWJJ-LPYMAVHISA-N\"\n        ],\n        \"semantic_type\": \"\",\n        \"description\": \"\"\n      }\n    }\n  ]\n}"
            }
          },
          "metadata": {},
          "execution_count": 89
        }
      ]
    },
    {
      "cell_type": "markdown",
      "source": [
        "Por último, podemos guardar la tabla con los datos:"
      ],
      "metadata": {
        "id": "W0pIvi0fBs7J"
      },
      "id": "W0pIvi0fBs7J"
    },
    {
      "cell_type": "code",
      "source": [
        "#Guardar la tabla\n",
        "PandasTools.SaveXlsxFromFrame(smiles_tabla, 'smiles_tabla.xlsx', molCol='ROMol')"
      ],
      "metadata": {
        "id": "6-8cyYaq5B8H"
      },
      "id": "6-8cyYaq5B8H",
      "execution_count": null,
      "outputs": []
    },
    {
      "cell_type": "markdown",
      "source": [
        "Accedan a la carpeta de Drive que indicaron en el path y vean smiles_tabla.xlsx"
      ],
      "metadata": {
        "id": "4fdmnAWmnqO7"
      },
      "id": "4fdmnAWmnqO7"
    },
    {
      "cell_type": "markdown",
      "id": "832044a7",
      "metadata": {
        "id": "832044a7"
      },
      "source": [
        "---\n",
        "## Identificar subestructuras en listas de datos"
      ]
    },
    {
      "cell_type": "markdown",
      "id": "fe4173a8",
      "metadata": {
        "id": "fe4173a8"
      },
      "source": [
        "En el práctico 1 aprendimos a identificar un funcional específico en una molécula, hoy vamos a hacerlo con la tabla de moléculas.\n",
        "\n",
        "El objetivo de esta sección será seleccionar todas las moléculas que tengan un grupo benceno\n",
        "\n",
        "### Actividad N°5 de lista de datos\n",
        "\n",
        "1.  Generá la molécula de RDKit del grupo funcional Benceno\n",
        "2.  Seleccioná las moléculas de la tabla que tengan el grupo funcional y generá una tabla nueva llamada substructuras_tabla\n",
        "Pista: Podés usar un comando asi\n",
        "`substructuras = [x for x in smiles_tabla['ROMol'] if x.HasSubstructMatch`\n",
        "\n",
        "\n",
        "\n"
      ]
    },
    {
      "cell_type": "markdown",
      "id": "e61dc3ab",
      "metadata": {
        "id": "e61dc3ab"
      },
      "source": [
        "❗ Usa la celda inferior para resolver el ejercicio\n",
        "\n",
        "👇"
      ]
    },
    {
      "cell_type": "code",
      "execution_count": null,
      "id": "a11c33f5",
      "metadata": {
        "id": "a11c33f5"
      },
      "outputs": [],
      "source": []
    },
    {
      "cell_type": "markdown",
      "source": [
        "💭 ¿Que obtuvieron como resultado?\n",
        "\n",
        "💭 ¿Cuántas moléculas de la tabla inicial tienen un grupo benceno?"
      ],
      "metadata": {
        "id": "3Yj4QD_3lm9q"
      },
      "id": "3Yj4QD_3lm9q"
    },
    {
      "cell_type": "markdown",
      "id": "a2678db1",
      "metadata": {
        "id": "a2678db1"
      },
      "source": [
        "Vamos a usar el comando \"merge\" para agregarle los nombres que usamos para identificar a cada molécula.\n",
        "\n",
        "Este comando une dos data frames usando una columna en común:\n",
        "\n",
        "![merge](https://miro.medium.com/v2/resize:fit:1200/1*9eH1_7VbTZPZd9jBiGIyNA.png)\n",
        "\n",
        "Para más información sobre como se usa este comando pueden ingresar a este [link](https://https://pandas.pydata.org/docs/reference/api/pandas.DataFrame.merge.html):\n",
        "\n",
        "\n",
        "👇"
      ]
    },
    {
      "cell_type": "code",
      "execution_count": null,
      "id": "9199cebe",
      "metadata": {
        "id": "9199cebe"
      },
      "outputs": [],
      "source": [
        "tabla_merge = smiles_tabla.merge(substructuras_tabla, left_on='ROMol', right_on='moleculas')"
      ]
    },
    {
      "cell_type": "markdown",
      "id": "f3a0b0f1",
      "metadata": {
        "id": "f3a0b0f1"
      },
      "source": [
        "💭 ¿Que obtuvimos luego de ejecutar ese comando?\n",
        "\n",
        "❗ Escribí la variable que generamos en la celda que se encuentra debajo\n",
        "\n",
        "👇"
      ]
    },
    {
      "cell_type": "code",
      "execution_count": null,
      "id": "bdfaf9ad",
      "metadata": {
        "id": "bdfaf9ad"
      },
      "outputs": [],
      "source": []
    },
    {
      "cell_type": "markdown",
      "id": "177eacef",
      "metadata": {
        "id": "177eacef"
      },
      "source": [
        "Podemos usar un comando el siguiente comando para dibujar todas las moléculas de la nueva tabla\n",
        "\n",
        "👇"
      ]
    },
    {
      "cell_type": "code",
      "execution_count": null,
      "id": "bc753be4",
      "metadata": {
        "id": "bc753be4"
      },
      "outputs": [],
      "source": [
        "Chem.Draw.MolsToGridImage(tabla_merge['moleculas'], legends = [(str(substructuras_tabla['ID'][i])) for i in range(len(substructuras_tabla))],maxMols = 200)"
      ]
    },
    {
      "cell_type": "markdown",
      "id": "a92fd193",
      "metadata": {
        "id": "a92fd193"
      },
      "source": [
        "💭 ¿Lo que observas en la celda anterior corresponde con lo que esperabas ver?\n",
        "\n",
        "💭 ¿Todos los compuestos tienen al menos un grupo benceno?"
      ]
    },
    {
      "cell_type": "markdown",
      "id": "22bb840e",
      "metadata": {
        "id": "22bb840e"
      },
      "source": [
        "---\n",
        "# Ejercicios Integradores\n",
        "\n",
        "<center> <h3>¡Ahora te toca hacer el análisis a vos!</h3> </center>\n"
      ]
    },
    {
      "cell_type": "markdown",
      "source": [
        "## Actividad N°1:\n",
        "\n",
        "1.  Ingresá al BioEnsayo ID 625003 de PubChem\n",
        "2.  Explicar en que consiste el ensayo\n",
        "3.  Descargá en formato csv los compuestos activos\n",
        "4.  Cargá la tabla de datos a drive\n",
        "5.  Abrí la tabla usando Pandas\n",
        "6.  Graficá todas las moléculas usando PandasTools\n",
        "\n",
        "\n",
        "❗ Escribí los comandos en la celda que se encuentra debajo o agregá la cantidad de celdas que consideres necesarias."
      ],
      "metadata": {
        "id": "2Z3yXEh7VuXw"
      },
      "id": "2Z3yXEh7VuXw"
    },
    {
      "cell_type": "code",
      "source": [],
      "metadata": {
        "id": "AjPlE7v3w1xT"
      },
      "id": "AjPlE7v3w1xT",
      "execution_count": null,
      "outputs": []
    },
    {
      "cell_type": "markdown",
      "source": [
        "## Actividad N°2:\n",
        "\n",
        "1.  Ingresá al BioEnsayo ID CHEMBL674637 de ChEMBL\n",
        "2.  Explicar en que consiste el ensayo\n",
        "3.  Descargá la información del ensayo usando\n",
        "\n",
        "```\n",
        "new_client.activity.filter(assay_chembl_id=assay_chembl_id)\n",
        "```\n",
        "\n",
        "\n",
        "4.  Guardá los datos del ensayo en una variable\n",
        "5.  Obtené una lista de los compuestos ensayados\n",
        "5.  Armá una tabla con los compuestos ensayados usando Pandas\n",
        "6.  Convertí todas las moléculas usando RDKit\n",
        "7.  Identificá al menos tres subestructuras conservadas entre los datos\n",
        "8.  Guardá las moléculas con cada subestructura en una tabla diferente\n",
        "9.  Descargá los datos en tres archivos .csv\n",
        "\n",
        "\n",
        "❗ Escribí los comandos en la celda que se encuentra debajo o agregá la cantidad de celdas que consideres necesarias."
      ],
      "metadata": {
        "id": "VJgCBA3tw1dI"
      },
      "id": "VJgCBA3tw1dI"
    },
    {
      "cell_type": "code",
      "source": [],
      "metadata": {
        "id": "QUQhbunR13nj"
      },
      "id": "QUQhbunR13nj",
      "execution_count": null,
      "outputs": []
    },
    {
      "cell_type": "markdown",
      "source": [
        "## Actividad N°3:\n",
        "\n",
        "1. Buscá todas las moléculas que sean usadas para \"Cancer de ovario\" cargadas en ChEMBL\n",
        "\n",
        "💡Pista: Podés usar un comando de este estilo:\n",
        "```\n",
        "drug_indication.filter(efo_term__icontains=\"OVARIAN CARCINOMA\")\n",
        "```\n",
        "\n",
        "\n",
        "2. Recolecta la escructura de las moléculas en formato InChi\n",
        "\n",
        "3. Realizá una tabla con el ChEMBl ID, el InChi y la fórmula química y el peso molecular de cada molécula\n",
        "\n",
        "❗ Escribí los comandos en la celda que se encuentra debajo o agregá la cantidad de celdas que consideres necesarias."
      ],
      "metadata": {
        "id": "PoFL9cqXuLpa"
      },
      "id": "PoFL9cqXuLpa"
    },
    {
      "cell_type": "code",
      "source": [],
      "metadata": {
        "id": "6ygabaVeAW9D"
      },
      "id": "6ygabaVeAW9D",
      "execution_count": null,
      "outputs": []
    },
    {
      "cell_type": "markdown",
      "source": [
        "## Actividad N°4:\n",
        "\n",
        "1. Buscá todas las moléculas aprobadas por la FDA cargadas en ChEMBL\n",
        "\n",
        "💡Pista: Podés usar un comando de este estilo:\n",
        "```\n",
        "new_client.molecule.filter(max_phase=4)\n",
        "```\n",
        "\n",
        "2. Recolecta la escructura de las moléculas en formato SMILES\n",
        "\n",
        "3. Graficá todas las moléculas indicando debajo el ChEMBL ID\n",
        "\n",
        "❗ Escribí los comandos en la celda que se encuentra debajo o agregá la cantidad de celdas que consideres necesarias."
      ],
      "metadata": {
        "id": "FBFqqvdMV2Hm"
      },
      "id": "FBFqqvdMV2Hm"
    },
    {
      "cell_type": "code",
      "source": [],
      "metadata": {
        "id": "FjW1cyJgAVvb"
      },
      "id": "FjW1cyJgAVvb",
      "execution_count": null,
      "outputs": []
    },
    {
      "cell_type": "markdown",
      "source": [
        "## Actividad N°5:\n",
        "\n",
        "La libreria new_client tiene una función llamada new_client.activity que permite identificar compuestos según su bioactividad.\n",
        "\n",
        "1.  Usando `new_client.activity` realizá una búsqueda de compuestos que hayan sido ensayados en las siguientes condiciones:\n",
        "\n",
        "```\n",
        "*   target_chembl_id=CHEMBL203  #El target es el Epidermal growth factor receptor (EGFR)\n",
        "*   type=\"IC50\" #Ensayos de IC50\n",
        "*   relation=\"=\"  #Iguales a\n",
        "*   assay_type=\"B\"  #Ensayos de binding\n",
        "```\n",
        "\n",
        "2.  Generá una tabla con los datos obtenidos\n",
        "\n",
        "💡Pista: Podés usar un comando de este estilo:\n",
        "```\n",
        "bioactivities_df = pd.DataFrame.from_dict(bioactivities)\n",
        "```\n",
        "\n",
        "3.  Generá una nueva tabla con los ChEMBL ID\n",
        "4.  A esa tabla agrega el SMILES de cada compuesto\n",
        "5.  Computá la molécula de cada compuesto usando RDKit\n",
        "6.  Esquematizá los compuestos usando PandasTools\n",
        "7.  Guardá la tabla\n",
        "\n",
        "\n",
        "❗ Escribí los comandos en la celda que se encuentra debajo o agregá la cantidad de celdas que consideres necesarias."
      ],
      "metadata": {
        "id": "zZYMNsGHvRUG"
      },
      "id": "zZYMNsGHvRUG"
    },
    {
      "cell_type": "code",
      "source": [],
      "metadata": {
        "id": "n7haEafYAx_s"
      },
      "id": "n7haEafYAx_s",
      "execution_count": null,
      "outputs": []
    },
    {
      "cell_type": "markdown",
      "source": [
        "# Bibliografía:\n",
        "\n",
        "Esta guía está elaborada en base a https://www.rdkit.org/docs/GettingStartedInPython.html\n",
        "\n",
        "*  \"The ChEMBL database: a comprehensive drug discovery resource\" de Anna Gaulton et al.\n",
        "\n",
        "*  Davies M, Nowotka M, Papadatos G, Dedman N, Gaulton A, Atkinson F, Bellis L, Overington JP. (2015) 'ChEMBL web services: streamlining access to drug discovery data and utilities.' Nucleic Acids Res., 43(W1) W612-W620.\n",
        "DOI: 10.1093/nar/gkv352 PMC: PMC4489243\n",
        "\n",
        "*  Kim, S., Chen, J., Cheng, T., Gindulyte, A., He, J., He, S., Li, Q., Shoemaker, B. A., Thiessen, P. A., Yu, B., Zaslavsky, L., Zhang, J., & Bolton, E. E. (2023). PubChem 2023 update. Nucleic Acids Res., 51(D1), D1373–D1380. https://doi.org/10.1093/nar/gkac956\n",
        "\n",
        "*   RDKit: Open-source cheminformatics. https://www.rdkit.org"
      ],
      "metadata": {
        "id": "VSgweEyMmOiD"
      },
      "id": "VSgweEyMmOiD"
    }
  ],
  "metadata": {
    "kernelspec": {
      "display_name": "Python 3 (ipykernel)",
      "language": "python",
      "name": "python3"
    },
    "language_info": {
      "codemirror_mode": {
        "name": "ipython",
        "version": 3
      },
      "file_extension": ".py",
      "mimetype": "text/x-python",
      "name": "python",
      "nbconvert_exporter": "python",
      "pygments_lexer": "ipython3",
      "version": "3.9.15"
    },
    "colab": {
      "provenance": [],
      "toc_visible": true
    }
  },
  "nbformat": 4,
  "nbformat_minor": 5
}