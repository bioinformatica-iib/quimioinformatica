{
  "nbformat": 4,
  "nbformat_minor": 0,
  "metadata": {
    "colab": {
      "provenance": []
    },
    "kernelspec": {
      "name": "python3",
      "display_name": "Python 3"
    },
    "language_info": {
      "name": "python"
    }
  },
  "cells": [
    {
      "cell_type": "markdown",
      "source": [
        "# Calculando fingerprints a mano usando python\n",
        "\n",
        "Esto es un procedimiento meramente pedagógico, para que vean como es el procedimiento para transformar información química en forma de bits encendidos (1) y almacenados en una cadena de bits.\n",
        "\n",
        "Adaptado de la guía [\"A beginner's guide for understanding Extended-Connectivity Fingerprints (ECFPs)\"](https://chemicbook.com/2021/03/25/a-beginners-guide-for-understanding-extended-connectivity-fingerprints.html) de Manish Kumar.\n",
        "\n",
        "Arrancamos con la molécula que está en los slides (butiramida)."
      ],
      "metadata": {
        "id": "f4nt5veCnk_F"
      }
    },
    {
      "cell_type": "code",
      "source": [
        "# install rdkit first\n",
        "!pip install rdkit"
      ],
      "metadata": {
        "colab": {
          "base_uri": "https://localhost:8080/"
        },
        "id": "xjHyu0jj92SX",
        "outputId": "6ebf14e5-beb1-4d62-bbab-1a4832ecadb6"
      },
      "execution_count": 2,
      "outputs": [
        {
          "output_type": "stream",
          "name": "stdout",
          "text": [
            "Collecting rdkit\n",
            "  Downloading rdkit-2025.3.2-cp311-cp311-manylinux_2_28_x86_64.whl.metadata (4.0 kB)\n",
            "Requirement already satisfied: numpy in /usr/local/lib/python3.11/dist-packages (from rdkit) (2.0.2)\n",
            "Requirement already satisfied: Pillow in /usr/local/lib/python3.11/dist-packages (from rdkit) (11.2.1)\n",
            "Downloading rdkit-2025.3.2-cp311-cp311-manylinux_2_28_x86_64.whl (35.2 MB)\n",
            "\u001b[2K   \u001b[90m━━━━━━━━━━━━━━━━━━━━━━━━━━━━━━━━━━━━━━━━\u001b[0m \u001b[32m35.2/35.2 MB\u001b[0m \u001b[31m37.3 MB/s\u001b[0m eta \u001b[36m0:00:00\u001b[0m\n",
            "\u001b[?25hInstalling collected packages: rdkit\n",
            "Successfully installed rdkit-2025.3.2\n"
          ]
        }
      ]
    },
    {
      "cell_type": "code",
      "source": [
        "# SMILES for butyramide\n",
        "butyramide = \"CCCC(N)=O\"\n",
        "\n",
        "# import rdkit modules\n",
        "from rdkit import Chem\n",
        "from rdkit.Chem import AllChem\n",
        "from rdkit.Chem import Draw\n",
        "from rdkit.Chem import rdMolDescriptors\n",
        "\n",
        "# nuestra molecula\n",
        "mol = Chem.MolFromSmiles(butyramide)\n",
        "\n",
        "#fijar (set) el número (indice = Idx) de átomo para cada átomo de la molécula\n",
        "for atom in mol.GetAtoms():\n",
        "    atom.SetAtomMapNum(atom.GetIdx())\n",
        "\n",
        "# Veamos la molécula\n",
        "mol\n"
      ],
      "metadata": {
        "colab": {
          "base_uri": "https://localhost:8080/",
          "height": 167
        },
        "id": "YXhd_zWWnlwC",
        "outputId": "954329e5-8aac-4d20-e69f-e6be67dad683"
      },
      "execution_count": 3,
      "outputs": [
        {
          "output_type": "execute_result",
          "data": {
            "text/plain": [
              "<rdkit.Chem.rdchem.Mol at 0x7bb1b668eb90>"
            ],
            "image/png": "[encoded data removed]"
          },
          "metadata": {},
          "execution_count": 3
        }
      ]
    },
    {
      "cell_type": "markdown",
      "source": [
        "### Step 1 - Assigning an integer identifier to each atom\n",
        "\n",
        "Let’s try this out for our atom no. 3 in our new molecule Butyramide and calculate the identifier. First, let’s calculate all seven properties:\n",
        "\n",
        " - Number of non-hydrogen immediate neighbors = 3 (atom 2, 4, and 5)\n",
        " - Valency minus the number of connected hydrogens = 4 (4 - 0)\n",
        " - Atomic number = 6\n",
        " - Atomic mass = 12\n",
        " - Atomic charge = 0\n",
        " - Number of attached hydrogens = 0\n",
        " - Is it a part of a ring = 0 (no)\n",
        "\n",
        "So, `i3 = (3, 4, 6, 12, 0, 0, 0)`\n",
        "\n",
        "Now, hashing this tuple in python:"
      ],
      "metadata": {
        "id": "8YVXpP9Cn4_t"
      }
    },
    {
      "cell_type": "code",
      "source": [
        "\n",
        "i3 = hash((3, 4, 6, 12, 0, 0, 0))\n",
        "print(i3)"
      ],
      "metadata": {
        "colab": {
          "base_uri": "https://localhost:8080/"
        },
        "id": "wHCil80D-Lfx",
        "outputId": "e487b73d-bb67-41c3-87e9-5217b169ad20"
      },
      "execution_count": 1,
      "outputs": [
        {
          "output_type": "stream",
          "name": "stdout",
          "text": [
            "-5700861834356229464\n"
          ]
        }
      ]
    },
    {
      "cell_type": "code",
      "source": [
        "# que hace la funcion hash?\n",
        "help(hash)"
      ],
      "metadata": {
        "colab": {
          "base_uri": "https://localhost:8080/"
        },
        "id": "dVqjyDfo-f2T",
        "outputId": "833215f1-4d1e-4258-ca34-7172c3fa771d"
      },
      "execution_count": 4,
      "outputs": [
        {
          "output_type": "stream",
          "name": "stdout",
          "text": [
            "Help on built-in function hash in module builtins:\n",
            "\n",
            "hash(obj, /)\n",
            "    Return the hash value for the given object.\n",
            "    \n",
            "    Two objects that compare equal must also have the same hash value, but the\n",
            "    reverse is not necessarily true.\n",
            "\n"
          ]
        }
      ]
    },
    {
      "cell_type": "markdown",
      "source": [
        "Ahora calculamos el hash para el resto de los átomos. Recordar que el conjunto de numeros surge de evaluar las preguntas(entorno, enlaces, atomo, etc) en cada caso."
      ],
      "metadata": {
        "id": "2o_gFsD0-n5P"
      }
    },
    {
      "cell_type": "code",
      "source": [
        "# identificadores para cada atomo\n",
        "i0 = hash((1, 1, 6, 12, 0, 3, 0)) # -CH3\n",
        "i1 = hash((2, 2, 6, 12, 0, 2, 0)) # -CH2\n",
        "i2 = hash((2, 2, 6, 12, 0, 2, 0)) # -CH2\n",
        "i3 = hash((3, 4, 6, 12, 0, 0, 0)) # -C\n",
        "i4 = hash((1, 2, 7, 14, 0, 0, 0)) # -NH2\n",
        "i5 = hash((1, 2, 8, 16, 0, 0, 0)) # =O\n",
        "list_identifiers = [i0, i1, i2, i3, i4, i5]\n",
        "\n",
        "print(\n",
        "\"0:\", i0, \"\\n\",\n",
        "\"1:\", i1, \"\\n\",\n",
        "\"2:\", i2, \"\\n\",\n",
        "\"3:\", i3, \"\\n\",\n",
        "\"4:\", i4, \"\\n\",\n",
        "\"5:\", i5\n",
        ")\n",
        "\n",
        "i = 1\n",
        "for id in list_identifiers:\n",
        "  print(\"atomo\", i, id)\n",
        "  i += 1"
      ],
      "metadata": {
        "colab": {
          "base_uri": "https://localhost:8080/"
        },
        "id": "wmyoGyDGn2Z1",
        "outputId": "27f73d2b-b595-4c9b-eba1-25b541863a25"
      },
      "execution_count": null,
      "outputs": [
        {
          "output_type": "stream",
          "name": "stdout",
          "text": [
            "0: 4940186308562569707 \n",
            " 1: -7815985147897826576 \n",
            " 2: -7815985147897826576 \n",
            " 3: -5700861834356229464 \n",
            " 4: -6296387744277800866 \n",
            " 5: 8618411755682373892\n",
            "atomo 1 4940186308562569707\n",
            "atomo 2 -7815985147897826576\n",
            "atomo 3 -7815985147897826576\n",
            "atomo 4 -5700861834356229464\n",
            "atomo 5 -6296387744277800866\n",
            "atomo 6 8618411755682373892\n"
          ]
        }
      ]
    },
    {
      "cell_type": "markdown",
      "source": [
        "### Step 2 - Iteratively updating the atom identifiers\n",
        "\n",
        " 1. First, an array is initialized containing the iteration number and the initial identifier of the atom in question. For example, for the first iteration of atom no. 3 in Butyramide, the array will be:\n",
        "`[(1, -5700861834356229464)]`\n",
        "\n",
        " 2. Next, we add two more numbers to this array for each non-hydrogen neighbor. The first of these numbers is the bond order with that particular atom and the second is that atom’s current identifier. Values 1, 2, 3, and 4 are used for single, double, triple, and aromatic bonds, respectively. Further, to avoid any ordering dependency in this attachment list, the attachments are sorted using their number pairs.\n",
        "\n",
        " For example, atom 3 is connected to 4, 2, and 5 with a single, single and double bond, respectively. The feature array will now become:\n",
        "\n",
        " `[(1, -5700861834356229464), (1, -6296387744277800866), (1, -7815985147897826576), (2, 8618411755682373892)]`\n",
        "\n"
      ],
      "metadata": {
        "id": "0JreAmD_qXPU"
      }
    },
    {
      "cell_type": "code",
      "source": [
        "i3_actualizado_list = [1, -5700861834356229464, 1, -6296387744277800866, 1, -7815985147897826576, 2, 8618411755682373892]\n",
        "i3_actualizado = hash(tuple(i3_actualizado_list))\n",
        "print(i3_actualizado)"
      ],
      "metadata": {
        "colab": {
          "base_uri": "https://localhost:8080/"
        },
        "id": "JzC6v7ZSuxEo",
        "outputId": "2aed2299-964c-42e3-b10c-87b1759c53df"
      },
      "execution_count": null,
      "outputs": [
        {
          "output_type": "stream",
          "name": "stdout",
          "text": [
            "-6784272694619664722\n"
          ]
        }
      ]
    },
    {
      "cell_type": "markdown",
      "source": [
        "This process is repeated for all atoms for a prespecified number of iterations. the updated values after first iteration will be:"
      ],
      "metadata": {
        "id": "phLdJ3GI5NeO"
      }
    },
    {
      "cell_type": "code",
      "source": [
        "i0_actualizado_list = [1, 4940186308562569707, 1, -7815985147897826576]\n",
        "i1_actualizado_list = [1, -7815985147897826576, 1, 4940186308562569707, 1, 7815985147897826576]\n",
        "i2_actualizado_list = [1, -7815985147897826576, 1, -7815985147897826576, 1, -5700861834356229464]\n",
        "i3_actualizado_list = [1, -5700861834356229464, 1, -6296387744277800866, 1, -7815985147897826576, 2, 8618411755682373892]\n",
        "i4_actualizado_list = [1, -6296387744277800866, 1, -5700861834356229464]\n",
        "i5_actualizado_list = [1, 8618411755682373892, 2, -5700861834356229464]\n",
        "\n",
        "i0_actualizado = hash(tuple(i0_actualizado_list))\n",
        "i1_actualizado = hash(tuple(i1_actualizado_list))\n",
        "i2_actualizado = hash(tuple(i2_actualizado_list))\n",
        "i3_actualizado = hash(tuple(i3_actualizado_list))\n",
        "i4_actualizado = hash(tuple(i4_actualizado_list))\n",
        "i5_actualizado = hash(tuple(i5_actualizado_list))\n",
        "print(\n",
        "    \"0:\", i0_actualizado, \"\\n\"\n",
        "    \"1:\", i1_actualizado, \"\\n\"\n",
        "    \"2:\", i2_actualizado, \"\\n\"\n",
        "    \"3:\", i3_actualizado, \"\\n\"\n",
        "    \"4:\", i4_actualizado, \"\\n\"\n",
        "    \"5:\", i5_actualizado\n",
        ")\n",
        "\n",
        "list_identifiers.append(i0_actualizado)\n",
        "list_identifiers.append(i1_actualizado)\n",
        "list_identifiers.append(i2_actualizado)\n",
        "list_identifiers.append(i3_actualizado)\n",
        "list_identifiers.append(i4_actualizado)\n",
        "list_identifiers.append(i5_actualizado)"
      ],
      "metadata": {
        "colab": {
          "base_uri": "https://localhost:8080/"
        },
        "id": "yP-5iVXh3nQ3",
        "outputId": "b6362974-17bd-439f-afcd-4f47cf46f5cc"
      },
      "execution_count": null,
      "outputs": [
        {
          "output_type": "stream",
          "name": "stdout",
          "text": [
            "0: 8584567434288380245 \n",
            "1: -3850421845015274725 \n",
            "2: 3684471100094014610 \n",
            "3: -6784272694619664722 \n",
            "4: 3050449913299447144 \n",
            "5: -1021098423391490395\n"
          ]
        }
      ]
    },
    {
      "cell_type": "code",
      "source": [
        "mol"
      ],
      "metadata": {
        "colab": {
          "base_uri": "https://localhost:8080/",
          "height": 167
        },
        "id": "eG2nq6A77Wdc",
        "outputId": "3f8d1b86-4acb-4204-e35a-503e14036819"
      },
      "execution_count": null,
      "outputs": [
        {
          "output_type": "execute_result",
          "data": {
            "text/plain": [
              "<rdkit.Chem.rdchem.Mol at 0x7f95a9402570>"
            ],
            "image/png": "[encoded data removed]"
          },
          "metadata": {},
          "execution_count": 122
        }
      ]
    },
    {
      "cell_type": "markdown",
      "source": [
        "NOTE: Notice how the atom 2 and 3 have the same identifier after initial iteration but it changes after the first iteration. Think why?\n",
        "\n",
        "This is because the atoms are identical when we just look at them individually but becomes different when looking at their environment (Atom 2 is connected to a -CH3 group while atom 3 is connected to a -C(=O)NH2 group)."
      ],
      "metadata": {
        "id": "3dktUEcJ5RCl"
      }
    },
    {
      "cell_type": "markdown",
      "source": [
        "Similarly, for the second iteration, we’ll do the exact same thing but this time we’ll use the updated identifiers. To say it differently, we used identifiers from initial iteration to get values for the first iteration. The same way, we’ll use the identifiers from first iteration to get values for the second iteration."
      ],
      "metadata": {
        "id": "SO4QPiZ05XzN"
      }
    },
    {
      "cell_type": "code",
      "source": [
        "i0_actualizado_list = [2, 8584567434288380245, 1, -3850421845015274725]\n",
        "i1_actualizado_list = [2, -3850421845015274725, 1, 8584567434288380245, 1, 3684471100094014610]\n",
        "i2_actualizado_list = [2, 3684471100094014610, 1, -3850421845015274725, 1, -6784272694619664722]\n",
        "i3_actualizado_list = [2, -6784272694619664722, 1, 3684471100094014610, 1, 3050449913299447144, 2, -1021098423391490395]\n",
        "i4_actualizado_list = [2, 3050449913299447144, 1, -6784272694619664722]\n",
        "i5_actualizado_list = [2, -1021098423391490395, 2, -6784272694619664722]\n",
        "\n",
        "i0_actualizado = hash(tuple(i0_actualizado_list))\n",
        "i1_actualizado = hash(tuple(i1_actualizado_list))\n",
        "i2_actualizado = hash(tuple(i2_actualizado_list))\n",
        "i3_actualizado = hash(tuple(i3_actualizado_list))\n",
        "i4_actualizado = hash(tuple(i4_actualizado_list))\n",
        "i5_actualizado = hash(tuple(i5_actualizado_list))\n",
        "\n",
        "print(\n",
        "    \"0:\", i0_actualizado, \"\\n\"\n",
        "    \"1:\", i1_actualizado, \"\\n\"\n",
        "    \"2:\", i2_actualizado, \"\\n\"\n",
        "    \"3:\", i3_actualizado, \"\\n\"\n",
        "    \"4:\", i4_actualizado, \"\\n\"\n",
        "    \"5:\", i5_actualizado\n",
        ")\n",
        "\n",
        "list_identifiers.append(i0_actualizado)\n",
        "list_identifiers.append(i1_actualizado)\n",
        "list_identifiers.append(i2_actualizado)\n",
        "list_identifiers.append(i3_actualizado)\n",
        "list_identifiers.append(i4_actualizado)\n",
        "list_identifiers.append(i5_actualizado)"
      ],
      "metadata": {
        "colab": {
          "base_uri": "https://localhost:8080/"
        },
        "id": "QZfJ0hRs7F0e",
        "outputId": "e64f9df8-9570-4e0c-d2fc-d84b729f47ea"
      },
      "execution_count": null,
      "outputs": [
        {
          "output_type": "stream",
          "name": "stdout",
          "text": [
            "0: 8941243776032896467 \n",
            "1: -787754659025970831 \n",
            "2: 3218585409923913960 \n",
            "3: -3645384617475278016 \n",
            "4: 7750922617236563859 \n",
            "5: 6741875388395483351\n"
          ]
        }
      ]
    },
    {
      "cell_type": "code",
      "source": [
        "list_identifiers"
      ],
      "metadata": {
        "colab": {
          "base_uri": "https://localhost:8080/"
        },
        "id": "yRGd8_LA8Ng7",
        "outputId": "ec970d2a-9615-427b-efad-57734fb86d98"
      },
      "execution_count": null,
      "outputs": [
        {
          "output_type": "execute_result",
          "data": {
            "text/plain": [
              "[4940186308562569707,\n",
              " -7815985147897826576,\n",
              " -7815985147897826576,\n",
              " -5700861834356229464,\n",
              " -6296387744277800866,\n",
              " 8618411755682373892,\n",
              " 8584567434288380245,\n",
              " -3850421845015274725,\n",
              " 3684471100094014610,\n",
              " -6784272694619664722,\n",
              " 3050449913299447144,\n",
              " -1021098423391490395,\n",
              " 8941243776032896467,\n",
              " -787754659025970831,\n",
              " 3218585409923913960,\n",
              " -3645384617475278016,\n",
              " 7750922617236563859,\n",
              " 6741875388395483351]"
            ]
          },
          "metadata": {},
          "execution_count": 127
        }
      ]
    },
    {
      "cell_type": "code",
      "source": [
        "ids2 = [-4080868480043360372, 8311098529014133067, 8311098529014133067, -2155244659601281804, -3602994677767288312, 8573586092015465947, -3879702859024654160, 2648074263463118673, 9209025387859845960, 3790237506519639747, -8399737669368778010, 3271801898087186516, 7820245418060671737, -8234949431280515543, -5902629546112570760, -3660103599533977242, -5964710996914813053, 8916398073441202914]\n",
        "print(len(ids2))\n",
        "ids2"
      ],
      "metadata": {
        "colab": {
          "base_uri": "https://localhost:8080/"
        },
        "id": "Pu6-dg_O5iJq",
        "outputId": "eb21b519-0e12-4c7b-9250-5455fb6f38e9"
      },
      "execution_count": null,
      "outputs": [
        {
          "output_type": "stream",
          "name": "stdout",
          "text": [
            "18\n"
          ]
        },
        {
          "output_type": "execute_result",
          "data": {
            "text/plain": [
              "[-4080868480043360372,\n",
              " 8311098529014133067,\n",
              " 8311098529014133067,\n",
              " -2155244659601281804,\n",
              " -3602994677767288312,\n",
              " 8573586092015465947,\n",
              " -3879702859024654160,\n",
              " 2648074263463118673,\n",
              " 9209025387859845960,\n",
              " 3790237506519639747,\n",
              " -8399737669368778010,\n",
              " 3271801898087186516,\n",
              " 7820245418060671737,\n",
              " -8234949431280515543,\n",
              " -5902629546112570760,\n",
              " -3660103599533977242,\n",
              " -5964710996914813053,\n",
              " 8916398073441202914]"
            ]
          },
          "metadata": {},
          "execution_count": 131
        }
      ]
    },
    {
      "cell_type": "code",
      "source": [
        "nodups = [-4080868480043360372, 8311098529014133067, -2155244659601281804, -3602994677767288312, 8573586092015465947, -3879702859024654160, 2648074263463118673, 9209025387859845960, 3790237506519639747, -8399737669368778010, 3271801898087186516, -8234949431280515543, -5902629546112570760, -3660103599533977242]\n",
        "print(len(nodups))\n",
        "nodups\n"
      ],
      "metadata": {
        "colab": {
          "base_uri": "https://localhost:8080/"
        },
        "id": "giQ6kaa085wy",
        "outputId": "8db970e7-dacd-440f-d689-79c66407573e"
      },
      "execution_count": null,
      "outputs": [
        {
          "output_type": "stream",
          "name": "stdout",
          "text": [
            "14\n"
          ]
        },
        {
          "output_type": "execute_result",
          "data": {
            "text/plain": [
              "[-4080868480043360372,\n",
              " 8311098529014133067,\n",
              " -2155244659601281804,\n",
              " -3602994677767288312,\n",
              " 8573586092015465947,\n",
              " -3879702859024654160,\n",
              " 2648074263463118673,\n",
              " 9209025387859845960,\n",
              " 3790237506519639747,\n",
              " -8399737669368778010,\n",
              " 3271801898087186516,\n",
              " -8234949431280515543,\n",
              " -5902629546112570760,\n",
              " -3660103599533977242]"
            ]
          },
          "metadata": {},
          "execution_count": 130
        }
      ]
    },
    {
      "cell_type": "code",
      "source": [
        "ids = [1191819827, -1104704513, -690148606, -798098402, -744082560, -1979958858, -1266712900,\n",
        "       -1216914295, 78421366, -887929888, -276894788, 1687725933, 1844215264, -252457408,\n",
        "       132019747, -2036474688, -1979958858]\n",
        "for id in ids:\n",
        "  print(id % 1024)\n"
      ],
      "metadata": {
        "colab": {
          "base_uri": "https://localhost:8080/"
        },
        "id": "xNfk_pe3W8Z_",
        "outputId": "c5bdd1b4-affd-4c49-d794-bb2119973e37"
      },
      "execution_count": null,
      "outputs": [
        {
          "output_type": "stream",
          "name": "stdout",
          "text": [
            "563\n",
            "1023\n",
            "770\n",
            "30\n",
            "896\n",
            "438\n",
            "700\n",
            "137\n",
            "374\n",
            "992\n",
            "956\n",
            "877\n",
            "480\n",
            "576\n",
            "547\n",
            "192\n",
            "438\n",
            "1023\n"
          ]
        }
      ]
    },
    {
      "cell_type": "code",
      "source": [
        "-4080868480043360372 % 2048\n"
      ],
      "metadata": {
        "colab": {
          "base_uri": "https://localhost:8080/"
        },
        "id": "G7qa7LreXB9e",
        "outputId": "b382d97f-0e5d-4631-e0a0-e95e73ea0867"
      },
      "execution_count": null,
      "outputs": [
        {
          "output_type": "execute_result",
          "data": {
            "text/plain": [
              "1932"
            ]
          },
          "metadata": {},
          "execution_count": 28
        }
      ]
    },
    {
      "cell_type": "code",
      "source": [
        "-14439656419269748 % 2048"
      ],
      "metadata": {
        "colab": {
          "base_uri": "https://localhost:8080/"
        },
        "id": "V9VjewzbXGl3",
        "outputId": "57355023-fd85-49b2-d42a-2cf84a5d0f0f"
      },
      "execution_count": null,
      "outputs": [
        {
          "output_type": "execute_result",
          "data": {
            "text/plain": [
              "908"
            ]
          },
          "metadata": {},
          "execution_count": 27
        }
      ]
    }
  ]
}